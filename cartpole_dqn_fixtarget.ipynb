{
  "nbformat": 4,
  "nbformat_minor": 0,
  "metadata": {
    "colab": {
      "name": "cartpole_dqn_fixtarget.ipynb",
      "provenance": [],
      "collapsed_sections": [],
      "authorship_tag": "ABX9TyMQ6sO3DF9Q21NucIW71vSd",
      "include_colab_link": true
    },
    "kernelspec": {
      "display_name": "Python 3",
      "name": "python3"
    },
    "language_info": {
      "name": "python"
    },
    "accelerator": "GPU"
  },
  "cells": [
    {
      "cell_type": "markdown",
      "metadata": {
        "id": "view-in-github",
        "colab_type": "text"
      },
      "source": [
        "<a href=\"https://colab.research.google.com/github/ozakiryota/cart_pole/blob/main/cartpole_dqn_fixtarget.ipynb\" target=\"_parent\"><img src=\"https://colab.research.google.com/assets/colab-badge.svg\" alt=\"Open In Colab\"/></a>"
      ]
    },
    {
      "cell_type": "markdown",
      "metadata": {
        "id": "DzGR6DXx5hxW"
      },
      "source": [
        "# Cart-Pole\n"
      ]
    },
    {
      "cell_type": "markdown",
      "metadata": {
        "id": "NztiGF0Ld3ET"
      },
      "source": [
        "Install OpenAI Gym (https://gym.openai.com)"
      ]
    },
    {
      "cell_type": "code",
      "metadata": {
        "colab": {
          "base_uri": "https://localhost:8080/"
        },
        "id": "mTnd9XdOQ0JA",
        "outputId": "e61f51c7-3a49-43ee-99ac-6bc340f0a2ea"
      },
      "source": [
        "!pip install gym"
      ],
      "execution_count": 31,
      "outputs": [
        {
          "output_type": "stream",
          "text": [
            "Requirement already satisfied: gym in /usr/local/lib/python3.7/dist-packages (0.17.3)\n",
            "Requirement already satisfied: cloudpickle<1.7.0,>=1.2.0 in /usr/local/lib/python3.7/dist-packages (from gym) (1.3.0)\n",
            "Requirement already satisfied: scipy in /usr/local/lib/python3.7/dist-packages (from gym) (1.4.1)\n",
            "Requirement already satisfied: pyglet<=1.5.0,>=1.4.0 in /usr/local/lib/python3.7/dist-packages (from gym) (1.5.0)\n",
            "Requirement already satisfied: numpy>=1.10.4 in /usr/local/lib/python3.7/dist-packages (from gym) (1.19.5)\n",
            "Requirement already satisfied: future in /usr/local/lib/python3.7/dist-packages (from pyglet<=1.5.0,>=1.4.0->gym) (0.16.0)\n"
          ],
          "name": "stdout"
        }
      ]
    },
    {
      "cell_type": "markdown",
      "metadata": {
        "id": "WatqsT0I5lxF"
      },
      "source": [
        "Install the packages for visualizing Gym"
      ]
    },
    {
      "cell_type": "code",
      "metadata": {
        "colab": {
          "base_uri": "https://localhost:8080/"
        },
        "id": "uo7Lrbp5Sqod",
        "outputId": "a9234f19-0612-47ca-b43b-82a44232c25a"
      },
      "source": [
        "!apt update\n",
        "!apt install xvfb\n",
        "!pip install pyvirtualdisplay"
      ],
      "execution_count": 32,
      "outputs": [
        {
          "output_type": "stream",
          "text": [
            "\u001b[33m\r0% [Working]\u001b[0m\r            \rHit:1 http://ppa.launchpad.net/c2d4u.team/c2d4u4.0+/ubuntu bionic InRelease\n",
            "\u001b[33m\r0% [Waiting for headers] [Connecting to security.ubuntu.com (91.189.91.39)] [Co\u001b[0m\r                                                                               \rHit:2 http://archive.ubuntu.com/ubuntu bionic InRelease\n",
            "\u001b[33m\r0% [Waiting for headers] [Connecting to security.ubuntu.com (91.189.91.39)] [Co\u001b[0m\u001b[33m\r0% [1 InRelease gpgv 15.9 kB] [Waiting for headers] [Connecting to security.ubu\u001b[0m\r                                                                               \rHit:3 http://archive.ubuntu.com/ubuntu bionic-updates InRelease\n",
            "\u001b[33m\r0% [1 InRelease gpgv 15.9 kB] [Waiting for headers] [Connecting to security.ubu\u001b[0m\r                                                                               \rHit:4 http://ppa.launchpad.net/cran/libgit2/ubuntu bionic InRelease\n",
            "\u001b[33m\r0% [1 InRelease gpgv 15.9 kB] [Waiting for headers] [Connecting to security.ubu\u001b[0m\r                                                                               \rHit:5 http://archive.ubuntu.com/ubuntu bionic-backports InRelease\n",
            "\u001b[33m\r0% [1 InRelease gpgv 15.9 kB] [Connecting to security.ubuntu.com (91.189.91.39)\u001b[0m\r                                                                               \rHit:6 http://ppa.launchpad.net/deadsnakes/ppa/ubuntu bionic InRelease\n",
            "\u001b[33m\r0% [1 InRelease gpgv 15.9 kB] [Connecting to security.ubuntu.com (91.189.91.39)\u001b[0m\r                                                                               \rHit:7 http://ppa.launchpad.net/graphics-drivers/ppa/ubuntu bionic InRelease\n",
            "\u001b[33m\r0% [1 InRelease gpgv 15.9 kB] [Waiting for headers] [Connecting to cloud.r-proj\u001b[0m\r                                                                               \rHit:8 https://cloud.r-project.org/bin/linux/ubuntu bionic-cran40/ InRelease\n",
            "Hit:9 http://security.ubuntu.com/ubuntu bionic-security InRelease\n",
            "Ign:10 https://developer.download.nvidia.com/compute/cuda/repos/ubuntu1804/x86_64  InRelease\n",
            "Ign:11 https://developer.download.nvidia.com/compute/machine-learning/repos/ubuntu1804/x86_64  InRelease\n",
            "Hit:12 https://developer.download.nvidia.com/compute/cuda/repos/ubuntu1804/x86_64  Release\n",
            "Hit:13 https://developer.download.nvidia.com/compute/machine-learning/repos/ubuntu1804/x86_64  Release\n",
            "Reading package lists... Done\n",
            "Building dependency tree       \n",
            "Reading state information... Done\n",
            "40 packages can be upgraded. Run 'apt list --upgradable' to see them.\n",
            "Reading package lists... Done\n",
            "Building dependency tree       \n",
            "Reading state information... Done\n",
            "xvfb is already the newest version (2:1.19.6-1ubuntu4.9).\n",
            "The following package was automatically installed and is no longer required:\n",
            "  libnvidia-common-460\n",
            "Use 'apt autoremove' to remove it.\n",
            "0 upgraded, 0 newly installed, 0 to remove and 40 not upgraded.\n",
            "Requirement already satisfied: pyvirtualdisplay in /usr/local/lib/python3.7/dist-packages (2.1)\n",
            "Requirement already satisfied: EasyProcess in /usr/local/lib/python3.7/dist-packages (from pyvirtualdisplay) (0.3)\n"
          ],
          "name": "stdout"
        }
      ]
    },
    {
      "cell_type": "markdown",
      "metadata": {
        "id": "cF70T7rbdLXM"
      },
      "source": [
        "## DQN"
      ]
    },
    {
      "cell_type": "markdown",
      "metadata": {
        "id": "D9MoZlOvenEx"
      },
      "source": [
        "Import Gym"
      ]
    },
    {
      "cell_type": "code",
      "metadata": {
        "id": "rDrypO0FZ9IG"
      },
      "source": [
        "import gym"
      ],
      "execution_count": 33,
      "outputs": []
    },
    {
      "cell_type": "markdown",
      "metadata": {
        "id": "t6r-cLs8ej61"
      },
      "source": [
        "Import the packages for visualizing Gym"
      ]
    },
    {
      "cell_type": "code",
      "metadata": {
        "id": "l8zm1ycgaE8K"
      },
      "source": [
        "import base64\n",
        "import io\n",
        "from gym.wrappers import Monitor\n",
        "from IPython import display\n",
        "from pyvirtualdisplay import Display"
      ],
      "execution_count": 34,
      "outputs": []
    },
    {
      "cell_type": "markdown",
      "metadata": {
        "id": "KgvZ1f4MccCJ"
      },
      "source": [
        "Import required packages"
      ]
    },
    {
      "cell_type": "code",
      "metadata": {
        "id": "0a3R-TE_gaS1"
      },
      "source": [
        "import numpy as np\n",
        "import copy\n",
        "\n",
        "import torch\n",
        "from torch import nn\n",
        "import torch.optim as optim"
      ],
      "execution_count": 35,
      "outputs": []
    },
    {
      "cell_type": "markdown",
      "metadata": {
        "id": "rSkAwHBHGqxK"
      },
      "source": [
        "Net class"
      ]
    },
    {
      "cell_type": "code",
      "metadata": {
        "id": "r5x31HxMGqTk"
      },
      "source": [
        "class Net(nn.Module):\n",
        "    def __init__(self, num_states, dim_mid, num_actions):\n",
        "        super().__init__()\n",
        "\n",
        "        self.fc = nn.Sequential(\n",
        "            nn.Linear(num_states, dim_mid),\n",
        "            nn.ReLU(),\n",
        "            nn.Linear(dim_mid, dim_mid),\n",
        "            nn.ReLU(),\n",
        "            nn.Linear(dim_mid, num_actions)\n",
        "        )\n",
        "\n",
        "    def forward(self, x):\n",
        "        x = self.fc(x)\n",
        "        return x"
      ],
      "execution_count": 36,
      "outputs": []
    },
    {
      "cell_type": "markdown",
      "metadata": {
        "id": "Htu4VPF8cflL"
      },
      "source": [
        "Brain class"
      ]
    },
    {
      "cell_type": "code",
      "metadata": {
        "id": "PMFWoAE1RIRe"
      },
      "source": [
        "class Brain:\n",
        "    def __init__(self, num_states, num_actions, gamma, r, lr, fix_interval):\n",
        "        self.num_states = num_states\n",
        "        self.num_actions = num_actions\n",
        "\n",
        "        self.device = torch.device(\"cuda:0\" if torch.cuda.is_available() else \"cpu\")\n",
        "        print(\"self.device = \", self.device)\n",
        "        self.net = Net(num_states, 64, num_actions)\n",
        "        self.net.to(self.device)\n",
        "        self.criterion = nn.MSELoss()\n",
        "        self.optimizer = optim.Adam(self.net.parameters(), lr=lr)\n",
        "\n",
        "        self.eps = 1.0  # for epsilon greedy algorithm\n",
        "        self.gamma = gamma\n",
        "        self.r = r\n",
        "\n",
        "        self.fix_counter = 0\n",
        "        self.fix_interval = fix_interval\n",
        "        self.fixed_net = copy.deepcopy(self.net)\n",
        "        self.fixed_net.to(self.device)\n",
        "\n",
        "    def updateQnet(self, obs_numpy, action, reward, next_obs_numpy):\n",
        "        obs_tensor = torch.from_numpy(obs_numpy).float()\n",
        "        obs_tensor.unsqueeze_(0)\n",
        "        obs_tensor = obs_tensor.to(self.device)\n",
        "\n",
        "        next_obs_tensor = torch.from_numpy(next_obs_numpy).float()\n",
        "        next_obs_tensor.unsqueeze_(0)\n",
        "        next_obs_tensor = next_obs_tensor.to(self.device)\n",
        "\n",
        "        self.optimizer.zero_grad()\n",
        "\n",
        "        self.net.train()\n",
        "        q = self.net(obs_tensor)\n",
        "\n",
        "        with torch.no_grad():\n",
        "            self.fixed_net.eval()\n",
        "            labels = self.fixed_net(obs_tensor)\n",
        "            next_q = self.fixed_net(next_obs_tensor)\n",
        "\n",
        "            labels[:, action] = reward + self.gamma*np.max(next_q.cpu().detach().numpy(), axis=1)[0]\n",
        "        \n",
        "        loss = self.criterion(q, labels)\n",
        "        loss.backward()\n",
        "        self.optimizer.step()\n",
        "\n",
        "        self.fix_counter += 1\n",
        "        if self.fix_counter > self.fix_interval:\n",
        "            self.fixed_net = copy.deepcopy(self.net)\n",
        "            self.fix_counter = 0\n",
        "\n",
        "    def getAction(self, obs_numpy, is_training):\n",
        "        if is_training and np.random.rand() < self.eps:\n",
        "            action = np.random.randint(self.num_actions)\n",
        "        else:\n",
        "            obs_tensor = torch.from_numpy(obs_numpy).float()\n",
        "            obs_tensor.unsqueeze_(0)\n",
        "            obs_tensor = obs_tensor.to(self.device)\n",
        "            with torch.no_grad():\n",
        "                self.fixed_net.eval()\n",
        "                q = self.fixed_net(obs_tensor)\n",
        "                action = np.argmax(q.cpu().detach().numpy(), axis=1)[0]\n",
        "        ## update eps\n",
        "        if is_training and self.eps > 0.1:\n",
        "            self.eps *= self.r\n",
        "        return action"
      ],
      "execution_count": 42,
      "outputs": []
    },
    {
      "cell_type": "markdown",
      "metadata": {
        "id": "sSn2nGYqzoqh"
      },
      "source": [
        "Agent class"
      ]
    },
    {
      "cell_type": "code",
      "metadata": {
        "id": "GnTqsw2uzsXP"
      },
      "source": [
        "class Agent:\n",
        "    def __init__(self, num_states, num_actions, gamma, r, lr, fix_interval):\n",
        "        self.brain = Brain(num_states, num_actions, gamma, r, lr, fix_interval)\n",
        " \n",
        "    def updateQnet(self, obs, action, reward, next_obs):\n",
        "        self.brain.updateQnet(obs, action, reward, next_obs)\n",
        " \n",
        "    def getAction(self, obs, is_training):\n",
        "        action = self.brain.getAction(obs, is_training)\n",
        "        return action"
      ],
      "execution_count": 38,
      "outputs": []
    },
    {
      "cell_type": "markdown",
      "metadata": {
        "id": "QzJjzN5VB-pQ"
      },
      "source": [
        "Environment class"
      ]
    },
    {
      "cell_type": "code",
      "metadata": {
        "id": "nuXmrqq7CBog"
      },
      "source": [
        "class Environment:\n",
        "    def __init__(self, num_episodes, max_consecutive_completion, max_step, gamma, r, lr, fix_interval):\n",
        "        ## parameters\n",
        "        self.num_episodes = num_episodes\n",
        "        self.max_consecutive_completion = max_consecutive_completion\n",
        "        self.max_step = max_step\n",
        "        ## environment\n",
        "        self.env = Monitor(gym.make('CartPole-v0'), './videos/', force=True)\n",
        "        ## agent\n",
        "        num_states = self.env.observation_space.shape[0]    # position, velocity, angle, angular velocity\n",
        "        num_actions = self.env.action_space.n\n",
        "        self.agent = Agent(num_states, num_actions, gamma, r, lr, fix_interval)\n",
        "\n",
        "    def train(self):\n",
        "        consecutive_completion = 0\n",
        "        \n",
        "        for episode in range(self.num_episodes):\n",
        "            obs = self.env.reset()\n",
        "            episode_reward = 0\n",
        " \n",
        "            for step in range(self.max_step):\n",
        "                ## get action\n",
        "                action = self.agent.getAction(obs, is_training=True)\n",
        "                ## observe next step\n",
        "                next_obs, _, is_done, _ = self.env.step(action)\n",
        "                ## get reward\n",
        "                if is_done:\n",
        "                    if step < max_step - 1:\n",
        "                        reward = -1\n",
        "                        consecutive_completion = 0\n",
        "                    else:\n",
        "                        reward = 1\n",
        "                        consecutive_completion += 1\n",
        "                else:\n",
        "                    reward = 0\n",
        "                episode_reward += reward\n",
        "                ## update\n",
        "                self.agent.updateQnet(obs, action, reward, next_obs)\n",
        "                ## to next step\n",
        "                obs = next_obs\n",
        "\n",
        "                if is_done:\n",
        "                    print('{0} Episode: Finished after {1} time steps with reward {2}'.format(episode, step+1, episode_reward))\n",
        "                    break\n",
        "            if consecutive_completion > self.max_consecutive_completion:\n",
        "                print(\"It has completed {} consecutive episodes\".format(consecutive_completion))\n",
        "                break\n",
        "\n",
        "    def evaluate(self):\n",
        "        obs = self.env.reset()\n",
        "        \n",
        "        for step in range(self.max_step):\n",
        "            ## get action\n",
        "            action = self.agent.getAction(obs, is_training=False)\n",
        "            ## observe next step\n",
        "            next_obs, _, is_done, _ = self.env.step(action)\n",
        "            ## to next step\n",
        "            obs = next_obs\n",
        "\n",
        "            if is_done:\n",
        "                print('Evaluation: Finished after {} time steps'.format(step+1))\n",
        "                break"
      ],
      "execution_count": 39,
      "outputs": []
    },
    {
      "cell_type": "markdown",
      "metadata": {
        "id": "xDKojCejb2-A"
      },
      "source": [
        "Prepare showing videos of the restults"
      ]
    },
    {
      "cell_type": "code",
      "metadata": {
        "id": "kvmszieobbrX"
      },
      "source": [
        "def show_video(env):\n",
        "    env.reset()\n",
        "    for frame in env.videos:\n",
        "        print(\"frame = \", frame)\n",
        "        video = io.open(frame[0], 'r+b').read()\n",
        "        encoded = base64.b64encode(video)\n",
        "\n",
        "        display.display(display.HTML(data=\"\"\"\n",
        "            <video alt=\"test\" controls>\n",
        "            <source src=\"data:video/mp4;base64,{0}\" type=\"video/mp4\" />\n",
        "            </video>\n",
        "            \"\"\".format(encoded.decode('ascii')))\n",
        "        )"
      ],
      "execution_count": 40,
      "outputs": []
    },
    {
      "cell_type": "markdown",
      "metadata": {
        "id": "2C7zmRMnW1i8"
      },
      "source": [
        "Run training"
      ]
    },
    {
      "cell_type": "code",
      "metadata": {
        "id": "ZJqfOQ-tW0sA",
        "colab": {
          "base_uri": "https://localhost:8080/",
          "height": 1000
        },
        "outputId": "64ba161c-6037-4fe9-fe94-9d2f0528712d"
      },
      "source": [
        "## display\n",
        "virtual_display = Display()\n",
        "virtual_display.start()\n",
        "\n",
        "## parameters\n",
        "num_episodes = 1000\n",
        "max_consecutive_completion = 10\n",
        "max_step = 200\n",
        "gamma = 0.9\n",
        "r = 0.99\n",
        "lr = 0.001\n",
        "fix_interval = 10\n",
        "\n",
        "## run\n",
        "cartpole_env = Environment(num_episodes, max_consecutive_completion, max_step, gamma, r, lr, fix_interval)\n",
        "cartpole_env.train()\n",
        "cartpole_env.evaluate()\n",
        "show_video(cartpole_env.env)"
      ],
      "execution_count": 43,
      "outputs": [
        {
          "output_type": "stream",
          "text": [
            "self.device =  cuda:0\n",
            "0 Episode: Finished after 11 time steps with reward -1\n",
            "1 Episode: Finished after 36 time steps with reward -1\n",
            "2 Episode: Finished after 14 time steps with reward -1\n",
            "3 Episode: Finished after 16 time steps with reward -1\n",
            "4 Episode: Finished after 12 time steps with reward -1\n",
            "5 Episode: Finished after 22 time steps with reward -1\n",
            "6 Episode: Finished after 11 time steps with reward -1\n",
            "7 Episode: Finished after 23 time steps with reward -1\n",
            "8 Episode: Finished after 20 time steps with reward -1\n",
            "9 Episode: Finished after 51 time steps with reward -1\n",
            "10 Episode: Finished after 109 time steps with reward -1\n",
            "11 Episode: Finished after 46 time steps with reward -1\n",
            "12 Episode: Finished after 18 time steps with reward -1\n",
            "13 Episode: Finished after 54 time steps with reward -1\n",
            "14 Episode: Finished after 137 time steps with reward -1\n",
            "15 Episode: Finished after 168 time steps with reward -1\n",
            "16 Episode: Finished after 16 time steps with reward -1\n",
            "17 Episode: Finished after 12 time steps with reward -1\n",
            "18 Episode: Finished after 11 time steps with reward -1\n",
            "19 Episode: Finished after 12 time steps with reward -1\n",
            "20 Episode: Finished after 31 time steps with reward -1\n",
            "21 Episode: Finished after 33 time steps with reward -1\n",
            "22 Episode: Finished after 37 time steps with reward -1\n",
            "23 Episode: Finished after 37 time steps with reward -1\n",
            "24 Episode: Finished after 59 time steps with reward -1\n",
            "25 Episode: Finished after 31 time steps with reward -1\n",
            "26 Episode: Finished after 49 time steps with reward -1\n",
            "27 Episode: Finished after 30 time steps with reward -1\n",
            "28 Episode: Finished after 30 time steps with reward -1\n",
            "29 Episode: Finished after 28 time steps with reward -1\n",
            "30 Episode: Finished after 61 time steps with reward -1\n",
            "31 Episode: Finished after 179 time steps with reward -1\n",
            "32 Episode: Finished after 31 time steps with reward -1\n",
            "33 Episode: Finished after 34 time steps with reward -1\n",
            "34 Episode: Finished after 35 time steps with reward -1\n",
            "35 Episode: Finished after 79 time steps with reward -1\n",
            "36 Episode: Finished after 41 time steps with reward -1\n",
            "37 Episode: Finished after 84 time steps with reward -1\n",
            "38 Episode: Finished after 121 time steps with reward -1\n",
            "39 Episode: Finished after 93 time steps with reward -1\n",
            "40 Episode: Finished after 113 time steps with reward -1\n",
            "41 Episode: Finished after 29 time steps with reward -1\n",
            "42 Episode: Finished after 100 time steps with reward -1\n",
            "43 Episode: Finished after 32 time steps with reward -1\n",
            "44 Episode: Finished after 101 time steps with reward -1\n",
            "45 Episode: Finished after 25 time steps with reward -1\n",
            "46 Episode: Finished after 55 time steps with reward -1\n",
            "47 Episode: Finished after 48 time steps with reward -1\n",
            "48 Episode: Finished after 27 time steps with reward -1\n",
            "49 Episode: Finished after 132 time steps with reward -1\n",
            "50 Episode: Finished after 19 time steps with reward -1\n",
            "51 Episode: Finished after 28 time steps with reward -1\n",
            "52 Episode: Finished after 25 time steps with reward -1\n",
            "53 Episode: Finished after 58 time steps with reward -1\n",
            "54 Episode: Finished after 136 time steps with reward -1\n",
            "55 Episode: Finished after 186 time steps with reward -1\n",
            "56 Episode: Finished after 96 time steps with reward -1\n",
            "57 Episode: Finished after 200 time steps with reward 1\n",
            "58 Episode: Finished after 86 time steps with reward -1\n",
            "59 Episode: Finished after 200 time steps with reward 1\n",
            "60 Episode: Finished after 77 time steps with reward -1\n",
            "61 Episode: Finished after 126 time steps with reward -1\n",
            "62 Episode: Finished after 200 time steps with reward 1\n",
            "63 Episode: Finished after 197 time steps with reward -1\n",
            "64 Episode: Finished after 200 time steps with reward 1\n",
            "65 Episode: Finished after 200 time steps with reward 1\n",
            "66 Episode: Finished after 200 time steps with reward 1\n",
            "67 Episode: Finished after 200 time steps with reward 1\n",
            "68 Episode: Finished after 200 time steps with reward 1\n",
            "69 Episode: Finished after 200 time steps with reward 1\n",
            "70 Episode: Finished after 200 time steps with reward 1\n",
            "71 Episode: Finished after 200 time steps with reward 1\n",
            "72 Episode: Finished after 200 time steps with reward 1\n",
            "73 Episode: Finished after 200 time steps with reward 1\n",
            "74 Episode: Finished after 200 time steps with reward 1\n",
            "It has completed 11 consecutive episodes\n",
            "Evaluation: Finished after 200 time steps\n",
            "frame =  ('/content/videos/openaigym.video.1.57.video000000.mp4', '/content/videos/openaigym.video.1.57.video000000.meta.json')\n"
          ],
          "name": "stdout"
        },
        {
          "output_type": "display_data",
          "data": {
            "text/html": [
              "\n",
              "            <video alt=\"test\" controls>\n",
              "            <source src=\"data:video/mp4;base64,AAAAIGZ0eXBpc29tAAACAGlzb21pc28yYXZjMW1wNDEAAAAIZnJlZQAACgptZGF0AAACrgYF//+q3EXpvebZSLeWLNgg2SPu73gyNjQgLSBjb3JlIDE1MiByMjg1NCBlOWE1OTAzIC0gSC4yNjQvTVBFRy00IEFWQyBjb2RlYyAtIENvcHlsZWZ0IDIwMDMtMjAxNyAtIGh0dHA6Ly93d3cudmlkZW9sYW4ub3JnL3gyNjQuaHRtbCAtIG9wdGlvbnM6IGNhYmFjPTEgcmVmPTMgZGVibG9jaz0xOjA6MCBhbmFseXNlPTB4MzoweDExMyBtZT1oZXggc3VibWU9NyBwc3k9MSBwc3lfcmQ9MS4wMDowLjAwIG1peGVkX3JlZj0xIG1lX3JhbmdlPTE2IGNocm9tYV9tZT0xIHRyZWxsaXM9MSA4eDhkY3Q9MSBjcW09MCBkZWFkem9uZT0yMSwxMSBmYXN0X3Bza2lwPTEgY2hyb21hX3FwX29mZnNldD0tMiB0aHJlYWRzPTMgbG9va2FoZWFkX3RocmVhZHM9MSBzbGljZWRfdGhyZWFkcz0wIG5yPTAgZGVjaW1hdGU9MSBpbnRlcmxhY2VkPTAgYmx1cmF5X2NvbXBhdD0wIGNvbnN0cmFpbmVkX2ludHJhPTAgYmZyYW1lcz0zIGJfcHlyYW1pZD0yIGJfYWRhcHQ9MSBiX2JpYXM9MCBkaXJlY3Q9MSB3ZWlnaHRiPTEgb3Blbl9nb3A9MCB3ZWlnaHRwPTIga2V5aW50PTI1MCBrZXlpbnRfbWluPTI1IHNjZW5lY3V0PTQwIGludHJhX3JlZnJlc2g9MCByY19sb29rYWhlYWQ9NDAgcmM9Y3JmIG1idHJlZT0xIGNyZj0yMy4wIHFjb21wPTAuNjAgcXBtaW49MCBxcG1heD02OSBxcHN0ZXA9NCBpcF9yYXRpbz0xLjQwIGFxPTE6MS4wMACAAAABrmWIhAAv//72rvzLK0cLlS4dWXuzUfLoSXL9iDB9aAAAAwAAAwAAJuKiZ0WFMeJsgAAALmAIWElDyDzETFWKgSvGXwYsDYAr4EleyDKkfY8ze0MYmoatqM2epY4+cWGYTRAbUntSU9pi9My3pLVlYhfJ1/dOmr8qcFjfhd86P1sSurYRXz/JC+pBTJpcBCC0qieuybvRAJ3zYlo5O/0DLeIgAYlXjHWgkJ+FXB3PDZ7nMGH2r4NQYZ19b3AOGbndXc29bh/VIP+3bw6N+6n6kVdW+Y1oa5lWFFiCY+nYBvAobRURxNWoCxDOE+8bbXjOPglRtlX7wCCXy3YBLUrR5vTfmKT9vpd/lqfoX8jeCOgAClMqNupase9GOh8j51U1PtW6b6DxNmTCb9eb6dqToZdbR4tnsLGvDl/pEkDpMTcr4JjfrA8xYAu5ThJ0O808GYflS9zURvFPj5jTKye9675W+05HC5Jqe1s5mul3Ky5/AZ56AGq6ocTxw+Y6UjT8Ky8mV86pjeEfkqMhh/kd9clTNjYl/836B0i6ACFIA3coAAJsAAADAAADAAADAvcAAAC+QZokbEL//oywAABGCmxGADilKTdWeiVwJbn4aLBNRisg0udmx/yaeu2yFuh9u6L/BWgyCXzDlU0nwaupA7GvitcplLVyhqB7Q6eohtG/9DFXWGTpD3egkLJPgpF5oDU6DKQgXnkxbG63r2NnXJel1J8aBzkBady5cWusR31Ylt9YwACg5j1ovP9YP1VCTeH6SjSce6rjIqfQHLgyf5TddTBabaQrJx9xibNcva2OXRUsf9u7VNVjBIhuzYB4wAAAAGZBnkJ4hH8AABatYFmpAy2AE1dRWEJ2hywlJZ2avUi9NdVU510roMT5CfY2FWEQfoxOUjXOurxt5DCthMqGfhSu8lzCe//icxpk4AAAAwHZlhcf24b4HFP4eUTtZqfK4+NqeEAAjYEAAAA3AZ5hdEf/AAAjwz4PF3/tTPeM2RA/NtkYAAADAAADAATR9aqaKTR9u7ux1cAC0RHpk4KlUAAf4AAAAEEBnmNqR/8AAA1/1ow+50NAvms2kwCwAFwwhvwdvH9jgeyUZSRSZz4RupgE4bX6k4EAAAMAAAMA6HlSEBc8plgXcQAAAMJBmmhJqEFomUwIT//98QAAAwKhqTQ4L94RwfijH4AWN5trbaIt5NSDoNJ0IgtyyRtWOl0CRlzdV4faXK6O7t540zrrLGQ9+e40pFi8r7AuGIeKgZIwHcw6pcfUOXm4fFaQNU6M+5mUyaieFFhO9LxfnXWZNEA52Lyea+m5yIzm6MkBaM80LAI2Wx1rbcattVyB2o17ELKzhGfPWND7sFi99035ACq+7kIUn5Zszbb9rstg8BHbb/PkbKpWECTgmY4tuQAAAF9BnoZFESwj/wAAFrtcIvAERvEhbyR5A9K1bxHSu37T7oNxGV+EymH0KsJEHtbFqxPuRos/arwDh3/QmSDssSMe1pm8rAE1hP2DVmCNo2szhsCu4yFgpJNB8LhHjwgR8QAAAFEBnqV0R/8AACOjbQ4+CXEMiUwG1Ug6qvMtidQSZxgyZKncR1ghEAANSOOLvLOhwz525HYua816HOlOepmCtMUtd1RDTs5UUIL7w0B7fb4QGzEAAABjAZ6nakf/AAAjkieKSxMAvKtMwmf0JpUYGN7D/l7aAprbqzguXD/vhxKd82BKAFt+7fM9IUd6bYB6k07VO5Tp8WwiSHFYU9f6RSnPVlG69XSWxS3dl1JzBVwvJ2SwYTXFUBUwAAAAvUGaqUmoQWyZTAhP//3xAAADArETKIAX6aOxjlbRaPDmyqovBeVhft83IpnZutY+qTuV1PbEK5/8Ek0l4L8bB4utQvQn/X0+h0z060PJu3E8xN8MrkQRQLb0nVL59JRoMJziPMUV+5n0jFIX6HQvDdAYct78krXgGaXZkXIU7wEGaqJTKF9hbBmTj+CdqOv//nVldw5INFcOIYnn98iZPAFSMQqpi9P2UlcGOyApXiwZuga8J+G5ExVrUvAJuAAAANRBmstJ4QpSZTBRUsf//IQAABBSQZjnxgCUmWL5uUA4vSMj4ltZETlnxc71j1R5bLoqJClzCTSYETgdp8mNxUwSJb7+ch3tzpNaV6p8sAk5eui0CBt/FslngxYyXsXhRvuuyL77LCWn+4dpK/N8CwP5YpNhVxZPTkn26OFCwp9lYZmDQIUCtoVekA0xiG9zW2IFYN4+e6hHYnuXrq01BglM401dPBVsUphzhjLQH/1PF3OdI5fQWnRaK7D6SEcMmThKulekyCIqP8XMAmyPDjQggNYBywAAAHABnupqR/8AACTHvuEE543D0QnHF2cDihtsmkTLcayabE+fuaWuWoSZDJEqyrVv2RGhSqp+lqpZYAYr0jNJj8PiNESAhnaG/jg3it18Q7uQqcj8gAJ2Kgd6DmRgWr6aKv+FQasAAAMAGfSlx4mV4QG9AAADo21vb3YAAABsbXZoZAAAAAAAAAAAAAAAAAAAA+gAAADwAAEAAAEAAAAAAAAAAAAAAAABAAAAAAAAAAAAAAAAAAAAAQAAAAAAAAAAAAAAAAAAQAAAAAAAAAAAAAAAAAAAAAAAAAAAAAAAAAAAAAAAAAIAAALNdHJhawAAAFx0a2hkAAAAAwAAAAAAAAAAAAAAAQAAAAAAAADwAAAAAAAAAAAAAAAAAAAAAAABAAAAAAAAAAAAAAAAAAAAAQAAAAAAAAAAAAAAAAAAQAAAAAJYAAABkAAAAAAAJGVkdHMAAAAcZWxzdAAAAAAAAAABAAAA8AAAAgAAAQAAAAACRW1kaWEAAAAgbWRoZAAAAAAAAAAAAAAAAAAAMgAAAAwAVcQAAAAAAC1oZGxyAAAAAAAAAAB2aWRlAAAAAAAAAAAAAAAAVmlkZW9IYW5kbGVyAAAAAfBtaW5mAAAAFHZtaGQAAAABAAAAAAAAAAAAAAAkZGluZgAAABxkcmVmAAAAAAAAAAEAAAAMdXJsIAAAAAEAAAGwc3RibAAAAJhzdHNkAAAAAAAAAAEAAACIYXZjMQAAAAAAAAABAAAAAAAAAAAAAAAAAAAAAAJYAZAASAAAAEgAAAAAAAAAAQAAAAAAAAAAAAAAAAAAAAAAAAAAAAAAAAAAAAAAAAAAABj//wAAADJhdmNDAWQAH//hABlnZAAfrNlAmDPl4QAAAwABAAADAGQPGDGWAQAGaOvjyyLAAAAAGHN0dHMAAAAAAAAAAQAAAAwAAAEAAAAAFHN0c3MAAAAAAAAAAQAAAAEAAABwY3R0cwAAAAAAAAAMAAAAAQAAAgAAAAABAAAFAAAAAAEAAAIAAAAAAQAAAAAAAAABAAABAAAAAAEAAAUAAAAAAQAAAgAAAAABAAAAAAAAAAEAAAEAAAAAAQAAAgAAAAABAAADAAAAAAEAAAEAAAAAHHN0c2MAAAAAAAAAAQAAAAEAAAAMAAAAAQAAAERzdHN6AAAAAAAAAAAAAAAMAAAEZAAAAMIAAABqAAAAOwAAAEUAAADGAAAAYwAAAFUAAABnAAAAwQAAANgAAAB0AAAAFHN0Y28AAAAAAAAAAQAAADAAAABidWR0YQAAAFptZXRhAAAAAAAAACFoZGxyAAAAAAAAAABtZGlyYXBwbAAAAAAAAAAAAAAAAC1pbHN0AAAAJal0b28AAAAdZGF0YQAAAAEAAAAATGF2ZjU3LjgzLjEwMA==\" type=\"video/mp4\" />\n",
              "            </video>\n",
              "            "
            ],
            "text/plain": [
              "<IPython.core.display.HTML object>"
            ]
          },
          "metadata": {
            "tags": []
          }
        },
        {
          "output_type": "stream",
          "text": [
            "frame =  ('/content/videos/openaigym.video.1.57.video000001.mp4', '/content/videos/openaigym.video.1.57.video000001.meta.json')\n"
          ],
          "name": "stdout"
        },
        {
          "output_type": "display_data",
          "data": {
            "text/html": [
              "\n",
              "            <video alt=\"test\" controls>\n",
              "            <source src=\"data:video/mp4;base64,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\" type=\"video/mp4\" />\n",
              "            </video>\n",
              "            "
            ],
            "text/plain": [
              "<IPython.core.display.HTML object>"
            ]
          },
          "metadata": {
            "tags": []
          }
        },
        {
          "output_type": "stream",
          "text": [
            "frame =  ('/content/videos/openaigym.video.1.57.video000008.mp4', '/content/videos/openaigym.video.1.57.video000008.meta.json')\n"
          ],
          "name": "stdout"
        },
        {
          "output_type": "display_data",
          "data": {
            "text/html": [
              "\n",
              "            <video alt=\"test\" controls>\n",
              "            <source src=\"data:video/mp4;base64,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\" type=\"video/mp4\" />\n",
              "            </video>\n",
              "            "
            ],
            "text/plain": [
              "<IPython.core.display.HTML object>"
            ]
          },
          "metadata": {
            "tags": []
          }
        },
        {
          "output_type": "stream",
          "text": [
            "frame =  ('/content/videos/openaigym.video.1.57.video000027.mp4', '/content/videos/openaigym.video.1.57.video000027.meta.json')\n"
          ],
          "name": "stdout"
        },
        {
          "output_type": "display_data",
          "data": {
            "text/html": [
              "\n",
              "            <video alt=\"test\" controls>\n",
              "            <source src=\"data:video/mp4;base64,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\" type=\"video/mp4\" />\n",
              "            </video>\n",
              "            "
            ],
            "text/plain": [
              "<IPython.core.display.HTML object>"
            ]
          },
          "metadata": {
            "tags": []
          }
        },
        {
          "output_type": "stream",
          "text": [
            "frame =  ('/content/videos/openaigym.video.1.57.video000064.mp4', '/content/videos/openaigym.video.1.57.video000064.meta.json')\n"
          ],
          "name": "stdout"
        },
        {
          "output_type": "display_data",
          "data": {
            "text/html": [
              "\n",
              "            <video alt=\"test\" controls>\n",
              "            <source src=\"data:video/mp4;base64,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\" type=\"video/mp4\" />\n",
              "            </video>\n",
              "            "
            ],
            "text/plain": [
              "<IPython.core.display.HTML object>"
            ]
          },
          "metadata": {
            "tags": []
          }
        }
      ]
    },
    {
      "cell_type": "markdown",
      "metadata": {
        "id": "O0A4UrQcDe2z"
      },
      "source": [
        "## Note\n",
        "- The reward setting below did not work well.\n",
        "```\n",
        "if is_done:\n",
        "    if step < max_step - 1:\n",
        "        reward = -100\n",
        "    else:\n",
        "        reward = 1\n",
        "else:\n",
        "    reward = 1\n",
        "```\n",
        "- Adam worked better than RMSprop."
      ]
    },
    {
      "cell_type": "markdown",
      "metadata": {
        "id": "OreaPHjM4BJm"
      },
      "source": [
        "## References\n",
        "- [minnano_rl/section_4/03_exercise_section4.ipynb](https://github.com/yukinaga/minnano_rl/blob/main/section_4/03_exercise_section4.ipynb)\n",
        "- [第15回　CartPole課題で深層強化学習DQNを実装](https://book.mynavi.jp/manatee/detail/id=89831)"
      ]
    }
  ]
}