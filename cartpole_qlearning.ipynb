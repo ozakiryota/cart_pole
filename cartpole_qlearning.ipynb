{
  "nbformat": 4,
  "nbformat_minor": 0,
  "metadata": {
    "accelerator": "GPU",
    "colab": {
      "name": "cartpole_qlearning.ipynb",
      "provenance": [],
      "collapsed_sections": [],
      "authorship_tag": "ABX9TyOo9G7BqPRRSGJmGM04ghiY",
      "include_colab_link": true
    },
    "kernelspec": {
      "display_name": "Python 3",
      "name": "python3"
    },
    "language_info": {
      "name": "python"
    }
  },
  "cells": [
    {
      "cell_type": "markdown",
      "metadata": {
        "id": "view-in-github",
        "colab_type": "text"
      },
      "source": [
        "<a href=\"https://colab.research.google.com/github/ozakiryota/cart_pole/blob/main/cartpole_qlearning.ipynb\" target=\"_parent\"><img src=\"https://colab.research.google.com/assets/colab-badge.svg\" alt=\"Open In Colab\"/></a>"
      ]
    },
    {
      "cell_type": "markdown",
      "metadata": {
        "id": "DzGR6DXx5hxW"
      },
      "source": [
        "# Cart-Pole\n"
      ]
    },
    {
      "cell_type": "markdown",
      "metadata": {
        "id": "NztiGF0Ld3ET"
      },
      "source": [
        "Install OpenAI Gym (https://gym.openai.com)"
      ]
    },
    {
      "cell_type": "code",
      "metadata": {
        "colab": {
          "base_uri": "https://localhost:8080/"
        },
        "id": "mTnd9XdOQ0JA",
        "outputId": "cd74892d-7de8-4015-f537-05e57e6845aa"
      },
      "source": [
        "!pip install gym"
      ],
      "execution_count": null,
      "outputs": [
        {
          "output_type": "stream",
          "text": [
            "Requirement already satisfied: gym in /usr/local/lib/python3.7/dist-packages (0.17.3)\n",
            "Requirement already satisfied: scipy in /usr/local/lib/python3.7/dist-packages (from gym) (1.4.1)\n",
            "Requirement already satisfied: pyglet<=1.5.0,>=1.4.0 in /usr/local/lib/python3.7/dist-packages (from gym) (1.5.0)\n",
            "Requirement already satisfied: numpy>=1.10.4 in /usr/local/lib/python3.7/dist-packages (from gym) (1.19.5)\n",
            "Requirement already satisfied: cloudpickle<1.7.0,>=1.2.0 in /usr/local/lib/python3.7/dist-packages (from gym) (1.3.0)\n",
            "Requirement already satisfied: future in /usr/local/lib/python3.7/dist-packages (from pyglet<=1.5.0,>=1.4.0->gym) (0.16.0)\n"
          ],
          "name": "stdout"
        }
      ]
    },
    {
      "cell_type": "markdown",
      "metadata": {
        "id": "WatqsT0I5lxF"
      },
      "source": [
        "Install the packages for visualizing Gym"
      ]
    },
    {
      "cell_type": "code",
      "metadata": {
        "colab": {
          "base_uri": "https://localhost:8080/"
        },
        "id": "uo7Lrbp5Sqod",
        "outputId": "07b10ee0-9df8-49d7-d30b-1e54bf4242b8"
      },
      "source": [
        "!apt update\n",
        "!apt install xvfb\n",
        "!pip install pyvirtualdisplay"
      ],
      "execution_count": null,
      "outputs": [
        {
          "output_type": "stream",
          "text": [
            "\u001b[33m\r0% [Working]\u001b[0m\r            \rGet:1 http://security.ubuntu.com/ubuntu bionic-security InRelease [88.7 kB]\n",
            "\u001b[33m\r0% [Connecting to archive.ubuntu.com] [1 InRelease 14.2 kB/88.7 kB 16%] [Connec\u001b[0m\r                                                                               \rGet:2 https://cloud.r-project.org/bin/linux/ubuntu bionic-cran40/ InRelease [3,626 B]\n",
            "\u001b[33m\r0% [Connecting to archive.ubuntu.com] [1 InRelease 31.5 kB/88.7 kB 36%] [2 InRe\u001b[0m\u001b[33m\r0% [Connecting to archive.ubuntu.com] [1 InRelease 43.1 kB/88.7 kB 49%] [Connec\u001b[0m\u001b[33m\r0% [2 InRelease gpgv 3,626 B] [Connecting to archive.ubuntu.com] [1 InRelease 6\u001b[0m\u001b[33m\r0% [2 InRelease gpgv 3,626 B] [Connecting to archive.ubuntu.com] [Connecting to\u001b[0m\r                                                                               \rIgn:3 https://developer.download.nvidia.com/compute/cuda/repos/ubuntu1804/x86_64  InRelease\n",
            "\u001b[33m\r0% [2 InRelease gpgv 3,626 B] [Connecting to archive.ubuntu.com (91.189.88.152)\u001b[0m\r                                                                               \rGet:4 http://ppa.launchpad.net/c2d4u.team/c2d4u4.0+/ubuntu bionic InRelease [15.9 kB]\n",
            "\u001b[33m\r0% [2 InRelease gpgv 3,626 B] [Waiting for headers] [4 InRelease 2,572 B/15.9 k\u001b[0m\r                                                                               \rIgn:5 https://developer.download.nvidia.com/compute/machine-learning/repos/ubuntu1804/x86_64  InRelease\n",
            "\u001b[33m\r0% [2 InRelease gpgv 3,626 B] [Waiting for headers] [4 InRelease 14.2 kB/15.9 k\u001b[0m\r                                                                               \rGet:6 https://developer.download.nvidia.com/compute/cuda/repos/ubuntu1804/x86_64  Release [697 B]\n",
            "\u001b[33m\r0% [2 InRelease gpgv 3,626 B] [Waiting for headers] [4 InRelease 14.2 kB/15.9 k\u001b[0m\u001b[33m\r0% [2 InRelease gpgv 3,626 B] [Waiting for headers] [4 InRelease 14.2 kB/15.9 k\u001b[0m\r                                                                               \rHit:7 https://developer.download.nvidia.com/compute/machine-learning/repos/ubuntu1804/x86_64  Release\n",
            "\u001b[33m\r0% [2 InRelease gpgv 3,626 B] [Waiting for headers] [4 InRelease 14.2 kB/15.9 k\u001b[0m\r                                                                               \rGet:8 https://developer.download.nvidia.com/compute/cuda/repos/ubuntu1804/x86_64  Release.gpg [836 B]\n",
            "Hit:9 http://archive.ubuntu.com/ubuntu bionic InRelease\n",
            "Get:10 http://archive.ubuntu.com/ubuntu bionic-updates InRelease [88.7 kB]\n",
            "Hit:11 http://ppa.launchpad.net/cran/libgit2/ubuntu bionic InRelease\n",
            "Get:12 http://security.ubuntu.com/ubuntu bionic-security/restricted amd64 Packages [396 kB]\n",
            "Get:13 http://security.ubuntu.com/ubuntu bionic-security/multiverse amd64 Packages [24.7 kB]\n",
            "Get:14 http://security.ubuntu.com/ubuntu bionic-security/main amd64 Packages [2,116 kB]\n",
            "Hit:15 http://ppa.launchpad.net/deadsnakes/ppa/ubuntu bionic InRelease\n",
            "Get:16 http://archive.ubuntu.com/ubuntu bionic-backports InRelease [74.6 kB]\n",
            "Hit:18 http://ppa.launchpad.net/graphics-drivers/ppa/ubuntu bionic InRelease\n",
            "Ign:19 https://developer.download.nvidia.com/compute/cuda/repos/ubuntu1804/x86_64  Packages\n",
            "Get:19 https://developer.download.nvidia.com/compute/cuda/repos/ubuntu1804/x86_64  Packages [741 kB]\n",
            "Get:20 http://ppa.launchpad.net/c2d4u.team/c2d4u4.0+/ubuntu bionic/main Sources [1,756 kB]\n",
            "Get:21 http://archive.ubuntu.com/ubuntu bionic-updates/universe amd64 Packages [2,181 kB]\n",
            "Get:22 http://ppa.launchpad.net/c2d4u.team/c2d4u4.0+/ubuntu bionic/main amd64 Packages [899 kB]\n",
            "Get:23 http://archive.ubuntu.com/ubuntu bionic-updates/restricted amd64 Packages [426 kB]\n",
            "Get:24 http://archive.ubuntu.com/ubuntu bionic-updates/main amd64 Packages [2,546 kB]\n",
            "Get:25 http://archive.ubuntu.com/ubuntu bionic-updates/multiverse amd64 Packages [31.6 kB]\n",
            "Fetched 11.4 MB in 2s (4,560 kB/s)\n",
            "Reading package lists... Done\n",
            "Building dependency tree       \n",
            "Reading state information... Done\n",
            "36 packages can be upgraded. Run 'apt list --upgradable' to see them.\n",
            "Reading package lists... Done\n",
            "Building dependency tree       \n",
            "Reading state information... Done\n",
            "The following package was automatically installed and is no longer required:\n",
            "  libnvidia-common-460\n",
            "Use 'apt autoremove' to remove it.\n",
            "The following NEW packages will be installed:\n",
            "  xvfb\n",
            "0 upgraded, 1 newly installed, 0 to remove and 36 not upgraded.\n",
            "Need to get 784 kB of archives.\n",
            "After this operation, 2,270 kB of additional disk space will be used.\n",
            "Get:1 http://archive.ubuntu.com/ubuntu bionic-updates/universe amd64 xvfb amd64 2:1.19.6-1ubuntu4.9 [784 kB]\n",
            "Fetched 784 kB in 1s (1,269 kB/s)\n",
            "Selecting previously unselected package xvfb.\n",
            "(Reading database ... 160690 files and directories currently installed.)\n",
            "Preparing to unpack .../xvfb_2%3a1.19.6-1ubuntu4.9_amd64.deb ...\n",
            "Unpacking xvfb (2:1.19.6-1ubuntu4.9) ...\n",
            "Setting up xvfb (2:1.19.6-1ubuntu4.9) ...\n",
            "Processing triggers for man-db (2.8.3-2ubuntu0.1) ...\n",
            "Collecting pyvirtualdisplay\n",
            "  Downloading https://files.pythonhosted.org/packages/19/88/7a198a5ee3baa3d547f5a49574cd8c3913b216f5276b690b028f89ffb325/PyVirtualDisplay-2.1-py3-none-any.whl\n",
            "Collecting EasyProcess\n",
            "  Downloading https://files.pythonhosted.org/packages/48/3c/75573613641c90c6d094059ac28adb748560d99bd27ee6f80cce398f404e/EasyProcess-0.3-py2.py3-none-any.whl\n",
            "Installing collected packages: EasyProcess, pyvirtualdisplay\n",
            "Successfully installed EasyProcess-0.3 pyvirtualdisplay-2.1\n"
          ],
          "name": "stdout"
        }
      ]
    },
    {
      "cell_type": "markdown",
      "metadata": {
        "id": "cF70T7rbdLXM"
      },
      "source": [
        "## Q-learning"
      ]
    },
    {
      "cell_type": "markdown",
      "metadata": {
        "id": "D9MoZlOvenEx"
      },
      "source": [
        "Import Gym"
      ]
    },
    {
      "cell_type": "code",
      "metadata": {
        "id": "rDrypO0FZ9IG"
      },
      "source": [
        "import gym"
      ],
      "execution_count": null,
      "outputs": []
    },
    {
      "cell_type": "markdown",
      "metadata": {
        "id": "t6r-cLs8ej61"
      },
      "source": [
        "Import the packages for visualizing Gym"
      ]
    },
    {
      "cell_type": "code",
      "metadata": {
        "id": "l8zm1ycgaE8K"
      },
      "source": [
        "import base64\n",
        "import io\n",
        "from gym.wrappers import Monitor\n",
        "from IPython import display\n",
        "from pyvirtualdisplay import Display"
      ],
      "execution_count": null,
      "outputs": []
    },
    {
      "cell_type": "markdown",
      "metadata": {
        "id": "KgvZ1f4MccCJ"
      },
      "source": [
        "Import required packages"
      ]
    },
    {
      "cell_type": "code",
      "metadata": {
        "id": "0a3R-TE_gaS1"
      },
      "source": [
        "import numpy as np"
      ],
      "execution_count": null,
      "outputs": []
    },
    {
      "cell_type": "markdown",
      "metadata": {
        "id": "Htu4VPF8cflL"
      },
      "source": [
        "Brain class"
      ]
    },
    {
      "cell_type": "code",
      "metadata": {
        "id": "PMFWoAE1RIRe"
      },
      "source": [
        "class Brain:\n",
        "\tdef __init__(self, num_states, list_state_range, list_state_reso, num_actions, gamma, r, lr):\n",
        "\t\tself.num_states = num_states\n",
        "\t\tself.list_state_range = list_state_range\n",
        "\t\tself.list_state_reso = list_state_reso\n",
        "\t\tself.num_actions = num_actions\n",
        "\n",
        "\t\tself.eps = 1.0  # for epsilon greedy algorithm\n",
        "\t\tself.gamma = gamma\n",
        "\t\tself.r = r\n",
        "\t\tself.lr = lr\n",
        "\n",
        "\t\tself.q_table = np.random.rand(np.prod(list_state_reso), num_actions)\n",
        "\n",
        "\tdef bins(self, clip_min, clip_max, num):\n",
        "\t\treturn np.linspace(clip_min, clip_max, num + 1)[1:-1]\n",
        " \n",
        "\tdef getStateIndex(self, observation):\n",
        "\t\tlist_index = []\n",
        "\t\tfor i in range(self.num_states):\n",
        "\t\t\tindex = np.digitize(observation[i], bins=self.bins(self.list_state_range[i][0], self.list_state_range[i][1], self.list_state_reso[i]))\n",
        "\t\t\tlist_index.append(index)\n",
        "\t\treturn sum([index*int(np.prod(self.list_state_reso[:i])) for i, index in enumerate(list_index)])\n",
        "\n",
        "\tdef updateQtable(self, obs, action, reward, next_obs):\n",
        "\t\tq = self.q_table[self.getStateIndex(obs), action]\n",
        "\t\tnext_q_max = np.max(self.q_table[self.getStateIndex(next_obs)])\n",
        "\t\tself.q_table[self.getStateIndex(obs), action] = q + self.lr*(reward + self.gamma*next_q_max - q)\n",
        "\n",
        "\tdef getAction(self, obs, is_training):\n",
        "\t\tif is_training and np.random.rand() < self.eps:\n",
        "\t\t\taction = np.random.randint(self.num_actions)\n",
        "\t\telse:\n",
        "\t\t\taction = np.argmax(self.q_table[self.getStateIndex(obs)])\n",
        "\t\t## update eps\n",
        "\t\tif is_training and self.eps > 0.1:\n",
        "\t\t\tself.eps *= self.r\n",
        "\t\treturn action"
      ],
      "execution_count": null,
      "outputs": []
    },
    {
      "cell_type": "markdown",
      "metadata": {
        "id": "sSn2nGYqzoqh"
      },
      "source": [
        "Agent class"
      ]
    },
    {
      "cell_type": "code",
      "metadata": {
        "id": "GnTqsw2uzsXP"
      },
      "source": [
        "class Agent:\n",
        "\tdef __init__(self, num_states, list_state_range, list_state_reso, num_actions, gamma, r, lr):\n",
        "\t\tself.brain = Brain(num_states, list_state_range, list_state_reso, num_actions, gamma, r, lr)\n",
        " \n",
        "\tdef updateQtable(self, obs, action, reward, next_obs):\n",
        "\t\tself.brain.updateQtable(obs, action, reward, next_obs)\n",
        " \n",
        "\tdef getAction(self, obs, is_training):\n",
        "\t\taction = self.brain.getAction(obs, is_training)\n",
        "\t\treturn action"
      ],
      "execution_count": null,
      "outputs": []
    },
    {
      "cell_type": "markdown",
      "metadata": {
        "id": "QzJjzN5VB-pQ"
      },
      "source": [
        "Environment class"
      ]
    },
    {
      "cell_type": "code",
      "metadata": {
        "id": "nuXmrqq7CBog"
      },
      "source": [
        "class Environment:\n",
        "\tdef __init__(self, num_episodes, max_step, gamma, r, lr):\n",
        "\t\t## parameters\n",
        "\t\tself.num_episodes = num_episodes\n",
        "\t\tself.max_step = max_step\n",
        "\t\t## environment\n",
        "\t\tself.env = Monitor(gym.make('CartPole-v0'), './videos/', force=True)\n",
        "\t\t## agent\n",
        "\t\tnum_states = self.env.observation_space.shape[0]\t# position, velocity, angle, angular velocity\n",
        "\t\tlist_state_range = []\n",
        "\t\tfor i in range(num_states):\n",
        "\t\t\tlist_state_range.append([self.env.observation_space.low[i], self.env.observation_space.high[i]])\n",
        "\t\tlist_state_range[1] = [-3.0, 3.0]\n",
        "\t\tlist_state_range[3] = [-0.5, 0.5]\n",
        "\t\tprint(\"list_state_range = \", list_state_range)\n",
        "\t\tlist_state_reso = [4, 4, 6, 6]\n",
        "\t\tnum_actions = self.env.action_space.n\n",
        "\n",
        "\t\tself.agent = Agent(num_states, list_state_range, list_state_reso, num_actions, gamma, r, lr)\n",
        " \n",
        "\tdef train(self):\n",
        "\t\tnum_completed_episodes = 0\n",
        "  \n",
        "\t\tfor episode in range(self.num_episodes):\n",
        "\t\t\tobs = self.env.reset()\n",
        "\t\t\tepisode_reward = 0\n",
        " \n",
        "\t\t\tfor step in range(self.max_step):\n",
        "\t\t\t\t## get action\n",
        "\t\t\t\taction = self.agent.getAction(obs, is_training=True)\n",
        "\t\t\t\t## observe next step\n",
        "\t\t\t\tnext_obs, _, is_done, _ = self.env.step(action)\n",
        "\t\t\t\t## get reward\n",
        "\t\t\t\tif is_done:\n",
        "\t\t\t\t\tif step < max_step - 1:\n",
        "\t\t\t\t\t\treward = -100\n",
        "\t\t\t\t\telse:\n",
        "\t\t\t\t\t\treward = 1\n",
        "\t\t\t\t\t\tnum_completed_episodes += 1\n",
        "\t\t\t\telse:\n",
        "\t\t\t\t\treward = 1\n",
        "\t\t\t\tepisode_reward += reward\n",
        "\t\t\t\t## update\n",
        "\t\t\t\tself.agent.updateQtable(obs, action, reward, next_obs)\n",
        "\t\t\t\t## to next step\n",
        "\t\t\t\tobs = next_obs\n",
        "\n",
        "\t\t\t\tif is_done:\n",
        "\t\t\t\t\tprint('{0} Episode: Finished after {1} time steps with reward {2}'.format(episode, step+1, episode_reward))\n",
        "\t\t\t\t\tbreak\n",
        "\t\tprint(\"num_completed_episodes = \", num_completed_episodes)\n",
        "\n",
        "\tdef evaluate(self):\n",
        "\t\tobs = self.env.reset()\n",
        "\t\t\n",
        "\t\tfor step in range(self.max_step):\n",
        "\t\t\t## get action\n",
        "\t\t\taction = self.agent.getAction(obs, is_training=False)\n",
        "\t\t\t## observe next step\n",
        "\t\t\tnext_obs, _, is_done, _ = self.env.step(action)\n",
        "\t\t\t## to next step\n",
        "\t\t\tobs = next_obs\n",
        "\n",
        "\t\t\tif is_done:\n",
        "\t\t\t\tprint('Evaluation: Finished after {} time steps'.format(step+1))\n",
        "\t\t\t\tbreak"
      ],
      "execution_count": null,
      "outputs": []
    },
    {
      "cell_type": "markdown",
      "metadata": {
        "id": "xDKojCejb2-A"
      },
      "source": [
        "Prepare showing videos of the restults"
      ]
    },
    {
      "cell_type": "code",
      "metadata": {
        "id": "kvmszieobbrX"
      },
      "source": [
        "def show_video(env):\n",
        "\tenv.reset()\n",
        "\tfor frame in env.videos:\n",
        "\t\tprint(\"frame = \", frame)\n",
        "\t\tvideo = io.open(frame[0], 'r+b').read()\n",
        "\t\tencoded = base64.b64encode(video)\n",
        "\n",
        "\t\tdisplay.display(display.HTML(data=\"\"\"\n",
        "\t\t\t<video alt=\"test\" controls>\n",
        "\t\t\t<source src=\"data:video/mp4;base64,{0}\" type=\"video/mp4\" />\n",
        "\t\t\t</video>\n",
        "\t\t\t\"\"\".format(encoded.decode('ascii')))\n",
        "\t\t)"
      ],
      "execution_count": null,
      "outputs": []
    },
    {
      "cell_type": "code",
      "metadata": {
        "colab": {
          "base_uri": "https://localhost:8080/",
          "height": 1000
        },
        "id": "ZJqfOQ-tW0sA",
        "outputId": "93bdfbc7-c784-4832-cca1-ef451a84268c"
      },
      "source": [
        "## display\n",
        "virtual_display = Display()\n",
        "virtual_display.start()\n",
        "\n",
        "## parameters\n",
        "num_episodes = 500\n",
        "max_step = 200\n",
        "gamma = 0.9\n",
        "r = 0.99\n",
        "lr = 0.5\n",
        "\n",
        "## run\n",
        "cartpole_env = Environment(num_episodes, max_step, gamma, r, lr)\n",
        "cartpole_env.train()\n",
        "cartpole_env.evaluate()\n",
        "show_video(cartpole_env.env)"
      ],
      "execution_count": null,
      "outputs": [
        {
          "output_type": "stream",
          "text": [
            "list_state_range =  [[-4.8, 4.8], [-3.0, 3.0], [-0.41887903, 0.41887903], [-0.5, 0.5]]\n",
            "0 Episode: Finished after 30 time steps with reward -71\n",
            "1 Episode: Finished after 10 time steps with reward -91\n",
            "2 Episode: Finished after 10 time steps with reward -91\n",
            "3 Episode: Finished after 14 time steps with reward -87\n",
            "4 Episode: Finished after 11 time steps with reward -90\n",
            "5 Episode: Finished after 12 time steps with reward -89\n",
            "6 Episode: Finished after 14 time steps with reward -87\n",
            "7 Episode: Finished after 12 time steps with reward -89\n",
            "8 Episode: Finished after 45 time steps with reward -56\n",
            "9 Episode: Finished after 13 time steps with reward -88\n",
            "10 Episode: Finished after 85 time steps with reward -16\n",
            "11 Episode: Finished after 47 time steps with reward -54\n",
            "12 Episode: Finished after 106 time steps with reward 5\n",
            "13 Episode: Finished after 73 time steps with reward -28\n",
            "14 Episode: Finished after 9 time steps with reward -92\n",
            "15 Episode: Finished after 69 time steps with reward -32\n",
            "16 Episode: Finished after 52 time steps with reward -49\n",
            "17 Episode: Finished after 31 time steps with reward -70\n",
            "18 Episode: Finished after 35 time steps with reward -66\n",
            "19 Episode: Finished after 25 time steps with reward -76\n",
            "20 Episode: Finished after 37 time steps with reward -64\n",
            "21 Episode: Finished after 10 time steps with reward -91\n",
            "22 Episode: Finished after 173 time steps with reward 72\n",
            "23 Episode: Finished after 9 time steps with reward -92\n",
            "24 Episode: Finished after 41 time steps with reward -60\n",
            "25 Episode: Finished after 129 time steps with reward 28\n",
            "26 Episode: Finished after 64 time steps with reward -37\n",
            "27 Episode: Finished after 39 time steps with reward -62\n",
            "28 Episode: Finished after 83 time steps with reward -18\n",
            "29 Episode: Finished after 33 time steps with reward -68\n",
            "30 Episode: Finished after 95 time steps with reward -6\n",
            "31 Episode: Finished after 147 time steps with reward 46\n",
            "32 Episode: Finished after 123 time steps with reward 22\n",
            "33 Episode: Finished after 172 time steps with reward 71\n",
            "34 Episode: Finished after 200 time steps with reward 200\n",
            "35 Episode: Finished after 53 time steps with reward -48\n",
            "36 Episode: Finished after 200 time steps with reward 200\n",
            "37 Episode: Finished after 50 time steps with reward -51\n",
            "38 Episode: Finished after 23 time steps with reward -78\n",
            "39 Episode: Finished after 200 time steps with reward 200\n",
            "40 Episode: Finished after 68 time steps with reward -33\n",
            "41 Episode: Finished after 200 time steps with reward 200\n",
            "42 Episode: Finished after 81 time steps with reward -20\n",
            "43 Episode: Finished after 19 time steps with reward -82\n",
            "44 Episode: Finished after 89 time steps with reward -12\n",
            "45 Episode: Finished after 200 time steps with reward 200\n",
            "46 Episode: Finished after 200 time steps with reward 200\n",
            "47 Episode: Finished after 200 time steps with reward 200\n",
            "48 Episode: Finished after 90 time steps with reward -11\n",
            "49 Episode: Finished after 22 time steps with reward -79\n",
            "50 Episode: Finished after 101 time steps with reward 0\n",
            "51 Episode: Finished after 71 time steps with reward -30\n",
            "52 Episode: Finished after 48 time steps with reward -53\n",
            "53 Episode: Finished after 28 time steps with reward -73\n",
            "54 Episode: Finished after 57 time steps with reward -44\n",
            "55 Episode: Finished after 16 time steps with reward -85\n",
            "56 Episode: Finished after 181 time steps with reward 80\n",
            "57 Episode: Finished after 83 time steps with reward -18\n",
            "58 Episode: Finished after 95 time steps with reward -6\n",
            "59 Episode: Finished after 131 time steps with reward 30\n",
            "60 Episode: Finished after 94 time steps with reward -7\n",
            "61 Episode: Finished after 58 time steps with reward -43\n",
            "62 Episode: Finished after 13 time steps with reward -88\n",
            "63 Episode: Finished after 43 time steps with reward -58\n",
            "64 Episode: Finished after 125 time steps with reward 24\n",
            "65 Episode: Finished after 44 time steps with reward -57\n",
            "66 Episode: Finished after 200 time steps with reward 200\n",
            "67 Episode: Finished after 142 time steps with reward 41\n",
            "68 Episode: Finished after 35 time steps with reward -66\n",
            "69 Episode: Finished after 127 time steps with reward 26\n",
            "70 Episode: Finished after 146 time steps with reward 45\n",
            "71 Episode: Finished after 122 time steps with reward 21\n",
            "72 Episode: Finished after 141 time steps with reward 40\n",
            "73 Episode: Finished after 200 time steps with reward 200\n",
            "74 Episode: Finished after 123 time steps with reward 22\n",
            "75 Episode: Finished after 152 time steps with reward 51\n",
            "76 Episode: Finished after 200 time steps with reward 200\n",
            "77 Episode: Finished after 94 time steps with reward -7\n",
            "78 Episode: Finished after 63 time steps with reward -38\n",
            "79 Episode: Finished after 200 time steps with reward 200\n",
            "80 Episode: Finished after 39 time steps with reward -62\n",
            "81 Episode: Finished after 176 time steps with reward 75\n",
            "82 Episode: Finished after 110 time steps with reward 9\n",
            "83 Episode: Finished after 126 time steps with reward 25\n",
            "84 Episode: Finished after 96 time steps with reward -5\n",
            "85 Episode: Finished after 163 time steps with reward 62\n",
            "86 Episode: Finished after 126 time steps with reward 25\n",
            "87 Episode: Finished after 75 time steps with reward -26\n",
            "88 Episode: Finished after 169 time steps with reward 68\n",
            "89 Episode: Finished after 11 time steps with reward -90\n",
            "90 Episode: Finished after 13 time steps with reward -88\n",
            "91 Episode: Finished after 9 time steps with reward -92\n",
            "92 Episode: Finished after 129 time steps with reward 28\n",
            "93 Episode: Finished after 157 time steps with reward 56\n",
            "94 Episode: Finished after 200 time steps with reward 200\n",
            "95 Episode: Finished after 200 time steps with reward 200\n",
            "96 Episode: Finished after 200 time steps with reward 200\n",
            "97 Episode: Finished after 200 time steps with reward 200\n",
            "98 Episode: Finished after 109 time steps with reward 8\n",
            "99 Episode: Finished after 81 time steps with reward -20\n",
            "100 Episode: Finished after 72 time steps with reward -29\n",
            "101 Episode: Finished after 77 time steps with reward -24\n",
            "102 Episode: Finished after 116 time steps with reward 15\n",
            "103 Episode: Finished after 115 time steps with reward 14\n",
            "104 Episode: Finished after 74 time steps with reward -27\n",
            "105 Episode: Finished after 96 time steps with reward -5\n",
            "106 Episode: Finished after 66 time steps with reward -35\n",
            "107 Episode: Finished after 151 time steps with reward 50\n",
            "108 Episode: Finished after 33 time steps with reward -68\n",
            "109 Episode: Finished after 50 time steps with reward -51\n",
            "110 Episode: Finished after 25 time steps with reward -76\n",
            "111 Episode: Finished after 36 time steps with reward -65\n",
            "112 Episode: Finished after 200 time steps with reward 200\n",
            "113 Episode: Finished after 200 time steps with reward 200\n",
            "114 Episode: Finished after 200 time steps with reward 200\n",
            "115 Episode: Finished after 200 time steps with reward 200\n",
            "116 Episode: Finished after 54 time steps with reward -47\n",
            "117 Episode: Finished after 51 time steps with reward -50\n",
            "118 Episode: Finished after 124 time steps with reward 23\n",
            "119 Episode: Finished after 126 time steps with reward 25\n",
            "120 Episode: Finished after 200 time steps with reward 200\n",
            "121 Episode: Finished after 149 time steps with reward 48\n",
            "122 Episode: Finished after 200 time steps with reward 200\n",
            "123 Episode: Finished after 172 time steps with reward 71\n",
            "124 Episode: Finished after 42 time steps with reward -59\n",
            "125 Episode: Finished after 106 time steps with reward 5\n",
            "126 Episode: Finished after 122 time steps with reward 21\n",
            "127 Episode: Finished after 196 time steps with reward 95\n",
            "128 Episode: Finished after 146 time steps with reward 45\n",
            "129 Episode: Finished after 200 time steps with reward 200\n",
            "130 Episode: Finished after 193 time steps with reward 92\n",
            "131 Episode: Finished after 113 time steps with reward 12\n",
            "132 Episode: Finished after 179 time steps with reward 78\n",
            "133 Episode: Finished after 189 time steps with reward 88\n",
            "134 Episode: Finished after 104 time steps with reward 3\n",
            "135 Episode: Finished after 121 time steps with reward 20\n",
            "136 Episode: Finished after 132 time steps with reward 31\n",
            "137 Episode: Finished after 200 time steps with reward 200\n",
            "138 Episode: Finished after 134 time steps with reward 33\n",
            "139 Episode: Finished after 117 time steps with reward 16\n",
            "140 Episode: Finished after 200 time steps with reward 200\n",
            "141 Episode: Finished after 148 time steps with reward 47\n",
            "142 Episode: Finished after 97 time steps with reward -4\n",
            "143 Episode: Finished after 51 time steps with reward -50\n",
            "144 Episode: Finished after 13 time steps with reward -88\n",
            "145 Episode: Finished after 109 time steps with reward 8\n",
            "146 Episode: Finished after 200 time steps with reward 200\n",
            "147 Episode: Finished after 200 time steps with reward 200\n",
            "148 Episode: Finished after 98 time steps with reward -3\n",
            "149 Episode: Finished after 59 time steps with reward -42\n",
            "150 Episode: Finished after 200 time steps with reward 200\n",
            "151 Episode: Finished after 142 time steps with reward 41\n",
            "152 Episode: Finished after 126 time steps with reward 25\n",
            "153 Episode: Finished after 83 time steps with reward -18\n",
            "154 Episode: Finished after 165 time steps with reward 64\n",
            "155 Episode: Finished after 126 time steps with reward 25\n",
            "156 Episode: Finished after 200 time steps with reward 200\n",
            "157 Episode: Finished after 173 time steps with reward 72\n",
            "158 Episode: Finished after 131 time steps with reward 30\n",
            "159 Episode: Finished after 200 time steps with reward 200\n",
            "160 Episode: Finished after 133 time steps with reward 32\n",
            "161 Episode: Finished after 200 time steps with reward 200\n",
            "162 Episode: Finished after 102 time steps with reward 1\n",
            "163 Episode: Finished after 28 time steps with reward -73\n",
            "164 Episode: Finished after 113 time steps with reward 12\n",
            "165 Episode: Finished after 30 time steps with reward -71\n",
            "166 Episode: Finished after 10 time steps with reward -91\n",
            "167 Episode: Finished after 79 time steps with reward -22\n",
            "168 Episode: Finished after 108 time steps with reward 7\n",
            "169 Episode: Finished after 200 time steps with reward 200\n",
            "170 Episode: Finished after 157 time steps with reward 56\n",
            "171 Episode: Finished after 200 time steps with reward 200\n",
            "172 Episode: Finished after 68 time steps with reward -33\n",
            "173 Episode: Finished after 17 time steps with reward -84\n",
            "174 Episode: Finished after 13 time steps with reward -88\n",
            "175 Episode: Finished after 23 time steps with reward -78\n",
            "176 Episode: Finished after 200 time steps with reward 200\n",
            "177 Episode: Finished after 80 time steps with reward -21\n",
            "178 Episode: Finished after 152 time steps with reward 51\n",
            "179 Episode: Finished after 189 time steps with reward 88\n",
            "180 Episode: Finished after 189 time steps with reward 88\n",
            "181 Episode: Finished after 60 time steps with reward -41\n",
            "182 Episode: Finished after 10 time steps with reward -91\n",
            "183 Episode: Finished after 75 time steps with reward -26\n",
            "184 Episode: Finished after 31 time steps with reward -70\n",
            "185 Episode: Finished after 79 time steps with reward -22\n",
            "186 Episode: Finished after 200 time steps with reward 200\n",
            "187 Episode: Finished after 200 time steps with reward 200\n",
            "188 Episode: Finished after 103 time steps with reward 2\n",
            "189 Episode: Finished after 64 time steps with reward -37\n",
            "190 Episode: Finished after 102 time steps with reward 1\n",
            "191 Episode: Finished after 151 time steps with reward 50\n",
            "192 Episode: Finished after 49 time steps with reward -52\n",
            "193 Episode: Finished after 41 time steps with reward -60\n",
            "194 Episode: Finished after 200 time steps with reward 200\n",
            "195 Episode: Finished after 101 time steps with reward 0\n",
            "196 Episode: Finished after 111 time steps with reward 10\n",
            "197 Episode: Finished after 54 time steps with reward -47\n",
            "198 Episode: Finished after 147 time steps with reward 46\n",
            "199 Episode: Finished after 176 time steps with reward 75\n",
            "200 Episode: Finished after 175 time steps with reward 74\n",
            "201 Episode: Finished after 200 time steps with reward 200\n",
            "202 Episode: Finished after 114 time steps with reward 13\n",
            "203 Episode: Finished after 62 time steps with reward -39\n",
            "204 Episode: Finished after 53 time steps with reward -48\n",
            "205 Episode: Finished after 167 time steps with reward 66\n",
            "206 Episode: Finished after 50 time steps with reward -51\n",
            "207 Episode: Finished after 48 time steps with reward -53\n",
            "208 Episode: Finished after 98 time steps with reward -3\n",
            "209 Episode: Finished after 29 time steps with reward -72\n",
            "210 Episode: Finished after 11 time steps with reward -90\n",
            "211 Episode: Finished after 22 time steps with reward -79\n",
            "212 Episode: Finished after 131 time steps with reward 30\n",
            "213 Episode: Finished after 190 time steps with reward 89\n",
            "214 Episode: Finished after 147 time steps with reward 46\n",
            "215 Episode: Finished after 200 time steps with reward 200\n",
            "216 Episode: Finished after 200 time steps with reward 200\n",
            "217 Episode: Finished after 200 time steps with reward 200\n",
            "218 Episode: Finished after 200 time steps with reward 200\n",
            "219 Episode: Finished after 200 time steps with reward 200\n",
            "220 Episode: Finished after 200 time steps with reward 200\n",
            "221 Episode: Finished after 200 time steps with reward 200\n",
            "222 Episode: Finished after 200 time steps with reward 200\n",
            "223 Episode: Finished after 200 time steps with reward 200\n",
            "224 Episode: Finished after 200 time steps with reward 200\n",
            "225 Episode: Finished after 200 time steps with reward 200\n",
            "226 Episode: Finished after 81 time steps with reward -20\n",
            "227 Episode: Finished after 200 time steps with reward 200\n",
            "228 Episode: Finished after 200 time steps with reward 200\n",
            "229 Episode: Finished after 192 time steps with reward 91\n",
            "230 Episode: Finished after 62 time steps with reward -39\n",
            "231 Episode: Finished after 200 time steps with reward 200\n",
            "232 Episode: Finished after 200 time steps with reward 200\n",
            "233 Episode: Finished after 76 time steps with reward -25\n",
            "234 Episode: Finished after 54 time steps with reward -47\n",
            "235 Episode: Finished after 32 time steps with reward -69\n",
            "236 Episode: Finished after 14 time steps with reward -87\n",
            "237 Episode: Finished after 200 time steps with reward 200\n",
            "238 Episode: Finished after 75 time steps with reward -26\n",
            "239 Episode: Finished after 200 time steps with reward 200\n",
            "240 Episode: Finished after 200 time steps with reward 200\n",
            "241 Episode: Finished after 200 time steps with reward 200\n",
            "242 Episode: Finished after 200 time steps with reward 200\n",
            "243 Episode: Finished after 200 time steps with reward 200\n",
            "244 Episode: Finished after 190 time steps with reward 89\n",
            "245 Episode: Finished after 154 time steps with reward 53\n",
            "246 Episode: Finished after 64 time steps with reward -37\n",
            "247 Episode: Finished after 18 time steps with reward -83\n",
            "248 Episode: Finished after 13 time steps with reward -88\n",
            "249 Episode: Finished after 48 time steps with reward -53\n",
            "250 Episode: Finished after 200 time steps with reward 200\n",
            "251 Episode: Finished after 47 time steps with reward -54\n",
            "252 Episode: Finished after 94 time steps with reward -7\n",
            "253 Episode: Finished after 13 time steps with reward -88\n",
            "254 Episode: Finished after 200 time steps with reward 200\n",
            "255 Episode: Finished after 21 time steps with reward -80\n",
            "256 Episode: Finished after 123 time steps with reward 22\n",
            "257 Episode: Finished after 82 time steps with reward -19\n",
            "258 Episode: Finished after 35 time steps with reward -66\n",
            "259 Episode: Finished after 82 time steps with reward -19\n",
            "260 Episode: Finished after 157 time steps with reward 56\n",
            "261 Episode: Finished after 116 time steps with reward 15\n",
            "262 Episode: Finished after 143 time steps with reward 42\n",
            "263 Episode: Finished after 123 time steps with reward 22\n",
            "264 Episode: Finished after 177 time steps with reward 76\n",
            "265 Episode: Finished after 160 time steps with reward 59\n",
            "266 Episode: Finished after 130 time steps with reward 29\n",
            "267 Episode: Finished after 127 time steps with reward 26\n",
            "268 Episode: Finished after 179 time steps with reward 78\n",
            "269 Episode: Finished after 200 time steps with reward 200\n",
            "270 Episode: Finished after 109 time steps with reward 8\n",
            "271 Episode: Finished after 200 time steps with reward 200\n",
            "272 Episode: Finished after 200 time steps with reward 200\n",
            "273 Episode: Finished after 182 time steps with reward 81\n",
            "274 Episode: Finished after 162 time steps with reward 61\n",
            "275 Episode: Finished after 200 time steps with reward 200\n",
            "276 Episode: Finished after 87 time steps with reward -14\n",
            "277 Episode: Finished after 200 time steps with reward 200\n",
            "278 Episode: Finished after 200 time steps with reward 200\n",
            "279 Episode: Finished after 173 time steps with reward 72\n",
            "280 Episode: Finished after 143 time steps with reward 42\n",
            "281 Episode: Finished after 200 time steps with reward 200\n",
            "282 Episode: Finished after 200 time steps with reward 200\n",
            "283 Episode: Finished after 200 time steps with reward 200\n",
            "284 Episode: Finished after 141 time steps with reward 40\n",
            "285 Episode: Finished after 200 time steps with reward 200\n",
            "286 Episode: Finished after 200 time steps with reward 200\n",
            "287 Episode: Finished after 163 time steps with reward 62\n",
            "288 Episode: Finished after 107 time steps with reward 6\n",
            "289 Episode: Finished after 53 time steps with reward -48\n",
            "290 Episode: Finished after 120 time steps with reward 19\n",
            "291 Episode: Finished after 113 time steps with reward 12\n",
            "292 Episode: Finished after 200 time steps with reward 200\n",
            "293 Episode: Finished after 200 time steps with reward 200\n",
            "294 Episode: Finished after 81 time steps with reward -20\n",
            "295 Episode: Finished after 176 time steps with reward 75\n",
            "296 Episode: Finished after 163 time steps with reward 62\n",
            "297 Episode: Finished after 88 time steps with reward -13\n",
            "298 Episode: Finished after 114 time steps with reward 13\n",
            "299 Episode: Finished after 77 time steps with reward -24\n",
            "300 Episode: Finished after 77 time steps with reward -24\n",
            "301 Episode: Finished after 38 time steps with reward -63\n",
            "302 Episode: Finished after 126 time steps with reward 25\n",
            "303 Episode: Finished after 110 time steps with reward 9\n",
            "304 Episode: Finished after 107 time steps with reward 6\n",
            "305 Episode: Finished after 36 time steps with reward -65\n",
            "306 Episode: Finished after 89 time steps with reward -12\n",
            "307 Episode: Finished after 91 time steps with reward -10\n",
            "308 Episode: Finished after 50 time steps with reward -51\n",
            "309 Episode: Finished after 17 time steps with reward -84\n",
            "310 Episode: Finished after 27 time steps with reward -74\n",
            "311 Episode: Finished after 186 time steps with reward 85\n",
            "312 Episode: Finished after 10 time steps with reward -91\n",
            "313 Episode: Finished after 35 time steps with reward -66\n",
            "314 Episode: Finished after 200 time steps with reward 200\n",
            "315 Episode: Finished after 143 time steps with reward 42\n",
            "316 Episode: Finished after 98 time steps with reward -3\n",
            "317 Episode: Finished after 92 time steps with reward -9\n",
            "318 Episode: Finished after 111 time steps with reward 10\n",
            "319 Episode: Finished after 68 time steps with reward -33\n",
            "320 Episode: Finished after 137 time steps with reward 36\n",
            "321 Episode: Finished after 135 time steps with reward 34\n",
            "322 Episode: Finished after 147 time steps with reward 46\n",
            "323 Episode: Finished after 174 time steps with reward 73\n",
            "324 Episode: Finished after 129 time steps with reward 28\n",
            "325 Episode: Finished after 164 time steps with reward 63\n",
            "326 Episode: Finished after 154 time steps with reward 53\n",
            "327 Episode: Finished after 91 time steps with reward -10\n",
            "328 Episode: Finished after 46 time steps with reward -55\n",
            "329 Episode: Finished after 65 time steps with reward -36\n",
            "330 Episode: Finished after 200 time steps with reward 200\n",
            "331 Episode: Finished after 51 time steps with reward -50\n",
            "332 Episode: Finished after 135 time steps with reward 34\n",
            "333 Episode: Finished after 200 time steps with reward 200\n",
            "334 Episode: Finished after 200 time steps with reward 200\n",
            "335 Episode: Finished after 200 time steps with reward 200\n",
            "336 Episode: Finished after 200 time steps with reward 200\n",
            "337 Episode: Finished after 200 time steps with reward 200\n",
            "338 Episode: Finished after 200 time steps with reward 200\n",
            "339 Episode: Finished after 179 time steps with reward 78\n",
            "340 Episode: Finished after 170 time steps with reward 69\n",
            "341 Episode: Finished after 200 time steps with reward 200\n",
            "342 Episode: Finished after 200 time steps with reward 200\n",
            "343 Episode: Finished after 200 time steps with reward 200\n",
            "344 Episode: Finished after 200 time steps with reward 200\n",
            "345 Episode: Finished after 196 time steps with reward 95\n",
            "346 Episode: Finished after 200 time steps with reward 200\n",
            "347 Episode: Finished after 200 time steps with reward 200\n",
            "348 Episode: Finished after 200 time steps with reward 200\n",
            "349 Episode: Finished after 83 time steps with reward -18\n",
            "350 Episode: Finished after 38 time steps with reward -63\n",
            "351 Episode: Finished after 200 time steps with reward 200\n",
            "352 Episode: Finished after 200 time steps with reward 200\n",
            "353 Episode: Finished after 200 time steps with reward 200\n",
            "354 Episode: Finished after 200 time steps with reward 200\n",
            "355 Episode: Finished after 200 time steps with reward 200\n",
            "356 Episode: Finished after 200 time steps with reward 200\n",
            "357 Episode: Finished after 200 time steps with reward 200\n",
            "358 Episode: Finished after 48 time steps with reward -53\n",
            "359 Episode: Finished after 200 time steps with reward 200\n",
            "360 Episode: Finished after 200 time steps with reward 200\n",
            "361 Episode: Finished after 200 time steps with reward 200\n",
            "362 Episode: Finished after 200 time steps with reward 200\n",
            "363 Episode: Finished after 200 time steps with reward 200\n",
            "364 Episode: Finished after 161 time steps with reward 60\n",
            "365 Episode: Finished after 81 time steps with reward -20\n",
            "366 Episode: Finished after 106 time steps with reward 5\n",
            "367 Episode: Finished after 147 time steps with reward 46\n",
            "368 Episode: Finished after 84 time steps with reward -17\n",
            "369 Episode: Finished after 115 time steps with reward 14\n",
            "370 Episode: Finished after 115 time steps with reward 14\n",
            "371 Episode: Finished after 123 time steps with reward 22\n",
            "372 Episode: Finished after 200 time steps with reward 200\n",
            "373 Episode: Finished after 110 time steps with reward 9\n",
            "374 Episode: Finished after 48 time steps with reward -53\n",
            "375 Episode: Finished after 156 time steps with reward 55\n",
            "376 Episode: Finished after 200 time steps with reward 200\n",
            "377 Episode: Finished after 200 time steps with reward 200\n",
            "378 Episode: Finished after 125 time steps with reward 24\n",
            "379 Episode: Finished after 129 time steps with reward 28\n",
            "380 Episode: Finished after 200 time steps with reward 200\n",
            "381 Episode: Finished after 65 time steps with reward -36\n",
            "382 Episode: Finished after 24 time steps with reward -77\n",
            "383 Episode: Finished after 200 time steps with reward 200\n",
            "384 Episode: Finished after 200 time steps with reward 200\n",
            "385 Episode: Finished after 200 time steps with reward 200\n",
            "386 Episode: Finished after 200 time steps with reward 200\n",
            "387 Episode: Finished after 200 time steps with reward 200\n",
            "388 Episode: Finished after 134 time steps with reward 33\n",
            "389 Episode: Finished after 200 time steps with reward 200\n",
            "390 Episode: Finished after 200 time steps with reward 200\n",
            "391 Episode: Finished after 200 time steps with reward 200\n",
            "392 Episode: Finished after 138 time steps with reward 37\n",
            "393 Episode: Finished after 200 time steps with reward 200\n",
            "394 Episode: Finished after 200 time steps with reward 200\n",
            "395 Episode: Finished after 200 time steps with reward 200\n",
            "396 Episode: Finished after 200 time steps with reward 200\n",
            "397 Episode: Finished after 200 time steps with reward 200\n",
            "398 Episode: Finished after 200 time steps with reward 200\n",
            "399 Episode: Finished after 200 time steps with reward 200\n",
            "400 Episode: Finished after 179 time steps with reward 78\n",
            "401 Episode: Finished after 66 time steps with reward -35\n",
            "402 Episode: Finished after 113 time steps with reward 12\n",
            "403 Episode: Finished after 200 time steps with reward 200\n",
            "404 Episode: Finished after 200 time steps with reward 200\n",
            "405 Episode: Finished after 200 time steps with reward 200\n",
            "406 Episode: Finished after 200 time steps with reward 200\n",
            "407 Episode: Finished after 150 time steps with reward 49\n",
            "408 Episode: Finished after 125 time steps with reward 24\n",
            "409 Episode: Finished after 46 time steps with reward -55\n",
            "410 Episode: Finished after 100 time steps with reward -1\n",
            "411 Episode: Finished after 11 time steps with reward -90\n",
            "412 Episode: Finished after 12 time steps with reward -89\n",
            "413 Episode: Finished after 20 time steps with reward -81\n",
            "414 Episode: Finished after 13 time steps with reward -88\n",
            "415 Episode: Finished after 163 time steps with reward 62\n",
            "416 Episode: Finished after 31 time steps with reward -70\n",
            "417 Episode: Finished after 131 time steps with reward 30\n",
            "418 Episode: Finished after 31 time steps with reward -70\n",
            "419 Episode: Finished after 100 time steps with reward -1\n",
            "420 Episode: Finished after 90 time steps with reward -11\n",
            "421 Episode: Finished after 165 time steps with reward 64\n",
            "422 Episode: Finished after 200 time steps with reward 200\n",
            "423 Episode: Finished after 200 time steps with reward 200\n",
            "424 Episode: Finished after 56 time steps with reward -45\n",
            "425 Episode: Finished after 151 time steps with reward 50\n",
            "426 Episode: Finished after 77 time steps with reward -24\n",
            "427 Episode: Finished after 200 time steps with reward 200\n",
            "428 Episode: Finished after 200 time steps with reward 200\n",
            "429 Episode: Finished after 58 time steps with reward -43\n",
            "430 Episode: Finished after 115 time steps with reward 14\n",
            "431 Episode: Finished after 189 time steps with reward 88\n",
            "432 Episode: Finished after 181 time steps with reward 80\n",
            "433 Episode: Finished after 179 time steps with reward 78\n",
            "434 Episode: Finished after 200 time steps with reward 200\n",
            "435 Episode: Finished after 117 time steps with reward 16\n",
            "436 Episode: Finished after 140 time steps with reward 39\n",
            "437 Episode: Finished after 41 time steps with reward -60\n",
            "438 Episode: Finished after 122 time steps with reward 21\n",
            "439 Episode: Finished after 200 time steps with reward 200\n",
            "440 Episode: Finished after 84 time steps with reward -17\n",
            "441 Episode: Finished after 13 time steps with reward -88\n",
            "442 Episode: Finished after 200 time steps with reward 200\n",
            "443 Episode: Finished after 200 time steps with reward 200\n",
            "444 Episode: Finished after 144 time steps with reward 43\n",
            "445 Episode: Finished after 10 time steps with reward -91\n",
            "446 Episode: Finished after 14 time steps with reward -87\n",
            "447 Episode: Finished after 200 time steps with reward 200\n",
            "448 Episode: Finished after 154 time steps with reward 53\n",
            "449 Episode: Finished after 147 time steps with reward 46\n",
            "450 Episode: Finished after 21 time steps with reward -80\n",
            "451 Episode: Finished after 200 time steps with reward 200\n",
            "452 Episode: Finished after 200 time steps with reward 200\n",
            "453 Episode: Finished after 183 time steps with reward 82\n",
            "454 Episode: Finished after 196 time steps with reward 95\n",
            "455 Episode: Finished after 34 time steps with reward -67\n",
            "456 Episode: Finished after 182 time steps with reward 81\n",
            "457 Episode: Finished after 21 time steps with reward -80\n",
            "458 Episode: Finished after 24 time steps with reward -77\n",
            "459 Episode: Finished after 65 time steps with reward -36\n",
            "460 Episode: Finished after 74 time steps with reward -27\n",
            "461 Episode: Finished after 20 time steps with reward -81\n",
            "462 Episode: Finished after 10 time steps with reward -91\n",
            "463 Episode: Finished after 11 time steps with reward -90\n",
            "464 Episode: Finished after 11 time steps with reward -90\n",
            "465 Episode: Finished after 110 time steps with reward 9\n",
            "466 Episode: Finished after 68 time steps with reward -33\n",
            "467 Episode: Finished after 80 time steps with reward -21\n",
            "468 Episode: Finished after 147 time steps with reward 46\n",
            "469 Episode: Finished after 136 time steps with reward 35\n",
            "470 Episode: Finished after 200 time steps with reward 200\n",
            "471 Episode: Finished after 146 time steps with reward 45\n",
            "472 Episode: Finished after 200 time steps with reward 200\n",
            "473 Episode: Finished after 20 time steps with reward -81\n",
            "474 Episode: Finished after 41 time steps with reward -60\n",
            "475 Episode: Finished after 160 time steps with reward 59\n",
            "476 Episode: Finished after 35 time steps with reward -66\n",
            "477 Episode: Finished after 133 time steps with reward 32\n",
            "478 Episode: Finished after 49 time steps with reward -52\n",
            "479 Episode: Finished after 19 time steps with reward -82\n",
            "480 Episode: Finished after 157 time steps with reward 56\n",
            "481 Episode: Finished after 16 time steps with reward -85\n",
            "482 Episode: Finished after 51 time steps with reward -50\n",
            "483 Episode: Finished after 97 time steps with reward -4\n",
            "484 Episode: Finished after 28 time steps with reward -73\n",
            "485 Episode: Finished after 92 time steps with reward -9\n",
            "486 Episode: Finished after 63 time steps with reward -38\n",
            "487 Episode: Finished after 122 time steps with reward 21\n",
            "488 Episode: Finished after 174 time steps with reward 73\n",
            "489 Episode: Finished after 127 time steps with reward 26\n",
            "490 Episode: Finished after 28 time steps with reward -73\n",
            "491 Episode: Finished after 147 time steps with reward 46\n",
            "492 Episode: Finished after 103 time steps with reward 2\n",
            "493 Episode: Finished after 200 time steps with reward 200\n",
            "494 Episode: Finished after 171 time steps with reward 70\n",
            "495 Episode: Finished after 133 time steps with reward 32\n",
            "496 Episode: Finished after 200 time steps with reward 200\n",
            "497 Episode: Finished after 147 time steps with reward 46\n",
            "498 Episode: Finished after 154 time steps with reward 53\n",
            "499 Episode: Finished after 128 time steps with reward 27\n",
            "num_completed_episodes =  138\n",
            "Evaluation: Finished after 161 time steps\n",
            "frame =  ('/content/videos/q_learning/openaigym.video.0.60.video000000.mp4', '/content/videos/q_learning/openaigym.video.0.60.video000000.meta.json')\n"
          ],
          "name": "stdout"
        },
        {
          "output_type": "display_data",
          "data": {
            "text/html": [
              "\n",
              "            <video alt=\"test\" controls>\n",
              "            <source src=\"data:video/mp4;base64,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\" type=\"video/mp4\" />\n",
              "            </video>\n",
              "            "
            ],
            "text/plain": [
              "<IPython.core.display.HTML object>"
            ]
          },
          "metadata": {
            "tags": []
          }
        },
        {
          "output_type": "stream",
          "text": [
            "frame =  ('/content/videos/q_learning/openaigym.video.0.60.video000001.mp4', '/content/videos/q_learning/openaigym.video.0.60.video000001.meta.json')\n"
          ],
          "name": "stdout"
        },
        {
          "output_type": "display_data",
          "data": {
            "text/html": [
              "\n",
              "            <video alt=\"test\" controls>\n",
              "            <source src=\"data:video/mp4;base64,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\" type=\"video/mp4\" />\n",
              "            </video>\n",
              "            "
            ],
            "text/plain": [
              "<IPython.core.display.HTML object>"
            ]
          },
          "metadata": {
            "tags": []
          }
        },
        {
          "output_type": "stream",
          "text": [
            "frame =  ('/content/videos/q_learning/openaigym.video.0.60.video000008.mp4', '/content/videos/q_learning/openaigym.video.0.60.video000008.meta.json')\n"
          ],
          "name": "stdout"
        },
        {
          "output_type": "display_data",
          "data": {
            "text/html": [
              "\n",
              "            <video alt=\"test\" controls>\n",
              "            <source src=\"data:video/mp4;base64,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\" type=\"video/mp4\" />\n",
              "            </video>\n",
              "            "
            ],
            "text/plain": [
              "<IPython.core.display.HTML object>"
            ]
          },
          "metadata": {
            "tags": []
          }
        },
        {
          "output_type": "stream",
          "text": [
            "frame =  ('/content/videos/q_learning/openaigym.video.0.60.video000027.mp4', '/content/videos/q_learning/openaigym.video.0.60.video000027.meta.json')\n"
          ],
          "name": "stdout"
        },
        {
          "output_type": "display_data",
          "data": {
            "text/html": [
              "\n",
              "            <video alt=\"test\" controls>\n",
              "            <source src=\"data:video/mp4;base64,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\" type=\"video/mp4\" />\n",
              "            </video>\n",
              "            "
            ],
            "text/plain": [
              "<IPython.core.display.HTML object>"
            ]
          },
          "metadata": {
            "tags": []
          }
        },
        {
          "output_type": "stream",
          "text": [
            "frame =  ('/content/videos/q_learning/openaigym.video.0.60.video000064.mp4', '/content/videos/q_learning/openaigym.video.0.60.video000064.meta.json')\n"
          ],
          "name": "stdout"
        },
        {
          "output_type": "display_data",
          "data": {
            "text/html": [
              "\n",
              "            <video alt=\"test\" controls>\n",
              "            <source src=\"data:video/mp4;base64,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\" type=\"video/mp4\" />\n",
              "            </video>\n",
              "            "
            ],
            "text/plain": [
              "<IPython.core.display.HTML object>"
            ]
          },
          "metadata": {
            "tags": []
          }
        },
        {
          "output_type": "stream",
          "text": [
            "frame =  ('/content/videos/q_learning/openaigym.video.0.60.video000125.mp4', '/content/videos/q_learning/openaigym.video.0.60.video000125.meta.json')\n"
          ],
          "name": "stdout"
        },
        {
          "output_type": "display_data",
          "data": {
            "text/html": [
              "\n",
              "            <video alt=\"test\" controls>\n",
              "            <source src=\"data:video/mp4;base64,AAAAIGZ0eXBpc29tAAACAGlzb21pc28yYXZjMW1wNDEAAAAIZnJlZQAAHpJtZGF0AAACrgYF//+q3EXpvebZSLeWLNgg2SPu73gyNjQgLSBjb3JlIDE1MiByMjg1NCBlOWE1OTAzIC0gSC4yNjQvTVBFRy00IEFWQyBjb2RlYyAtIENvcHlsZWZ0IDIwMDMtMjAxNyAtIGh0dHA6Ly93d3cudmlkZW9sYW4ub3JnL3gyNjQuaHRtbCAtIG9wdGlvbnM6IGNhYmFjPTEgcmVmPTMgZGVibG9jaz0xOjA6MCBhbmFseXNlPTB4MzoweDExMyBtZT1oZXggc3VibWU9NyBwc3k9MSBwc3lfcmQ9MS4wMDowLjAwIG1peGVkX3JlZj0xIG1lX3JhbmdlPTE2IGNocm9tYV9tZT0xIHRyZWxsaXM9MSA4eDhkY3Q9MSBjcW09MCBkZWFkem9uZT0yMSwxMSBmYXN0X3Bza2lwPTEgY2hyb21hX3FwX29mZnNldD0tMiB0aHJlYWRzPTMgbG9va2FoZWFkX3RocmVhZHM9MSBzbGljZWRfdGhyZWFkcz0wIG5yPTAgZGVjaW1hdGU9MSBpbnRlcmxhY2VkPTAgYmx1cmF5X2NvbXBhdD0wIGNvbnN0cmFpbmVkX2ludHJhPTAgYmZyYW1lcz0zIGJfcHlyYW1pZD0yIGJfYWRhcHQ9MSBiX2JpYXM9MCBkaXJlY3Q9MSB3ZWlnaHRiPTEgb3Blbl9nb3A9MCB3ZWlnaHRwPTIga2V5aW50PTI1MCBrZXlpbnRfbWluPTI1IHNjZW5lY3V0PTQwIGludHJhX3JlZnJlc2g9MCByY19sb29rYWhlYWQ9NDAgcmM9Y3JmIG1idHJlZT0xIGNyZj0yMy4wIHFjb21wPTAuNjAgcXBtaW49MCBxcG1heD02OSBxcHN0ZXA9NCBpcF9yYXRpbz0xLjQwIGFxPTE6MS4wMACAAAABnmWIhAAz//727L4FNf2f0JcRLMXaSnA+KqSAgHc0wAAAAwAAAwAAFgn0I7DkqgN3QAAAHGAFBCwCPCVC2EhIBqXCCI6+B1jAFIVxNz/j5jEgokcWBi5A4P5V5Clpb4kXabTvY8cWZQGlPbd+Zq/9H/nn08JFbuBlp5W2fIlyNiOPZImPKqHd42q0Kun01qbYzo0ncKQAh1ahHJkjzoE6jxCugAUF4zv5vT11gMwM0KEm/3Z3kbxom0Zib+62czm+ctE96zkgZU7e/Zci4oFrmKD91gNtiqcs3XS4lwo0WNsIvpdZkCyZXqKyZH1Wh9RGxjnZpVyay4Z1hpvzOERca/T1o3FYLnnyyjyT2ob5/e9RHULsI0WeSReAjjX2u76TnQZlBqTvkdV7AeqlWs9+JeWIaGRypjG0uiGdh4KJCVXwy0gRBDeAur0HVh7Z5/b6XLAtE9+s2PAK5AJ7vgb85D0/m9bjKaYp+CeaGxW9b4UwTdWy8FiG8ejzbQ9qJNGX9UtlE53hVzwO3VfJ5GYDRA6g2RXWAwCAAAADAABbwQAAALRBmiRsQz/+nhAAAEVdwZLIgIAh+T+pi8ne/4guDgtJKpV22rjtzJmlTYTTpb3X2gRMlDe9VGxgoVpxpf0iJCv4NnJAV+V8dMcOUTIJxZnpFjudjlPZPh2/pfUT5g6ooRYlji0JZlauvaQpe2ao8PPOz02t79lKzn3NUBGn81EDigyrhDKsMmhSfOrXHTS3tHS+cArnDBbsqEYIg5aSaxcCAAADAO5QM7HGahYzu2P6dnwlFaAAAAApQZ5CeIR/AAAWtStDMmXgcvb5PckID0Kh8ao/2hWAAAADAK2BMFkQEnEAAAAkAZ5hdEf/AAAjwwtDyEiIJDOAKHR6/x+AAwAAAwAAFV/XYCpgAAAAHAGeY2pH/wAAAwBFfghOJaQRx3Jv81LQax7UKpkAAABZQZpoSahBaJlMCGf//p4QAABDYk4lAC1pmLYfDVuRUoc2ra/HhyKYXz2h/GK9eQsEKKVITWlntQiNoN841mdNZPzVp9WKChYVa4U4Xy4Aa+JUbxRxV6nmP/kAAAA6QZ6GRREsI/8AABYlWv5ApNNd7HWTy7UBBpHYLHRgBKkCWMGHYi2LVlCu8cwb79JNlfKJi36hjdAb0QAAACoBnqV0R/8AACLDQLIcI2bVABxuhT8jm0kwcMavMg6AkBoh85UE3xvgZ8EAAAAxAZ6nakf/AAADAeSDtDPiGd++v5uAARBhb+hMncfb0659+FmBTBjw9thmvHdo2R83+AAAAIJBmqxJqEFsmUwIZ//+nhAAAEVFQWBIA4atf8Tecz15+0WUlZbJk/oWsWtmyUP206OJ3m6N6NBMLplW0otd1cpTbErnGDwoJEhao3rGAQabwhUzk/EMv5/SOsPQegXFT9kl+S1xVDpgnqUIhaE6+AQZQ6pjBN8/3SpNq0TD01DY8pzAAAAAK0GeykUVLCP/AAAWvEW+ZUkDlwVaX2QaOBFsLEAkaGQMu0srGAoRa44pEbcAAAAZAZ7pdEf/AAAiw0CwVdj7LMWtgueyB8gdMAAAACQBnutqR/8AACO/C64vH3hjhIyoCIjyhTv11fYeus0AcfLOgYAAAABOQZrwSahBbJlMCGf//p4QAABFTmDvPm9v8pyDksZPRi7tqiu9Md8uR/Vk6RUEXhacHO6QaaF5wcynGhmpd7+q+dC85pcA6BGpQO1HvN/hAAAALEGfDkUVLCP/AAAWvBOSjORJoZ+mRocBgiBfXJ6ECds0NpcD4DM73Jzl7KIvAAAAJwGfLXRH/wAAAwHmJN3FV7sAYADdaXzZfMOifUoQfCupFtPV9lrMoQAAACUBny9qR/8AACO/BCv6r5H+JU70uP1uw9LKVhTw/Yl+PsQLaMRcAAAAWEGbNEmoQWyZTAhn//6eEAAARVH70ef0gE0pcLSaDTTMaY3dljnQTIQy03aTU8YV4gwGjuR1pekfZgTlc8eoD1I6CsgQKgLU+Lu4zllLPkWf4QP/lR7t9sAAAAAxQZ9SRRUsI/8AABa1E4vdNRkndLMVmgBbxU69xvijJK6Ed+ukr4VGm6q7p3UfblXIuQAAAB0Bn3F0R/8AACPDF3VoigoDYwva3J1udvigaUplQAAAABcBn3NqR/8AAAMAumYS0MO0zCRCL8hlwAAAAGJBm3hJqEFsmUwIZ//+nhAAAEVFKlyBk88r16jSrX0n0i/1HkrIEGodPqKwzrp2T740QWPNg4z8Gz3IYsuQOEoU1aacoCBZK1qV+TKLo+gSxxUHoZM7cTHxcgIuqyq4aaxgKQAAADpBn5ZFFSwj/wAAFrMsA6MwxvVatgGsNUdcvaiCVCsvGwYATV3i24eOB7EaADXi41SlLBrpi141m5JgAAAAFQGftXRH/wAAAwC6kVmfcDl0dik7BwAAAB0Bn7dqR/8AACO/BCcS0GFGivKobDCoUAQGa4C2YQAAAEVBm7xJqEFsmUwIZ//+nhAAAENUws5eSnF6YR/Z9SXt/54ApxjiKOpeqF4qJoFbZiBU81z5ewARehd0iGRhRI5hncA1bvQAAAAyQZ/aRRUsI/8AABYlX0ohVoMBcG5gP6BACVDuz6uga68dEfo7Cp/NtIQEKgEIWwV+2YEAAAAjAZ/5dEf/AAANh7AwZ1or+cx9dPjnhKIIJ+L+FcIfrs7MQEAAAAAhAZ/7akf/AAANhYMuIxkAAugA3CFb8lCmRsFnabecFHHBAAAAZEGb4EmoQWyZTAhn//6eEAAARU5g8v+QIsAtJuHT/TJjlgdob5o00wL2DX3Wt58cG2rPRlrEwmnrEBPE7nkhqT/qmzdFNX/7fjWDsV55IUUcid0RI//SSqSftJbYRO+1AwEyO/EAAAAtQZ4eRRUsI/8AABa8Q83MEOQ9eo7dUMIQqiq7VFlHlAALrFP051jDTik6Zu2YAAAAMgGePXRH/wAADXqDzsIARU/S6V/3YxLnGSQg2fzCK9Blfs3/gDXlPWu6AQiR4Wyrv8GAAAAALgGeP2pH/wAAI77iXqYREkJ3ABFT9LpYAN5fz0NaENxyClPfFviY5URCvWZpSAkAAAB3QZokSahBbJlMCGf//p4QAABDmEasjgGog0+ylG794Qk3UROZPy3pi8xI/UKq1v79x4L27iUE7nDsDqXYOpayNvNEGjAs1ZJBw6LMRr1/59qbe2aEI095pl2J4zQmqrEde2eygnRrW+cWeYoGtC0Sq+Wlb7opqYAAAAAcQZ5CRRUsI/8AABYlWlmG8u5KHTp3euTr28QHJQAAACIBnmF0R/8AACPIYbLqQAbkjwAhptDkPsDLLfSIcouXBnBwAAAAGAGeY2pH/wAAAwAaaSpetV8360RLc3j8GQAAAFdBmmhJqEFsmUwIZ//+nhAAAENlYi3ALmv4vfTnqMUSKfV7KadRfFG6eoInS+4mj8RM/JSlO73ofx6p38IBUe3Cpj2wuRBrsZm2XUZV1lwydk+0AFp4AWEAAAAyQZ6GRRUsI/8AABYsTvjE3jz6e/DM8+IiBBZtiGw2EtLB/Ynk26Z2dAynLYFwWszG7fkAAAAgAZ6ldEf/AAADALp5faKmtr9ACBvVTNdwvB2OhQ9Iom8AAAAeAZ6nakf/AAAisjE/RITOGxmSjK7ffzQSy+yEhuzAAAAAYUGarEmoQWyZTAhn//6eEAAACfnfSBwAON68FgoV1HidArXqeZ/9elfRhLV0j+QJFEBtw9xYnX64mEQneW4fwpyA/XTaRI2jW6Gio1dmeFfcpN30+y3Kyyjr4Ab4yR2jzlgAAAA4QZ7KRRUsI/8AAAMDOMk2saAxsK1GgZIjJnRENh8d69TqYLL3+LKEY1y6voAIZhlhLk4UdGo4uqEAAAAwAZ7pdEf/AAAFH8vr5mcoALD2j9zpPLuKvA6s0r4uoz4VeaOpDg7PWxyCaSj3zrJAAAAAJAGe62pH/wAABR0zTMzOwFexbrICAB7cZ/CVbbF/A+hHz+CVgAAAAEVBmvBJqEFsmUwIZ//+nhAAABp9cxkk3/cAJUqd4KABG62Bwypl0H5ek6blgabw+lGcYImSYq8HFFtnL+DT+vLXNbYGckcAAABIQZ8ORRUsI/8AAAhvIeY+PMQRZdwK3pWAHEMOsApYE67Yki6snegGAozJm8YS7EqhX/T5CsmhRo41bwFd0PrAxBH1hNhgaUqBAAAAIQGfLXRH/wAABR0ANii2gII/ZyjPnf9gKzQSlPhRt2YFRwAAACMBny9qR/8AAA2ElS0MlJ9S2DaqW+HEd36hzbon4xiV652nswAAAEdBmzRJqEFsmUwIZ//+nhAAAEW6bz4wch03RhSscAI4ZRg6mg0ovWuZ/7DfTtm7n9GykLWUl9+nSvXcyXdd6/qhOV+bzf5FZwAAAB5Bn1JFFSwj/wAAFrxDzT6WVbuUz3lJYhJ5IED0nm8AAAAhAZ9xdEf/AAANhd9+n3imUbldA+TZ44AE4ke/3KQvCEPAAAAAHAGfc2pH/wAAI78EJ2Mh4cn0vmMHhOJLWXNUvoQAAAA9QZt4SahBbJlMCGf//p4QAAADABPbNu7v6wh4vkxfMZVkL2EDTPWVnJH5k/ZJr7fEItNCCcJZVZveNokBBwAAABpBn5ZFFSwj/wAAAwAGcJ5TyxRJ/0SEKFAKkAAAACUBn7V0R/8AAAMAGdkvABbgBrns48xRGLiYposLC3RETo4bfJsxAAAAEwGft2pH/wAAAwAJ9nkMwU3RyoEAAABzQZu8SahBbJlMCGf//p4QAABDNm18NbKWwAoBmM9HrZuuiHpC9pHeY0g6E0DvzS1Lk8MBQcGTDdpn+wX4Oov1Bt/As88Pd19uTq7oQ3s14c7T0YPJSyVG5KmBCmOzC1yVz8h6kPDzdYTiIKxwMvJFrB5ARgAAACJBn9pFFSwj/wAAFhfdx07cWutjbhHWjwF3/ynu0EMzYKZJAAAAFQGf+XRH/wAAI8MXdVNyqovgPElScAAAABsBn/tqR/8AACPHxxtBX06t5A9W+aaAZAjVhuEAAABnQZvgSahBbJlMCGf//p4QAABDZUFRaMmgUlsmMg2aUPg8vStfIn64sT909NSZEgoqibh46Iil1HsTz952rnmGFdGtk3vzT563u+yeKeDhciVABhYUd7TiaXXiSjS/qzvU+qAguonXuQAAACBBnh5FFSwj/wAAFiVakeMUFWO61RzUGQsFl/90kj6QEAAAABgBnj10R/8AACKsPSNk75wS/Dxb91xwR8AAAAAdAZ4/akf/AAAix8dI389cWyZVzzPtIkqtinHkRAUAAABuQZokSahBbJlMCF///oywAABEAwFZwBt+pQlqM0iB4czVjIXhhGYJVJ51ixxS9bR02Yk0UyG8dx/oRwVYywDCXW3XHIbdalt57EI+UvmUktanh2db3IqsFVcIhPIN4wtN1Cwz82Ez8+VRsH3EHjAAAAAdQZ5CRRUsI/8AABYsTmzwAp74eX+LWFCh0E0NknEAAAAxAZ5hdEf/AAADAeD3MK2hwvhHrdgQLrWlR1NQuGGACz2Kr5JxN+JRIBsW723bv1G2YAAAAB8BnmNqR/8AACK/Gs7cE24RHvkO0BbbTABAYM9zAQ1JAAAAcEGaaEmoQWyZTAhf//6MsAAAGeu7uVgAKiCovF8oGUHdEkpx8hISkeimH33BCVm5/PY+ViwTnus0eORV4hZwpn4v6GK836/qzHBgLNg3ImtniLLAHoIpMc69+qdRRbtKxN+l42Vk1SHZ8I+hiEq8e6sAAAAkQZ6GRRUsI/8AAAgthQJuId3GZgvBJZukKrHwQr6VYBfS4cgJAAAAIgGepXRH/wAADTfTokQDBh7U1tkAmD+F08SO0K1xXOvMFbMAAAAtAZ6nakf/AAANJPYjNbnuPhboM8Z1MT5Pj3ylvgAFz9UTMpcQ7es8fjayZD5gAAAASEGarEmoQWyZTAhf//6MsAAARAL63gDN43VVzOBQguCGYYraigp1euaqUbUr9aCsfOGEDzrT8aOfdIDAQ4A96bEKv0jkZLuh4QAAAEJBnspFFSwj/wAAFixObMWCGeXHlPlWoP7egFAc8rM1Zo5t65prk82AG67za0dXPVM0j3tr2Mu0zAXcx4M16nD7tmEAAAAjAZ7pdEf/AAAE+P4lQm9lLdwM/cDSrRv3DogGrnmb0sDzvgwAAAAoAZ7rakf/AAAivxrONbT2sgTVJJMBMOI1vKTMNZYJQ5vJNOoa0DV7MAAAAExBmu5JqEFsmUwUTC///oywAAAZ4czmT8fas5CkI2YlacvpwFT5DYje/wdV4MG3bOFJ9lsXoBWgl0rAsI+L5f2Q5qHABwTLTbrZ4y2hAAAAJwGfDWpH/wAADTJCgOZjceg9H/SCsaTZHYOxZigAbRTjnj1ux+EDuwAAAFdBmxJJ4QpSZTAhX/44QAABBPrluTbFhIHuNSTf1Wun3H9CG4HiYd/hCA+zbyx+rtiet+nJyfd2Nlc326XoOo75Bntw0W4ABKqR3rn9hJa5z4i+NcdE/wkAAABJQZ8wRTRMI/8AABYmoiACw42p4ZqBbhzhhRDWSVeu+vQoJ0uZbY8gHZkoeW8OAXj8Wr1nGBKXYFgGU/ckDMIzMTJVSPa5GxpO3AAAACUBn090R/8AACKsN5g02KbsOe1S6SlIMMGIC8v5e3q2+Gu7uKCAAAAAJwGfUWpH/wAAIr8abY0rNT+GWbP1/GB1/El8AZhgqq+KE1rbTJ523QAAAD9Bm1NJqEFomUwIV//+OEAAAQU6Avgpo9mNHW4wmM3Z3bCfWBMCN5jwrHCyprHgO2sj4OfnCgF+ekzv//42jugAAABWQZt0SeEKUmUwIV/+OEAAAGRsW+6FSJ9CbKM3Irryww4VSkG2LzTgbwxvC31wS2st0uheUJCADS8ffLo58TcveCJFj3VbQ5ZDlm1NuuOS5DHnid3PincAAABTQZuVSeEOiZTAhf/+jLAAABn5OmvmgADVNasXiVasO3VMFUb+ChT1JCdggPLJA4bSlFWjgXuVHh1f6vhnlHg8zR5cAN3U2dTHTNJcbfJkCFlrA9cAAABaQZu2SeEPJlMCF//+jLAAAEQDc5YAWFDyvPpSKoGGcWFJTt0iKqA297a+3DknyU+kywXxfIUMG8huyzVXzfZs3LMJFMLheops/isiIv9jFl12VhbocZKL0vlfAAAAYUGb2knhDyZTAhf//oywAABEEMF8Df63bTcj1ZRmlUVctkdoKdhGV4i3JLuAs2JbOGjydt/6wxkXBydDUMGaG05RdyfzY+AKGUamG0QvgIpbsBdnAC4Sfb1K8r9Ez4XZhPEAAABBQZ/4RRE8I/8AABYX0IkwyuapogCA0u/ir7tABowE5CHaWHrwr9W/hMz9iLy2mh8G+sdVlpk8aaaiwDQ7gIXbwYEAAAAsAZ4XdEf/AAAit/W0M3IKynFbjSMOCF3EMjyB21n+OEAGetMBHIi+VhpO2YAAAAAtAZ4Zakf/AAAisixrM2xe0sS/xibIASqB/73OGR9AzpKCfJkEzR1klj4CfU91AAAAcUGaHkmoQWiZTAhf//6MsAAAQ/KOHUw9YAjtX9s/lwtSYDfGrm/zOEl7fBVgVIt5+9o29YBk6wdeDsQF+HZbOLgNhW5lvkbM+p1nVU09dR2UpLE0z36PjfKXAmMoJxlm9+Nn4KoAQYV2niBrud/bg32wAAAASEGePEURLCP/AAAWFUbaqc9c7ow+QipSmwgKFRjNmF6oDSEkb2n5cbyc0RYiRg/gb8mi7tvqHEZGk5OxRXqWm6chXT8HHMq24QAAAC4Bnlt0R/8AACO4txXEHTWM3kC6ChaCO18pkr11Yhnq4VxiIq6NLccZsEp1MnbhAAAAKwGeXWpH/wAAI7H9U6K/4Kddfk2XLs4ggYFbd0mQ/dPYUta1uibjMPGSvR8AAAB5QZpCSahBbJlMCFf//jhAAAEFTuobzQAX8l2z+8sp4xoHMQ0tKU6Z3oCOHm7lYbgPxYBm9uG/f1qt5eSTgP41LE4qpa3vWcG7Cdxuq/agXBt8FJE/Gq70nm1PMJOS9BfzYr3AC7eJ54NNu4/46ZkaBeb/gHtTonmE8AAAAEVBnmBFFSwj/wAAFiuUNV3Rso/xFHY2PTAHzdM3bZM83gJMdGNwSNCCTBX7E+pCpLI5p3qJBROYAABZo6yMjKPV+454b0EAAAA5AZ6fdEf/AAAivPgjLkJ2jRZjbzsFDiX9nNm32mElk3sqzzB9+AiW9lV19d3FI/kcNdsdh5455wWAAAAAQQGegWpH/wAAIr2Vrbj/PrtsYUCXEs3/8TpSYALG7d2DQ6L61am24X9NW8rYBQucf41xG9wyDBNDKmwBs8UQn0xZAAAAT0Gag0moQWyZTAhf//6MsAAARAL28noGOsAE60TBFK2ksbWHYwav9MJr17Yy5cnKmWLgCy4qs0hvFcOoRkDfvCT6u2D3HpBcpBBjptFUk4AAAACwQZqnSeEKUmUwIT/98QAAAwKR7Dry4FwTA0YAFrmjirmBC9kbs83S3s3kj5B+/lXQ7qtMWxsEEoFRQhshKvfX6b2HyieblEqPksZMTNTZBHNG24x6bE+nqWn3+kY8MfhNBLwT43f8yhyPOyivET573MUSBTOWl72GQvlyQXhwu8vPG4xby1ZKDi+pVLU9qr+oF4W//rydd/+Eonn61RqEINbrXTR0VHptOP7+7EE/XgkAAABmQZ7FRTRMI/8AABYrXw8kIFhgCABGRpFAx80XcQSLk3CjsA76ikPoFNnrfbAo/kB/F5uUSqlFmkHr2i7v1O4hgo5mRsNq1ED8Z1yffxJrIXLupQrk99j3jWek8dZMGruTjFjUl525AAAAMgGe5HRH/wAAIqnPV72xzeQzdgsXwrr1fTpFIi9NmfZCB3M3o6+k6V6Xh+YxZ+aKOcI3AAAARAGe5mpH/wAAIrHnY1JABuuxTiCqS47QHPzyVQSOpP3DM9apstd02SAmucLbU0ZWEyXyvteGeBP7ByGkWbekPcTrw0MpAAAAg0Ga6EmoQWiZTAhP//3xAAADAnpF+XypvfgALoa1lMc3EvCcn1zITctjYEtMEy+7NH05bgt8kYJIlAFyoLjM5hmZUK98Fy8emDHKjmRri4uIJvqJZNDOjM6fUcgefqHnt85XIFKlLOnbCZDgi8v1Pz3FRE4duaByW2+Ml5AQdkm93oUgAAAAhUGbCknhClJlMFESx//8hAAADy2mmVkCTbuY4gDbhZG3CkAEB8ZrXZp9B9/3G0vbJ3XLl5HbGV/csP7+ll9flgGgwQrJ3IAvVzTPX6U19ygGtlLZnsgLRwRYcgZp/iO/IJM/2Bk5lptbB/Ssunj7gR/cyoTRaCKqz2RdbtVauAUD5KDyUFgAAAA8AZ8pakf/AAAhngql36tZKyHlfroFctkftvTFkWI/iD9iQplpOjv9frz1Ykv2vRu+2PdH0H8RoRKJUk23AAAH/21vb3YAAABsbXZoZAAAAAAAAAAAAAAAAAAAA+gAAAhcAAEAAAEAAAAAAAAAAAAAAAABAAAAAAAAAAAAAAAAAAAAAQAAAAAAAAAAAAAAAAAAQAAAAAAAAAAAAAAAAAAAAAAAAAAAAAAAAAAAAAAAAAIAAAcpdHJhawAAAFx0a2hkAAAAAwAAAAAAAAAAAAAAAQAAAAAAAAhcAAAAAAAAAAAAAAAAAAAAAAABAAAAAAAAAAAAAAAAAAAAAQAAAAAAAAAAAAAAAAAAQAAAAAJYAAABkAAAAAAAJGVkdHMAAAAcZWxzdAAAAAAAAAABAAAIXAAAAgAAAQAAAAAGoW1kaWEAAAAgbWRoZAAAAAAAAAAAAAAAAAAAMgAAAGsAVcQAAAAAAC1oZGxyAAAAAAAAAAB2aWRlAAAAAAAAAAAAAAAAVmlkZW9IYW5kbGVyAAAABkxtaW5mAAAAFHZtaGQAAAABAAAAAAAAAAAAAAAkZGluZgAAABxkcmVmAAAAAAAAAAEAAAAMdXJsIAAAAAEAAAYMc3RibAAAAJhzdHNkAAAAAAAAAAEAAACIYXZjMQAAAAAAAAABAAAAAAAAAAAAAAAAAAAAAAJYAZAASAAAAEgAAAAAAAAAAQAAAAAAAAAAAAAAAAAAAAAAAAAAAAAAAAAAAAAAAAAAABj//wAAADJhdmNDAWQAH//hABlnZAAfrNlAmDPl4QAAAwABAAADAGQPGDGWAQAGaOvjyyLAAAAAGHN0dHMAAAAAAAAAAQAAAGsAAAEAAAAAFHN0c3MAAAAAAAAAAQAAAAEAAANQY3R0cwAAAAAAAABoAAAAAQAAAgAAAAABAAAFAAAAAAEAAAIAAAAAAQAAAAAAAAABAAABAAAAAAEAAAUAAAAAAQAAAgAAAAABAAAAAAAAAAEAAAEAAAAAAQAABQAAAAABAAACAAAAAAEAAAAAAAAAAQAAAQAAAAABAAAFAAAAAAEAAAIAAAAAAQAAAAAAAAABAAABAAAAAAEAAAUAAAAAAQAAAgAAAAABAAAAAAAAAAEAAAEAAAAAAQAABQAAAAABAAACAAAAAAEAAAAAAAAAAQAAAQAAAAABAAAFAAAAAAEAAAIAAAAAAQAAAAAAAAABAAABAAAAAAEAAAUAAAAAAQAAAgAAAAABAAAAAAAAAAEAAAEAAAAAAQAABQAAAAABAAACAAAAAAEAAAAAAAAAAQAAAQAAAAABAAAFAAAAAAEAAAIAAAAAAQAAAAAAAAABAAABAAAAAAEAAAUAAAAAAQAAAgAAAAABAAAAAAAAAAEAAAEAAAAAAQAABQAAAAABAAACAAAAAAEAAAAAAAAAAQAAAQAAAAABAAAFAAAAAAEAAAIAAAAAAQAAAAAAAAABAAABAAAAAAEAAAUAAAAAAQAAAgAAAAABAAAAAAAAAAEAAAEAAAAAAQAABQAAAAABAAACAAAAAAEAAAAAAAAAAQAAAQAAAAABAAAFAAAAAAEAAAIAAAAAAQAAAAAAAAABAAABAAAAAAEAAAUAAAAAAQAAAgAAAAABAAAAAAAAAAEAAAEAAAAAAQAABQAAAAABAAACAAAAAAEAAAAAAAAAAQAAAQAAAAABAAAFAAAAAAEAAAIAAAAAAQAAAAAAAAABAAABAAAAAAEAAAMAAAAAAQAAAQAAAAABAAAFAAAAAAEAAAIAAAAAAQAAAAAAAAABAAABAAAAAAQAAAIAAAAAAQAABQAAAAABAAACAAAAAAEAAAAAAAAAAQAAAQAAAAABAAAFAAAAAAEAAAIAAAAAAQAAAAAAAAABAAABAAAAAAEAAAUAAAAAAQAAAgAAAAABAAAAAAAAAAEAAAEAAAAAAQAAAgAAAAABAAAFAAAAAAEAAAIAAAAAAQAAAAAAAAABAAABAAAAAAEAAAIAAAAAAQAAAwAAAAABAAABAAAAABxzdHNjAAAAAAAAAAEAAAABAAAAawAAAAEAAAHAc3RzegAAAAAAAAAAAAAAawAABFQAAAC4AAAALQAAACgAAAAgAAAAXQAAAD4AAAAuAAAANQAAAIYAAAAvAAAAHQAAACgAAABSAAAAMAAAACsAAAApAAAAXAAAADUAAAAhAAAAGwAAAGYAAAA+AAAAGQAAACEAAABJAAAANgAAACcAAAAlAAAAaAAAADEAAAA2AAAAMgAAAHsAAAAgAAAAJgAAABwAAABbAAAANgAAACQAAAAiAAAAZQAAADwAAAA0AAAAKAAAAEkAAABMAAAAJQAAACcAAABLAAAAIgAAACUAAAAgAAAAQQAAAB4AAAApAAAAFwAAAHcAAAAmAAAAGQAAAB8AAABrAAAAJAAAABwAAAAhAAAAcgAAACEAAAA1AAAAIwAAAHQAAAAoAAAAJgAAADEAAABMAAAARgAAACcAAAAsAAAAUAAAACsAAABbAAAATQAAACkAAAArAAAAQwAAAFoAAABXAAAAXgAAAGUAAABFAAAAMAAAADEAAAB1AAAATAAAADIAAAAvAAAAfQAAAEkAAAA9AAAARQAAAFMAAAC0AAAAagAAADYAAABIAAAAhwAAAIkAAABAAAAAFHN0Y28AAAAAAAAAAQAAADAAAABidWR0YQAAAFptZXRhAAAAAAAAACFoZGxyAAAAAAAAAABtZGlyYXBwbAAAAAAAAAAAAAAAAC1pbHN0AAAAJal0b28AAAAdZGF0YQAAAAEAAAAATGF2ZjU3LjgzLjEwMA==\" type=\"video/mp4\" />\n",
              "            </video>\n",
              "            "
            ],
            "text/plain": [
              "<IPython.core.display.HTML object>"
            ]
          },
          "metadata": {
            "tags": []
          }
        },
        {
          "output_type": "stream",
          "text": [
            "frame =  ('/content/videos/q_learning/openaigym.video.0.60.video000216.mp4', '/content/videos/q_learning/openaigym.video.0.60.video000216.meta.json')\n"
          ],
          "name": "stdout"
        },
        {
          "output_type": "display_data",
          "data": {
            "text/html": [
              "\n",
              "            <video alt=\"test\" controls>\n",
              "            <source src=\"data:video/mp4;base64,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\" type=\"video/mp4\" />\n",
              "            </video>\n",
              "            "
            ],
            "text/plain": [
              "<IPython.core.display.HTML object>"
            ]
          },
          "metadata": {
            "tags": []
          }
        },
        {
          "output_type": "stream",
          "text": [
            "frame =  ('/content/videos/q_learning/openaigym.video.0.60.video000343.mp4', '/content/videos/q_learning/openaigym.video.0.60.video000343.meta.json')\n"
          ],
          "name": "stdout"
        },
        {
          "output_type": "display_data",
          "data": {
            "text/html": [
              "\n",
              "            <video alt=\"test\" controls>\n",
              "            <source src=\"data:video/mp4;base64,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\" type=\"video/mp4\" />\n",
              "            </video>\n",
              "            "
            ],
            "text/plain": [
              "<IPython.core.display.HTML object>"
            ]
          },
          "metadata": {
            "tags": []
          }
        }
      ]
    },
    {
      "cell_type": "markdown",
      "metadata": {
        "id": "mESpPTF72xIr"
      },
      "source": [
        "## References\n",
        "- [minnano_rl/section_2/01_simple_reinforcement_learning.ipynb](https://github.com/yukinaga/minnano_rl/blob/main/section_2/01_simple_reinforcement_learning.ipynb)\n",
        "- [第10回　CartPole課題をQ学習で制御する](https://book.mynavi.jp/manatee/detail/id=88997)"
      ]
    }
  ]
}