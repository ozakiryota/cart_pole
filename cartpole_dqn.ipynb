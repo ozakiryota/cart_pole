{
  "nbformat": 4,
  "nbformat_minor": 0,
  "metadata": {
    "colab": {
      "name": "cartpole_dqn.ipynb",
      "provenance": [],
      "collapsed_sections": [],
      "authorship_tag": "ABX9TyM+2FQk69aOJ5084vxXfKdz",
      "include_colab_link": true
    },
    "kernelspec": {
      "display_name": "Python 3",
      "name": "python3"
    },
    "language_info": {
      "name": "python"
    },
    "accelerator": "GPU"
  },
  "cells": [
    {
      "cell_type": "markdown",
      "metadata": {
        "id": "view-in-github",
        "colab_type": "text"
      },
      "source": [
        "<a href=\"https://colab.research.google.com/github/ozakiryota/cart_pole/blob/main/cartpole_dqn.ipynb\" target=\"_parent\"><img src=\"https://colab.research.google.com/assets/colab-badge.svg\" alt=\"Open In Colab\"/></a>"
      ]
    },
    {
      "cell_type": "markdown",
      "metadata": {
        "id": "DzGR6DXx5hxW"
      },
      "source": [
        "# Cart-Pole\n"
      ]
    },
    {
      "cell_type": "markdown",
      "metadata": {
        "id": "NztiGF0Ld3ET"
      },
      "source": [
        "Install OpenAI Gym (https://gym.openai.com)"
      ]
    },
    {
      "cell_type": "code",
      "metadata": {
        "colab": {
          "base_uri": "https://localhost:8080/"
        },
        "id": "mTnd9XdOQ0JA",
        "outputId": "4bffd6b8-4e25-431a-c879-28cca856d8db"
      },
      "source": [
        "!pip install gym"
      ],
      "execution_count": 28,
      "outputs": [
        {
          "output_type": "stream",
          "text": [
            "Requirement already satisfied: gym in /usr/local/lib/python3.7/dist-packages (0.17.3)\n",
            "Requirement already satisfied: cloudpickle<1.7.0,>=1.2.0 in /usr/local/lib/python3.7/dist-packages (from gym) (1.3.0)\n",
            "Requirement already satisfied: pyglet<=1.5.0,>=1.4.0 in /usr/local/lib/python3.7/dist-packages (from gym) (1.5.0)\n",
            "Requirement already satisfied: scipy in /usr/local/lib/python3.7/dist-packages (from gym) (1.4.1)\n",
            "Requirement already satisfied: numpy>=1.10.4 in /usr/local/lib/python3.7/dist-packages (from gym) (1.19.5)\n",
            "Requirement already satisfied: future in /usr/local/lib/python3.7/dist-packages (from pyglet<=1.5.0,>=1.4.0->gym) (0.16.0)\n"
          ],
          "name": "stdout"
        }
      ]
    },
    {
      "cell_type": "markdown",
      "metadata": {
        "id": "WatqsT0I5lxF"
      },
      "source": [
        "Install the packages for visualizing Gym"
      ]
    },
    {
      "cell_type": "code",
      "metadata": {
        "colab": {
          "base_uri": "https://localhost:8080/"
        },
        "id": "uo7Lrbp5Sqod",
        "outputId": "1e0e77ba-97ee-4b12-8949-734f1af31677"
      },
      "source": [
        "!apt update\n",
        "!apt install xvfb\n",
        "!pip install pyvirtualdisplay"
      ],
      "execution_count": 29,
      "outputs": [
        {
          "output_type": "stream",
          "text": [
            "\u001b[33m\r0% [Working]\u001b[0m\r            \rHit:1 https://cloud.r-project.org/bin/linux/ubuntu bionic-cran40/ InRelease\n",
            "\u001b[33m\r0% [Connecting to archive.ubuntu.com (91.189.88.142)] [Connecting to security.u\u001b[0m\u001b[33m\r0% [1 InRelease gpgv 3,626 B] [Connecting to archive.ubuntu.com (91.189.88.142)\u001b[0m\r                                                                               \rIgn:2 https://developer.download.nvidia.com/compute/cuda/repos/ubuntu1804/x86_64  InRelease\n",
            "\u001b[33m\r0% [1 InRelease gpgv 3,626 B] [Connecting to archive.ubuntu.com (91.189.88.142)\u001b[0m\r                                                                               \rIgn:3 https://developer.download.nvidia.com/compute/machine-learning/repos/ubuntu1804/x86_64  InRelease\n",
            "\u001b[33m\r0% [1 InRelease gpgv 3,626 B] [Connecting to archive.ubuntu.com (91.189.88.142)\u001b[0m\r                                                                               \rHit:4 https://developer.download.nvidia.com/compute/cuda/repos/ubuntu1804/x86_64  Release\n",
            "Hit:5 https://developer.download.nvidia.com/compute/machine-learning/repos/ubuntu1804/x86_64  Release\n",
            "Hit:6 http://ppa.launchpad.net/c2d4u.team/c2d4u4.0+/ubuntu bionic InRelease\n",
            "Hit:7 http://archive.ubuntu.com/ubuntu bionic InRelease\n",
            "Get:8 http://security.ubuntu.com/ubuntu bionic-security InRelease [88.7 kB]\n",
            "Hit:10 http://archive.ubuntu.com/ubuntu bionic-updates InRelease\n",
            "Hit:12 http://ppa.launchpad.net/cran/libgit2/ubuntu bionic InRelease\n",
            "Get:13 http://archive.ubuntu.com/ubuntu bionic-backports InRelease [74.6 kB]\n",
            "Hit:14 http://ppa.launchpad.net/deadsnakes/ppa/ubuntu bionic InRelease\n",
            "Hit:15 http://ppa.launchpad.net/graphics-drivers/ppa/ubuntu bionic InRelease\n",
            "Fetched 163 kB in 2s (97.0 kB/s)\n",
            "Reading package lists... Done\n",
            "Building dependency tree       \n",
            "Reading state information... Done\n",
            "36 packages can be upgraded. Run 'apt list --upgradable' to see them.\n",
            "Reading package lists... Done\n",
            "Building dependency tree       \n",
            "Reading state information... Done\n",
            "xvfb is already the newest version (2:1.19.6-1ubuntu4.9).\n",
            "The following package was automatically installed and is no longer required:\n",
            "  libnvidia-common-460\n",
            "Use 'apt autoremove' to remove it.\n",
            "0 upgraded, 0 newly installed, 0 to remove and 36 not upgraded.\n",
            "Requirement already satisfied: pyvirtualdisplay in /usr/local/lib/python3.7/dist-packages (2.1)\n",
            "Requirement already satisfied: EasyProcess in /usr/local/lib/python3.7/dist-packages (from pyvirtualdisplay) (0.3)\n"
          ],
          "name": "stdout"
        }
      ]
    },
    {
      "cell_type": "markdown",
      "metadata": {
        "id": "cF70T7rbdLXM"
      },
      "source": [
        "## DQN"
      ]
    },
    {
      "cell_type": "markdown",
      "metadata": {
        "id": "D9MoZlOvenEx"
      },
      "source": [
        "Import Gym"
      ]
    },
    {
      "cell_type": "code",
      "metadata": {
        "id": "rDrypO0FZ9IG"
      },
      "source": [
        "import gym"
      ],
      "execution_count": 30,
      "outputs": []
    },
    {
      "cell_type": "markdown",
      "metadata": {
        "id": "t6r-cLs8ej61"
      },
      "source": [
        "Import the packages for visualizing Gym"
      ]
    },
    {
      "cell_type": "code",
      "metadata": {
        "id": "l8zm1ycgaE8K"
      },
      "source": [
        "import base64\n",
        "import io\n",
        "from gym.wrappers import Monitor\n",
        "from IPython import display\n",
        "from pyvirtualdisplay import Display"
      ],
      "execution_count": 31,
      "outputs": []
    },
    {
      "cell_type": "markdown",
      "metadata": {
        "id": "KgvZ1f4MccCJ"
      },
      "source": [
        "Import required packages"
      ]
    },
    {
      "cell_type": "code",
      "metadata": {
        "id": "0a3R-TE_gaS1"
      },
      "source": [
        "import numpy as np\n",
        "\n",
        "import torch\n",
        "from torch import nn\n",
        "import torch.optim as optim"
      ],
      "execution_count": 32,
      "outputs": []
    },
    {
      "cell_type": "markdown",
      "metadata": {
        "id": "rSkAwHBHGqxK"
      },
      "source": [
        "Net class"
      ]
    },
    {
      "cell_type": "code",
      "metadata": {
        "id": "r5x31HxMGqTk"
      },
      "source": [
        "class Net(nn.Module):\n",
        "    def __init__(self, num_states, dim_mid, num_actions):\n",
        "        super().__init__()\n",
        "\n",
        "        self.fc = nn.Sequential(\n",
        "            nn.Linear(num_states, dim_mid),\n",
        "            nn.ReLU(),\n",
        "            nn.Linear(dim_mid, dim_mid),\n",
        "            nn.ReLU(),\n",
        "            nn.Linear(dim_mid, num_actions)\n",
        "        )\n",
        "\n",
        "    def forward(self, x):\n",
        "        x = self.fc(x)\n",
        "        return x"
      ],
      "execution_count": 33,
      "outputs": []
    },
    {
      "cell_type": "markdown",
      "metadata": {
        "id": "Htu4VPF8cflL"
      },
      "source": [
        "Brain class"
      ]
    },
    {
      "cell_type": "code",
      "metadata": {
        "id": "PMFWoAE1RIRe"
      },
      "source": [
        "class Brain:\n",
        "    def __init__(self, num_states, num_actions, gamma, r, lr):\n",
        "        self.num_states = num_states\n",
        "        self.num_actions = num_actions\n",
        "\n",
        "        self.device = torch.device(\"cuda:0\" if torch.cuda.is_available() else \"cpu\")\n",
        "        print(\"self.device = \", self.device)\n",
        "        self.net = Net(num_states, 64, num_actions)\n",
        "        self.net.to(self.device)\n",
        "        self.criterion = nn.MSELoss()\n",
        "        #self.optimizer = optim.RMSprop(self.net.parameters(), lr=lr)\n",
        "        self.optimizer = optim.Adam(self.net.parameters(), lr=lr)\n",
        "\n",
        "        self.eps = 1.0  # for epsilon greedy algorithm\n",
        "        self.gamma = gamma\n",
        "        self.r = r\n",
        " \n",
        "    def updateQnet(self, obs_numpy, action, reward, next_obs_numpy):\n",
        "        obs_tensor = torch.from_numpy(obs_numpy).float()\n",
        "        obs_tensor.unsqueeze_(0)\n",
        "        obs_tensor = obs_tensor.to(self.device)\n",
        "\n",
        "        next_obs_tensor = torch.from_numpy(next_obs_numpy).float()\n",
        "        next_obs_tensor.unsqueeze_(0)\n",
        "        next_obs_tensor = next_obs_tensor.to(self.device)\n",
        "\n",
        "        self.optimizer.zero_grad()\n",
        "\n",
        "        self.net.train()\n",
        "        q = self.net(obs_tensor)\n",
        "\n",
        "        with torch.no_grad():\n",
        "            self.net.eval()\n",
        "            labels = self.net(obs_tensor)\n",
        "            next_q = self.net(next_obs_tensor)\n",
        "\n",
        "            labels[:, action] = reward + self.gamma*np.max(next_q.cpu().detach().numpy(), axis=1)[0]\n",
        "        \n",
        "        loss = self.criterion(q, labels)\n",
        "        loss.backward()\n",
        "        self.optimizer.step()\n",
        "\n",
        "    def getAction(self, obs_numpy, is_training):\n",
        "        if is_training and np.random.rand() < self.eps:\n",
        "            action = np.random.randint(self.num_actions)\n",
        "        else:\n",
        "            obs_tensor = torch.from_numpy(obs_numpy).float()\n",
        "            obs_tensor.unsqueeze_(0)\n",
        "            obs_tensor = obs_tensor.to(self.device)\n",
        "            with torch.no_grad():\n",
        "                self.net.eval()\n",
        "                q = self.net(obs_tensor)\n",
        "                action = np.argmax(q.cpu().detach().numpy(), axis=1)[0]\n",
        "        ## update eps\n",
        "        if is_training and self.eps > 0.1:\n",
        "            self.eps *= self.r\n",
        "        return action"
      ],
      "execution_count": 40,
      "outputs": []
    },
    {
      "cell_type": "markdown",
      "metadata": {
        "id": "sSn2nGYqzoqh"
      },
      "source": [
        "Agent class"
      ]
    },
    {
      "cell_type": "code",
      "metadata": {
        "id": "GnTqsw2uzsXP"
      },
      "source": [
        "class Agent:\n",
        "    def __init__(self, num_states, num_actions, gamma, r, lr):\n",
        "        self.brain = Brain(num_states, num_actions, gamma, r, lr)\n",
        " \n",
        "    def updateQnet(self, obs, action, reward, next_obs):\n",
        "        self.brain.updateQnet(obs, action, reward, next_obs)\n",
        " \n",
        "    def getAction(self, obs, is_training):\n",
        "        action = self.brain.getAction(obs, is_training)\n",
        "        return action"
      ],
      "execution_count": 36,
      "outputs": []
    },
    {
      "cell_type": "markdown",
      "metadata": {
        "id": "QzJjzN5VB-pQ"
      },
      "source": [
        "Environment class"
      ]
    },
    {
      "cell_type": "code",
      "metadata": {
        "id": "nuXmrqq7CBog"
      },
      "source": [
        "class Environment:\n",
        "    def __init__(self, num_episodes, max_consecutive_completion, max_step, gamma, r, lr):\n",
        "        ## parameters\n",
        "        self.num_episodes = num_episodes\n",
        "        self.max_consecutive_completion = max_consecutive_completion\n",
        "        self.max_step = max_step\n",
        "        ## environment\n",
        "        self.env = Monitor(gym.make('CartPole-v0'), './videos/', force=True)\n",
        "        ## agent\n",
        "        num_states = self.env.observation_space.shape[0]    # position, velocity, angle, angular velocity\n",
        "        num_actions = self.env.action_space.n\n",
        "        self.agent = Agent(num_states, num_actions, gamma, r, lr)\n",
        "\n",
        "    def train(self):\n",
        "        consecutive_completion = 0\n",
        "        \n",
        "        for episode in range(self.num_episodes):\n",
        "            obs = self.env.reset()\n",
        "            episode_reward = 0\n",
        " \n",
        "            for step in range(self.max_step):\n",
        "                ## get action\n",
        "                action = self.agent.getAction(obs, is_training=True)\n",
        "                ## observe next step\n",
        "                next_obs, _, is_done, _ = self.env.step(action)\n",
        "                ## get reward\n",
        "                if is_done:\n",
        "                    if step < max_step - 1:\n",
        "                        reward = -1\n",
        "                        consecutive_completion = 0\n",
        "                    else:\n",
        "                        reward = 1\n",
        "                        consecutive_completion += 1\n",
        "                else:\n",
        "                    reward = 0\n",
        "                episode_reward += reward\n",
        "                ## update\n",
        "                self.agent.updateQnet(obs, action, reward, next_obs)\n",
        "                ## to next step\n",
        "                obs = next_obs\n",
        "\n",
        "                if is_done:\n",
        "                    print('{0} Episode: Finished after {1} time steps with reward {2}'.format(episode, step+1, episode_reward))\n",
        "                    break\n",
        "            if consecutive_completion > self.max_consecutive_completion:\n",
        "                print(\"It has completed {} consecutive episodes\".format(consecutive_completion))\n",
        "                break\n",
        "\n",
        "    def evaluate(self):\n",
        "        obs = self.env.reset()\n",
        "        \n",
        "        for step in range(self.max_step):\n",
        "            ## get action\n",
        "            action = self.agent.getAction(obs, is_training=False)\n",
        "            ## observe next step\n",
        "            next_obs, _, is_done, _ = self.env.step(action)\n",
        "            ## to next step\n",
        "            obs = next_obs\n",
        "\n",
        "            if is_done:\n",
        "                print('Evaluation: Finished after {} time steps'.format(step+1))\n",
        "                break"
      ],
      "execution_count": 37,
      "outputs": []
    },
    {
      "cell_type": "markdown",
      "metadata": {
        "id": "xDKojCejb2-A"
      },
      "source": [
        "Prepare showing videos of the restults"
      ]
    },
    {
      "cell_type": "code",
      "metadata": {
        "id": "kvmszieobbrX"
      },
      "source": [
        "def show_video(env):\n",
        "    env.reset()\n",
        "    for frame in env.videos:\n",
        "        print(\"frame = \", frame)\n",
        "        video = io.open(frame[0], 'r+b').read()\n",
        "        encoded = base64.b64encode(video)\n",
        "\n",
        "        display.display(display.HTML(data=\"\"\"\n",
        "            <video alt=\"test\" controls>\n",
        "            <source src=\"data:video/mp4;base64,{0}\" type=\"video/mp4\" />\n",
        "            </video>\n",
        "            \"\"\".format(encoded.decode('ascii')))\n",
        "        )"
      ],
      "execution_count": 38,
      "outputs": []
    },
    {
      "cell_type": "markdown",
      "metadata": {
        "id": "2C7zmRMnW1i8"
      },
      "source": [
        "Run training"
      ]
    },
    {
      "cell_type": "code",
      "metadata": {
        "id": "ZJqfOQ-tW0sA",
        "colab": {
          "base_uri": "https://localhost:8080/",
          "height": 1000
        },
        "outputId": "b809034d-bf2b-4c0f-a8fb-1fcee168f9ad"
      },
      "source": [
        "## display\n",
        "virtual_display = Display()\n",
        "virtual_display.start()\n",
        "\n",
        "## parameters\n",
        "num_episodes = 1000\n",
        "max_consecutive_completion = 10\n",
        "max_step = 200\n",
        "gamma = 0.9\n",
        "r = 0.99\n",
        "lr = 0.001\n",
        "\n",
        "## run\n",
        "cartpole_env = Environment(num_episodes, max_consecutive_completion, max_step, gamma, r, lr)\n",
        "cartpole_env.train()\n",
        "cartpole_env.evaluate()\n",
        "show_video(cartpole_env.env)"
      ],
      "execution_count": 41,
      "outputs": [
        {
          "output_type": "stream",
          "text": [
            "self.device =  cuda:0\n",
            "0 Episode: Finished after 9 time steps with reward -1\n",
            "1 Episode: Finished after 22 time steps with reward -1\n",
            "2 Episode: Finished after 16 time steps with reward -1\n",
            "3 Episode: Finished after 21 time steps with reward -1\n",
            "4 Episode: Finished after 18 time steps with reward -1\n",
            "5 Episode: Finished after 16 time steps with reward -1\n",
            "6 Episode: Finished after 30 time steps with reward -1\n",
            "7 Episode: Finished after 16 time steps with reward -1\n",
            "8 Episode: Finished after 66 time steps with reward -1\n",
            "9 Episode: Finished after 86 time steps with reward -1\n",
            "10 Episode: Finished after 10 time steps with reward -1\n",
            "11 Episode: Finished after 83 time steps with reward -1\n",
            "12 Episode: Finished after 54 time steps with reward -1\n",
            "13 Episode: Finished after 90 time steps with reward -1\n",
            "14 Episode: Finished after 25 time steps with reward -1\n",
            "15 Episode: Finished after 20 time steps with reward -1\n",
            "16 Episode: Finished after 90 time steps with reward -1\n",
            "17 Episode: Finished after 74 time steps with reward -1\n",
            "18 Episode: Finished after 39 time steps with reward -1\n",
            "19 Episode: Finished after 51 time steps with reward -1\n",
            "20 Episode: Finished after 53 time steps with reward -1\n",
            "21 Episode: Finished after 74 time steps with reward -1\n",
            "22 Episode: Finished after 104 time steps with reward -1\n",
            "23 Episode: Finished after 79 time steps with reward -1\n",
            "24 Episode: Finished after 84 time steps with reward -1\n",
            "25 Episode: Finished after 45 time steps with reward -1\n",
            "26 Episode: Finished after 82 time steps with reward -1\n",
            "27 Episode: Finished after 34 time steps with reward -1\n",
            "28 Episode: Finished after 99 time steps with reward -1\n",
            "29 Episode: Finished after 62 time steps with reward -1\n",
            "30 Episode: Finished after 52 time steps with reward -1\n",
            "31 Episode: Finished after 27 time steps with reward -1\n",
            "32 Episode: Finished after 105 time steps with reward -1\n",
            "33 Episode: Finished after 37 time steps with reward -1\n",
            "34 Episode: Finished after 24 time steps with reward -1\n",
            "35 Episode: Finished after 200 time steps with reward 1\n",
            "36 Episode: Finished after 200 time steps with reward 1\n",
            "37 Episode: Finished after 28 time steps with reward -1\n",
            "38 Episode: Finished after 97 time steps with reward -1\n",
            "39 Episode: Finished after 12 time steps with reward -1\n",
            "40 Episode: Finished after 18 time steps with reward -1\n",
            "41 Episode: Finished after 139 time steps with reward -1\n",
            "42 Episode: Finished after 109 time steps with reward -1\n",
            "43 Episode: Finished after 21 time steps with reward -1\n",
            "44 Episode: Finished after 68 time steps with reward -1\n",
            "45 Episode: Finished after 55 time steps with reward -1\n",
            "46 Episode: Finished after 79 time steps with reward -1\n",
            "47 Episode: Finished after 108 time steps with reward -1\n",
            "48 Episode: Finished after 50 time steps with reward -1\n",
            "49 Episode: Finished after 78 time steps with reward -1\n",
            "50 Episode: Finished after 56 time steps with reward -1\n",
            "51 Episode: Finished after 59 time steps with reward -1\n",
            "52 Episode: Finished after 50 time steps with reward -1\n",
            "53 Episode: Finished after 200 time steps with reward 1\n",
            "54 Episode: Finished after 102 time steps with reward -1\n",
            "55 Episode: Finished after 22 time steps with reward -1\n",
            "56 Episode: Finished after 128 time steps with reward -1\n",
            "57 Episode: Finished after 20 time steps with reward -1\n",
            "58 Episode: Finished after 19 time steps with reward -1\n",
            "59 Episode: Finished after 26 time steps with reward -1\n",
            "60 Episode: Finished after 140 time steps with reward -1\n",
            "61 Episode: Finished after 200 time steps with reward 1\n",
            "62 Episode: Finished after 200 time steps with reward 1\n",
            "63 Episode: Finished after 200 time steps with reward 1\n",
            "64 Episode: Finished after 185 time steps with reward -1\n",
            "65 Episode: Finished after 142 time steps with reward -1\n",
            "66 Episode: Finished after 164 time steps with reward -1\n",
            "67 Episode: Finished after 135 time steps with reward -1\n",
            "68 Episode: Finished after 200 time steps with reward 1\n",
            "69 Episode: Finished after 200 time steps with reward 1\n",
            "70 Episode: Finished after 200 time steps with reward 1\n",
            "71 Episode: Finished after 200 time steps with reward 1\n",
            "72 Episode: Finished after 200 time steps with reward 1\n",
            "73 Episode: Finished after 200 time steps with reward 1\n",
            "74 Episode: Finished after 200 time steps with reward 1\n",
            "75 Episode: Finished after 200 time steps with reward 1\n",
            "76 Episode: Finished after 11 time steps with reward -1\n",
            "77 Episode: Finished after 12 time steps with reward -1\n",
            "78 Episode: Finished after 200 time steps with reward 1\n",
            "79 Episode: Finished after 200 time steps with reward 1\n",
            "80 Episode: Finished after 65 time steps with reward -1\n",
            "81 Episode: Finished after 157 time steps with reward -1\n",
            "82 Episode: Finished after 133 time steps with reward -1\n",
            "83 Episode: Finished after 16 time steps with reward -1\n",
            "84 Episode: Finished after 20 time steps with reward -1\n",
            "85 Episode: Finished after 195 time steps with reward -1\n",
            "86 Episode: Finished after 200 time steps with reward 1\n",
            "87 Episode: Finished after 200 time steps with reward 1\n",
            "88 Episode: Finished after 200 time steps with reward 1\n",
            "89 Episode: Finished after 200 time steps with reward 1\n",
            "90 Episode: Finished after 200 time steps with reward 1\n",
            "91 Episode: Finished after 83 time steps with reward -1\n",
            "92 Episode: Finished after 62 time steps with reward -1\n",
            "93 Episode: Finished after 200 time steps with reward 1\n",
            "94 Episode: Finished after 15 time steps with reward -1\n",
            "95 Episode: Finished after 91 time steps with reward -1\n",
            "96 Episode: Finished after 94 time steps with reward -1\n",
            "97 Episode: Finished after 200 time steps with reward 1\n",
            "98 Episode: Finished after 200 time steps with reward 1\n",
            "99 Episode: Finished after 12 time steps with reward -1\n",
            "100 Episode: Finished after 12 time steps with reward -1\n",
            "101 Episode: Finished after 200 time steps with reward 1\n",
            "102 Episode: Finished after 200 time steps with reward 1\n",
            "103 Episode: Finished after 200 time steps with reward 1\n",
            "104 Episode: Finished after 200 time steps with reward 1\n",
            "105 Episode: Finished after 200 time steps with reward 1\n",
            "106 Episode: Finished after 200 time steps with reward 1\n",
            "107 Episode: Finished after 200 time steps with reward 1\n",
            "108 Episode: Finished after 15 time steps with reward -1\n",
            "109 Episode: Finished after 10 time steps with reward -1\n",
            "110 Episode: Finished after 192 time steps with reward -1\n",
            "111 Episode: Finished after 8 time steps with reward -1\n",
            "112 Episode: Finished after 14 time steps with reward -1\n",
            "113 Episode: Finished after 200 time steps with reward 1\n",
            "114 Episode: Finished after 200 time steps with reward 1\n",
            "115 Episode: Finished after 200 time steps with reward 1\n",
            "116 Episode: Finished after 200 time steps with reward 1\n",
            "117 Episode: Finished after 200 time steps with reward 1\n",
            "118 Episode: Finished after 200 time steps with reward 1\n",
            "119 Episode: Finished after 200 time steps with reward 1\n",
            "120 Episode: Finished after 200 time steps with reward 1\n",
            "121 Episode: Finished after 200 time steps with reward 1\n",
            "122 Episode: Finished after 200 time steps with reward 1\n",
            "123 Episode: Finished after 200 time steps with reward 1\n",
            "It has completed 11 consecutive episodes\n",
            "Evaluation: Finished after 200 time steps\n",
            "frame =  ('/content/videos/openaigym.video.6.8926.video000000.mp4', '/content/videos/openaigym.video.6.8926.video000000.meta.json')\n"
          ],
          "name": "stdout"
        },
        {
          "output_type": "display_data",
          "data": {
            "text/html": [
              "\n",
              "            <video alt=\"test\" controls>\n",
              "            <source src=\"data:video/mp4;base64,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\" type=\"video/mp4\" />\n",
              "            </video>\n",
              "            "
            ],
            "text/plain": [
              "<IPython.core.display.HTML object>"
            ]
          },
          "metadata": {
            "tags": []
          }
        },
        {
          "output_type": "stream",
          "text": [
            "frame =  ('/content/videos/openaigym.video.6.8926.video000001.mp4', '/content/videos/openaigym.video.6.8926.video000001.meta.json')\n"
          ],
          "name": "stdout"
        },
        {
          "output_type": "display_data",
          "data": {
            "text/html": [
              "\n",
              "            <video alt=\"test\" controls>\n",
              "            <source src=\"data:video/mp4;base64,AAAAIGZ0eXBpc29tAAACAGlzb21pc28yYXZjMW1wNDEAAAAIZnJlZQAADAFtZGF0AAACrgYF//+q3EXpvebZSLeWLNgg2SPu73gyNjQgLSBjb3JlIDE1MiByMjg1NCBlOWE1OTAzIC0gSC4yNjQvTVBFRy00IEFWQyBjb2RlYyAtIENvcHlsZWZ0IDIwMDMtMjAxNyAtIGh0dHA6Ly93d3cudmlkZW9sYW4ub3JnL3gyNjQuaHRtbCAtIG9wdGlvbnM6IGNhYmFjPTEgcmVmPTMgZGVibG9jaz0xOjA6MCBhbmFseXNlPTB4MzoweDExMyBtZT1oZXggc3VibWU9NyBwc3k9MSBwc3lfcmQ9MS4wMDowLjAwIG1peGVkX3JlZj0xIG1lX3JhbmdlPTE2IGNocm9tYV9tZT0xIHRyZWxsaXM9MSA4eDhkY3Q9MSBjcW09MCBkZWFkem9uZT0yMSwxMSBmYXN0X3Bza2lwPTEgY2hyb21hX3FwX29mZnNldD0tMiB0aHJlYWRzPTMgbG9va2FoZWFkX3RocmVhZHM9MSBzbGljZWRfdGhyZWFkcz0wIG5yPTAgZGVjaW1hdGU9MSBpbnRlcmxhY2VkPTAgYmx1cmF5X2NvbXBhdD0wIGNvbnN0cmFpbmVkX2ludHJhPTAgYmZyYW1lcz0zIGJfcHlyYW1pZD0yIGJfYWRhcHQ9MSBiX2JpYXM9MCBkaXJlY3Q9MSB3ZWlnaHRiPTEgb3Blbl9nb3A9MCB3ZWlnaHRwPTIga2V5aW50PTI1MCBrZXlpbnRfbWluPTI1IHNjZW5lY3V0PTQwIGludHJhX3JlZnJlc2g9MCByY19sb29rYWhlYWQ9NDAgcmM9Y3JmIG1idHJlZT0xIGNyZj0yMy4wIHFjb21wPTAuNjAgcXBtaW49MCBxcG1heD02OSBxcHN0ZXA9NCBpcF9yYXRpbz0xLjQwIGFxPTE6MS4wMACAAAACAGWIhAAz//727L4FNf2f0JcRLMXaSnA+KqSAgHc0wAAAAwAAAwAAFgn0I7DkqgN3QAAAHGAFBCwCPCVC2EhH2Of5/yiuTsgDkHzknDHQcPziVRTFpW4K1PC+tPM14dhqNz6nvDUUBun+5NBL03ghv1n1SOAdNgIVEAHYxMeat/UjAV2BGzzPucA8Gm58zh9He3CHq0p+4/Ti0WElcwnEA4mrEXtr10+lBpEODZlLyyjyb/MjOA0mrYE3lIIyClVvuVKGFhjOAnstV4yfSbp4v/GMqFDTI7doXO5U7F6WCmgFGUxmfTIRjn7uWMEw5QTRALzYROmiivprLXQD3sScrci1ZJeJ0rDQWwye0mBFOhI8Lv1p/12yOOlZKEE3CuFMYKzrzCJVbV4g81kZi+Www708nPXz1rVBquOAhqAy7nyZwcp6rUJ/3ev/qQLl12COKjSl5aO3tM/ur6GlQ7E2J+fHKRn3CN+Lhd7hDiPI3h8yBRu1jbiUyFklJOk7lr2Iq3qu+EffIMWH+02PkS09LVD+8fOP+sQ702ujBm/KshRK1pE4R6PP4DkBAlANMVfE97VnFph/K/SVygIL0h8TnijyfpUAOivHLPD/PUK2HY4kPJdYH1n1VMXmZsm519R6Ppj4iQnP+mqElkQmqXYcO++wEreolQCkQAAAAwAAAwGrAAAAiEGaJGxC//6MsAAAGq9dE9gM7q0FOqK4APZRrJXByCOjvMHCLdFyxTfAetUkxXy7vXHkh1abhgMRmt1SxP9d+1pvJl1cp7jw92+KvDvaAz/NPfpWtylb+2XRfMdbLUi537V3LKFxlPiBqh3ZsO860NwMClyhnZC7QAAATTxq5JEaRB4nbQ3Sk+YAAAA9QZ5CeIR/AAAIbApNvL3Ds+xBQXI5CUYAAIyC6PdToW6VYG8CRDDDKgsDN7tTUUeWQAAAAwHa9jBVWsMC4wAAAC4BnmF0R/8AAA1+E4hemJyg+ZlLEMTYCyfRe1HJhueyXwAAAwAAAwHnzP4uEBnwAAAAKgGeY2pH/wAABR5axHAIgn+Qpwjj7I9vZAC+KTXVILnUAAADAGgp7PCCywAAAHFBmmhJqEFomUwIX//+jLAAAAoXuYZQYy75S1QtABO3jRArI8x54j9WUwHktmbZWR82Z1jNFDBJc+pbr/0Pxzp+vqQldmr7uRTKcgqyl25u17EezyOV82hEo+DYBKay5bu9gd7np4/Ok9sXXBXrJBi/wwAAAERBnoZFESwj/wAAAwM5YM+lNJx6DLTuBEpCDXOIwVrQYYZrwXuu73Yw0xcDY1ve9VzmmGb31pbcguBI7tc0nYNwQewo4QAAACMBnqV0R/8AAAUYbkjmorobDU4WNYoxdmrytehywGbqb4mZeQAAACIBnqdqR/8AAAUfp9YjX6T/xcLL+EnP4nEGPvQRw90/LBdwAAAAjkGarEmoQWyZTAhf//6MsAAARCQHEkDnABxZ/v9JNBXX/08w6sGTwxoBEveM28v62+jiFkkNrFjB+baV018oiE3NR4DWEL22OGPBCZRUk2Wpy/FFwkdf3CnN8AETWHpbZWK6yW3A+qp5nFSvjj7K6MfFMmaY0IWxEK5lrZ9lgk5QXUpj36OleSjwM5G6GCkAAAA4QZ7KRRUsI/8AABYlWwKWSVvsTavZV7mkfC8zZdb4lci5ECrCqpIlwnAhNA9U+uZgWSG4K2SltHEAAAAyAZ7pdEf/AAAjwxd1/FqocfWR3avBbWfXvQAbDZk6Iz/Xbn1vihrEdX0wlYc4xjbJqYAAAAAcAZ7rakf/AAAjx8cVDfQ3KWw0LXfAUEL73bZcQAAAADdBmu5JqEFsmUwUTC///oywAABEFMpXHwq6TqJ+vpXQrdGPmS0zGS5sR18RA9zzLuJO3Q67LC3BAAAAHwGfDWpH/wAAIr8b2rt/t/ALaAI0lShNbDlytpLl7UEAAACJQZsRSeEKUmUwIV/+OEAAAQTw/BEANvyAvhb6vYiYaVhnweImAeenQk31vgKPNpCKHVXu/FDFrfc+aD6ROQylwwjJuurHPD/DB3NveXtmQLrD3vz7JEiIBooTwVepiMoItXSnxILPBhSsVsBvLzHsl3BZkAAaepTrkAIrqCxbrX/7kZLWqsYcGoEAAAA1QZ8vRTRMI/8AABa1N6p1FYB+b0/yBJSBrkRG0CjRxwZHcFTrmAwiA/IzX/cTGc5mSRb0U0AAAAAvAZ9Qakf/AAAivZYNCObfBkxqeRDTp2TJNlnN6JnHXXt6KSxulnt/s6XBSRFMN/wAAACfQZtTSahBaJlMFPCv/jhAAAEFN2GoCwATqPY3gZtIGVsSyPTLdGaBPMitjd1y5rqRfapO5B3Pzd56HreILIik3ls5aYU3BQZt3/F6sFgFw2tgoFNnlkosJu1s+EosidUc0wKy5ikYX8zT3Z1WzU8ykaeTpxeY/wE9kclSUD5JhtETnd7lzXInDLI7JwyhoL4rAopxej7DsB0/KIFJzRD5AAAAQQGfcmpH/wAAIkOxeTuzINGvdzkNRLgFtIzMejAtFIfcVm3rqkK9NomnakaJOTCMH8RvTBSRfcHoOt4o68qxeUeEAAAAtEGbdknhClJlMCP//IQAAA+WnIEG3cAX4NQSXtY/n8A+LUvsSzBd3i7y6ddn+81ZMW9mwDxoCDY6dYqZ5oNURnuGgzGodt0D4pwmD5hIchLAYlzLOLIfL/yzDmkdf6np+m3vhYLCeDczu0NQEetnFKiL+ZX7C2ZS2IzpHcoD7eqV186PsL8F9JTqPZRxf93jO6SEWT0YJpQswbNn8rKJdffHwlRGHlp4uJc2aTFgR3qaF1+lgAAAAHJBn5RFNEwj/wAAFhpR/miQnqyQBQBghBZ2rvLLs+Y+rHiArxHrAK/aqYGwvHnvqO4DdX1uk5m4te7cfUMo8U5M2G0J0szZU1ThWGXsCou3gVXXDu5p6ZN13pYUI4krXnizGc571E6z0GYJwR6SSSHnEnEAAAB3AZ+1akf/AAAivTdRmIAV/Quoo9Gh0uKpvvNa5ZKuPrSJG8xeuDRi0OhN7YwRx8QO2B31ZV+5WUcaJM55DXO2vP1aSTrTCuaMVoRLzFlvkcM8IsfWEBDchiI8Cnd4vmaPwPUg4tRDQnzGcmWvUGyNwvtx/WR6JUkAAAQXbW9vdgAAAGxtdmhkAAAAAAAAAAAAAAAAAAAD6AAAAcwAAQAAAQAAAAAAAAAAAAAAAAEAAAAAAAAAAAAAAAAAAAABAAAAAAAAAAAAAAAAAABAAAAAAAAAAAAAAAAAAAAAAAAAAAAAAAAAAAAAAAAAAgAAA0F0cmFrAAAAXHRraGQAAAADAAAAAAAAAAAAAAABAAAAAAAAAcwAAAAAAAAAAAAAAAAAAAAAAAEAAAAAAAAAAAAAAAAAAAABAAAAAAAAAAAAAAAAAABAAAAAAlgAAAGQAAAAAAAkZWR0cwAAABxlbHN0AAAAAAAAAAEAAAHMAAACAAABAAAAAAK5bWRpYQAAACBtZGhkAAAAAAAAAAAAAAAAAAAyAAAAFwBVxAAAAAAALWhkbHIAAAAAAAAAAHZpZGUAAAAAAAAAAAAAAABWaWRlb0hhbmRsZXIAAAACZG1pbmYAAAAUdm1oZAAAAAEAAAAAAAAAAAAAACRkaW5mAAAAHGRyZWYAAAAAAAAAAQAAAAx1cmwgAAAAAQAAAiRzdGJsAAAAmHN0c2QAAAAAAAAAAQAAAIhhdmMxAAAAAAAAAAEAAAAAAAAAAAAAAAAAAAAAAlgBkABIAAAASAAAAAAAAAABAAAAAAAAAAAAAAAAAAAAAAAAAAAAAAAAAAAAAAAAAAAAGP//AAAAMmF2Y0MBZAAf/+EAGWdkAB+s2UCYM+XhAAADAAEAAAMAZA8YMZYBAAZo6+PLIsAAAAAYc3R0cwAAAAAAAAABAAAAFwAAAQAAAAAUc3RzcwAAAAAAAAABAAAAAQAAALhjdHRzAAAAAAAAABUAAAABAAACAAAAAAEAAAUAAAAAAQAAAgAAAAABAAAAAAAAAAEAAAEAAAAAAQAABQAAAAABAAACAAAAAAEAAAAAAAAAAQAAAQAAAAABAAAFAAAAAAEAAAIAAAAAAQAAAAAAAAABAAABAAAAAAEAAAMAAAAAAQAAAQAAAAABAAAEAAAAAAIAAAEAAAAAAQAAAwAAAAABAAABAAAAAAEAAAQAAAAAAgAAAQAAAAAcc3RzYwAAAAAAAAABAAAAAQAAABcAAAABAAAAcHN0c3oAAAAAAAAAAAAAABcAAAS2AAAAjAAAAEEAAAAyAAAALgAAAHUAAABIAAAAJwAAACYAAACSAAAAPAAAADYAAAAgAAAAOwAAACMAAACNAAAAOQAAADMAAACjAAAARQAAALgAAAB2AAAAewAAABRzdGNvAAAAAAAAAAEAAAAwAAAAYnVkdGEAAABabWV0YQAAAAAAAAAhaGRscgAAAAAAAAAAbWRpcmFwcGwAAAAAAAAAAAAAAAAtaWxzdAAAACWpdG9vAAAAHWRhdGEAAAABAAAAAExhdmY1Ny44My4xMDA=\" type=\"video/mp4\" />\n",
              "            </video>\n",
              "            "
            ],
            "text/plain": [
              "<IPython.core.display.HTML object>"
            ]
          },
          "metadata": {
            "tags": []
          }
        },
        {
          "output_type": "stream",
          "text": [
            "frame =  ('/content/videos/openaigym.video.6.8926.video000008.mp4', '/content/videos/openaigym.video.6.8926.video000008.meta.json')\n"
          ],
          "name": "stdout"
        },
        {
          "output_type": "display_data",
          "data": {
            "text/html": [
              "\n",
              "            <video alt=\"test\" controls>\n",
              "            <source src=\"data:video/mp4;base64,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\" type=\"video/mp4\" />\n",
              "            </video>\n",
              "            "
            ],
            "text/plain": [
              "<IPython.core.display.HTML object>"
            ]
          },
          "metadata": {
            "tags": []
          }
        },
        {
          "output_type": "stream",
          "text": [
            "frame =  ('/content/videos/openaigym.video.6.8926.video000027.mp4', '/content/videos/openaigym.video.6.8926.video000027.meta.json')\n"
          ],
          "name": "stdout"
        },
        {
          "output_type": "display_data",
          "data": {
            "text/html": [
              "\n",
              "            <video alt=\"test\" controls>\n",
              "            <source src=\"data:video/mp4;base64,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\" type=\"video/mp4\" />\n",
              "            </video>\n",
              "            "
            ],
            "text/plain": [
              "<IPython.core.display.HTML object>"
            ]
          },
          "metadata": {
            "tags": []
          }
        },
        {
          "output_type": "stream",
          "text": [
            "frame =  ('/content/videos/openaigym.video.6.8926.video000064.mp4', '/content/videos/openaigym.video.6.8926.video000064.meta.json')\n"
          ],
          "name": "stdout"
        },
        {
          "output_type": "display_data",
          "data": {
            "text/html": [
              "\n",
              "            <video alt=\"test\" controls>\n",
              "            <source src=\"data:video/mp4;base64,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\" type=\"video/mp4\" />\n",
              "            </video>\n",
              "            "
            ],
            "text/plain": [
              "<IPython.core.display.HTML object>"
            ]
          },
          "metadata": {
            "tags": []
          }
        }
      ]
    },
    {
      "cell_type": "markdown",
      "metadata": {
        "id": "O0A4UrQcDe2z"
      },
      "source": [
        "## Note\n",
        "- The reward setting below did not work well.\n",
        "```\n",
        "if is_done:\n",
        "    if step < max_step - 1:\n",
        "        reward = -100\n",
        "    else:\n",
        "        reward = 1\n",
        "else:\n",
        "    reward = 1\n",
        "```\n",
        "\n"
      ]
    },
    {
      "cell_type": "markdown",
      "metadata": {
        "id": "OreaPHjM4BJm"
      },
      "source": [
        "## References\n",
        "- [minnano_rl/section_4/02_deep_reinforcement_learning.ipynb](https://github.com/yukinaga/minnano_rl/blob/main/section_4/02_deep_reinforcement_learning.ipynb)\n",
        "- [第15回　CartPole課題で深層強化学習DQNを実装](https://book.mynavi.jp/manatee/detail/id=89831)"
      ]
    },
    {
      "cell_type": "markdown",
      "metadata": {
        "id": "Qvj_G-NFhkCX"
      },
      "source": [
        "## Appendix"
      ]
    },
    {
      "cell_type": "code",
      "metadata": {
        "colab": {
          "base_uri": "https://localhost:8080/"
        },
        "id": "oFM6L1NEhmIa",
        "outputId": "4e4c1835-6807-4cd7-82ab-d48256c1430d"
      },
      "source": [
        "l = [\n",
        "    [\"a1\", \"a2\", \"a3\"],\n",
        "    [\"b1\", \"b2\", \"b3\"],\n",
        "    [\"c1\", \"c2\", \"c3\"],\n",
        "    [\"d1\", \"d2\", \"d3\"]\n",
        "]\n",
        "print(\"l = \", l)\n",
        "print(\"*l = \", *l)\n",
        "print(\"zip(*l) = \", zip(*l))\n",
        "print(\"*zip(*l) = \", *zip(*l))"
      ],
      "execution_count": null,
      "outputs": [
        {
          "output_type": "stream",
          "text": [
            "l =  [['a1', 'a2', 'a3'], ['b1', 'b2', 'b3'], ['c1', 'c2', 'c3'], ['d1', 'd2', 'd3']]\n",
            "*l =  ['a1', 'a2', 'a3'] ['b1', 'b2', 'b3'] ['c1', 'c2', 'c3'] ['d1', 'd2', 'd3']\n",
            "zip(*l) =  <zip object at 0x7f2436bd3870>\n",
            "*zip(*l) =  ('a1', 'b1', 'c1', 'd1') ('a2', 'b2', 'c2', 'd2') ('a3', 'b3', 'c3', 'd3')\n"
          ],
          "name": "stdout"
        }
      ]
    },
    {
      "cell_type": "code",
      "metadata": {
        "colab": {
          "base_uri": "https://localhost:8080/"
        },
        "id": "Ae5P0Fj1yUJP",
        "outputId": "323c108d-eaa5-47e7-85d8-0525d3d397ce"
      },
      "source": [
        "import torch\n",
        "\n",
        "input = torch.tensor([[1, 2, 3],[4, 5, 6],[7, 8, 9]])\n",
        "indices = torch.tensor([[0, 0, 0],[0, 1, 2],[2, 0, 1]])\n",
        "\n",
        "print(\"input = \\n\", input)\n",
        "print(\"indices = \\n\", indices)\n",
        "\n",
        "## Switch values of the tensor according to indices of row (dim=0)\n",
        "print(\"torch.gather(input=input, dim=0, index=indices) = \\n\", torch.gather(input=input, dim=0, index=indices))\n",
        "'''\n",
        "    input[0][0], input[0][1], input[0][2]\n",
        "    input[0][0], input[1][1], input[2][2]\n",
        "    input[2][0], input[0][1], input[1][2]\n",
        "'''\n",
        "\n",
        "## Switch values of the tensor according to indices of col (dim=1)\n",
        "print(\"torch.gather(input=input, dim=1, index=indices) = \\n\", torch.gather(input=input, dim=1, index=indices))\n",
        "'''\n",
        "    input[0][0], input[0][0], input[0][0]\n",
        "    input[1][0], input[1][1], input[2][2]\n",
        "    input[2][2], input[2][0], input[2][1]\n",
        "'''"
      ],
      "execution_count": null,
      "outputs": [
        {
          "output_type": "stream",
          "text": [
            "input = \n",
            " tensor([[1, 2, 3],\n",
            "        [4, 5, 6],\n",
            "        [7, 8, 9]])\n",
            "indices = \n",
            " tensor([[0, 0, 0],\n",
            "        [0, 1, 2],\n",
            "        [2, 0, 1]])\n",
            "torch.gather(input=input, dim=0, index=indices) = \n",
            " tensor([[1, 2, 3],\n",
            "        [1, 5, 9],\n",
            "        [7, 2, 6]])\n",
            "torch.gather(input=input, dim=1, index=indices) = \n",
            " tensor([[1, 1, 1],\n",
            "        [4, 5, 6],\n",
            "        [9, 7, 8]])\n"
          ],
          "name": "stdout"
        }
      ]
    }
  ]
}