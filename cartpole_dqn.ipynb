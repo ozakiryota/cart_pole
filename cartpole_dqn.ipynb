{
  "nbformat": 4,
  "nbformat_minor": 0,
  "metadata": {
    "colab": {
      "name": "cartpole_dqn.ipynb",
      "provenance": [],
      "collapsed_sections": [],
      "authorship_tag": "ABX9TyNPurRv/gWFIigG1LOxiuTF",
      "include_colab_link": true
    },
    "kernelspec": {
      "display_name": "Python 3",
      "name": "python3"
    },
    "language_info": {
      "name": "python"
    },
    "accelerator": "GPU"
  },
  "cells": [
    {
      "cell_type": "markdown",
      "metadata": {
        "id": "view-in-github",
        "colab_type": "text"
      },
      "source": [
        "<a href=\"https://colab.research.google.com/github/ozakiryota/cart_pole/blob/main/cartpole_dqn.ipynb\" target=\"_parent\"><img src=\"https://colab.research.google.com/assets/colab-badge.svg\" alt=\"Open In Colab\"/></a>"
      ]
    },
    {
      "cell_type": "markdown",
      "metadata": {
        "id": "DzGR6DXx5hxW"
      },
      "source": [
        "# Cart-Pole\n"
      ]
    },
    {
      "cell_type": "markdown",
      "metadata": {
        "id": "NztiGF0Ld3ET"
      },
      "source": [
        "Install OpenAI Gym (https://gym.openai.com)"
      ]
    },
    {
      "cell_type": "code",
      "metadata": {
        "colab": {
          "base_uri": "https://localhost:8080/"
        },
        "id": "mTnd9XdOQ0JA",
        "outputId": "4bffd6b8-4e25-431a-c879-28cca856d8db"
      },
      "source": [
        "!pip install gym"
      ],
      "execution_count": null,
      "outputs": [
        {
          "output_type": "stream",
          "text": [
            "Requirement already satisfied: gym in /usr/local/lib/python3.7/dist-packages (0.17.3)\n",
            "Requirement already satisfied: cloudpickle<1.7.0,>=1.2.0 in /usr/local/lib/python3.7/dist-packages (from gym) (1.3.0)\n",
            "Requirement already satisfied: pyglet<=1.5.0,>=1.4.0 in /usr/local/lib/python3.7/dist-packages (from gym) (1.5.0)\n",
            "Requirement already satisfied: scipy in /usr/local/lib/python3.7/dist-packages (from gym) (1.4.1)\n",
            "Requirement already satisfied: numpy>=1.10.4 in /usr/local/lib/python3.7/dist-packages (from gym) (1.19.5)\n",
            "Requirement already satisfied: future in /usr/local/lib/python3.7/dist-packages (from pyglet<=1.5.0,>=1.4.0->gym) (0.16.0)\n"
          ],
          "name": "stdout"
        }
      ]
    },
    {
      "cell_type": "markdown",
      "metadata": {
        "id": "WatqsT0I5lxF"
      },
      "source": [
        "Install the packages for visualizing Gym"
      ]
    },
    {
      "cell_type": "code",
      "metadata": {
        "colab": {
          "base_uri": "https://localhost:8080/"
        },
        "id": "uo7Lrbp5Sqod",
        "outputId": "1e0e77ba-97ee-4b12-8949-734f1af31677"
      },
      "source": [
        "!apt update\n",
        "!apt install xvfb\n",
        "!pip install pyvirtualdisplay"
      ],
      "execution_count": null,
      "outputs": [
        {
          "output_type": "stream",
          "text": [
            "\u001b[33m\r0% [Working]\u001b[0m\r            \rHit:1 https://cloud.r-project.org/bin/linux/ubuntu bionic-cran40/ InRelease\n",
            "\u001b[33m\r0% [Connecting to archive.ubuntu.com (91.189.88.142)] [Connecting to security.u\u001b[0m\u001b[33m\r0% [1 InRelease gpgv 3,626 B] [Connecting to archive.ubuntu.com (91.189.88.142)\u001b[0m\r                                                                               \rIgn:2 https://developer.download.nvidia.com/compute/cuda/repos/ubuntu1804/x86_64  InRelease\n",
            "\u001b[33m\r0% [1 InRelease gpgv 3,626 B] [Connecting to archive.ubuntu.com (91.189.88.142)\u001b[0m\r                                                                               \rIgn:3 https://developer.download.nvidia.com/compute/machine-learning/repos/ubuntu1804/x86_64  InRelease\n",
            "\u001b[33m\r0% [1 InRelease gpgv 3,626 B] [Connecting to archive.ubuntu.com (91.189.88.142)\u001b[0m\r                                                                               \rHit:4 https://developer.download.nvidia.com/compute/cuda/repos/ubuntu1804/x86_64  Release\n",
            "Hit:5 https://developer.download.nvidia.com/compute/machine-learning/repos/ubuntu1804/x86_64  Release\n",
            "Hit:6 http://ppa.launchpad.net/c2d4u.team/c2d4u4.0+/ubuntu bionic InRelease\n",
            "Hit:7 http://archive.ubuntu.com/ubuntu bionic InRelease\n",
            "Get:8 http://security.ubuntu.com/ubuntu bionic-security InRelease [88.7 kB]\n",
            "Hit:10 http://archive.ubuntu.com/ubuntu bionic-updates InRelease\n",
            "Hit:12 http://ppa.launchpad.net/cran/libgit2/ubuntu bionic InRelease\n",
            "Get:13 http://archive.ubuntu.com/ubuntu bionic-backports InRelease [74.6 kB]\n",
            "Hit:14 http://ppa.launchpad.net/deadsnakes/ppa/ubuntu bionic InRelease\n",
            "Hit:15 http://ppa.launchpad.net/graphics-drivers/ppa/ubuntu bionic InRelease\n",
            "Fetched 163 kB in 2s (97.0 kB/s)\n",
            "Reading package lists... Done\n",
            "Building dependency tree       \n",
            "Reading state information... Done\n",
            "36 packages can be upgraded. Run 'apt list --upgradable' to see them.\n",
            "Reading package lists... Done\n",
            "Building dependency tree       \n",
            "Reading state information... Done\n",
            "xvfb is already the newest version (2:1.19.6-1ubuntu4.9).\n",
            "The following package was automatically installed and is no longer required:\n",
            "  libnvidia-common-460\n",
            "Use 'apt autoremove' to remove it.\n",
            "0 upgraded, 0 newly installed, 0 to remove and 36 not upgraded.\n",
            "Requirement already satisfied: pyvirtualdisplay in /usr/local/lib/python3.7/dist-packages (2.1)\n",
            "Requirement already satisfied: EasyProcess in /usr/local/lib/python3.7/dist-packages (from pyvirtualdisplay) (0.3)\n"
          ],
          "name": "stdout"
        }
      ]
    },
    {
      "cell_type": "markdown",
      "metadata": {
        "id": "cF70T7rbdLXM"
      },
      "source": [
        "## DQN"
      ]
    },
    {
      "cell_type": "markdown",
      "metadata": {
        "id": "D9MoZlOvenEx"
      },
      "source": [
        "Import Gym"
      ]
    },
    {
      "cell_type": "code",
      "metadata": {
        "id": "rDrypO0FZ9IG"
      },
      "source": [
        "import gym"
      ],
      "execution_count": null,
      "outputs": []
    },
    {
      "cell_type": "markdown",
      "metadata": {
        "id": "t6r-cLs8ej61"
      },
      "source": [
        "Import the packages for visualizing Gym"
      ]
    },
    {
      "cell_type": "code",
      "metadata": {
        "id": "l8zm1ycgaE8K"
      },
      "source": [
        "import base64\n",
        "import io\n",
        "from gym.wrappers import Monitor\n",
        "from IPython import display\n",
        "from pyvirtualdisplay import Display"
      ],
      "execution_count": null,
      "outputs": []
    },
    {
      "cell_type": "markdown",
      "metadata": {
        "id": "KgvZ1f4MccCJ"
      },
      "source": [
        "Import required packages"
      ]
    },
    {
      "cell_type": "code",
      "metadata": {
        "id": "0a3R-TE_gaS1"
      },
      "source": [
        "import numpy as np\n",
        "\n",
        "import torch\n",
        "from torch import nn\n",
        "import torch.optim as optim"
      ],
      "execution_count": null,
      "outputs": []
    },
    {
      "cell_type": "markdown",
      "metadata": {
        "id": "rSkAwHBHGqxK"
      },
      "source": [
        "Net class"
      ]
    },
    {
      "cell_type": "code",
      "metadata": {
        "id": "r5x31HxMGqTk"
      },
      "source": [
        "class Net(nn.Module):\n",
        "    def __init__(self, num_states, dim_mid, num_actions):\n",
        "        super().__init__()\n",
        "\n",
        "        self.fc = nn.Sequential(\n",
        "            nn.Linear(num_states, dim_mid),\n",
        "            nn.ReLU(),\n",
        "            nn.Linear(dim_mid, dim_mid),\n",
        "            nn.ReLU(),\n",
        "            nn.Linear(dim_mid, num_actions)\n",
        "        )\n",
        "\n",
        "    def forward(self, x):\n",
        "        x = self.fc(x)\n",
        "        return x"
      ],
      "execution_count": null,
      "outputs": []
    },
    {
      "cell_type": "markdown",
      "metadata": {
        "id": "Htu4VPF8cflL"
      },
      "source": [
        "Brain class"
      ]
    },
    {
      "cell_type": "code",
      "metadata": {
        "id": "PMFWoAE1RIRe"
      },
      "source": [
        "class Brain:\n",
        "    def __init__(self, num_states, num_actions, gamma, r, lr):\n",
        "        self.num_states = num_states\n",
        "        self.num_actions = num_actions\n",
        "\n",
        "        self.device = torch.device(\"cuda:0\" if torch.cuda.is_available() else \"cpu\")\n",
        "        print(\"self.device = \", self.device)\n",
        "        self.net = Net(num_states, 64, num_actions)\n",
        "        self.net.to(self.device)\n",
        "        self.criterion = nn.MSELoss()\n",
        "        #self.optimizer = optim.RMSprop(self.net.parameters(), lr=lr)\n",
        "        self.optimizer = optim.Adam(self.net.parameters(), lr=lr)\n",
        "\n",
        "        self.eps = 1.0  # for epsilon greedy algorithm\n",
        "        self.gamma = gamma\n",
        "        self.r = r\n",
        " \n",
        "    def updateQnet(self, obs_numpy, action, reward, next_obs_numpy):\n",
        "        obs_tensor = torch.from_numpy(obs_numpy).float()\n",
        "        obs_tensor.unsqueeze_(0)\n",
        "        obs_tensor = obs_tensor.to(self.device)\n",
        "\n",
        "        next_obs_tensor = torch.from_numpy(next_obs_numpy).float()\n",
        "        next_obs_tensor.unsqueeze_(0)\n",
        "        next_obs_tensor = next_obs_tensor.to(self.device)\n",
        "\n",
        "        self.optimizer.zero_grad()\n",
        "\n",
        "        self.net.train()\n",
        "        q = self.net(obs_tensor)\n",
        "\n",
        "        with torch.no_grad():\n",
        "            self.net.eval()\n",
        "            labels = self.net(obs_tensor)\n",
        "            next_q = self.net(next_obs_tensor)\n",
        "\n",
        "            labels[:, action] = reward + self.gamma*np.max(next_q.cpu().detach().numpy(), axis=1)[0]\n",
        "        \n",
        "        loss = self.criterion(q, labels)\n",
        "        loss.backward()\n",
        "        self.optimizer.step()\n",
        "\n",
        "    def getAction(self, obs_numpy, is_training):\n",
        "        if is_training and np.random.rand() < self.eps:\n",
        "            action = np.random.randint(self.num_actions)\n",
        "        else:\n",
        "            obs_tensor = torch.from_numpy(obs_numpy).float()\n",
        "            obs_tensor.unsqueeze_(0)\n",
        "            obs_tensor = obs_tensor.to(self.device)\n",
        "            with torch.no_grad():\n",
        "                self.net.eval()\n",
        "                q = self.net(obs_tensor)\n",
        "                action = np.argmax(q.cpu().detach().numpy(), axis=1)[0]\n",
        "        ## update eps\n",
        "        if is_training and self.eps > 0.1:\n",
        "            self.eps *= self.r\n",
        "        return action"
      ],
      "execution_count": null,
      "outputs": []
    },
    {
      "cell_type": "markdown",
      "metadata": {
        "id": "sSn2nGYqzoqh"
      },
      "source": [
        "Agent class"
      ]
    },
    {
      "cell_type": "code",
      "metadata": {
        "id": "GnTqsw2uzsXP"
      },
      "source": [
        "class Agent:\n",
        "    def __init__(self, num_states, num_actions, gamma, r, lr):\n",
        "        self.brain = Brain(num_states, num_actions, gamma, r, lr)\n",
        " \n",
        "    def updateQnet(self, obs, action, reward, next_obs):\n",
        "        self.brain.updateQnet(obs, action, reward, next_obs)\n",
        " \n",
        "    def getAction(self, obs, is_training):\n",
        "        action = self.brain.getAction(obs, is_training)\n",
        "        return action"
      ],
      "execution_count": null,
      "outputs": []
    },
    {
      "cell_type": "markdown",
      "metadata": {
        "id": "QzJjzN5VB-pQ"
      },
      "source": [
        "Environment class"
      ]
    },
    {
      "cell_type": "code",
      "metadata": {
        "id": "nuXmrqq7CBog"
      },
      "source": [
        "class Environment:\n",
        "    def __init__(self, num_episodes, max_consecutive_completion, max_step, gamma, r, lr):\n",
        "        ## parameters\n",
        "        self.num_episodes = num_episodes\n",
        "        self.max_consecutive_completion = max_consecutive_completion\n",
        "        self.max_step = max_step\n",
        "        ## environment\n",
        "        self.env = Monitor(gym.make('CartPole-v0'), './videos/', video_callable=(lambda ep: ep % 100 == 0), force=True)\n",
        "        ## agent\n",
        "        num_states = self.env.observation_space.shape[0]    # position, velocity, angle, angular velocity\n",
        "        num_actions = self.env.action_space.n\n",
        "        self.agent = Agent(num_states, num_actions, gamma, r, lr)\n",
        "\n",
        "    def train(self):\n",
        "        consecutive_completion = 0\n",
        "        \n",
        "        for episode in range(self.num_episodes):\n",
        "            obs = self.env.reset()\n",
        "            episode_reward = 0\n",
        " \n",
        "            for step in range(self.max_step):\n",
        "                ## get action\n",
        "                action = self.agent.getAction(obs, is_training=True)\n",
        "                ## observe next step\n",
        "                next_obs, _, is_done, _ = self.env.step(action)\n",
        "                ## get reward\n",
        "                if is_done:\n",
        "                    if step < max_step - 1:\n",
        "                        reward = -1\n",
        "                        consecutive_completion = 0\n",
        "                    else:\n",
        "                        reward = 1\n",
        "                        consecutive_completion += 1\n",
        "                else:\n",
        "                    reward = 0\n",
        "                episode_reward += reward\n",
        "                ## update\n",
        "                self.agent.updateQnet(obs, action, reward, next_obs)\n",
        "                ## to next step\n",
        "                obs = next_obs\n",
        "\n",
        "                if is_done:\n",
        "                    print('{0} Episode: Finished after {1} time steps with reward {2}'.format(episode, step+1, episode_reward))\n",
        "                    break\n",
        "            if consecutive_completion > self.max_consecutive_completion:\n",
        "                print(\"It has completed {} consecutive episodes\".format(consecutive_completion))\n",
        "                break\n",
        "\n",
        "    def evaluate(self):\n",
        "        obs = self.env.reset()\n",
        "        \n",
        "        for step in range(self.max_step):\n",
        "            ## get action\n",
        "            action = self.agent.getAction(obs, is_training=False)\n",
        "            ## observe next step\n",
        "            next_obs, _, is_done, _ = self.env.step(action)\n",
        "            ## to next step\n",
        "            obs = next_obs\n",
        "\n",
        "            if is_done:\n",
        "                print('Evaluation: Finished after {} time steps'.format(step+1))\n",
        "                break"
      ],
      "execution_count": null,
      "outputs": []
    },
    {
      "cell_type": "markdown",
      "metadata": {
        "id": "xDKojCejb2-A"
      },
      "source": [
        "Prepare showing videos of the restults"
      ]
    },
    {
      "cell_type": "code",
      "metadata": {
        "id": "kvmszieobbrX"
      },
      "source": [
        "def show_video(env):\n",
        "    env.reset()\n",
        "    for frame in env.videos:\n",
        "        print(\"frame = \", frame)\n",
        "        video = io.open(frame[0], 'r+b').read()\n",
        "        encoded = base64.b64encode(video)\n",
        "\n",
        "        display.display(display.HTML(data=\"\"\"\n",
        "            <video alt=\"\" controls>\n",
        "            <source src=\"data:video/mp4;base64,{0}\" type=\"video/mp4\" />\n",
        "            </video>\n",
        "            \"\"\".format(encoded.decode('ascii')))\n",
        "        )"
      ],
      "execution_count": null,
      "outputs": []
    },
    {
      "cell_type": "markdown",
      "metadata": {
        "id": "2C7zmRMnW1i8"
      },
      "source": [
        "Run training"
      ]
    },
    {
      "cell_type": "code",
      "metadata": {
        "id": "ZJqfOQ-tW0sA",
        "colab": {
          "base_uri": "https://localhost:8080/",
          "height": 1000
        },
        "outputId": "453d77b6-8972-49d2-a3f8-8680ebc695a3"
      },
      "source": [
        "## display\n",
        "virtual_display = Display()\n",
        "virtual_display.start()\n",
        "\n",
        "## parameters\n",
        "num_episodes = 1000\n",
        "max_consecutive_completion = 10\n",
        "max_step = 200\n",
        "gamma = 0.9\n",
        "r = 0.99\n",
        "lr = 0.001\n",
        "\n",
        "## run\n",
        "cartpole_env = Environment(num_episodes, max_consecutive_completion, max_step, gamma, r, lr)\n",
        "cartpole_env.train()\n",
        "cartpole_env.evaluate()\n",
        "show_video(cartpole_env.env)"
      ],
      "execution_count": null,
      "outputs": [
        {
          "output_type": "stream",
          "text": [
            "self.device =  cuda:0\n",
            "0 Episode: Finished after 46 time steps with reward -1\n",
            "1 Episode: Finished after 23 time steps with reward -1\n",
            "2 Episode: Finished after 37 time steps with reward -1\n",
            "3 Episode: Finished after 35 time steps with reward -1\n",
            "4 Episode: Finished after 24 time steps with reward -1\n",
            "5 Episode: Finished after 11 time steps with reward -1\n",
            "6 Episode: Finished after 12 time steps with reward -1\n",
            "7 Episode: Finished after 9 time steps with reward -1\n",
            "8 Episode: Finished after 11 time steps with reward -1\n",
            "9 Episode: Finished after 22 time steps with reward -1\n",
            "10 Episode: Finished after 11 time steps with reward -1\n",
            "11 Episode: Finished after 15 time steps with reward -1\n",
            "12 Episode: Finished after 36 time steps with reward -1\n",
            "13 Episode: Finished after 146 time steps with reward -1\n",
            "14 Episode: Finished after 56 time steps with reward -1\n",
            "15 Episode: Finished after 135 time steps with reward -1\n",
            "16 Episode: Finished after 58 time steps with reward -1\n",
            "17 Episode: Finished after 34 time steps with reward -1\n",
            "18 Episode: Finished after 35 time steps with reward -1\n",
            "19 Episode: Finished after 21 time steps with reward -1\n",
            "20 Episode: Finished after 22 time steps with reward -1\n",
            "21 Episode: Finished after 74 time steps with reward -1\n",
            "22 Episode: Finished after 26 time steps with reward -1\n",
            "23 Episode: Finished after 62 time steps with reward -1\n",
            "24 Episode: Finished after 18 time steps with reward -1\n",
            "25 Episode: Finished after 14 time steps with reward -1\n",
            "26 Episode: Finished after 11 time steps with reward -1\n",
            "27 Episode: Finished after 16 time steps with reward -1\n",
            "28 Episode: Finished after 55 time steps with reward -1\n",
            "29 Episode: Finished after 41 time steps with reward -1\n",
            "30 Episode: Finished after 200 time steps with reward 1\n",
            "31 Episode: Finished after 50 time steps with reward -1\n",
            "32 Episode: Finished after 19 time steps with reward -1\n",
            "33 Episode: Finished after 15 time steps with reward -1\n",
            "34 Episode: Finished after 19 time steps with reward -1\n",
            "35 Episode: Finished after 20 time steps with reward -1\n",
            "36 Episode: Finished after 40 time steps with reward -1\n",
            "37 Episode: Finished after 131 time steps with reward -1\n",
            "38 Episode: Finished after 19 time steps with reward -1\n",
            "39 Episode: Finished after 22 time steps with reward -1\n",
            "40 Episode: Finished after 84 time steps with reward -1\n",
            "41 Episode: Finished after 41 time steps with reward -1\n",
            "42 Episode: Finished after 20 time steps with reward -1\n",
            "43 Episode: Finished after 23 time steps with reward -1\n",
            "44 Episode: Finished after 26 time steps with reward -1\n",
            "45 Episode: Finished after 106 time steps with reward -1\n",
            "46 Episode: Finished after 20 time steps with reward -1\n",
            "47 Episode: Finished after 20 time steps with reward -1\n",
            "48 Episode: Finished after 48 time steps with reward -1\n",
            "49 Episode: Finished after 138 time steps with reward -1\n",
            "50 Episode: Finished after 58 time steps with reward -1\n",
            "51 Episode: Finished after 200 time steps with reward 1\n",
            "52 Episode: Finished after 158 time steps with reward -1\n",
            "53 Episode: Finished after 24 time steps with reward -1\n",
            "54 Episode: Finished after 28 time steps with reward -1\n",
            "55 Episode: Finished after 97 time steps with reward -1\n",
            "56 Episode: Finished after 111 time steps with reward -1\n",
            "57 Episode: Finished after 37 time steps with reward -1\n",
            "58 Episode: Finished after 52 time steps with reward -1\n",
            "59 Episode: Finished after 115 time steps with reward -1\n",
            "60 Episode: Finished after 154 time steps with reward -1\n",
            "61 Episode: Finished after 195 time steps with reward -1\n",
            "62 Episode: Finished after 101 time steps with reward -1\n",
            "63 Episode: Finished after 108 time steps with reward -1\n",
            "64 Episode: Finished after 186 time steps with reward -1\n",
            "65 Episode: Finished after 113 time steps with reward -1\n",
            "66 Episode: Finished after 185 time steps with reward -1\n",
            "67 Episode: Finished after 116 time steps with reward -1\n",
            "68 Episode: Finished after 200 time steps with reward 1\n",
            "69 Episode: Finished after 200 time steps with reward 1\n",
            "70 Episode: Finished after 138 time steps with reward -1\n",
            "71 Episode: Finished after 10 time steps with reward -1\n",
            "72 Episode: Finished after 14 time steps with reward -1\n",
            "73 Episode: Finished after 21 time steps with reward -1\n",
            "74 Episode: Finished after 162 time steps with reward -1\n",
            "75 Episode: Finished after 41 time steps with reward -1\n",
            "76 Episode: Finished after 54 time steps with reward -1\n",
            "77 Episode: Finished after 129 time steps with reward -1\n",
            "78 Episode: Finished after 101 time steps with reward -1\n",
            "79 Episode: Finished after 105 time steps with reward -1\n",
            "80 Episode: Finished after 130 time steps with reward -1\n",
            "81 Episode: Finished after 158 time steps with reward -1\n",
            "82 Episode: Finished after 20 time steps with reward -1\n",
            "83 Episode: Finished after 195 time steps with reward -1\n",
            "84 Episode: Finished after 177 time steps with reward -1\n",
            "85 Episode: Finished after 19 time steps with reward -1\n",
            "86 Episode: Finished after 141 time steps with reward -1\n",
            "87 Episode: Finished after 149 time steps with reward -1\n",
            "88 Episode: Finished after 147 time steps with reward -1\n",
            "89 Episode: Finished after 64 time steps with reward -1\n",
            "90 Episode: Finished after 141 time steps with reward -1\n",
            "91 Episode: Finished after 159 time steps with reward -1\n",
            "92 Episode: Finished after 200 time steps with reward 1\n",
            "93 Episode: Finished after 16 time steps with reward -1\n",
            "94 Episode: Finished after 200 time steps with reward 1\n",
            "95 Episode: Finished after 200 time steps with reward 1\n",
            "96 Episode: Finished after 173 time steps with reward -1\n",
            "97 Episode: Finished after 48 time steps with reward -1\n",
            "98 Episode: Finished after 11 time steps with reward -1\n",
            "99 Episode: Finished after 10 time steps with reward -1\n",
            "100 Episode: Finished after 126 time steps with reward -1\n",
            "101 Episode: Finished after 111 time steps with reward -1\n",
            "102 Episode: Finished after 200 time steps with reward 1\n",
            "103 Episode: Finished after 200 time steps with reward 1\n",
            "104 Episode: Finished after 185 time steps with reward -1\n",
            "105 Episode: Finished after 14 time steps with reward -1\n",
            "106 Episode: Finished after 20 time steps with reward -1\n",
            "107 Episode: Finished after 136 time steps with reward -1\n",
            "108 Episode: Finished after 128 time steps with reward -1\n",
            "109 Episode: Finished after 137 time steps with reward -1\n",
            "110 Episode: Finished after 167 time steps with reward -1\n",
            "111 Episode: Finished after 182 time steps with reward -1\n",
            "112 Episode: Finished after 191 time steps with reward -1\n",
            "113 Episode: Finished after 101 time steps with reward -1\n",
            "114 Episode: Finished after 43 time steps with reward -1\n",
            "115 Episode: Finished after 28 time steps with reward -1\n",
            "116 Episode: Finished after 96 time steps with reward -1\n",
            "117 Episode: Finished after 56 time steps with reward -1\n",
            "118 Episode: Finished after 117 time steps with reward -1\n",
            "119 Episode: Finished after 143 time steps with reward -1\n",
            "120 Episode: Finished after 106 time steps with reward -1\n",
            "121 Episode: Finished after 129 time steps with reward -1\n",
            "122 Episode: Finished after 180 time steps with reward -1\n",
            "123 Episode: Finished after 165 time steps with reward -1\n",
            "124 Episode: Finished after 200 time steps with reward 1\n",
            "125 Episode: Finished after 128 time steps with reward -1\n",
            "126 Episode: Finished after 167 time steps with reward -1\n",
            "127 Episode: Finished after 128 time steps with reward -1\n",
            "128 Episode: Finished after 117 time steps with reward -1\n",
            "129 Episode: Finished after 120 time steps with reward -1\n",
            "130 Episode: Finished after 124 time steps with reward -1\n",
            "131 Episode: Finished after 200 time steps with reward 1\n",
            "132 Episode: Finished after 129 time steps with reward -1\n",
            "133 Episode: Finished after 143 time steps with reward -1\n",
            "134 Episode: Finished after 20 time steps with reward -1\n",
            "135 Episode: Finished after 14 time steps with reward -1\n",
            "136 Episode: Finished after 14 time steps with reward -1\n",
            "137 Episode: Finished after 15 time steps with reward -1\n",
            "138 Episode: Finished after 166 time steps with reward -1\n",
            "139 Episode: Finished after 115 time steps with reward -1\n",
            "140 Episode: Finished after 171 time steps with reward -1\n",
            "141 Episode: Finished after 155 time steps with reward -1\n",
            "142 Episode: Finished after 185 time steps with reward -1\n",
            "143 Episode: Finished after 103 time steps with reward -1\n",
            "144 Episode: Finished after 107 time steps with reward -1\n",
            "145 Episode: Finished after 30 time steps with reward -1\n",
            "146 Episode: Finished after 123 time steps with reward -1\n",
            "147 Episode: Finished after 200 time steps with reward 1\n",
            "148 Episode: Finished after 155 time steps with reward -1\n",
            "149 Episode: Finished after 200 time steps with reward 1\n",
            "150 Episode: Finished after 200 time steps with reward 1\n",
            "151 Episode: Finished after 200 time steps with reward 1\n",
            "152 Episode: Finished after 191 time steps with reward -1\n",
            "153 Episode: Finished after 11 time steps with reward -1\n",
            "154 Episode: Finished after 12 time steps with reward -1\n",
            "155 Episode: Finished after 151 time steps with reward -1\n",
            "156 Episode: Finished after 200 time steps with reward 1\n",
            "157 Episode: Finished after 160 time steps with reward -1\n",
            "158 Episode: Finished after 133 time steps with reward -1\n",
            "159 Episode: Finished after 171 time steps with reward -1\n",
            "160 Episode: Finished after 19 time steps with reward -1\n",
            "161 Episode: Finished after 18 time steps with reward -1\n",
            "162 Episode: Finished after 171 time steps with reward -1\n",
            "163 Episode: Finished after 162 time steps with reward -1\n",
            "164 Episode: Finished after 123 time steps with reward -1\n",
            "165 Episode: Finished after 158 time steps with reward -1\n",
            "166 Episode: Finished after 139 time steps with reward -1\n",
            "167 Episode: Finished after 128 time steps with reward -1\n",
            "168 Episode: Finished after 200 time steps with reward 1\n",
            "169 Episode: Finished after 200 time steps with reward 1\n",
            "170 Episode: Finished after 200 time steps with reward 1\n",
            "171 Episode: Finished after 200 time steps with reward 1\n",
            "172 Episode: Finished after 164 time steps with reward -1\n",
            "173 Episode: Finished after 11 time steps with reward -1\n",
            "174 Episode: Finished after 10 time steps with reward -1\n",
            "175 Episode: Finished after 184 time steps with reward -1\n",
            "176 Episode: Finished after 23 time steps with reward -1\n",
            "177 Episode: Finished after 123 time steps with reward -1\n",
            "178 Episode: Finished after 142 time steps with reward -1\n",
            "179 Episode: Finished after 19 time steps with reward -1\n",
            "180 Episode: Finished after 24 time steps with reward -1\n",
            "181 Episode: Finished after 16 time steps with reward -1\n",
            "182 Episode: Finished after 19 time steps with reward -1\n",
            "183 Episode: Finished after 13 time steps with reward -1\n",
            "184 Episode: Finished after 200 time steps with reward 1\n",
            "185 Episode: Finished after 200 time steps with reward 1\n",
            "186 Episode: Finished after 150 time steps with reward -1\n",
            "187 Episode: Finished after 179 time steps with reward -1\n",
            "188 Episode: Finished after 200 time steps with reward 1\n",
            "189 Episode: Finished after 200 time steps with reward 1\n",
            "190 Episode: Finished after 156 time steps with reward -1\n",
            "191 Episode: Finished after 167 time steps with reward -1\n",
            "192 Episode: Finished after 163 time steps with reward -1\n",
            "193 Episode: Finished after 200 time steps with reward 1\n",
            "194 Episode: Finished after 155 time steps with reward -1\n",
            "195 Episode: Finished after 147 time steps with reward -1\n",
            "196 Episode: Finished after 151 time steps with reward -1\n",
            "197 Episode: Finished after 130 time steps with reward -1\n",
            "198 Episode: Finished after 175 time steps with reward -1\n",
            "199 Episode: Finished after 159 time steps with reward -1\n",
            "200 Episode: Finished after 200 time steps with reward 1\n",
            "201 Episode: Finished after 142 time steps with reward -1\n",
            "202 Episode: Finished after 123 time steps with reward -1\n",
            "203 Episode: Finished after 98 time steps with reward -1\n",
            "204 Episode: Finished after 101 time steps with reward -1\n",
            "205 Episode: Finished after 147 time steps with reward -1\n",
            "206 Episode: Finished after 183 time steps with reward -1\n",
            "207 Episode: Finished after 188 time steps with reward -1\n",
            "208 Episode: Finished after 97 time steps with reward -1\n",
            "209 Episode: Finished after 108 time steps with reward -1\n",
            "210 Episode: Finished after 113 time steps with reward -1\n",
            "211 Episode: Finished after 108 time steps with reward -1\n",
            "212 Episode: Finished after 108 time steps with reward -1\n",
            "213 Episode: Finished after 83 time steps with reward -1\n",
            "214 Episode: Finished after 87 time steps with reward -1\n",
            "215 Episode: Finished after 88 time steps with reward -1\n",
            "216 Episode: Finished after 199 time steps with reward -1\n",
            "217 Episode: Finished after 149 time steps with reward -1\n",
            "218 Episode: Finished after 200 time steps with reward 1\n",
            "219 Episode: Finished after 141 time steps with reward -1\n",
            "220 Episode: Finished after 115 time steps with reward -1\n",
            "221 Episode: Finished after 16 time steps with reward -1\n",
            "222 Episode: Finished after 128 time steps with reward -1\n",
            "223 Episode: Finished after 200 time steps with reward 1\n",
            "224 Episode: Finished after 157 time steps with reward -1\n",
            "225 Episode: Finished after 200 time steps with reward 1\n",
            "226 Episode: Finished after 200 time steps with reward 1\n",
            "227 Episode: Finished after 200 time steps with reward 1\n",
            "228 Episode: Finished after 200 time steps with reward 1\n",
            "229 Episode: Finished after 200 time steps with reward 1\n",
            "230 Episode: Finished after 197 time steps with reward -1\n",
            "231 Episode: Finished after 18 time steps with reward -1\n",
            "232 Episode: Finished after 15 time steps with reward -1\n",
            "233 Episode: Finished after 11 time steps with reward -1\n",
            "234 Episode: Finished after 14 time steps with reward -1\n",
            "235 Episode: Finished after 13 time steps with reward -1\n",
            "236 Episode: Finished after 160 time steps with reward -1\n",
            "237 Episode: Finished after 145 time steps with reward -1\n",
            "238 Episode: Finished after 132 time steps with reward -1\n",
            "239 Episode: Finished after 200 time steps with reward 1\n",
            "240 Episode: Finished after 199 time steps with reward -1\n",
            "241 Episode: Finished after 191 time steps with reward -1\n",
            "242 Episode: Finished after 145 time steps with reward -1\n",
            "243 Episode: Finished after 130 time steps with reward -1\n",
            "244 Episode: Finished after 189 time steps with reward -1\n",
            "245 Episode: Finished after 11 time steps with reward -1\n",
            "246 Episode: Finished after 10 time steps with reward -1\n",
            "247 Episode: Finished after 11 time steps with reward -1\n",
            "248 Episode: Finished after 151 time steps with reward -1\n",
            "249 Episode: Finished after 200 time steps with reward 1\n",
            "250 Episode: Finished after 200 time steps with reward 1\n",
            "251 Episode: Finished after 187 time steps with reward -1\n",
            "252 Episode: Finished after 124 time steps with reward -1\n",
            "253 Episode: Finished after 156 time steps with reward -1\n",
            "254 Episode: Finished after 200 time steps with reward 1\n",
            "255 Episode: Finished after 200 time steps with reward 1\n",
            "256 Episode: Finished after 185 time steps with reward -1\n",
            "257 Episode: Finished after 196 time steps with reward -1\n",
            "258 Episode: Finished after 153 time steps with reward -1\n",
            "259 Episode: Finished after 19 time steps with reward -1\n",
            "260 Episode: Finished after 170 time steps with reward -1\n",
            "261 Episode: Finished after 200 time steps with reward 1\n",
            "262 Episode: Finished after 200 time steps with reward 1\n",
            "263 Episode: Finished after 200 time steps with reward 1\n",
            "264 Episode: Finished after 200 time steps with reward 1\n",
            "265 Episode: Finished after 195 time steps with reward -1\n",
            "266 Episode: Finished after 200 time steps with reward 1\n",
            "267 Episode: Finished after 200 time steps with reward 1\n",
            "268 Episode: Finished after 180 time steps with reward -1\n",
            "269 Episode: Finished after 188 time steps with reward -1\n",
            "270 Episode: Finished after 200 time steps with reward 1\n",
            "271 Episode: Finished after 198 time steps with reward -1\n",
            "272 Episode: Finished after 171 time steps with reward -1\n",
            "273 Episode: Finished after 200 time steps with reward 1\n",
            "274 Episode: Finished after 200 time steps with reward 1\n",
            "275 Episode: Finished after 200 time steps with reward 1\n",
            "276 Episode: Finished after 200 time steps with reward 1\n",
            "277 Episode: Finished after 200 time steps with reward 1\n",
            "278 Episode: Finished after 166 time steps with reward -1\n",
            "279 Episode: Finished after 200 time steps with reward 1\n",
            "280 Episode: Finished after 200 time steps with reward 1\n",
            "281 Episode: Finished after 200 time steps with reward 1\n",
            "282 Episode: Finished after 200 time steps with reward 1\n",
            "283 Episode: Finished after 200 time steps with reward 1\n",
            "284 Episode: Finished after 64 time steps with reward -1\n",
            "285 Episode: Finished after 101 time steps with reward -1\n",
            "286 Episode: Finished after 200 time steps with reward 1\n",
            "287 Episode: Finished after 200 time steps with reward 1\n",
            "288 Episode: Finished after 200 time steps with reward 1\n",
            "289 Episode: Finished after 200 time steps with reward 1\n",
            "290 Episode: Finished after 200 time steps with reward 1\n",
            "291 Episode: Finished after 200 time steps with reward 1\n",
            "292 Episode: Finished after 29 time steps with reward -1\n",
            "293 Episode: Finished after 28 time steps with reward -1\n",
            "294 Episode: Finished after 24 time steps with reward -1\n",
            "295 Episode: Finished after 11 time steps with reward -1\n",
            "296 Episode: Finished after 200 time steps with reward 1\n",
            "297 Episode: Finished after 139 time steps with reward -1\n",
            "298 Episode: Finished after 90 time steps with reward -1\n",
            "299 Episode: Finished after 42 time steps with reward -1\n",
            "300 Episode: Finished after 85 time steps with reward -1\n",
            "301 Episode: Finished after 54 time steps with reward -1\n",
            "302 Episode: Finished after 35 time steps with reward -1\n",
            "303 Episode: Finished after 95 time steps with reward -1\n",
            "304 Episode: Finished after 70 time steps with reward -1\n",
            "305 Episode: Finished after 200 time steps with reward 1\n",
            "306 Episode: Finished after 200 time steps with reward 1\n",
            "307 Episode: Finished after 200 time steps with reward 1\n",
            "308 Episode: Finished after 200 time steps with reward 1\n",
            "309 Episode: Finished after 200 time steps with reward 1\n",
            "310 Episode: Finished after 200 time steps with reward 1\n",
            "311 Episode: Finished after 200 time steps with reward 1\n",
            "312 Episode: Finished after 200 time steps with reward 1\n",
            "313 Episode: Finished after 200 time steps with reward 1\n",
            "314 Episode: Finished after 200 time steps with reward 1\n",
            "315 Episode: Finished after 55 time steps with reward -1\n",
            "316 Episode: Finished after 200 time steps with reward 1\n",
            "317 Episode: Finished after 19 time steps with reward -1\n",
            "318 Episode: Finished after 200 time steps with reward 1\n",
            "319 Episode: Finished after 200 time steps with reward 1\n",
            "320 Episode: Finished after 200 time steps with reward 1\n",
            "321 Episode: Finished after 200 time steps with reward 1\n",
            "322 Episode: Finished after 200 time steps with reward 1\n",
            "323 Episode: Finished after 200 time steps with reward 1\n",
            "324 Episode: Finished after 200 time steps with reward 1\n",
            "325 Episode: Finished after 200 time steps with reward 1\n",
            "326 Episode: Finished after 200 time steps with reward 1\n",
            "327 Episode: Finished after 200 time steps with reward 1\n",
            "328 Episode: Finished after 200 time steps with reward 1\n",
            "It has completed 11 consecutive episodes\n",
            "Evaluation: Finished after 200 time steps\n",
            "frame =  ('/content/videos/openaigym.video.7.8926.video000000.mp4', '/content/videos/openaigym.video.7.8926.video000000.meta.json')\n"
          ],
          "name": "stdout"
        },
        {
          "output_type": "display_data",
          "data": {
            "text/html": [
              "\n",
              "            <video alt=\"test\" controls>\n",
              "            <source src=\"data:video/mp4;base64,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\" type=\"video/mp4\" />\n",
              "            </video>\n",
              "            "
            ],
            "text/plain": [
              "<IPython.core.display.HTML object>"
            ]
          },
          "metadata": {
            "tags": []
          }
        },
        {
          "output_type": "stream",
          "text": [
            "frame =  ('/content/videos/openaigym.video.7.8926.video000001.mp4', '/content/videos/openaigym.video.7.8926.video000001.meta.json')\n"
          ],
          "name": "stdout"
        },
        {
          "output_type": "display_data",
          "data": {
            "text/html": [
              "\n",
              "            <video alt=\"test\" controls>\n",
              "            <source src=\"data:video/mp4;base64,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\" type=\"video/mp4\" />\n",
              "            </video>\n",
              "            "
            ],
            "text/plain": [
              "<IPython.core.display.HTML object>"
            ]
          },
          "metadata": {
            "tags": []
          }
        },
        {
          "output_type": "stream",
          "text": [
            "frame =  ('/content/videos/openaigym.video.7.8926.video000008.mp4', '/content/videos/openaigym.video.7.8926.video000008.meta.json')\n"
          ],
          "name": "stdout"
        },
        {
          "output_type": "display_data",
          "data": {
            "text/html": [
              "\n",
              "            <video alt=\"test\" controls>\n",
              "            <source src=\"data:video/mp4;base64,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\" type=\"video/mp4\" />\n",
              "            </video>\n",
              "            "
            ],
            "text/plain": [
              "<IPython.core.display.HTML object>"
            ]
          },
          "metadata": {
            "tags": []
          }
        },
        {
          "output_type": "stream",
          "text": [
            "frame =  ('/content/videos/openaigym.video.7.8926.video000027.mp4', '/content/videos/openaigym.video.7.8926.video000027.meta.json')\n"
          ],
          "name": "stdout"
        },
        {
          "output_type": "display_data",
          "data": {
            "text/html": [
              "\n",
              "            <video alt=\"test\" controls>\n",
              "            <source src=\"data:video/mp4;base64,AAAAIGZ0eXBpc29tAAACAGlzb21pc28yYXZjMW1wNDEAAAAIZnJlZQAACw1tZGF0AAACrgYF//+q3EXpvebZSLeWLNgg2SPu73gyNjQgLSBjb3JlIDE1MiByMjg1NCBlOWE1OTAzIC0gSC4yNjQvTVBFRy00IEFWQyBjb2RlYyAtIENvcHlsZWZ0IDIwMDMtMjAxNyAtIGh0dHA6Ly93d3cudmlkZW9sYW4ub3JnL3gyNjQuaHRtbCAtIG9wdGlvbnM6IGNhYmFjPTEgcmVmPTMgZGVibG9jaz0xOjA6MCBhbmFseXNlPTB4MzoweDExMyBtZT1oZXggc3VibWU9NyBwc3k9MSBwc3lfcmQ9MS4wMDowLjAwIG1peGVkX3JlZj0xIG1lX3JhbmdlPTE2IGNocm9tYV9tZT0xIHRyZWxsaXM9MSA4eDhkY3Q9MSBjcW09MCBkZWFkem9uZT0yMSwxMSBmYXN0X3Bza2lwPTEgY2hyb21hX3FwX29mZnNldD0tMiB0aHJlYWRzPTMgbG9va2FoZWFkX3RocmVhZHM9MSBzbGljZWRfdGhyZWFkcz0wIG5yPTAgZGVjaW1hdGU9MSBpbnRlcmxhY2VkPTAgYmx1cmF5X2NvbXBhdD0wIGNvbnN0cmFpbmVkX2ludHJhPTAgYmZyYW1lcz0zIGJfcHlyYW1pZD0yIGJfYWRhcHQ9MSBiX2JpYXM9MCBkaXJlY3Q9MSB3ZWlnaHRiPTEgb3Blbl9nb3A9MCB3ZWlnaHRwPTIga2V5aW50PTI1MCBrZXlpbnRfbWluPTI1IHNjZW5lY3V0PTQwIGludHJhX3JlZnJlc2g9MCByY19sb29rYWhlYWQ9NDAgcmM9Y3JmIG1idHJlZT0xIGNyZj0yMy4wIHFjb21wPTAuNjAgcXBtaW49MCBxcG1heD02OSBxcHN0ZXA9NCBpcF9yYXRpbz0xLjQwIGFxPTE6MS4wMACAAAAB2WWIhAAv//72rvzLK0cLlS4dWXuzUfLoSXL9iDB9aAAAAwAAAwAAJuKiZ0WFMeJsgAAALmAIWElDyDzETFWKgSxDPavg5cUoD8KfyNY5K0rmNeoWPMCMVIfvFA+TJFdoEWbfpJ8VfXfkNArvFNWmIYxCU2oDp9kEAfa3/+Yh8Edr/YOOXtYE6u7kvFmSy4XH2PO21Iql/dX7Ri9ueS0s4/+5qCdbUd+Te3UjTltr43mV65HDuRZqHGVredgQmAMTzf9QN0Dtm0AXbcEjHsEf7AWwuYvgTE1w9OTrNGhdJJzJgWWSlzI/nuwcNHgi5BMozrVqkmMdO9V0fD4H3q+cG1QjWENiX1oGkATgE0lfhl5/1S/rCV/XlZSGu0FVc/H+yv7NJvoWn14FtDhYN5z2r80N5YpIY3V9kwLKZbYjJ+UJauz66tAKmMzDQKwizM7Bmdw0WOceTH6cKDJSXMc6uXeefQ93Xe/HfYaUEOwa0w8ek3UuQIK7AJ8t/ZWkTwJEt7PMc6rt5hXBq1+fgsCV1iGDKhAUh82OEtRGHfXx6eATimJ9AvYmXu6LbLnGLHY8Qtg1/DSvqt3s7QIKARP+94IzamsRQvl8fbwiSBKJz0AAAAMAAAMAABsxAAAA1EGaJGxC//6MsAAARjNul5YAcYtjAPFajhjI+dnKzTwTRwLOqFrR3J2P4wLJZSL4fUT4CDOIOem3JZBGkmifm6MvLpa/M7PwXzXe25XrvHeC8EtH9BREnYeKVnPKfGCtTWyZi8N84ehmM5JUGDukaQzy7WaTvXPSRwYksPRNLSkirMh4VhfeZRCKNDN/bz6/qZff0aixeE1/F/9mrKtv7aaLcUQBOMP6TXDDQl1tvrjQ6lqjpYvn7xUUQDxMLXk8NxvtYyCDAAADAAgA1SxaM1l5x7faAAAAWEGeQniEfwAAFqUDdnj3bFxONwNPaD7GxPDU85Qsf3HERFdPn62wAXQObrIsos3vAA1QpfIqseUNQxDgdTUU8R38oZGLqvR2sZYiGotgAAADAErvrlRlgf8AAAAuAZ5hdEf/AAAjw0JXwUZ7CCjmi8/aEzilr2zjcoCC6LnmUAAAAwAAAwCWC4QEnAAAAEwBnmNqR/8AACOSu6kLeFOwozQZis92cy34NHP4QTePa06pW7whpWQFLcba6+18IQAmlzepvJ6xiT9ORqbUzYQAAAMAA0P7D9R4QJuBAAAA0EGaaEmoQWiZTAhf//6MsAAARhRKfRu4AbrQ7KNFoSExSoPQP9FEbDgPPzdOlym4BAlE16Gy5+YgM47Q9ft/YXsjhqV9VGHclBPhOFO1QFlzemclu2M3QPU+ruWq8bL5WfgTwpXBTbhzNKU2cR7Vc0aivdjLSjtKV4asmV3dgwwR6HZy60yhj2S6/Z1RVeri118imTFyViIjz4fN3ULj1SOjWeZZ9jiVxXe1I4vHdtt2IvoMrveHL8WVZblCAE9o8GYAneBxuquMNQfoInB9d+EAAABjQZ6GRREsI/8AABZvmBIiInl7YxtwHJD8bnDQcDX8FPDoa6k7JPcw1TLfkNBT4X6NuLyvdxR6HIamzenHHwAmWJVVmtG1mZ9/rznUEW3OlV2esjgrvxiyz5haqeiC4fdwt6LBAAAARgGepXRH/wAAI8MXZCpu7Ahgc8VMqySJiVeXbkXz5Yk763rAePeVjVND1An7wHj1GeQAlnLe+pqyOm3BXtgxGt+hAMA1WUEAAABCAZ6nakf/AAAisjyZMO7LyBSCajel27xDywihokh9qGbzLOHMbFCYdttgcwzKWWEOOdBMnBwAPGftwDQ76RubXMnHAAAAnUGarEmoQWyZTAhX//44QAABDU7gOir0IM2oYBJV1pwARsHko2FM1ox1XigMuhJRoPNvedISLHH1aZiDF5tKDPO13tryCX/+4yPE//fJlxaSpjihQCE9xwofkoXPBODNrMef4/mvmYphs2XdUbmm+gnPCHtrofh+gFVZG/E4F5AbRM/szqS+ap37FlkLAS7Ph3Pvtd0mvoiKuHyZMpgAAABzQZ7KRRUsI/8AABa7h/v4Aq6lqRL2/ch30oHBO01cGO01dCCfU3spMRMfdJnpjZMAL2LAS8eOjQMOrNG9UJNL9ghiVMX7tjOWJbeh19cRh9YyJ1ctn65H91YtwseNmGRP73m3+PWrQepZkWIpncwdEflebQAAAEIBnul0R/8AACOjaXfRfncrL28qTQBGlm4LM4AMZszUzou/Q0hmSrIjD1LkaQ2MjyoWftIpm5JOweB2FZA9O1clWe4AAABJAZ7rakf/AAAjphEwBEf3/EVwfVZHspbKVcwJGKwk3xN6phy2J3BefOwou3UidcnxIU2P3J6Q23DUmh74e5XBdDYkj7ugn7my4AAAAGhBmvBJqEFsmUwI//yEAAAP76IupYnU+UqNgVtaqV+tZqaypuGZ941/1Ix7rxqHxo0Rba23wg2BoCZx/hqNi0UBgLvlBzy30Pr2f4AQ6dGBQMTaA2gm8TaqeDPVoJvw0L7AiprFZqjf8QAAAGVBnw5FFSwj/wAAFrKfMjVAJrk8p0wG/OIwt9bd7OpUoVrJTErhpsPlYlEVNg9NNgoEv4Tg2U/aL3l6ZychAACoI2537pUyjUgqBDss63gvo1nfyWP/IwqOKRJr31ofq7UDJb6b0QAAADkBny10R/8AACOpzttBLUlkJN/vx7XpnH7gtLV/o3GA1lZJcWBMICZxfs1cex45xs8kVp/Bzqi2m4EAAAA0AZ8vakf/AAAjrjHiZHz4I1S15/FixZLkpvEdeRSIKbkhdRdWTlsIsSfuGY/v3JIF9E2KSAAAA99tb292AAAAbG12aGQAAAAAAAAAAAAAAAAAAAPoAAABVAABAAABAAAAAAAAAAAAAAAAAQAAAAAAAAAAAAAAAAAAAAEAAAAAAAAAAAAAAAAAAEAAAAAAAAAAAAAAAAAAAAAAAAAAAAAAAAAAAAAAAAACAAADCXRyYWsAAABcdGtoZAAAAAMAAAAAAAAAAAAAAAEAAAAAAAABVAAAAAAAAAAAAAAAAAAAAAAAAQAAAAAAAAAAAAAAAAAAAAEAAAAAAAAAAAAAAAAAAEAAAAACWAAAAZAAAAAAACRlZHRzAAAAHGVsc3QAAAAAAAAAAQAAAVQAAAIAAAEAAAAAAoFtZGlhAAAAIG1kaGQAAAAAAAAAAAAAAAAAADIAAAARAFXEAAAAAAAtaGRscgAAAAAAAAAAdmlkZQAAAAAAAAAAAAAAAFZpZGVvSGFuZGxlcgAAAAIsbWluZgAAABR2bWhkAAAAAQAAAAAAAAAAAAAAJGRpbmYAAAAcZHJlZgAAAAAAAAABAAAADHVybCAAAAABAAAB7HN0YmwAAACYc3RzZAAAAAAAAAABAAAAiGF2YzEAAAAAAAAAAQAAAAAAAAAAAAAAAAAAAAACWAGQAEgAAABIAAAAAAAAAAEAAAAAAAAAAAAAAAAAAAAAAAAAAAAAAAAAAAAAAAAAAAAY//8AAAAyYXZjQwFkAB//4QAZZ2QAH6zZQJgz5eEAAAMAAQAAAwBkDxgxlgEABmjr48siwAAAABhzdHRzAAAAAAAAAAEAAAARAAABAAAAABRzdHNzAAAAAAAAAAEAAAABAAAAmGN0dHMAAAAAAAAAEQAAAAEAAAIAAAAAAQAABQAAAAABAAACAAAAAAEAAAAAAAAAAQAAAQAAAAABAAAFAAAAAAEAAAIAAAAAAQAAAAAAAAABAAABAAAAAAEAAAUAAAAAAQAAAgAAAAABAAAAAAAAAAEAAAEAAAAAAQAABQAAAAABAAACAAAAAAEAAAAAAAAAAQAAAQAAAAAcc3RzYwAAAAAAAAABAAAAAQAAABEAAAABAAAAWHN0c3oAAAAAAAAAAAAAABEAAASPAAAA2AAAAFwAAAAyAAAAUAAAANQAAABnAAAASgAAAEYAAAChAAAAdwAAAEYAAABNAAAAbAAAAGkAAAA9AAAAOAAAABRzdGNvAAAAAAAAAAEAAAAwAAAAYnVkdGEAAABabWV0YQAAAAAAAAAhaGRscgAAAAAAAAAAbWRpcmFwcGwAAAAAAAAAAAAAAAAtaWxzdAAAACWpdG9vAAAAHWRhdGEAAAABAAAAAExhdmY1Ny44My4xMDA=\" type=\"video/mp4\" />\n",
              "            </video>\n",
              "            "
            ],
            "text/plain": [
              "<IPython.core.display.HTML object>"
            ]
          },
          "metadata": {
            "tags": []
          }
        },
        {
          "output_type": "stream",
          "text": [
            "frame =  ('/content/videos/openaigym.video.7.8926.video000064.mp4', '/content/videos/openaigym.video.7.8926.video000064.meta.json')\n"
          ],
          "name": "stdout"
        },
        {
          "output_type": "display_data",
          "data": {
            "text/html": [
              "\n",
              "            <video alt=\"test\" controls>\n",
              "            <source src=\"data:video/mp4;base64,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\" type=\"video/mp4\" />\n",
              "            </video>\n",
              "            "
            ],
            "text/plain": [
              "<IPython.core.display.HTML object>"
            ]
          },
          "metadata": {
            "tags": []
          }
        },
        {
          "output_type": "stream",
          "text": [
            "frame =  ('/content/videos/openaigym.video.7.8926.video000125.mp4', '/content/videos/openaigym.video.7.8926.video000125.meta.json')\n"
          ],
          "name": "stdout"
        },
        {
          "output_type": "display_data",
          "data": {
            "text/html": [
              "\n",
              "            <video alt=\"test\" controls>\n",
              "            <source src=\"data:video/mp4;base64,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\" type=\"video/mp4\" />\n",
              "            </video>\n",
              "            "
            ],
            "text/plain": [
              "<IPython.core.display.HTML object>"
            ]
          },
          "metadata": {
            "tags": []
          }
        },
        {
          "output_type": "stream",
          "text": [
            "frame =  ('/content/videos/openaigym.video.7.8926.video000216.mp4', '/content/videos/openaigym.video.7.8926.video000216.meta.json')\n"
          ],
          "name": "stdout"
        },
        {
          "output_type": "display_data",
          "data": {
            "text/html": [
              "\n",
              "            <video alt=\"test\" controls>\n",
              "            <source src=\"data:video/mp4;base64,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\" type=\"video/mp4\" />\n",
              "            </video>\n",
              "            "
            ],
            "text/plain": [
              "<IPython.core.display.HTML object>"
            ]
          },
          "metadata": {
            "tags": []
          }
        }
      ]
    },
    {
      "cell_type": "markdown",
      "metadata": {
        "id": "O0A4UrQcDe2z"
      },
      "source": [
        "## Note\n",
        "- The reward setting below did not work well.\n",
        "```\n",
        "if is_done:\n",
        "    if step < max_step - 1:\n",
        "        reward = -100\n",
        "    else:\n",
        "        reward = 1\n",
        "else:\n",
        "    reward = 1\n",
        "```\n",
        "- Adam worked better than RMSprop."
      ]
    },
    {
      "cell_type": "markdown",
      "metadata": {
        "id": "OreaPHjM4BJm"
      },
      "source": [
        "## References\n",
        "- [minnano_rl/section_4/02_deep_reinforcement_learning.ipynb](https://github.com/yukinaga/minnano_rl/blob/main/section_4/02_deep_reinforcement_learning.ipynb)\n",
        "- [第15回　CartPole課題で深層強化学習DQNを実装](https://book.mynavi.jp/manatee/detail/id=89831)"
      ]
    },
    {
      "cell_type": "markdown",
      "metadata": {
        "id": "Qvj_G-NFhkCX"
      },
      "source": [
        "## Appendix"
      ]
    },
    {
      "cell_type": "code",
      "metadata": {
        "colab": {
          "base_uri": "https://localhost:8080/"
        },
        "id": "oFM6L1NEhmIa",
        "outputId": "4e4c1835-6807-4cd7-82ab-d48256c1430d"
      },
      "source": [
        "l = [\n",
        "    [\"a1\", \"a2\", \"a3\"],\n",
        "    [\"b1\", \"b2\", \"b3\"],\n",
        "    [\"c1\", \"c2\", \"c3\"],\n",
        "    [\"d1\", \"d2\", \"d3\"]\n",
        "]\n",
        "print(\"l = \", l)\n",
        "print(\"*l = \", *l)\n",
        "print(\"zip(*l) = \", zip(*l))\n",
        "print(\"*zip(*l) = \", *zip(*l))"
      ],
      "execution_count": null,
      "outputs": [
        {
          "output_type": "stream",
          "text": [
            "l =  [['a1', 'a2', 'a3'], ['b1', 'b2', 'b3'], ['c1', 'c2', 'c3'], ['d1', 'd2', 'd3']]\n",
            "*l =  ['a1', 'a2', 'a3'] ['b1', 'b2', 'b3'] ['c1', 'c2', 'c3'] ['d1', 'd2', 'd3']\n",
            "zip(*l) =  <zip object at 0x7f2436bd3870>\n",
            "*zip(*l) =  ('a1', 'b1', 'c1', 'd1') ('a2', 'b2', 'c2', 'd2') ('a3', 'b3', 'c3', 'd3')\n"
          ],
          "name": "stdout"
        }
      ]
    },
    {
      "cell_type": "code",
      "metadata": {
        "colab": {
          "base_uri": "https://localhost:8080/"
        },
        "id": "Ae5P0Fj1yUJP",
        "outputId": "323c108d-eaa5-47e7-85d8-0525d3d397ce"
      },
      "source": [
        "import torch\n",
        "\n",
        "input = torch.tensor([[1, 2, 3],[4, 5, 6],[7, 8, 9]])\n",
        "indices = torch.tensor([[0, 0, 0],[0, 1, 2],[2, 0, 1]])\n",
        "\n",
        "print(\"input = \\n\", input)\n",
        "print(\"indices = \\n\", indices)\n",
        "\n",
        "## Switch values of the tensor according to indices of row (dim=0)\n",
        "print(\"torch.gather(input=input, dim=0, index=indices) = \\n\", torch.gather(input=input, dim=0, index=indices))\n",
        "'''\n",
        "    input[0][0], input[0][1], input[0][2]\n",
        "    input[0][0], input[1][1], input[2][2]\n",
        "    input[2][0], input[0][1], input[1][2]\n",
        "'''\n",
        "\n",
        "## Switch values of the tensor according to indices of col (dim=1)\n",
        "print(\"torch.gather(input=input, dim=1, index=indices) = \\n\", torch.gather(input=input, dim=1, index=indices))\n",
        "'''\n",
        "    input[0][0], input[0][0], input[0][0]\n",
        "    input[1][0], input[1][1], input[2][2]\n",
        "    input[2][2], input[2][0], input[2][1]\n",
        "'''"
      ],
      "execution_count": null,
      "outputs": [
        {
          "output_type": "stream",
          "text": [
            "input = \n",
            " tensor([[1, 2, 3],\n",
            "        [4, 5, 6],\n",
            "        [7, 8, 9]])\n",
            "indices = \n",
            " tensor([[0, 0, 0],\n",
            "        [0, 1, 2],\n",
            "        [2, 0, 1]])\n",
            "torch.gather(input=input, dim=0, index=indices) = \n",
            " tensor([[1, 2, 3],\n",
            "        [1, 5, 9],\n",
            "        [7, 2, 6]])\n",
            "torch.gather(input=input, dim=1, index=indices) = \n",
            " tensor([[1, 1, 1],\n",
            "        [4, 5, 6],\n",
            "        [9, 7, 8]])\n"
          ],
          "name": "stdout"
        }
      ]
    }
  ]
}