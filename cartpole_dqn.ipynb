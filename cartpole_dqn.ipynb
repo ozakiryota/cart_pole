{
  "nbformat": 4,
  "nbformat_minor": 0,
  "metadata": {
    "colab": {
      "name": "cartpole_dqn.ipynb",
      "provenance": [],
      "collapsed_sections": [],
      "authorship_tag": "ABX9TyOeKZ64wOuC4PruefSs0DnX",
      "include_colab_link": true
    },
    "kernelspec": {
      "display_name": "Python 3",
      "name": "python3"
    },
    "language_info": {
      "name": "python"
    },
    "accelerator": "GPU"
  },
  "cells": [
    {
      "cell_type": "markdown",
      "metadata": {
        "id": "view-in-github",
        "colab_type": "text"
      },
      "source": [
        "<a href=\"https://colab.research.google.com/github/ozakiryota/cart_pole/blob/main/cartpole_dqn.ipynb\" target=\"_parent\"><img src=\"https://colab.research.google.com/assets/colab-badge.svg\" alt=\"Open In Colab\"/></a>"
      ]
    },
    {
      "cell_type": "markdown",
      "metadata": {
        "id": "DzGR6DXx5hxW"
      },
      "source": [
        "# Cart-Pole\n"
      ]
    },
    {
      "cell_type": "markdown",
      "metadata": {
        "id": "NztiGF0Ld3ET"
      },
      "source": [
        "Install OpenAI Gym (https://gym.openai.com)"
      ]
    },
    {
      "cell_type": "code",
      "metadata": {
        "colab": {
          "base_uri": "https://localhost:8080/"
        },
        "id": "mTnd9XdOQ0JA",
        "outputId": "f886dbeb-5bf6-471f-abcc-c8e98a47c706"
      },
      "source": [
        "!pip install gym"
      ],
      "execution_count": 31,
      "outputs": [
        {
          "output_type": "stream",
          "text": [
            "Requirement already satisfied: gym in /usr/local/lib/python3.7/dist-packages (0.17.3)\n",
            "Requirement already satisfied: scipy in /usr/local/lib/python3.7/dist-packages (from gym) (1.4.1)\n",
            "Requirement already satisfied: numpy>=1.10.4 in /usr/local/lib/python3.7/dist-packages (from gym) (1.19.5)\n",
            "Requirement already satisfied: pyglet<=1.5.0,>=1.4.0 in /usr/local/lib/python3.7/dist-packages (from gym) (1.5.0)\n",
            "Requirement already satisfied: cloudpickle<1.7.0,>=1.2.0 in /usr/local/lib/python3.7/dist-packages (from gym) (1.3.0)\n",
            "Requirement already satisfied: future in /usr/local/lib/python3.7/dist-packages (from pyglet<=1.5.0,>=1.4.0->gym) (0.16.0)\n"
          ],
          "name": "stdout"
        }
      ]
    },
    {
      "cell_type": "markdown",
      "metadata": {
        "id": "WatqsT0I5lxF"
      },
      "source": [
        "Install the packages for visualizing Gym"
      ]
    },
    {
      "cell_type": "code",
      "metadata": {
        "colab": {
          "base_uri": "https://localhost:8080/"
        },
        "id": "uo7Lrbp5Sqod",
        "outputId": "2b17bba9-d42a-44ca-ecfe-aec8de2e0150"
      },
      "source": [
        "!apt update\n",
        "!apt install xvfb\n",
        "!pip install pyvirtualdisplay"
      ],
      "execution_count": 32,
      "outputs": [
        {
          "output_type": "stream",
          "text": [
            "\u001b[33m\r0% [Working]\u001b[0m\r            \rHit:1 https://cloud.r-project.org/bin/linux/ubuntu bionic-cran40/ InRelease\n",
            "\u001b[33m\r0% [Connecting to archive.ubuntu.com] [Connecting to security.ubuntu.com (91.18\u001b[0m\u001b[33m\r0% [1 InRelease gpgv 3,626 B] [Connecting to archive.ubuntu.com] [Connecting to\u001b[0m\r                                                                               \rIgn:2 https://developer.download.nvidia.com/compute/cuda/repos/ubuntu1804/x86_64  InRelease\n",
            "\u001b[33m\r0% [1 InRelease gpgv 3,626 B] [Connecting to archive.ubuntu.com] [Waiting for h\u001b[0m\r                                                                               \rIgn:3 https://developer.download.nvidia.com/compute/machine-learning/repos/ubuntu1804/x86_64  InRelease\n",
            "\u001b[33m\r0% [1 InRelease gpgv 3,626 B] [Connecting to archive.ubuntu.com] [Waiting for h\u001b[0m\r                                                                               \rHit:4 https://developer.download.nvidia.com/compute/cuda/repos/ubuntu1804/x86_64  Release\n",
            "\u001b[33m\r0% [1 InRelease gpgv 3,626 B] [Connecting to archive.ubuntu.com] [Waiting for h\u001b[0m\r                                                                               \rHit:5 https://developer.download.nvidia.com/compute/machine-learning/repos/ubuntu1804/x86_64  Release\n",
            "Hit:6 http://security.ubuntu.com/ubuntu bionic-security InRelease\n",
            "Hit:7 http://ppa.launchpad.net/c2d4u.team/c2d4u4.0+/ubuntu bionic InRelease\n",
            "Hit:9 http://archive.ubuntu.com/ubuntu bionic InRelease\n",
            "Hit:11 http://archive.ubuntu.com/ubuntu bionic-updates InRelease\n",
            "Hit:12 http://ppa.launchpad.net/cran/libgit2/ubuntu bionic InRelease\n",
            "Hit:13 http://archive.ubuntu.com/ubuntu bionic-backports InRelease\n",
            "Hit:14 http://ppa.launchpad.net/deadsnakes/ppa/ubuntu bionic InRelease\n",
            "Hit:15 http://ppa.launchpad.net/graphics-drivers/ppa/ubuntu bionic InRelease\n",
            "Reading package lists... Done\n",
            "Building dependency tree       \n",
            "Reading state information... Done\n",
            "36 packages can be upgraded. Run 'apt list --upgradable' to see them.\n",
            "Reading package lists... Done\n",
            "Building dependency tree       \n",
            "Reading state information... Done\n",
            "xvfb is already the newest version (2:1.19.6-1ubuntu4.9).\n",
            "The following package was automatically installed and is no longer required:\n",
            "  libnvidia-common-460\n",
            "Use 'apt autoremove' to remove it.\n",
            "0 upgraded, 0 newly installed, 0 to remove and 36 not upgraded.\n",
            "Requirement already satisfied: pyvirtualdisplay in /usr/local/lib/python3.7/dist-packages (2.1)\n",
            "Requirement already satisfied: EasyProcess in /usr/local/lib/python3.7/dist-packages (from pyvirtualdisplay) (0.3)\n"
          ],
          "name": "stdout"
        }
      ]
    },
    {
      "cell_type": "markdown",
      "metadata": {
        "id": "cF70T7rbdLXM"
      },
      "source": [
        "## DQN"
      ]
    },
    {
      "cell_type": "markdown",
      "metadata": {
        "id": "D9MoZlOvenEx"
      },
      "source": [
        "Import Gym"
      ]
    },
    {
      "cell_type": "code",
      "metadata": {
        "id": "rDrypO0FZ9IG"
      },
      "source": [
        "import gym"
      ],
      "execution_count": 33,
      "outputs": []
    },
    {
      "cell_type": "markdown",
      "metadata": {
        "id": "t6r-cLs8ej61"
      },
      "source": [
        "Import the packages for visualizing Gym"
      ]
    },
    {
      "cell_type": "code",
      "metadata": {
        "id": "l8zm1ycgaE8K"
      },
      "source": [
        "import base64\n",
        "import io\n",
        "from gym.wrappers import Monitor\n",
        "from IPython import display\n",
        "from pyvirtualdisplay import Display"
      ],
      "execution_count": 34,
      "outputs": []
    },
    {
      "cell_type": "markdown",
      "metadata": {
        "id": "KgvZ1f4MccCJ"
      },
      "source": [
        "Import required packages"
      ]
    },
    {
      "cell_type": "code",
      "metadata": {
        "id": "0a3R-TE_gaS1"
      },
      "source": [
        "import numpy as np\n",
        "\n",
        "import torch\n",
        "from torch import nn\n",
        "import torch.optim as optim"
      ],
      "execution_count": 35,
      "outputs": []
    },
    {
      "cell_type": "markdown",
      "metadata": {
        "id": "rSkAwHBHGqxK"
      },
      "source": [
        "Net class"
      ]
    },
    {
      "cell_type": "code",
      "metadata": {
        "id": "r5x31HxMGqTk"
      },
      "source": [
        "class Net(nn.Module):\n",
        "    def __init__(self, num_states, dim_mid, num_actions):\n",
        "        super().__init__()\n",
        "\n",
        "        self.fc = nn.Sequential(\n",
        "            nn.Linear(num_states, dim_mid),\n",
        "            nn.ReLU(),\n",
        "            nn.Linear(dim_mid, dim_mid),\n",
        "            nn.ReLU(),\n",
        "            nn.Linear(dim_mid, num_actions)\n",
        "        )\n",
        "\n",
        "    def forward(self, x):\n",
        "        x = self.fc(x)\n",
        "        return x"
      ],
      "execution_count": 36,
      "outputs": []
    },
    {
      "cell_type": "markdown",
      "metadata": {
        "id": "Htu4VPF8cflL"
      },
      "source": [
        "Brain class"
      ]
    },
    {
      "cell_type": "code",
      "metadata": {
        "id": "PMFWoAE1RIRe"
      },
      "source": [
        "class Brain:\n",
        "    def __init__(self, num_states, num_actions, gamma, r, lr):\n",
        "        self.num_states = num_states\n",
        "        self.num_actions = num_actions\n",
        "\n",
        "        self.device = torch.device(\"cuda:0\" if torch.cuda.is_available() else \"cpu\")\n",
        "        print(\"self.device = \", self.device)\n",
        "        self.net = Net(num_states, 32, num_actions)\n",
        "        self.net.to(self.device)\n",
        "        self.criterion = nn.MSELoss()\n",
        "        self.optimizer = optim.RMSprop(self.net.parameters(), lr=lr)\n",
        "        #self.optimizer = optim.Adam(self.model.parameters(), lr=lr)\n",
        "\n",
        "        self.eps = 1.0  # for epsilon greedy algorithm\n",
        "        self.gamma = gamma\n",
        "        self.r = r\n",
        " \n",
        "    def updateQnet(self, obs_numpy, action, reward, next_obs_numpy):\n",
        "        obs_tensor = torch.from_numpy(obs_numpy).float()\n",
        "        obs_tensor.unsqueeze_(0)\n",
        "        obs_tensor = obs_tensor.to(self.device)\n",
        "\n",
        "        next_obs_tensor = torch.from_numpy(next_obs_numpy).float()\n",
        "        next_obs_tensor.unsqueeze_(0)\n",
        "        next_obs_tensor = next_obs_tensor.to(self.device)\n",
        "\n",
        "        self.optimizer.zero_grad()\n",
        "\n",
        "        self.net.train()\n",
        "        q = self.net(obs_tensor)\n",
        "\n",
        "        with torch.no_grad():\n",
        "            self.net.eval()\n",
        "            labels = self.net(obs_tensor)\n",
        "            next_q = self.net(next_obs_tensor)\n",
        "\n",
        "            labels[:, action] = reward + self.gamma*np.max(next_q.cpu().detach().numpy(), axis=1)[0]\n",
        "        \n",
        "        loss = self.criterion(q, labels)\n",
        "        loss.backward()\n",
        "        self.optimizer.step()\n",
        "\n",
        "    def getAction(self, obs_numpy, is_training):\n",
        "        if is_training and np.random.rand() < self.eps:\n",
        "            action = np.random.randint(self.num_actions)\n",
        "        else:\n",
        "            obs_tensor = torch.from_numpy(obs_numpy).float()\n",
        "            obs_tensor.unsqueeze_(0)\n",
        "            obs_tensor = obs_tensor.to(self.device)\n",
        "            with torch.no_grad():\n",
        "                self.net.eval()\n",
        "                q = self.net(obs_tensor)\n",
        "                action = np.argmax(q.cpu().detach().numpy(), axis=1)[0]\n",
        "        ## update eps\n",
        "        if is_training and self.eps > 0.1:\n",
        "            self.eps *= self.r\n",
        "        return action"
      ],
      "execution_count": 46,
      "outputs": []
    },
    {
      "cell_type": "markdown",
      "metadata": {
        "id": "sSn2nGYqzoqh"
      },
      "source": [
        "Agent class"
      ]
    },
    {
      "cell_type": "code",
      "metadata": {
        "id": "GnTqsw2uzsXP"
      },
      "source": [
        "class Agent:\n",
        "    def __init__(self, num_states, num_actions, gamma, r, lr):\n",
        "        self.brain = Brain(num_states, num_actions, gamma, r, lr)\n",
        " \n",
        "    def updateQnet(self, obs, action, reward, next_obs):\n",
        "        self.brain.updateQnet(obs, action, reward, next_obs)\n",
        " \n",
        "    def getAction(self, obs, is_training):\n",
        "        action = self.brain.getAction(obs, is_training)\n",
        "        return action"
      ],
      "execution_count": 38,
      "outputs": []
    },
    {
      "cell_type": "markdown",
      "metadata": {
        "id": "QzJjzN5VB-pQ"
      },
      "source": [
        "Environment class"
      ]
    },
    {
      "cell_type": "code",
      "metadata": {
        "id": "nuXmrqq7CBog"
      },
      "source": [
        "class Environment:\n",
        "    def __init__(self, num_episodes, max_step, gamma, r, lr):\n",
        "        ## parameters\n",
        "        self.num_episodes = num_episodes\n",
        "        self.max_step = max_step\n",
        "        ## environment\n",
        "        self.env = Monitor(gym.make('CartPole-v0'), './videos/', force=True)\n",
        "        ## agent\n",
        "        num_states = self.env.observation_space.shape[0]    # position, velocity, angle, angular velocity\n",
        "        num_actions = self.env.action_space.n\n",
        "        self.agent = Agent(num_states, num_actions, gamma, r, lr)\n",
        "\n",
        "    def train(self):\n",
        "        num_completed_episodes = 0\n",
        "        \n",
        "        for episode in range(self.num_episodes):\n",
        "            obs = self.env.reset()\n",
        "            episode_reward = 0\n",
        " \n",
        "            for step in range(self.max_step):\n",
        "                ## get action\n",
        "                action = self.agent.getAction(obs, is_training=True)\n",
        "                ## observe next step\n",
        "                next_obs, _, is_done, _ = self.env.step(action)\n",
        "                ## get reward\n",
        "                if is_done:\n",
        "                    if step < max_step - 1:\n",
        "                        reward = -1\n",
        "                    else:\n",
        "                        reward = 1\n",
        "                        num_completed_episodes += 1\n",
        "                else:\n",
        "                    reward = 0\n",
        "                episode_reward += reward\n",
        "                ## update\n",
        "                self.agent.updateQnet(obs, action, reward, next_obs)\n",
        "                ## to next step\n",
        "                obs = next_obs\n",
        "\n",
        "                if is_done:\n",
        "                    print('{0} Episode: Finished after {1} time steps with reward {2}'.format(episode, step+1, episode_reward))\n",
        "                    break\n",
        "        print(\"num_completed_episodes = \", num_completed_episodes)\n",
        "\n",
        "    def evaluate(self):\n",
        "        obs = self.env.reset()\n",
        "        \n",
        "        for step in range(self.max_step):\n",
        "            ## get action\n",
        "            action = self.agent.getAction(obs, is_training=False)\n",
        "            ## observe next step\n",
        "            next_obs, _, is_done, _ = self.env.step(action)\n",
        "            ## to next step\n",
        "            obs = next_obs\n",
        "\n",
        "            if is_done:\n",
        "                print('Evaluation: Finished after {} time steps'.format(step+1))\n",
        "                break"
      ],
      "execution_count": 39,
      "outputs": []
    },
    {
      "cell_type": "markdown",
      "metadata": {
        "id": "xDKojCejb2-A"
      },
      "source": [
        "Prepare showing videos of the restults"
      ]
    },
    {
      "cell_type": "code",
      "metadata": {
        "id": "kvmszieobbrX"
      },
      "source": [
        "def show_video(env):\n",
        "    env.reset()\n",
        "    for frame in env.videos:\n",
        "        print(\"frame = \", frame)\n",
        "        video = io.open(frame[0], 'r+b').read()\n",
        "        encoded = base64.b64encode(video)\n",
        "\n",
        "        display.display(display.HTML(data=\"\"\"\n",
        "            <video alt=\"test\" controls>\n",
        "            <source src=\"data:video/mp4;base64,{0}\" type=\"video/mp4\" />\n",
        "            </video>\n",
        "            \"\"\".format(encoded.decode('ascii')))\n",
        "        )"
      ],
      "execution_count": 40,
      "outputs": []
    },
    {
      "cell_type": "markdown",
      "metadata": {
        "id": "2C7zmRMnW1i8"
      },
      "source": [
        "Run training"
      ]
    },
    {
      "cell_type": "code",
      "metadata": {
        "id": "ZJqfOQ-tW0sA",
        "colab": {
          "base_uri": "https://localhost:8080/",
          "height": 1000
        },
        "outputId": "2266fd2d-df69-4f35-af67-3c2a127e41f7"
      },
      "source": [
        "## display\n",
        "virtual_display = Display()\n",
        "virtual_display.start()\n",
        "\n",
        "## parameters\n",
        "num_episodes = 1000\n",
        "max_step = 200\n",
        "gamma = 0.9\n",
        "r = 0.99\n",
        "lr = 0.001\n",
        "\n",
        "## run\n",
        "cartpole_env = Environment(num_episodes, max_step, gamma, r, lr)\n",
        "cartpole_env.train()\n",
        "cartpole_env.evaluate()\n",
        "show_video(cartpole_env.env)"
      ],
      "execution_count": 47,
      "outputs": [
        {
          "output_type": "stream",
          "text": [
            "self.device =  cuda:0\n",
            "0 Episode: Finished after 16 time steps with reward -1\n",
            "1 Episode: Finished after 32 time steps with reward -1\n",
            "2 Episode: Finished after 21 time steps with reward -1\n",
            "3 Episode: Finished after 28 time steps with reward -1\n",
            "4 Episode: Finished after 11 time steps with reward -1\n",
            "5 Episode: Finished after 18 time steps with reward -1\n",
            "6 Episode: Finished after 10 time steps with reward -1\n",
            "7 Episode: Finished after 8 time steps with reward -1\n",
            "8 Episode: Finished after 10 time steps with reward -1\n",
            "9 Episode: Finished after 9 time steps with reward -1\n",
            "10 Episode: Finished after 10 time steps with reward -1\n",
            "11 Episode: Finished after 13 time steps with reward -1\n",
            "12 Episode: Finished after 9 time steps with reward -1\n",
            "13 Episode: Finished after 19 time steps with reward -1\n",
            "14 Episode: Finished after 23 time steps with reward -1\n",
            "15 Episode: Finished after 10 time steps with reward -1\n",
            "16 Episode: Finished after 17 time steps with reward -1\n",
            "17 Episode: Finished after 29 time steps with reward -1\n",
            "18 Episode: Finished after 22 time steps with reward -1\n",
            "19 Episode: Finished after 55 time steps with reward -1\n",
            "20 Episode: Finished after 14 time steps with reward -1\n",
            "21 Episode: Finished after 14 time steps with reward -1\n",
            "22 Episode: Finished after 13 time steps with reward -1\n",
            "23 Episode: Finished after 8 time steps with reward -1\n",
            "24 Episode: Finished after 9 time steps with reward -1\n",
            "25 Episode: Finished after 16 time steps with reward -1\n",
            "26 Episode: Finished after 13 time steps with reward -1\n",
            "27 Episode: Finished after 9 time steps with reward -1\n",
            "28 Episode: Finished after 11 time steps with reward -1\n",
            "29 Episode: Finished after 37 time steps with reward -1\n",
            "30 Episode: Finished after 29 time steps with reward -1\n",
            "31 Episode: Finished after 41 time steps with reward -1\n",
            "32 Episode: Finished after 88 time steps with reward -1\n",
            "33 Episode: Finished after 18 time steps with reward -1\n",
            "34 Episode: Finished after 113 time steps with reward -1\n",
            "35 Episode: Finished after 20 time steps with reward -1\n",
            "36 Episode: Finished after 9 time steps with reward -1\n",
            "37 Episode: Finished after 10 time steps with reward -1\n",
            "38 Episode: Finished after 9 time steps with reward -1\n",
            "39 Episode: Finished after 10 time steps with reward -1\n",
            "40 Episode: Finished after 12 time steps with reward -1\n",
            "41 Episode: Finished after 10 time steps with reward -1\n",
            "42 Episode: Finished after 88 time steps with reward -1\n",
            "43 Episode: Finished after 55 time steps with reward -1\n",
            "44 Episode: Finished after 23 time steps with reward -1\n",
            "45 Episode: Finished after 17 time steps with reward -1\n",
            "46 Episode: Finished after 11 time steps with reward -1\n",
            "47 Episode: Finished after 10 time steps with reward -1\n",
            "48 Episode: Finished after 14 time steps with reward -1\n",
            "49 Episode: Finished after 28 time steps with reward -1\n",
            "50 Episode: Finished after 21 time steps with reward -1\n",
            "51 Episode: Finished after 25 time steps with reward -1\n",
            "52 Episode: Finished after 20 time steps with reward -1\n",
            "53 Episode: Finished after 15 time steps with reward -1\n",
            "54 Episode: Finished after 15 time steps with reward -1\n",
            "55 Episode: Finished after 22 time steps with reward -1\n",
            "56 Episode: Finished after 48 time steps with reward -1\n",
            "57 Episode: Finished after 34 time steps with reward -1\n",
            "58 Episode: Finished after 25 time steps with reward -1\n",
            "59 Episode: Finished after 44 time steps with reward -1\n",
            "60 Episode: Finished after 44 time steps with reward -1\n",
            "61 Episode: Finished after 33 time steps with reward -1\n",
            "62 Episode: Finished after 28 time steps with reward -1\n",
            "63 Episode: Finished after 51 time steps with reward -1\n",
            "64 Episode: Finished after 67 time steps with reward -1\n",
            "65 Episode: Finished after 66 time steps with reward -1\n",
            "66 Episode: Finished after 40 time steps with reward -1\n",
            "67 Episode: Finished after 47 time steps with reward -1\n",
            "68 Episode: Finished after 29 time steps with reward -1\n",
            "69 Episode: Finished after 49 time steps with reward -1\n",
            "70 Episode: Finished after 56 time steps with reward -1\n",
            "71 Episode: Finished after 60 time steps with reward -1\n",
            "72 Episode: Finished after 38 time steps with reward -1\n",
            "73 Episode: Finished after 23 time steps with reward -1\n",
            "74 Episode: Finished after 30 time steps with reward -1\n",
            "75 Episode: Finished after 50 time steps with reward -1\n",
            "76 Episode: Finished after 63 time steps with reward -1\n",
            "77 Episode: Finished after 41 time steps with reward -1\n",
            "78 Episode: Finished after 31 time steps with reward -1\n",
            "79 Episode: Finished after 17 time steps with reward -1\n",
            "80 Episode: Finished after 17 time steps with reward -1\n",
            "81 Episode: Finished after 16 time steps with reward -1\n",
            "82 Episode: Finished after 22 time steps with reward -1\n",
            "83 Episode: Finished after 63 time steps with reward -1\n",
            "84 Episode: Finished after 49 time steps with reward -1\n",
            "85 Episode: Finished after 43 time steps with reward -1\n",
            "86 Episode: Finished after 43 time steps with reward -1\n",
            "87 Episode: Finished after 56 time steps with reward -1\n",
            "88 Episode: Finished after 21 time steps with reward -1\n",
            "89 Episode: Finished after 45 time steps with reward -1\n",
            "90 Episode: Finished after 43 time steps with reward -1\n",
            "91 Episode: Finished after 27 time steps with reward -1\n",
            "92 Episode: Finished after 50 time steps with reward -1\n",
            "93 Episode: Finished after 38 time steps with reward -1\n",
            "94 Episode: Finished after 70 time steps with reward -1\n",
            "95 Episode: Finished after 16 time steps with reward -1\n",
            "96 Episode: Finished after 12 time steps with reward -1\n",
            "97 Episode: Finished after 12 time steps with reward -1\n",
            "98 Episode: Finished after 21 time steps with reward -1\n",
            "99 Episode: Finished after 33 time steps with reward -1\n",
            "100 Episode: Finished after 23 time steps with reward -1\n",
            "101 Episode: Finished after 65 time steps with reward -1\n",
            "102 Episode: Finished after 31 time steps with reward -1\n",
            "103 Episode: Finished after 22 time steps with reward -1\n",
            "104 Episode: Finished after 84 time steps with reward -1\n",
            "105 Episode: Finished after 37 time steps with reward -1\n",
            "106 Episode: Finished after 51 time steps with reward -1\n",
            "107 Episode: Finished after 31 time steps with reward -1\n",
            "108 Episode: Finished after 35 time steps with reward -1\n",
            "109 Episode: Finished after 83 time steps with reward -1\n",
            "110 Episode: Finished after 50 time steps with reward -1\n",
            "111 Episode: Finished after 34 time steps with reward -1\n",
            "112 Episode: Finished after 62 time steps with reward -1\n",
            "113 Episode: Finished after 20 time steps with reward -1\n",
            "114 Episode: Finished after 39 time steps with reward -1\n",
            "115 Episode: Finished after 99 time steps with reward -1\n",
            "116 Episode: Finished after 45 time steps with reward -1\n",
            "117 Episode: Finished after 36 time steps with reward -1\n",
            "118 Episode: Finished after 33 time steps with reward -1\n",
            "119 Episode: Finished after 94 time steps with reward -1\n",
            "120 Episode: Finished after 144 time steps with reward -1\n",
            "121 Episode: Finished after 146 time steps with reward -1\n",
            "122 Episode: Finished after 10 time steps with reward -1\n",
            "123 Episode: Finished after 33 time steps with reward -1\n",
            "124 Episode: Finished after 115 time steps with reward -1\n",
            "125 Episode: Finished after 58 time steps with reward -1\n",
            "126 Episode: Finished after 11 time steps with reward -1\n",
            "127 Episode: Finished after 66 time steps with reward -1\n",
            "128 Episode: Finished after 86 time steps with reward -1\n",
            "129 Episode: Finished after 200 time steps with reward 1\n",
            "130 Episode: Finished after 200 time steps with reward 1\n",
            "131 Episode: Finished after 105 time steps with reward -1\n",
            "132 Episode: Finished after 200 time steps with reward 1\n",
            "133 Episode: Finished after 14 time steps with reward -1\n",
            "134 Episode: Finished after 9 time steps with reward -1\n",
            "135 Episode: Finished after 200 time steps with reward 1\n",
            "136 Episode: Finished after 166 time steps with reward -1\n",
            "137 Episode: Finished after 9 time steps with reward -1\n",
            "138 Episode: Finished after 120 time steps with reward -1\n",
            "139 Episode: Finished after 71 time steps with reward -1\n",
            "140 Episode: Finished after 25 time steps with reward -1\n",
            "141 Episode: Finished after 22 time steps with reward -1\n",
            "142 Episode: Finished after 11 time steps with reward -1\n",
            "143 Episode: Finished after 9 time steps with reward -1\n",
            "144 Episode: Finished after 42 time steps with reward -1\n",
            "145 Episode: Finished after 47 time steps with reward -1\n",
            "146 Episode: Finished after 52 time steps with reward -1\n",
            "147 Episode: Finished after 44 time steps with reward -1\n",
            "148 Episode: Finished after 44 time steps with reward -1\n",
            "149 Episode: Finished after 29 time steps with reward -1\n",
            "150 Episode: Finished after 31 time steps with reward -1\n",
            "151 Episode: Finished after 17 time steps with reward -1\n",
            "152 Episode: Finished after 17 time steps with reward -1\n",
            "153 Episode: Finished after 28 time steps with reward -1\n",
            "154 Episode: Finished after 29 time steps with reward -1\n",
            "155 Episode: Finished after 38 time steps with reward -1\n",
            "156 Episode: Finished after 31 time steps with reward -1\n",
            "157 Episode: Finished after 178 time steps with reward -1\n",
            "158 Episode: Finished after 22 time steps with reward -1\n",
            "159 Episode: Finished after 19 time steps with reward -1\n",
            "160 Episode: Finished after 15 time steps with reward -1\n",
            "161 Episode: Finished after 34 time steps with reward -1\n",
            "162 Episode: Finished after 29 time steps with reward -1\n",
            "163 Episode: Finished after 21 time steps with reward -1\n",
            "164 Episode: Finished after 17 time steps with reward -1\n",
            "165 Episode: Finished after 16 time steps with reward -1\n",
            "166 Episode: Finished after 34 time steps with reward -1\n",
            "167 Episode: Finished after 63 time steps with reward -1\n",
            "168 Episode: Finished after 130 time steps with reward -1\n",
            "169 Episode: Finished after 106 time steps with reward -1\n",
            "170 Episode: Finished after 82 time steps with reward -1\n",
            "171 Episode: Finished after 11 time steps with reward -1\n",
            "172 Episode: Finished after 9 time steps with reward -1\n",
            "173 Episode: Finished after 9 time steps with reward -1\n",
            "174 Episode: Finished after 14 time steps with reward -1\n",
            "175 Episode: Finished after 15 time steps with reward -1\n",
            "176 Episode: Finished after 143 time steps with reward -1\n",
            "177 Episode: Finished after 9 time steps with reward -1\n",
            "178 Episode: Finished after 51 time steps with reward -1\n",
            "179 Episode: Finished after 47 time steps with reward -1\n",
            "180 Episode: Finished after 37 time steps with reward -1\n",
            "181 Episode: Finished after 28 time steps with reward -1\n",
            "182 Episode: Finished after 39 time steps with reward -1\n",
            "183 Episode: Finished after 39 time steps with reward -1\n",
            "184 Episode: Finished after 37 time steps with reward -1\n",
            "185 Episode: Finished after 55 time steps with reward -1\n",
            "186 Episode: Finished after 47 time steps with reward -1\n",
            "187 Episode: Finished after 50 time steps with reward -1\n",
            "188 Episode: Finished after 74 time steps with reward -1\n",
            "189 Episode: Finished after 66 time steps with reward -1\n",
            "190 Episode: Finished after 59 time steps with reward -1\n",
            "191 Episode: Finished after 76 time steps with reward -1\n",
            "192 Episode: Finished after 200 time steps with reward 1\n",
            "193 Episode: Finished after 80 time steps with reward -1\n",
            "194 Episode: Finished after 200 time steps with reward 1\n",
            "195 Episode: Finished after 170 time steps with reward -1\n",
            "196 Episode: Finished after 83 time steps with reward -1\n",
            "197 Episode: Finished after 152 time steps with reward -1\n",
            "198 Episode: Finished after 186 time steps with reward -1\n",
            "199 Episode: Finished after 22 time steps with reward -1\n",
            "200 Episode: Finished after 37 time steps with reward -1\n",
            "201 Episode: Finished after 79 time steps with reward -1\n",
            "202 Episode: Finished after 53 time steps with reward -1\n",
            "203 Episode: Finished after 64 time steps with reward -1\n",
            "204 Episode: Finished after 42 time steps with reward -1\n",
            "205 Episode: Finished after 47 time steps with reward -1\n",
            "206 Episode: Finished after 43 time steps with reward -1\n",
            "207 Episode: Finished after 22 time steps with reward -1\n",
            "208 Episode: Finished after 20 time steps with reward -1\n",
            "209 Episode: Finished after 13 time steps with reward -1\n",
            "210 Episode: Finished after 16 time steps with reward -1\n",
            "211 Episode: Finished after 17 time steps with reward -1\n",
            "212 Episode: Finished after 48 time steps with reward -1\n",
            "213 Episode: Finished after 36 time steps with reward -1\n",
            "214 Episode: Finished after 35 time steps with reward -1\n",
            "215 Episode: Finished after 23 time steps with reward -1\n",
            "216 Episode: Finished after 100 time steps with reward -1\n",
            "217 Episode: Finished after 13 time steps with reward -1\n",
            "218 Episode: Finished after 17 time steps with reward -1\n",
            "219 Episode: Finished after 29 time steps with reward -1\n",
            "220 Episode: Finished after 56 time steps with reward -1\n",
            "221 Episode: Finished after 184 time steps with reward -1\n",
            "222 Episode: Finished after 13 time steps with reward -1\n",
            "223 Episode: Finished after 129 time steps with reward -1\n",
            "224 Episode: Finished after 132 time steps with reward -1\n",
            "225 Episode: Finished after 36 time steps with reward -1\n",
            "226 Episode: Finished after 53 time steps with reward -1\n",
            "227 Episode: Finished after 62 time steps with reward -1\n",
            "228 Episode: Finished after 15 time steps with reward -1\n",
            "229 Episode: Finished after 200 time steps with reward 1\n",
            "230 Episode: Finished after 52 time steps with reward -1\n",
            "231 Episode: Finished after 200 time steps with reward 1\n",
            "232 Episode: Finished after 200 time steps with reward 1\n",
            "233 Episode: Finished after 199 time steps with reward -1\n",
            "234 Episode: Finished after 49 time steps with reward -1\n",
            "235 Episode: Finished after 200 time steps with reward 1\n",
            "236 Episode: Finished after 200 time steps with reward 1\n",
            "237 Episode: Finished after 53 time steps with reward -1\n",
            "238 Episode: Finished after 200 time steps with reward 1\n",
            "239 Episode: Finished after 199 time steps with reward -1\n",
            "240 Episode: Finished after 200 time steps with reward 1\n",
            "241 Episode: Finished after 200 time steps with reward 1\n",
            "242 Episode: Finished after 142 time steps with reward -1\n",
            "243 Episode: Finished after 88 time steps with reward -1\n",
            "244 Episode: Finished after 132 time steps with reward -1\n",
            "245 Episode: Finished after 187 time steps with reward -1\n",
            "246 Episode: Finished after 135 time steps with reward -1\n",
            "247 Episode: Finished after 169 time steps with reward -1\n",
            "248 Episode: Finished after 114 time steps with reward -1\n",
            "249 Episode: Finished after 200 time steps with reward 1\n",
            "250 Episode: Finished after 120 time steps with reward -1\n",
            "251 Episode: Finished after 200 time steps with reward 1\n",
            "252 Episode: Finished after 20 time steps with reward -1\n",
            "253 Episode: Finished after 47 time steps with reward -1\n",
            "254 Episode: Finished after 200 time steps with reward 1\n",
            "255 Episode: Finished after 82 time steps with reward -1\n",
            "256 Episode: Finished after 200 time steps with reward 1\n",
            "257 Episode: Finished after 158 time steps with reward -1\n",
            "258 Episode: Finished after 156 time steps with reward -1\n",
            "259 Episode: Finished after 69 time steps with reward -1\n",
            "260 Episode: Finished after 28 time steps with reward -1\n",
            "261 Episode: Finished after 25 time steps with reward -1\n",
            "262 Episode: Finished after 20 time steps with reward -1\n",
            "263 Episode: Finished after 91 time steps with reward -1\n",
            "264 Episode: Finished after 134 time steps with reward -1\n",
            "265 Episode: Finished after 23 time steps with reward -1\n",
            "266 Episode: Finished after 61 time steps with reward -1\n",
            "267 Episode: Finished after 180 time steps with reward -1\n",
            "268 Episode: Finished after 102 time steps with reward -1\n",
            "269 Episode: Finished after 72 time steps with reward -1\n",
            "270 Episode: Finished after 115 time steps with reward -1\n",
            "271 Episode: Finished after 100 time steps with reward -1\n",
            "272 Episode: Finished after 59 time steps with reward -1\n",
            "273 Episode: Finished after 17 time steps with reward -1\n",
            "274 Episode: Finished after 20 time steps with reward -1\n",
            "275 Episode: Finished after 21 time steps with reward -1\n",
            "276 Episode: Finished after 148 time steps with reward -1\n",
            "277 Episode: Finished after 47 time steps with reward -1\n",
            "278 Episode: Finished after 127 time steps with reward -1\n",
            "279 Episode: Finished after 164 time steps with reward -1\n",
            "280 Episode: Finished after 200 time steps with reward 1\n",
            "281 Episode: Finished after 109 time steps with reward -1\n",
            "282 Episode: Finished after 109 time steps with reward -1\n",
            "283 Episode: Finished after 10 time steps with reward -1\n",
            "284 Episode: Finished after 9 time steps with reward -1\n",
            "285 Episode: Finished after 185 time steps with reward -1\n",
            "286 Episode: Finished after 39 time steps with reward -1\n",
            "287 Episode: Finished after 101 time steps with reward -1\n",
            "288 Episode: Finished after 101 time steps with reward -1\n",
            "289 Episode: Finished after 18 time steps with reward -1\n",
            "290 Episode: Finished after 16 time steps with reward -1\n",
            "291 Episode: Finished after 20 time steps with reward -1\n",
            "292 Episode: Finished after 116 time steps with reward -1\n",
            "293 Episode: Finished after 182 time steps with reward -1\n",
            "294 Episode: Finished after 151 time steps with reward -1\n",
            "295 Episode: Finished after 106 time steps with reward -1\n",
            "296 Episode: Finished after 122 time steps with reward -1\n",
            "297 Episode: Finished after 155 time steps with reward -1\n",
            "298 Episode: Finished after 158 time steps with reward -1\n",
            "299 Episode: Finished after 200 time steps with reward 1\n",
            "300 Episode: Finished after 188 time steps with reward -1\n",
            "301 Episode: Finished after 200 time steps with reward 1\n",
            "302 Episode: Finished after 200 time steps with reward 1\n",
            "303 Episode: Finished after 200 time steps with reward 1\n",
            "304 Episode: Finished after 185 time steps with reward -1\n",
            "305 Episode: Finished after 177 time steps with reward -1\n",
            "306 Episode: Finished after 200 time steps with reward 1\n",
            "307 Episode: Finished after 182 time steps with reward -1\n",
            "308 Episode: Finished after 25 time steps with reward -1\n",
            "309 Episode: Finished after 17 time steps with reward -1\n",
            "310 Episode: Finished after 25 time steps with reward -1\n",
            "311 Episode: Finished after 25 time steps with reward -1\n",
            "312 Episode: Finished after 126 time steps with reward -1\n",
            "313 Episode: Finished after 156 time steps with reward -1\n",
            "314 Episode: Finished after 200 time steps with reward 1\n",
            "315 Episode: Finished after 175 time steps with reward -1\n",
            "316 Episode: Finished after 188 time steps with reward -1\n",
            "317 Episode: Finished after 200 time steps with reward 1\n",
            "318 Episode: Finished after 200 time steps with reward 1\n",
            "319 Episode: Finished after 169 time steps with reward -1\n",
            "320 Episode: Finished after 174 time steps with reward -1\n",
            "321 Episode: Finished after 200 time steps with reward 1\n",
            "322 Episode: Finished after 183 time steps with reward -1\n",
            "323 Episode: Finished after 196 time steps with reward -1\n",
            "324 Episode: Finished after 154 time steps with reward -1\n",
            "325 Episode: Finished after 15 time steps with reward -1\n",
            "326 Episode: Finished after 139 time steps with reward -1\n",
            "327 Episode: Finished after 200 time steps with reward 1\n",
            "328 Episode: Finished after 186 time steps with reward -1\n",
            "329 Episode: Finished after 133 time steps with reward -1\n",
            "330 Episode: Finished after 97 time steps with reward -1\n",
            "331 Episode: Finished after 104 time steps with reward -1\n",
            "332 Episode: Finished after 91 time steps with reward -1\n",
            "333 Episode: Finished after 90 time steps with reward -1\n",
            "334 Episode: Finished after 123 time steps with reward -1\n",
            "335 Episode: Finished after 118 time steps with reward -1\n",
            "336 Episode: Finished after 105 time steps with reward -1\n",
            "337 Episode: Finished after 115 time steps with reward -1\n",
            "338 Episode: Finished after 200 time steps with reward 1\n",
            "339 Episode: Finished after 200 time steps with reward 1\n",
            "340 Episode: Finished after 200 time steps with reward 1\n",
            "341 Episode: Finished after 200 time steps with reward 1\n",
            "342 Episode: Finished after 200 time steps with reward 1\n",
            "343 Episode: Finished after 200 time steps with reward 1\n",
            "344 Episode: Finished after 188 time steps with reward -1\n",
            "345 Episode: Finished after 133 time steps with reward -1\n",
            "346 Episode: Finished after 200 time steps with reward 1\n",
            "347 Episode: Finished after 200 time steps with reward 1\n",
            "348 Episode: Finished after 200 time steps with reward 1\n",
            "349 Episode: Finished after 200 time steps with reward 1\n",
            "350 Episode: Finished after 200 time steps with reward 1\n",
            "351 Episode: Finished after 200 time steps with reward 1\n",
            "352 Episode: Finished after 200 time steps with reward 1\n",
            "353 Episode: Finished after 113 time steps with reward -1\n",
            "354 Episode: Finished after 12 time steps with reward -1\n",
            "355 Episode: Finished after 49 time steps with reward -1\n",
            "356 Episode: Finished after 11 time steps with reward -1\n",
            "357 Episode: Finished after 10 time steps with reward -1\n",
            "358 Episode: Finished after 10 time steps with reward -1\n",
            "359 Episode: Finished after 200 time steps with reward 1\n",
            "360 Episode: Finished after 14 time steps with reward -1\n",
            "361 Episode: Finished after 14 time steps with reward -1\n",
            "362 Episode: Finished after 20 time steps with reward -1\n",
            "363 Episode: Finished after 200 time steps with reward 1\n",
            "364 Episode: Finished after 200 time steps with reward 1\n",
            "365 Episode: Finished after 200 time steps with reward 1\n",
            "366 Episode: Finished after 200 time steps with reward 1\n",
            "367 Episode: Finished after 200 time steps with reward 1\n",
            "368 Episode: Finished after 200 time steps with reward 1\n",
            "369 Episode: Finished after 18 time steps with reward -1\n",
            "370 Episode: Finished after 70 time steps with reward -1\n",
            "371 Episode: Finished after 200 time steps with reward 1\n",
            "372 Episode: Finished after 12 time steps with reward -1\n",
            "373 Episode: Finished after 12 time steps with reward -1\n",
            "374 Episode: Finished after 16 time steps with reward -1\n",
            "375 Episode: Finished after 55 time steps with reward -1\n",
            "376 Episode: Finished after 161 time steps with reward -1\n",
            "377 Episode: Finished after 10 time steps with reward -1\n",
            "378 Episode: Finished after 10 time steps with reward -1\n",
            "379 Episode: Finished after 12 time steps with reward -1\n",
            "380 Episode: Finished after 14 time steps with reward -1\n",
            "381 Episode: Finished after 200 time steps with reward 1\n",
            "382 Episode: Finished after 139 time steps with reward -1\n",
            "383 Episode: Finished after 128 time steps with reward -1\n",
            "384 Episode: Finished after 13 time steps with reward -1\n",
            "385 Episode: Finished after 17 time steps with reward -1\n",
            "386 Episode: Finished after 13 time steps with reward -1\n",
            "387 Episode: Finished after 16 time steps with reward -1\n",
            "388 Episode: Finished after 30 time steps with reward -1\n",
            "389 Episode: Finished after 200 time steps with reward 1\n",
            "390 Episode: Finished after 200 time steps with reward 1\n",
            "391 Episode: Finished after 200 time steps with reward 1\n",
            "392 Episode: Finished after 200 time steps with reward 1\n",
            "393 Episode: Finished after 200 time steps with reward 1\n",
            "394 Episode: Finished after 200 time steps with reward 1\n",
            "395 Episode: Finished after 200 time steps with reward 1\n",
            "396 Episode: Finished after 200 time steps with reward 1\n",
            "397 Episode: Finished after 167 time steps with reward -1\n",
            "398 Episode: Finished after 104 time steps with reward -1\n",
            "399 Episode: Finished after 200 time steps with reward 1\n",
            "400 Episode: Finished after 200 time steps with reward 1\n",
            "401 Episode: Finished after 200 time steps with reward 1\n",
            "402 Episode: Finished after 10 time steps with reward -1\n",
            "403 Episode: Finished after 13 time steps with reward -1\n",
            "404 Episode: Finished after 200 time steps with reward 1\n",
            "405 Episode: Finished after 17 time steps with reward -1\n",
            "406 Episode: Finished after 98 time steps with reward -1\n",
            "407 Episode: Finished after 103 time steps with reward -1\n",
            "408 Episode: Finished after 146 time steps with reward -1\n",
            "409 Episode: Finished after 200 time steps with reward 1\n",
            "410 Episode: Finished after 119 time steps with reward -1\n",
            "411 Episode: Finished after 113 time steps with reward -1\n",
            "412 Episode: Finished after 200 time steps with reward 1\n",
            "413 Episode: Finished after 200 time steps with reward 1\n",
            "414 Episode: Finished after 187 time steps with reward -1\n",
            "415 Episode: Finished after 145 time steps with reward -1\n",
            "416 Episode: Finished after 134 time steps with reward -1\n",
            "417 Episode: Finished after 15 time steps with reward -1\n",
            "418 Episode: Finished after 95 time steps with reward -1\n",
            "419 Episode: Finished after 38 time steps with reward -1\n",
            "420 Episode: Finished after 28 time steps with reward -1\n",
            "421 Episode: Finished after 119 time steps with reward -1\n",
            "422 Episode: Finished after 94 time steps with reward -1\n",
            "423 Episode: Finished after 112 time steps with reward -1\n",
            "424 Episode: Finished after 111 time steps with reward -1\n",
            "425 Episode: Finished after 110 time steps with reward -1\n",
            "426 Episode: Finished after 137 time steps with reward -1\n",
            "427 Episode: Finished after 200 time steps with reward 1\n",
            "428 Episode: Finished after 200 time steps with reward 1\n",
            "429 Episode: Finished after 200 time steps with reward 1\n",
            "430 Episode: Finished after 100 time steps with reward -1\n",
            "431 Episode: Finished after 88 time steps with reward -1\n",
            "432 Episode: Finished after 94 time steps with reward -1\n",
            "433 Episode: Finished after 113 time steps with reward -1\n",
            "434 Episode: Finished after 200 time steps with reward 1\n",
            "435 Episode: Finished after 114 time steps with reward -1\n",
            "436 Episode: Finished after 10 time steps with reward -1\n",
            "437 Episode: Finished after 10 time steps with reward -1\n",
            "438 Episode: Finished after 9 time steps with reward -1\n",
            "439 Episode: Finished after 10 time steps with reward -1\n",
            "440 Episode: Finished after 16 time steps with reward -1\n",
            "441 Episode: Finished after 111 time steps with reward -1\n",
            "442 Episode: Finished after 182 time steps with reward -1\n",
            "443 Episode: Finished after 10 time steps with reward -1\n",
            "444 Episode: Finished after 12 time steps with reward -1\n",
            "445 Episode: Finished after 11 time steps with reward -1\n",
            "446 Episode: Finished after 12 time steps with reward -1\n",
            "447 Episode: Finished after 15 time steps with reward -1\n",
            "448 Episode: Finished after 16 time steps with reward -1\n",
            "449 Episode: Finished after 200 time steps with reward 1\n",
            "450 Episode: Finished after 200 time steps with reward 1\n",
            "451 Episode: Finished after 190 time steps with reward -1\n",
            "452 Episode: Finished after 200 time steps with reward 1\n",
            "453 Episode: Finished after 180 time steps with reward -1\n",
            "454 Episode: Finished after 146 time steps with reward -1\n",
            "455 Episode: Finished after 116 time steps with reward -1\n",
            "456 Episode: Finished after 170 time steps with reward -1\n",
            "457 Episode: Finished after 200 time steps with reward 1\n",
            "458 Episode: Finished after 12 time steps with reward -1\n",
            "459 Episode: Finished after 40 time steps with reward -1\n",
            "460 Episode: Finished after 172 time steps with reward -1\n",
            "461 Episode: Finished after 77 time steps with reward -1\n",
            "462 Episode: Finished after 10 time steps with reward -1\n",
            "463 Episode: Finished after 13 time steps with reward -1\n",
            "464 Episode: Finished after 107 time steps with reward -1\n",
            "465 Episode: Finished after 200 time steps with reward 1\n",
            "466 Episode: Finished after 36 time steps with reward -1\n",
            "467 Episode: Finished after 200 time steps with reward 1\n",
            "468 Episode: Finished after 16 time steps with reward -1\n",
            "469 Episode: Finished after 55 time steps with reward -1\n",
            "470 Episode: Finished after 200 time steps with reward 1\n",
            "471 Episode: Finished after 200 time steps with reward 1\n",
            "472 Episode: Finished after 181 time steps with reward -1\n",
            "473 Episode: Finished after 145 time steps with reward -1\n",
            "474 Episode: Finished after 61 time steps with reward -1\n",
            "475 Episode: Finished after 15 time steps with reward -1\n",
            "476 Episode: Finished after 16 time steps with reward -1\n",
            "477 Episode: Finished after 23 time steps with reward -1\n",
            "478 Episode: Finished after 28 time steps with reward -1\n",
            "479 Episode: Finished after 73 time steps with reward -1\n",
            "480 Episode: Finished after 105 time steps with reward -1\n",
            "481 Episode: Finished after 58 time steps with reward -1\n",
            "482 Episode: Finished after 200 time steps with reward 1\n",
            "483 Episode: Finished after 189 time steps with reward -1\n",
            "484 Episode: Finished after 23 time steps with reward -1\n",
            "485 Episode: Finished after 200 time steps with reward 1\n",
            "486 Episode: Finished after 200 time steps with reward 1\n",
            "487 Episode: Finished after 67 time steps with reward -1\n",
            "488 Episode: Finished after 200 time steps with reward 1\n",
            "489 Episode: Finished after 200 time steps with reward 1\n",
            "490 Episode: Finished after 200 time steps with reward 1\n",
            "491 Episode: Finished after 200 time steps with reward 1\n",
            "492 Episode: Finished after 200 time steps with reward 1\n",
            "493 Episode: Finished after 126 time steps with reward -1\n",
            "494 Episode: Finished after 148 time steps with reward -1\n",
            "495 Episode: Finished after 87 time steps with reward -1\n",
            "496 Episode: Finished after 178 time steps with reward -1\n",
            "497 Episode: Finished after 150 time steps with reward -1\n",
            "498 Episode: Finished after 107 time steps with reward -1\n",
            "499 Episode: Finished after 21 time steps with reward -1\n",
            "500 Episode: Finished after 23 time steps with reward -1\n",
            "501 Episode: Finished after 191 time steps with reward -1\n",
            "502 Episode: Finished after 101 time steps with reward -1\n",
            "503 Episode: Finished after 113 time steps with reward -1\n",
            "504 Episode: Finished after 15 time steps with reward -1\n",
            "505 Episode: Finished after 18 time steps with reward -1\n",
            "506 Episode: Finished after 99 time steps with reward -1\n",
            "507 Episode: Finished after 200 time steps with reward 1\n",
            "508 Episode: Finished after 173 time steps with reward -1\n",
            "509 Episode: Finished after 200 time steps with reward 1\n",
            "510 Episode: Finished after 153 time steps with reward -1\n",
            "511 Episode: Finished after 14 time steps with reward -1\n",
            "512 Episode: Finished after 10 time steps with reward -1\n",
            "513 Episode: Finished after 11 time steps with reward -1\n",
            "514 Episode: Finished after 25 time steps with reward -1\n",
            "515 Episode: Finished after 21 time steps with reward -1\n",
            "516 Episode: Finished after 23 time steps with reward -1\n",
            "517 Episode: Finished after 21 time steps with reward -1\n",
            "518 Episode: Finished after 14 time steps with reward -1\n",
            "519 Episode: Finished after 14 time steps with reward -1\n",
            "520 Episode: Finished after 16 time steps with reward -1\n",
            "521 Episode: Finished after 85 time steps with reward -1\n",
            "522 Episode: Finished after 172 time steps with reward -1\n",
            "523 Episode: Finished after 20 time steps with reward -1\n",
            "524 Episode: Finished after 99 time steps with reward -1\n",
            "525 Episode: Finished after 23 time steps with reward -1\n",
            "526 Episode: Finished after 103 time steps with reward -1\n",
            "527 Episode: Finished after 58 time steps with reward -1\n",
            "528 Episode: Finished after 66 time steps with reward -1\n",
            "529 Episode: Finished after 50 time steps with reward -1\n",
            "530 Episode: Finished after 46 time steps with reward -1\n",
            "531 Episode: Finished after 36 time steps with reward -1\n",
            "532 Episode: Finished after 45 time steps with reward -1\n",
            "533 Episode: Finished after 72 time steps with reward -1\n",
            "534 Episode: Finished after 14 time steps with reward -1\n",
            "535 Episode: Finished after 9 time steps with reward -1\n",
            "536 Episode: Finished after 15 time steps with reward -1\n",
            "537 Episode: Finished after 11 time steps with reward -1\n",
            "538 Episode: Finished after 12 time steps with reward -1\n",
            "539 Episode: Finished after 8 time steps with reward -1\n",
            "540 Episode: Finished after 12 time steps with reward -1\n",
            "541 Episode: Finished after 10 time steps with reward -1\n",
            "542 Episode: Finished after 13 time steps with reward -1\n",
            "543 Episode: Finished after 78 time steps with reward -1\n",
            "544 Episode: Finished after 117 time steps with reward -1\n",
            "545 Episode: Finished after 157 time steps with reward -1\n",
            "546 Episode: Finished after 178 time steps with reward -1\n",
            "547 Episode: Finished after 18 time steps with reward -1\n",
            "548 Episode: Finished after 200 time steps with reward 1\n",
            "549 Episode: Finished after 188 time steps with reward -1\n",
            "550 Episode: Finished after 146 time steps with reward -1\n",
            "551 Episode: Finished after 150 time steps with reward -1\n",
            "552 Episode: Finished after 113 time steps with reward -1\n",
            "553 Episode: Finished after 16 time steps with reward -1\n",
            "554 Episode: Finished after 19 time steps with reward -1\n",
            "555 Episode: Finished after 119 time steps with reward -1\n",
            "556 Episode: Finished after 200 time steps with reward 1\n",
            "557 Episode: Finished after 200 time steps with reward 1\n",
            "558 Episode: Finished after 180 time steps with reward -1\n",
            "559 Episode: Finished after 127 time steps with reward -1\n",
            "560 Episode: Finished after 200 time steps with reward 1\n",
            "561 Episode: Finished after 200 time steps with reward 1\n",
            "562 Episode: Finished after 99 time steps with reward -1\n",
            "563 Episode: Finished after 15 time steps with reward -1\n",
            "564 Episode: Finished after 14 time steps with reward -1\n",
            "565 Episode: Finished after 112 time steps with reward -1\n",
            "566 Episode: Finished after 200 time steps with reward 1\n",
            "567 Episode: Finished after 11 time steps with reward -1\n",
            "568 Episode: Finished after 200 time steps with reward 1\n",
            "569 Episode: Finished after 18 time steps with reward -1\n",
            "570 Episode: Finished after 50 time steps with reward -1\n",
            "571 Episode: Finished after 13 time steps with reward -1\n",
            "572 Episode: Finished after 10 time steps with reward -1\n",
            "573 Episode: Finished after 8 time steps with reward -1\n",
            "574 Episode: Finished after 85 time steps with reward -1\n",
            "575 Episode: Finished after 104 time steps with reward -1\n",
            "576 Episode: Finished after 17 time steps with reward -1\n",
            "577 Episode: Finished after 20 time steps with reward -1\n",
            "578 Episode: Finished after 31 time steps with reward -1\n",
            "579 Episode: Finished after 122 time steps with reward -1\n",
            "580 Episode: Finished after 200 time steps with reward 1\n",
            "581 Episode: Finished after 200 time steps with reward 1\n",
            "582 Episode: Finished after 200 time steps with reward 1\n",
            "583 Episode: Finished after 200 time steps with reward 1\n",
            "584 Episode: Finished after 200 time steps with reward 1\n",
            "585 Episode: Finished after 200 time steps with reward 1\n",
            "586 Episode: Finished after 10 time steps with reward -1\n",
            "587 Episode: Finished after 13 time steps with reward -1\n",
            "588 Episode: Finished after 10 time steps with reward -1\n",
            "589 Episode: Finished after 15 time steps with reward -1\n",
            "590 Episode: Finished after 15 time steps with reward -1\n",
            "591 Episode: Finished after 200 time steps with reward 1\n",
            "592 Episode: Finished after 18 time steps with reward -1\n",
            "593 Episode: Finished after 10 time steps with reward -1\n",
            "594 Episode: Finished after 14 time steps with reward -1\n",
            "595 Episode: Finished after 19 time steps with reward -1\n",
            "596 Episode: Finished after 135 time steps with reward -1\n",
            "597 Episode: Finished after 12 time steps with reward -1\n",
            "598 Episode: Finished after 134 time steps with reward -1\n",
            "599 Episode: Finished after 200 time steps with reward 1\n",
            "600 Episode: Finished after 200 time steps with reward 1\n",
            "601 Episode: Finished after 168 time steps with reward -1\n",
            "602 Episode: Finished after 200 time steps with reward 1\n",
            "603 Episode: Finished after 196 time steps with reward -1\n",
            "604 Episode: Finished after 200 time steps with reward 1\n",
            "605 Episode: Finished after 15 time steps with reward -1\n",
            "606 Episode: Finished after 22 time steps with reward -1\n",
            "607 Episode: Finished after 52 time steps with reward -1\n",
            "608 Episode: Finished after 200 time steps with reward 1\n",
            "609 Episode: Finished after 139 time steps with reward -1\n",
            "610 Episode: Finished after 200 time steps with reward 1\n",
            "611 Episode: Finished after 200 time steps with reward 1\n",
            "612 Episode: Finished after 200 time steps with reward 1\n",
            "613 Episode: Finished after 146 time steps with reward -1\n",
            "614 Episode: Finished after 134 time steps with reward -1\n",
            "615 Episode: Finished after 200 time steps with reward 1\n",
            "616 Episode: Finished after 200 time steps with reward 1\n",
            "617 Episode: Finished after 198 time steps with reward -1\n",
            "618 Episode: Finished after 139 time steps with reward -1\n",
            "619 Episode: Finished after 200 time steps with reward 1\n",
            "620 Episode: Finished after 200 time steps with reward 1\n",
            "621 Episode: Finished after 168 time steps with reward -1\n",
            "622 Episode: Finished after 15 time steps with reward -1\n",
            "623 Episode: Finished after 15 time steps with reward -1\n",
            "624 Episode: Finished after 13 time steps with reward -1\n",
            "625 Episode: Finished after 65 time steps with reward -1\n",
            "626 Episode: Finished after 143 time steps with reward -1\n",
            "627 Episode: Finished after 33 time steps with reward -1\n",
            "628 Episode: Finished after 56 time steps with reward -1\n",
            "629 Episode: Finished after 196 time steps with reward -1\n",
            "630 Episode: Finished after 94 time steps with reward -1\n",
            "631 Episode: Finished after 42 time steps with reward -1\n",
            "632 Episode: Finished after 43 time steps with reward -1\n",
            "633 Episode: Finished after 34 time steps with reward -1\n",
            "634 Episode: Finished after 25 time steps with reward -1\n",
            "635 Episode: Finished after 25 time steps with reward -1\n",
            "636 Episode: Finished after 49 time steps with reward -1\n",
            "637 Episode: Finished after 29 time steps with reward -1\n",
            "638 Episode: Finished after 73 time steps with reward -1\n",
            "639 Episode: Finished after 40 time steps with reward -1\n",
            "640 Episode: Finished after 54 time steps with reward -1\n",
            "641 Episode: Finished after 168 time steps with reward -1\n",
            "642 Episode: Finished after 200 time steps with reward 1\n",
            "643 Episode: Finished after 200 time steps with reward 1\n",
            "644 Episode: Finished after 10 time steps with reward -1\n",
            "645 Episode: Finished after 12 time steps with reward -1\n",
            "646 Episode: Finished after 9 time steps with reward -1\n",
            "647 Episode: Finished after 14 time steps with reward -1\n",
            "648 Episode: Finished after 11 time steps with reward -1\n",
            "649 Episode: Finished after 14 time steps with reward -1\n",
            "650 Episode: Finished after 19 time steps with reward -1\n",
            "651 Episode: Finished after 126 time steps with reward -1\n",
            "652 Episode: Finished after 46 time steps with reward -1\n",
            "653 Episode: Finished after 29 time steps with reward -1\n",
            "654 Episode: Finished after 17 time steps with reward -1\n",
            "655 Episode: Finished after 52 time steps with reward -1\n",
            "656 Episode: Finished after 41 time steps with reward -1\n",
            "657 Episode: Finished after 43 time steps with reward -1\n",
            "658 Episode: Finished after 45 time steps with reward -1\n",
            "659 Episode: Finished after 44 time steps with reward -1\n",
            "660 Episode: Finished after 45 time steps with reward -1\n",
            "661 Episode: Finished after 137 time steps with reward -1\n",
            "662 Episode: Finished after 197 time steps with reward -1\n",
            "663 Episode: Finished after 117 time steps with reward -1\n",
            "664 Episode: Finished after 84 time steps with reward -1\n",
            "665 Episode: Finished after 76 time steps with reward -1\n",
            "666 Episode: Finished after 157 time steps with reward -1\n",
            "667 Episode: Finished after 172 time steps with reward -1\n",
            "668 Episode: Finished after 165 time steps with reward -1\n",
            "669 Episode: Finished after 200 time steps with reward 1\n",
            "670 Episode: Finished after 200 time steps with reward 1\n",
            "671 Episode: Finished after 139 time steps with reward -1\n",
            "672 Episode: Finished after 200 time steps with reward 1\n",
            "673 Episode: Finished after 88 time steps with reward -1\n",
            "674 Episode: Finished after 20 time steps with reward -1\n",
            "675 Episode: Finished after 10 time steps with reward -1\n",
            "676 Episode: Finished after 11 time steps with reward -1\n",
            "677 Episode: Finished after 16 time steps with reward -1\n",
            "678 Episode: Finished after 176 time steps with reward -1\n",
            "679 Episode: Finished after 41 time steps with reward -1\n",
            "680 Episode: Finished after 38 time steps with reward -1\n",
            "681 Episode: Finished after 42 time steps with reward -1\n",
            "682 Episode: Finished after 87 time steps with reward -1\n",
            "683 Episode: Finished after 149 time steps with reward -1\n",
            "684 Episode: Finished after 92 time steps with reward -1\n",
            "685 Episode: Finished after 66 time steps with reward -1\n",
            "686 Episode: Finished after 49 time steps with reward -1\n",
            "687 Episode: Finished after 20 time steps with reward -1\n",
            "688 Episode: Finished after 74 time steps with reward -1\n",
            "689 Episode: Finished after 94 time steps with reward -1\n",
            "690 Episode: Finished after 28 time steps with reward -1\n",
            "691 Episode: Finished after 89 time steps with reward -1\n",
            "692 Episode: Finished after 200 time steps with reward 1\n",
            "693 Episode: Finished after 200 time steps with reward 1\n",
            "694 Episode: Finished after 160 time steps with reward -1\n",
            "695 Episode: Finished after 200 time steps with reward 1\n",
            "696 Episode: Finished after 200 time steps with reward 1\n",
            "697 Episode: Finished after 200 time steps with reward 1\n",
            "698 Episode: Finished after 200 time steps with reward 1\n",
            "699 Episode: Finished after 16 time steps with reward -1\n",
            "700 Episode: Finished after 13 time steps with reward -1\n",
            "701 Episode: Finished after 12 time steps with reward -1\n",
            "702 Episode: Finished after 166 time steps with reward -1\n",
            "703 Episode: Finished after 25 time steps with reward -1\n",
            "704 Episode: Finished after 81 time steps with reward -1\n",
            "705 Episode: Finished after 118 time steps with reward -1\n",
            "706 Episode: Finished after 100 time steps with reward -1\n",
            "707 Episode: Finished after 22 time steps with reward -1\n",
            "708 Episode: Finished after 16 time steps with reward -1\n",
            "709 Episode: Finished after 16 time steps with reward -1\n",
            "710 Episode: Finished after 128 time steps with reward -1\n",
            "711 Episode: Finished after 148 time steps with reward -1\n",
            "712 Episode: Finished after 135 time steps with reward -1\n",
            "713 Episode: Finished after 200 time steps with reward 1\n",
            "714 Episode: Finished after 200 time steps with reward 1\n",
            "715 Episode: Finished after 200 time steps with reward 1\n",
            "716 Episode: Finished after 114 time steps with reward -1\n",
            "717 Episode: Finished after 11 time steps with reward -1\n",
            "718 Episode: Finished after 102 time steps with reward -1\n",
            "719 Episode: Finished after 191 time steps with reward -1\n",
            "720 Episode: Finished after 109 time steps with reward -1\n",
            "721 Episode: Finished after 116 time steps with reward -1\n",
            "722 Episode: Finished after 153 time steps with reward -1\n",
            "723 Episode: Finished after 105 time steps with reward -1\n",
            "724 Episode: Finished after 85 time steps with reward -1\n",
            "725 Episode: Finished after 91 time steps with reward -1\n",
            "726 Episode: Finished after 200 time steps with reward 1\n",
            "727 Episode: Finished after 170 time steps with reward -1\n",
            "728 Episode: Finished after 133 time steps with reward -1\n",
            "729 Episode: Finished after 200 time steps with reward 1\n",
            "730 Episode: Finished after 158 time steps with reward -1\n",
            "731 Episode: Finished after 101 time steps with reward -1\n",
            "732 Episode: Finished after 130 time steps with reward -1\n",
            "733 Episode: Finished after 184 time steps with reward -1\n",
            "734 Episode: Finished after 131 time steps with reward -1\n",
            "735 Episode: Finished after 162 time steps with reward -1\n",
            "736 Episode: Finished after 196 time steps with reward -1\n",
            "737 Episode: Finished after 163 time steps with reward -1\n",
            "738 Episode: Finished after 200 time steps with reward 1\n",
            "739 Episode: Finished after 192 time steps with reward -1\n",
            "740 Episode: Finished after 80 time steps with reward -1\n",
            "741 Episode: Finished after 16 time steps with reward -1\n",
            "742 Episode: Finished after 11 time steps with reward -1\n",
            "743 Episode: Finished after 123 time steps with reward -1\n",
            "744 Episode: Finished after 200 time steps with reward 1\n",
            "745 Episode: Finished after 200 time steps with reward 1\n",
            "746 Episode: Finished after 119 time steps with reward -1\n",
            "747 Episode: Finished after 200 time steps with reward 1\n",
            "748 Episode: Finished after 134 time steps with reward -1\n",
            "749 Episode: Finished after 147 time steps with reward -1\n",
            "750 Episode: Finished after 12 time steps with reward -1\n",
            "751 Episode: Finished after 11 time steps with reward -1\n",
            "752 Episode: Finished after 11 time steps with reward -1\n",
            "753 Episode: Finished after 13 time steps with reward -1\n",
            "754 Episode: Finished after 15 time steps with reward -1\n",
            "755 Episode: Finished after 13 time steps with reward -1\n",
            "756 Episode: Finished after 14 time steps with reward -1\n",
            "757 Episode: Finished after 15 time steps with reward -1\n",
            "758 Episode: Finished after 59 time steps with reward -1\n",
            "759 Episode: Finished after 136 time steps with reward -1\n",
            "760 Episode: Finished after 200 time steps with reward 1\n",
            "761 Episode: Finished after 105 time steps with reward -1\n",
            "762 Episode: Finished after 11 time steps with reward -1\n",
            "763 Episode: Finished after 9 time steps with reward -1\n",
            "764 Episode: Finished after 11 time steps with reward -1\n",
            "765 Episode: Finished after 12 time steps with reward -1\n",
            "766 Episode: Finished after 11 time steps with reward -1\n",
            "767 Episode: Finished after 16 time steps with reward -1\n",
            "768 Episode: Finished after 105 time steps with reward -1\n",
            "769 Episode: Finished after 104 time steps with reward -1\n",
            "770 Episode: Finished after 21 time steps with reward -1\n",
            "771 Episode: Finished after 96 time steps with reward -1\n",
            "772 Episode: Finished after 117 time steps with reward -1\n",
            "773 Episode: Finished after 100 time steps with reward -1\n",
            "774 Episode: Finished after 101 time steps with reward -1\n",
            "775 Episode: Finished after 11 time steps with reward -1\n",
            "776 Episode: Finished after 85 time steps with reward -1\n",
            "777 Episode: Finished after 96 time steps with reward -1\n",
            "778 Episode: Finished after 88 time steps with reward -1\n",
            "779 Episode: Finished after 18 time steps with reward -1\n",
            "780 Episode: Finished after 10 time steps with reward -1\n",
            "781 Episode: Finished after 14 time steps with reward -1\n",
            "782 Episode: Finished after 13 time steps with reward -1\n",
            "783 Episode: Finished after 91 time steps with reward -1\n",
            "784 Episode: Finished after 101 time steps with reward -1\n",
            "785 Episode: Finished after 113 time steps with reward -1\n",
            "786 Episode: Finished after 105 time steps with reward -1\n",
            "787 Episode: Finished after 68 time steps with reward -1\n",
            "788 Episode: Finished after 64 time steps with reward -1\n",
            "789 Episode: Finished after 26 time steps with reward -1\n",
            "790 Episode: Finished after 19 time steps with reward -1\n",
            "791 Episode: Finished after 46 time steps with reward -1\n",
            "792 Episode: Finished after 47 time steps with reward -1\n",
            "793 Episode: Finished after 19 time steps with reward -1\n",
            "794 Episode: Finished after 17 time steps with reward -1\n",
            "795 Episode: Finished after 33 time steps with reward -1\n",
            "796 Episode: Finished after 65 time steps with reward -1\n",
            "797 Episode: Finished after 47 time steps with reward -1\n",
            "798 Episode: Finished after 91 time steps with reward -1\n",
            "799 Episode: Finished after 96 time steps with reward -1\n",
            "800 Episode: Finished after 92 time steps with reward -1\n",
            "801 Episode: Finished after 100 time steps with reward -1\n",
            "802 Episode: Finished after 105 time steps with reward -1\n",
            "803 Episode: Finished after 200 time steps with reward 1\n",
            "804 Episode: Finished after 14 time steps with reward -1\n",
            "805 Episode: Finished after 98 time steps with reward -1\n",
            "806 Episode: Finished after 200 time steps with reward 1\n",
            "807 Episode: Finished after 200 time steps with reward 1\n",
            "808 Episode: Finished after 200 time steps with reward 1\n",
            "809 Episode: Finished after 200 time steps with reward 1\n",
            "810 Episode: Finished after 194 time steps with reward -1\n",
            "811 Episode: Finished after 75 time steps with reward -1\n",
            "812 Episode: Finished after 92 time steps with reward -1\n",
            "813 Episode: Finished after 116 time steps with reward -1\n",
            "814 Episode: Finished after 50 time steps with reward -1\n",
            "815 Episode: Finished after 23 time steps with reward -1\n",
            "816 Episode: Finished after 118 time steps with reward -1\n",
            "817 Episode: Finished after 160 time steps with reward -1\n",
            "818 Episode: Finished after 200 time steps with reward 1\n",
            "819 Episode: Finished after 154 time steps with reward -1\n",
            "820 Episode: Finished after 24 time steps with reward -1\n",
            "821 Episode: Finished after 18 time steps with reward -1\n",
            "822 Episode: Finished after 200 time steps with reward 1\n",
            "823 Episode: Finished after 200 time steps with reward 1\n",
            "824 Episode: Finished after 21 time steps with reward -1\n",
            "825 Episode: Finished after 200 time steps with reward 1\n",
            "826 Episode: Finished after 200 time steps with reward 1\n",
            "827 Episode: Finished after 200 time steps with reward 1\n",
            "828 Episode: Finished after 184 time steps with reward -1\n",
            "829 Episode: Finished after 12 time steps with reward -1\n",
            "830 Episode: Finished after 10 time steps with reward -1\n",
            "831 Episode: Finished after 11 time steps with reward -1\n",
            "832 Episode: Finished after 10 time steps with reward -1\n",
            "833 Episode: Finished after 9 time steps with reward -1\n",
            "834 Episode: Finished after 10 time steps with reward -1\n",
            "835 Episode: Finished after 12 time steps with reward -1\n",
            "836 Episode: Finished after 10 time steps with reward -1\n",
            "837 Episode: Finished after 11 time steps with reward -1\n",
            "838 Episode: Finished after 9 time steps with reward -1\n",
            "839 Episode: Finished after 11 time steps with reward -1\n",
            "840 Episode: Finished after 12 time steps with reward -1\n",
            "841 Episode: Finished after 95 time steps with reward -1\n",
            "842 Episode: Finished after 198 time steps with reward -1\n",
            "843 Episode: Finished after 45 time steps with reward -1\n",
            "844 Episode: Finished after 27 time steps with reward -1\n",
            "845 Episode: Finished after 25 time steps with reward -1\n",
            "846 Episode: Finished after 32 time steps with reward -1\n",
            "847 Episode: Finished after 24 time steps with reward -1\n",
            "848 Episode: Finished after 16 time steps with reward -1\n",
            "849 Episode: Finished after 15 time steps with reward -1\n",
            "850 Episode: Finished after 12 time steps with reward -1\n",
            "851 Episode: Finished after 14 time steps with reward -1\n",
            "852 Episode: Finished after 19 time steps with reward -1\n",
            "853 Episode: Finished after 18 time steps with reward -1\n",
            "854 Episode: Finished after 109 time steps with reward -1\n",
            "855 Episode: Finished after 200 time steps with reward 1\n",
            "856 Episode: Finished after 200 time steps with reward 1\n",
            "857 Episode: Finished after 200 time steps with reward 1\n",
            "858 Episode: Finished after 200 time steps with reward 1\n",
            "859 Episode: Finished after 120 time steps with reward -1\n",
            "860 Episode: Finished after 80 time steps with reward -1\n",
            "861 Episode: Finished after 16 time steps with reward -1\n",
            "862 Episode: Finished after 13 time steps with reward -1\n",
            "863 Episode: Finished after 9 time steps with reward -1\n",
            "864 Episode: Finished after 11 time steps with reward -1\n",
            "865 Episode: Finished after 11 time steps with reward -1\n",
            "866 Episode: Finished after 12 time steps with reward -1\n",
            "867 Episode: Finished after 10 time steps with reward -1\n",
            "868 Episode: Finished after 13 time steps with reward -1\n",
            "869 Episode: Finished after 19 time steps with reward -1\n",
            "870 Episode: Finished after 13 time steps with reward -1\n",
            "871 Episode: Finished after 11 time steps with reward -1\n",
            "872 Episode: Finished after 12 time steps with reward -1\n",
            "873 Episode: Finished after 9 time steps with reward -1\n",
            "874 Episode: Finished after 11 time steps with reward -1\n",
            "875 Episode: Finished after 11 time steps with reward -1\n",
            "876 Episode: Finished after 11 time steps with reward -1\n",
            "877 Episode: Finished after 9 time steps with reward -1\n",
            "878 Episode: Finished after 10 time steps with reward -1\n",
            "879 Episode: Finished after 10 time steps with reward -1\n",
            "880 Episode: Finished after 10 time steps with reward -1\n",
            "881 Episode: Finished after 10 time steps with reward -1\n",
            "882 Episode: Finished after 117 time steps with reward -1\n",
            "883 Episode: Finished after 18 time steps with reward -1\n",
            "884 Episode: Finished after 12 time steps with reward -1\n",
            "885 Episode: Finished after 12 time steps with reward -1\n",
            "886 Episode: Finished after 28 time steps with reward -1\n",
            "887 Episode: Finished after 22 time steps with reward -1\n",
            "888 Episode: Finished after 18 time steps with reward -1\n",
            "889 Episode: Finished after 78 time steps with reward -1\n",
            "890 Episode: Finished after 34 time steps with reward -1\n",
            "891 Episode: Finished after 23 time steps with reward -1\n",
            "892 Episode: Finished after 11 time steps with reward -1\n",
            "893 Episode: Finished after 14 time steps with reward -1\n",
            "894 Episode: Finished after 31 time steps with reward -1\n",
            "895 Episode: Finished after 27 time steps with reward -1\n",
            "896 Episode: Finished after 22 time steps with reward -1\n",
            "897 Episode: Finished after 18 time steps with reward -1\n",
            "898 Episode: Finished after 15 time steps with reward -1\n",
            "899 Episode: Finished after 14 time steps with reward -1\n",
            "900 Episode: Finished after 13 time steps with reward -1\n",
            "901 Episode: Finished after 13 time steps with reward -1\n",
            "902 Episode: Finished after 15 time steps with reward -1\n",
            "903 Episode: Finished after 12 time steps with reward -1\n",
            "904 Episode: Finished after 11 time steps with reward -1\n",
            "905 Episode: Finished after 15 time steps with reward -1\n",
            "906 Episode: Finished after 96 time steps with reward -1\n",
            "907 Episode: Finished after 115 time steps with reward -1\n",
            "908 Episode: Finished after 121 time steps with reward -1\n",
            "909 Episode: Finished after 121 time steps with reward -1\n",
            "910 Episode: Finished after 128 time steps with reward -1\n",
            "911 Episode: Finished after 172 time steps with reward -1\n",
            "912 Episode: Finished after 200 time steps with reward 1\n",
            "913 Episode: Finished after 200 time steps with reward 1\n",
            "914 Episode: Finished after 65 time steps with reward -1\n",
            "915 Episode: Finished after 200 time steps with reward 1\n",
            "916 Episode: Finished after 159 time steps with reward -1\n",
            "917 Episode: Finished after 128 time steps with reward -1\n",
            "918 Episode: Finished after 86 time steps with reward -1\n",
            "919 Episode: Finished after 88 time steps with reward -1\n",
            "920 Episode: Finished after 200 time steps with reward 1\n",
            "921 Episode: Finished after 113 time steps with reward -1\n",
            "922 Episode: Finished after 200 time steps with reward 1\n",
            "923 Episode: Finished after 200 time steps with reward 1\n",
            "924 Episode: Finished after 145 time steps with reward -1\n",
            "925 Episode: Finished after 109 time steps with reward -1\n",
            "926 Episode: Finished after 110 time steps with reward -1\n",
            "927 Episode: Finished after 175 time steps with reward -1\n",
            "928 Episode: Finished after 200 time steps with reward 1\n",
            "929 Episode: Finished after 200 time steps with reward 1\n",
            "930 Episode: Finished after 200 time steps with reward 1\n",
            "931 Episode: Finished after 200 time steps with reward 1\n",
            "932 Episode: Finished after 12 time steps with reward -1\n",
            "933 Episode: Finished after 13 time steps with reward -1\n",
            "934 Episode: Finished after 144 time steps with reward -1\n",
            "935 Episode: Finished after 12 time steps with reward -1\n",
            "936 Episode: Finished after 9 time steps with reward -1\n",
            "937 Episode: Finished after 11 time steps with reward -1\n",
            "938 Episode: Finished after 8 time steps with reward -1\n",
            "939 Episode: Finished after 10 time steps with reward -1\n",
            "940 Episode: Finished after 9 time steps with reward -1\n",
            "941 Episode: Finished after 10 time steps with reward -1\n",
            "942 Episode: Finished after 11 time steps with reward -1\n",
            "943 Episode: Finished after 11 time steps with reward -1\n",
            "944 Episode: Finished after 101 time steps with reward -1\n",
            "945 Episode: Finished after 36 time steps with reward -1\n",
            "946 Episode: Finished after 11 time steps with reward -1\n",
            "947 Episode: Finished after 12 time steps with reward -1\n",
            "948 Episode: Finished after 9 time steps with reward -1\n",
            "949 Episode: Finished after 10 time steps with reward -1\n",
            "950 Episode: Finished after 9 time steps with reward -1\n",
            "951 Episode: Finished after 11 time steps with reward -1\n",
            "952 Episode: Finished after 11 time steps with reward -1\n",
            "953 Episode: Finished after 10 time steps with reward -1\n",
            "954 Episode: Finished after 10 time steps with reward -1\n",
            "955 Episode: Finished after 12 time steps with reward -1\n",
            "956 Episode: Finished after 11 time steps with reward -1\n",
            "957 Episode: Finished after 9 time steps with reward -1\n",
            "958 Episode: Finished after 10 time steps with reward -1\n",
            "959 Episode: Finished after 11 time steps with reward -1\n",
            "960 Episode: Finished after 10 time steps with reward -1\n",
            "961 Episode: Finished after 11 time steps with reward -1\n",
            "962 Episode: Finished after 11 time steps with reward -1\n",
            "963 Episode: Finished after 9 time steps with reward -1\n",
            "964 Episode: Finished after 12 time steps with reward -1\n",
            "965 Episode: Finished after 12 time steps with reward -1\n",
            "966 Episode: Finished after 12 time steps with reward -1\n",
            "967 Episode: Finished after 14 time steps with reward -1\n",
            "968 Episode: Finished after 11 time steps with reward -1\n",
            "969 Episode: Finished after 14 time steps with reward -1\n",
            "970 Episode: Finished after 25 time steps with reward -1\n",
            "971 Episode: Finished after 19 time steps with reward -1\n",
            "972 Episode: Finished after 22 time steps with reward -1\n",
            "973 Episode: Finished after 21 time steps with reward -1\n",
            "974 Episode: Finished after 18 time steps with reward -1\n",
            "975 Episode: Finished after 17 time steps with reward -1\n",
            "976 Episode: Finished after 13 time steps with reward -1\n",
            "977 Episode: Finished after 11 time steps with reward -1\n",
            "978 Episode: Finished after 14 time steps with reward -1\n",
            "979 Episode: Finished after 11 time steps with reward -1\n",
            "980 Episode: Finished after 11 time steps with reward -1\n",
            "981 Episode: Finished after 11 time steps with reward -1\n",
            "982 Episode: Finished after 33 time steps with reward -1\n",
            "983 Episode: Finished after 24 time steps with reward -1\n",
            "984 Episode: Finished after 20 time steps with reward -1\n",
            "985 Episode: Finished after 24 time steps with reward -1\n",
            "986 Episode: Finished after 24 time steps with reward -1\n",
            "987 Episode: Finished after 16 time steps with reward -1\n",
            "988 Episode: Finished after 17 time steps with reward -1\n",
            "989 Episode: Finished after 19 time steps with reward -1\n",
            "990 Episode: Finished after 15 time steps with reward -1\n",
            "991 Episode: Finished after 20 time steps with reward -1\n",
            "992 Episode: Finished after 15 time steps with reward -1\n",
            "993 Episode: Finished after 17 time steps with reward -1\n",
            "994 Episode: Finished after 11 time steps with reward -1\n",
            "995 Episode: Finished after 13 time steps with reward -1\n",
            "996 Episode: Finished after 12 time steps with reward -1\n",
            "997 Episode: Finished after 11 time steps with reward -1\n",
            "998 Episode: Finished after 9 time steps with reward -1\n",
            "999 Episode: Finished after 12 time steps with reward -1\n",
            "num_completed_episodes =  160\n",
            "Evaluation: Finished after 9 time steps\n",
            "frame =  ('/content/videos/openaigym.video.10.60.video000000.mp4', '/content/videos/openaigym.video.10.60.video000000.meta.json')\n"
          ],
          "name": "stdout"
        },
        {
          "output_type": "display_data",
          "data": {
            "text/html": [
              "\n",
              "            <video alt=\"test\" controls>\n",
              "            <source src=\"data:video/mp4;base64,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\" type=\"video/mp4\" />\n",
              "            </video>\n",
              "            "
            ],
            "text/plain": [
              "<IPython.core.display.HTML object>"
            ]
          },
          "metadata": {
            "tags": []
          }
        },
        {
          "output_type": "stream",
          "text": [
            "frame =  ('/content/videos/openaigym.video.10.60.video000001.mp4', '/content/videos/openaigym.video.10.60.video000001.meta.json')\n"
          ],
          "name": "stdout"
        },
        {
          "output_type": "display_data",
          "data": {
            "text/html": [
              "\n",
              "            <video alt=\"test\" controls>\n",
              "            <source src=\"data:video/mp4;base64,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\" type=\"video/mp4\" />\n",
              "            </video>\n",
              "            "
            ],
            "text/plain": [
              "<IPython.core.display.HTML object>"
            ]
          },
          "metadata": {
            "tags": []
          }
        },
        {
          "output_type": "stream",
          "text": [
            "frame =  ('/content/videos/openaigym.video.10.60.video000008.mp4', '/content/videos/openaigym.video.10.60.video000008.meta.json')\n"
          ],
          "name": "stdout"
        },
        {
          "output_type": "display_data",
          "data": {
            "text/html": [
              "\n",
              "            <video alt=\"test\" controls>\n",
              "            <source src=\"data:video/mp4;base64,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\" type=\"video/mp4\" />\n",
              "            </video>\n",
              "            "
            ],
            "text/plain": [
              "<IPython.core.display.HTML object>"
            ]
          },
          "metadata": {
            "tags": []
          }
        },
        {
          "output_type": "stream",
          "text": [
            "frame =  ('/content/videos/openaigym.video.10.60.video000027.mp4', '/content/videos/openaigym.video.10.60.video000027.meta.json')\n"
          ],
          "name": "stdout"
        },
        {
          "output_type": "display_data",
          "data": {
            "text/html": [
              "\n",
              "            <video alt=\"test\" controls>\n",
              "            <source src=\"data:video/mp4;base64,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\" type=\"video/mp4\" />\n",
              "            </video>\n",
              "            "
            ],
            "text/plain": [
              "<IPython.core.display.HTML object>"
            ]
          },
          "metadata": {
            "tags": []
          }
        },
        {
          "output_type": "stream",
          "text": [
            "frame =  ('/content/videos/openaigym.video.10.60.video000064.mp4', '/content/videos/openaigym.video.10.60.video000064.meta.json')\n"
          ],
          "name": "stdout"
        },
        {
          "output_type": "display_data",
          "data": {
            "text/html": [
              "\n",
              "            <video alt=\"test\" controls>\n",
              "            <source src=\"data:video/mp4;base64,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\" type=\"video/mp4\" />\n",
              "            </video>\n",
              "            "
            ],
            "text/plain": [
              "<IPython.core.display.HTML object>"
            ]
          },
          "metadata": {
            "tags": []
          }
        },
        {
          "output_type": "stream",
          "text": [
            "frame =  ('/content/videos/openaigym.video.10.60.video000125.mp4', '/content/videos/openaigym.video.10.60.video000125.meta.json')\n"
          ],
          "name": "stdout"
        },
        {
          "output_type": "display_data",
          "data": {
            "text/html": [
              "\n",
              "            <video alt=\"test\" controls>\n",
              "            <source src=\"data:video/mp4;base64,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\" type=\"video/mp4\" />\n",
              "            </video>\n",
              "            "
            ],
            "text/plain": [
              "<IPython.core.display.HTML object>"
            ]
          },
          "metadata": {
            "tags": []
          }
        },
        {
          "output_type": "stream",
          "text": [
            "frame =  ('/content/videos/openaigym.video.10.60.video000216.mp4', '/content/videos/openaigym.video.10.60.video000216.meta.json')\n"
          ],
          "name": "stdout"
        },
        {
          "output_type": "display_data",
          "data": {
            "text/html": [
              "\n",
              "            <video alt=\"test\" controls>\n",
              "            <source src=\"data:video/mp4;base64,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\" type=\"video/mp4\" />\n",
              "            </video>\n",
              "            "
            ],
            "text/plain": [
              "<IPython.core.display.HTML object>"
            ]
          },
          "metadata": {
            "tags": []
          }
        },
        {
          "output_type": "stream",
          "text": [
            "frame =  ('/content/videos/openaigym.video.10.60.video000343.mp4', '/content/videos/openaigym.video.10.60.video000343.meta.json')\n"
          ],
          "name": "stdout"
        },
        {
          "output_type": "display_data",
          "data": {
            "text/html": [
              "\n",
              "            <video alt=\"test\" controls>\n",
              "            <source src=\"data:video/mp4;base64,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\" type=\"video/mp4\" />\n",
              "            </video>\n",
              "            "
            ],
            "text/plain": [
              "<IPython.core.display.HTML object>"
            ]
          },
          "metadata": {
            "tags": []
          }
        },
        {
          "output_type": "stream",
          "text": [
            "frame =  ('/content/videos/openaigym.video.10.60.video000512.mp4', '/content/videos/openaigym.video.10.60.video000512.meta.json')\n"
          ],
          "name": "stdout"
        },
        {
          "output_type": "display_data",
          "data": {
            "text/html": [
              "\n",
              "            <video alt=\"test\" controls>\n",
              "            <source src=\"data:video/mp4;base64,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\" type=\"video/mp4\" />\n",
              "            </video>\n",
              "            "
            ],
            "text/plain": [
              "<IPython.core.display.HTML object>"
            ]
          },
          "metadata": {
            "tags": []
          }
        },
        {
          "output_type": "stream",
          "text": [
            "frame =  ('/content/videos/openaigym.video.10.60.video000729.mp4', '/content/videos/openaigym.video.10.60.video000729.meta.json')\n"
          ],
          "name": "stdout"
        },
        {
          "output_type": "display_data",
          "data": {
            "text/html": [
              "\n",
              "            <video alt=\"test\" controls>\n",
              "            <source src=\"data:video/mp4;base64,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\" type=\"video/mp4\" />\n",
              "            </video>\n",
              "            "
            ],
            "text/plain": [
              "<IPython.core.display.HTML object>"
            ]
          },
          "metadata": {
            "tags": []
          }
        },
        {
          "output_type": "stream",
          "text": [
            "frame =  ('/content/videos/openaigym.video.10.60.video001000.mp4', '/content/videos/openaigym.video.10.60.video001000.meta.json')\n"
          ],
          "name": "stdout"
        },
        {
          "output_type": "display_data",
          "data": {
            "text/html": [
              "\n",
              "            <video alt=\"test\" controls>\n",
              "            <source src=\"data:video/mp4;base64,AAAAIGZ0eXBpc29tAAACAGlzb21pc28yYXZjMW1wNDEAAAAIZnJlZQAACANtZGF0AAACrgYF//+q3EXpvebZSLeWLNgg2SPu73gyNjQgLSBjb3JlIDE1MiByMjg1NCBlOWE1OTAzIC0gSC4yNjQvTVBFRy00IEFWQyBjb2RlYyAtIENvcHlsZWZ0IDIwMDMtMjAxNyAtIGh0dHA6Ly93d3cudmlkZW9sYW4ub3JnL3gyNjQuaHRtbCAtIG9wdGlvbnM6IGNhYmFjPTEgcmVmPTMgZGVibG9jaz0xOjA6MCBhbmFseXNlPTB4MzoweDExMyBtZT1oZXggc3VibWU9NyBwc3k9MSBwc3lfcmQ9MS4wMDowLjAwIG1peGVkX3JlZj0xIG1lX3JhbmdlPTE2IGNocm9tYV9tZT0xIHRyZWxsaXM9MSA4eDhkY3Q9MSBjcW09MCBkZWFkem9uZT0yMSwxMSBmYXN0X3Bza2lwPTEgY2hyb21hX3FwX29mZnNldD0tMiB0aHJlYWRzPTMgbG9va2FoZWFkX3RocmVhZHM9MSBzbGljZWRfdGhyZWFkcz0wIG5yPTAgZGVjaW1hdGU9MSBpbnRlcmxhY2VkPTAgYmx1cmF5X2NvbXBhdD0wIGNvbnN0cmFpbmVkX2ludHJhPTAgYmZyYW1lcz0zIGJfcHlyYW1pZD0yIGJfYWRhcHQ9MSBiX2JpYXM9MCBkaXJlY3Q9MSB3ZWlnaHRiPTEgb3Blbl9nb3A9MCB3ZWlnaHRwPTIga2V5aW50PTI1MCBrZXlpbnRfbWluPTI1IHNjZW5lY3V0PTQwIGludHJhX3JlZnJlc2g9MCByY19sb29rYWhlYWQ9NDAgcmM9Y3JmIG1idHJlZT0xIGNyZj0yMy4wIHFjb21wPTAuNjAgcXBtaW49MCBxcG1heD02OSBxcHN0ZXA9NCBpcF9yYXRpbz0xLjQwIGFxPTE6MS4wMACAAAABU2WIhAAv//72rvzLK0cLlS4dWXuzUfLoSXL9iDB9aAAAAwAAAwAAJuKiZ0WFMeJsgAAALmAIWElDyDzETFWKgSvGXweETYAcV54vP41DPc2zo/ZMkV1Vech9Ho1zdZtfL0zKlKag39Akllexqqj82v/u7dMrP462J5a5GtPK9mmX3yiAf0BFpMRXD31IjFltJNph5fJjmNi27wZoIExK9Pq5R3qmzm72+tD8HkES0/Uke703qakLlMpoABcCZC6CwadFAPK+abj7kEg6B/tM12stt2K9sgw3HJKVllusyeCN/Gc7Sev2t8BYPI4TTmslbjR2LUTU2xusl3ur9p3kOrK7bVme/JJ/Ek80Ca3RQ4jXen9GATvf8PtAF3gv9PXwqcyZlurgxrvOtsEJZ9a5LqaM+66wKNlOztCGK9fwcXwbznvpmGIG6h6aAAADAAADAACtgQAAAKlBmiRsQr/+OEAAAQ3NfGYFYARgVTMi/x/OqNVvMW/iR6BtgypJJtd7UF99dhKNv6b9wYG0KjtYPUKwZOzlem/YRAjic4xVNFDMUkudRPPjC5OSWfme4DPhJNFPwZwu3ldJ21itvdDLeMU1pX8cMihAVp+Xgu3o2G7HEzOoLwnCgRmQBC9ZHZquRP05hvWT1thD+foVlEgAA/OWNWjEmh+VEu7Rlw0NflA4AAAAQUGeQniEfwAAFp6qTzvAvABadLkBDV8RIxZLZZDLfp0rAHQ3gPwU4QNr5G0UzQh0a2yTO91wAAAIbPSJDtpKoB8xAAAALwGeYXRH/wAAI8NApdJu4trJH6sea9MUP8Yr+/PzU4xCzsIAAAMA7PBvSG1MsBdwAAAAPgGeY2pH/wAAI4RSl1ZF1Y1nevKge4YTUzz2LPH1FtwAIO9gY9+Z090UKSOrR4/5T6sAAAMAAKlBCHOWWAwJAAAAoUGaZkmoQWiZTBTwn/3xAAADAqCw9gY0AItcmu8Lvr+dXGwb2Ros45cc60uNFYcGda0N+sBn137bQslZOMFqJMOz8/OfHZ/ILQVfh3F5TBxz3kicciChZqEOMElz6eRgW1MJi2gyhc5LTJUWSNJVv83tVSYujhqpCLwT3Zz7bZShv+4U2NkhqUX5HLcF14wQfqVEpsKJyIEpiQ6iEwktYz7BAAAASQGehWpH/wAAJL8E2/ADdYBNwDE6NBemc6KM2uCtu8RRPImQC+UCdp0fog9555Lptz4y+4HXfdoD21YA8vu9ENQK5UAcUlAEjqcAAACQQZqHSeEKUmUwIT/98QAAAwKf7QgFA/1p9auS9+Lvz17Xe8ANtS7XMHzZzZz/ezb7HVdUuFOsIHjmm6t9Mue8O2V/rHVsRWiA4xJRNzjLHQqeB+eSEol7uefMmPftVfDfsHQKuVawY50xRSp4RRr+qyr+0TWci7DqFRy/Rsas/pWe9Zy9EhBIxE1Er4LWumE9AAAAlUGaqEnhDomUwIR//eEAAAQVE7ZjBgA4TEIrTvNNlTBakue4qlAG+GEaTqDtVxnloYYWix6iPobRAPRRItIU5VJr5gGj3MKiM20+NDa4ELRlPMmJ8v/1bibDjE2FQZsEinnfEhJWAMUvthctExEaRoDv82r4ZYDHaKQudO/isXXoWbyuiojbWYh8vszvqTtrjhG2GC7oAAAAaEGayUnhDyZTAj///IQAAA/T5SzTylLhhLlfMLF9YrlXOTMDfrDGStmALZwQFNQ1ihaC12D09SRLwrReZa/NJAB8oTcq0X5watWDaHhYBRR3fzaSUrl6hYhJ4hlJBtliXaPmPS/vTLIgAAADe21vb3YAAABsbXZoZAAAAAAAAAAAAAAAAAAAA+gAAADIAAEAAAEAAAAAAAAAAAAAAAABAAAAAAAAAAAAAAAAAAAAAQAAAAAAAAAAAAAAAAAAQAAAAAAAAAAAAAAAAAAAAAAAAAAAAAAAAAAAAAAAAAIAAAKldHJhawAAAFx0a2hkAAAAAwAAAAAAAAAAAAAAAQAAAAAAAADIAAAAAAAAAAAAAAAAAAAAAAABAAAAAAAAAAAAAAAAAAAAAQAAAAAAAAAAAAAAAAAAQAAAAAJYAAABkAAAAAAAJGVkdHMAAAAcZWxzdAAAAAAAAAABAAAAyAAAAgAAAQAAAAACHW1kaWEAAAAgbWRoZAAAAAAAAAAAAAAAAAAAMgAAAAoAVcQAAAAAAC1oZGxyAAAAAAAAAAB2aWRlAAAAAAAAAAAAAAAAVmlkZW9IYW5kbGVyAAAAAchtaW5mAAAAFHZtaGQAAAABAAAAAAAAAAAAAAAkZGluZgAAABxkcmVmAAAAAAAAAAEAAAAMdXJsIAAAAAEAAAGIc3RibAAAAJhzdHNkAAAAAAAAAAEAAACIYXZjMQAAAAAAAAABAAAAAAAAAAAAAAAAAAAAAAJYAZAASAAAAEgAAAAAAAAAAQAAAAAAAAAAAAAAAAAAAAAAAAAAAAAAAAAAAAAAAAAAABj//wAAADJhdmNDAWQAH//hABlnZAAfrNlAmDPl4QAAAwABAAADAGQPGDGWAQAGaOvjyyLAAAAAGHN0dHMAAAAAAAAAAQAAAAoAAAEAAAAAFHN0c3MAAAAAAAAAAQAAAAEAAABQY3R0cwAAAAAAAAAIAAAAAQAAAgAAAAABAAAFAAAAAAEAAAIAAAAAAQAAAAAAAAABAAABAAAAAAEAAAMAAAAAAQAAAQAAAAADAAACAAAAABxzdHNjAAAAAAAAAAEAAAABAAAACgAAAAEAAAA8c3RzegAAAAAAAAAAAAAACgAABAkAAACtAAAARQAAADMAAABCAAAApQAAAE0AAACUAAAAmQAAAGwAAAAUc3RjbwAAAAAAAAABAAAAMAAAAGJ1ZHRhAAAAWm1ldGEAAAAAAAAAIWhkbHIAAAAAAAAAAG1kaXJhcHBsAAAAAAAAAAAAAAAALWlsc3QAAAAlqXRvbwAAAB1kYXRhAAAAAQAAAABMYXZmNTcuODMuMTAw\" type=\"video/mp4\" />\n",
              "            </video>\n",
              "            "
            ],
            "text/plain": [
              "<IPython.core.display.HTML object>"
            ]
          },
          "metadata": {
            "tags": []
          }
        }
      ]
    },
    {
      "cell_type": "markdown",
      "metadata": {
        "id": "O0A4UrQcDe2z"
      },
      "source": [
        "## Note\n",
        "- The reward setting below did not work well.\n",
        "```\n",
        "if is_done:\n",
        "    if step < max_step - 1:\n",
        "        reward = -100\n",
        "    else:\n",
        "        reward = 1\n",
        "else:\n",
        "    reward = 1\n",
        "```\n",
        "\n"
      ]
    },
    {
      "cell_type": "markdown",
      "metadata": {
        "id": "OreaPHjM4BJm"
      },
      "source": [
        "## References\n",
        "- [minnano_rl/section_4/02_deep_reinforcement_learning.ipynb](https://github.com/yukinaga/minnano_rl/blob/main/section_4/02_deep_reinforcement_learning.ipynb)\n",
        "- [第15回　CartPole課題で深層強化学習DQNを実装](https://book.mynavi.jp/manatee/detail/id=89831)"
      ]
    },
    {
      "cell_type": "markdown",
      "metadata": {
        "id": "Qvj_G-NFhkCX"
      },
      "source": [
        "## Appendix"
      ]
    },
    {
      "cell_type": "code",
      "metadata": {
        "colab": {
          "base_uri": "https://localhost:8080/"
        },
        "id": "oFM6L1NEhmIa",
        "outputId": "4e4c1835-6807-4cd7-82ab-d48256c1430d"
      },
      "source": [
        "l = [\n",
        "    [\"a1\", \"a2\", \"a3\"],\n",
        "    [\"b1\", \"b2\", \"b3\"],\n",
        "    [\"c1\", \"c2\", \"c3\"],\n",
        "    [\"d1\", \"d2\", \"d3\"]\n",
        "]\n",
        "print(\"l = \", l)\n",
        "print(\"*l = \", *l)\n",
        "print(\"zip(*l) = \", zip(*l))\n",
        "print(\"*zip(*l) = \", *zip(*l))"
      ],
      "execution_count": null,
      "outputs": [
        {
          "output_type": "stream",
          "text": [
            "l =  [['a1', 'a2', 'a3'], ['b1', 'b2', 'b3'], ['c1', 'c2', 'c3'], ['d1', 'd2', 'd3']]\n",
            "*l =  ['a1', 'a2', 'a3'] ['b1', 'b2', 'b3'] ['c1', 'c2', 'c3'] ['d1', 'd2', 'd3']\n",
            "zip(*l) =  <zip object at 0x7f2436bd3870>\n",
            "*zip(*l) =  ('a1', 'b1', 'c1', 'd1') ('a2', 'b2', 'c2', 'd2') ('a3', 'b3', 'c3', 'd3')\n"
          ],
          "name": "stdout"
        }
      ]
    },
    {
      "cell_type": "code",
      "metadata": {
        "colab": {
          "base_uri": "https://localhost:8080/"
        },
        "id": "Ae5P0Fj1yUJP",
        "outputId": "323c108d-eaa5-47e7-85d8-0525d3d397ce"
      },
      "source": [
        "import torch\n",
        "\n",
        "input = torch.tensor([[1, 2, 3],[4, 5, 6],[7, 8, 9]])\n",
        "indices = torch.tensor([[0, 0, 0],[0, 1, 2],[2, 0, 1]])\n",
        "\n",
        "print(\"input = \\n\", input)\n",
        "print(\"indices = \\n\", indices)\n",
        "\n",
        "## Switch values of the tensor according to indices of row (dim=0)\n",
        "print(\"torch.gather(input=input, dim=0, index=indices) = \\n\", torch.gather(input=input, dim=0, index=indices))\n",
        "'''\n",
        "    input[0][0], input[0][1], input[0][2]\n",
        "    input[0][0], input[1][1], input[2][2]\n",
        "    input[2][0], input[0][1], input[1][2]\n",
        "'''\n",
        "\n",
        "## Switch values of the tensor according to indices of col (dim=1)\n",
        "print(\"torch.gather(input=input, dim=1, index=indices) = \\n\", torch.gather(input=input, dim=1, index=indices))\n",
        "'''\n",
        "    input[0][0], input[0][0], input[0][0]\n",
        "    input[1][0], input[1][1], input[2][2]\n",
        "    input[2][2], input[2][0], input[2][1]\n",
        "'''"
      ],
      "execution_count": null,
      "outputs": [
        {
          "output_type": "stream",
          "text": [
            "input = \n",
            " tensor([[1, 2, 3],\n",
            "        [4, 5, 6],\n",
            "        [7, 8, 9]])\n",
            "indices = \n",
            " tensor([[0, 0, 0],\n",
            "        [0, 1, 2],\n",
            "        [2, 0, 1]])\n",
            "torch.gather(input=input, dim=0, index=indices) = \n",
            " tensor([[1, 2, 3],\n",
            "        [1, 5, 9],\n",
            "        [7, 2, 6]])\n",
            "torch.gather(input=input, dim=1, index=indices) = \n",
            " tensor([[1, 1, 1],\n",
            "        [4, 5, 6],\n",
            "        [9, 7, 8]])\n"
          ],
          "name": "stdout"
        }
      ]
    }
  ]
}