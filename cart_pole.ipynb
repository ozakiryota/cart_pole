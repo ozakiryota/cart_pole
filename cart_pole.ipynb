{
  "nbformat": 4,
  "nbformat_minor": 0,
  "metadata": {
    "colab": {
      "name": "cart_pole.ipynb",
      "provenance": [],
      "collapsed_sections": [],
      "authorship_tag": "ABX9TyMXqz7o+ViGgPvb3OP8qq9u",
      "include_colab_link": true
    },
    "kernelspec": {
      "display_name": "Python 3",
      "name": "python3"
    },
    "language_info": {
      "name": "python"
    },
    "accelerator": "GPU"
  },
  "cells": [
    {
      "cell_type": "markdown",
      "metadata": {
        "id": "view-in-github",
        "colab_type": "text"
      },
      "source": [
        "<a href=\"https://colab.research.google.com/github/ozakiryota/cart_pole/blob/main/cart_pole.ipynb\" target=\"_parent\"><img src=\"https://colab.research.google.com/assets/colab-badge.svg\" alt=\"Open In Colab\"/></a>"
      ]
    },
    {
      "cell_type": "markdown",
      "metadata": {
        "id": "DzGR6DXx5hxW"
      },
      "source": [
        "# Cart-Pole\n"
      ]
    },
    {
      "cell_type": "markdown",
      "metadata": {
        "id": "NztiGF0Ld3ET"
      },
      "source": [
        "Install OpenAI Gym (https://gym.openai.com)"
      ]
    },
    {
      "cell_type": "code",
      "metadata": {
        "colab": {
          "base_uri": "https://localhost:8080/"
        },
        "id": "mTnd9XdOQ0JA",
        "outputId": "f4413681-b32b-48c7-f0ff-8cd385d19b55"
      },
      "source": [
        "!pip install gym"
      ],
      "execution_count": null,
      "outputs": [
        {
          "output_type": "stream",
          "text": [
            "Requirement already satisfied: gym in /usr/local/lib/python3.7/dist-packages (0.17.3)\n",
            "Requirement already satisfied: numpy>=1.10.4 in /usr/local/lib/python3.7/dist-packages (from gym) (1.19.5)\n",
            "Requirement already satisfied: cloudpickle<1.7.0,>=1.2.0 in /usr/local/lib/python3.7/dist-packages (from gym) (1.3.0)\n",
            "Requirement already satisfied: scipy in /usr/local/lib/python3.7/dist-packages (from gym) (1.4.1)\n",
            "Requirement already satisfied: pyglet<=1.5.0,>=1.4.0 in /usr/local/lib/python3.7/dist-packages (from gym) (1.5.0)\n",
            "Requirement already satisfied: future in /usr/local/lib/python3.7/dist-packages (from pyglet<=1.5.0,>=1.4.0->gym) (0.16.0)\n"
          ],
          "name": "stdout"
        }
      ]
    },
    {
      "cell_type": "markdown",
      "metadata": {
        "id": "WatqsT0I5lxF"
      },
      "source": [
        "Install the packages for visualizing Gym"
      ]
    },
    {
      "cell_type": "code",
      "metadata": {
        "colab": {
          "base_uri": "https://localhost:8080/"
        },
        "id": "uo7Lrbp5Sqod",
        "outputId": "3ddb5cf1-8068-411a-a9e4-2e36e9ac0894"
      },
      "source": [
        "!apt update\n",
        "!apt install xvfb\n",
        "!pip install pyvirtualdisplay"
      ],
      "execution_count": null,
      "outputs": [
        {
          "output_type": "stream",
          "text": [
            "\u001b[33m\r0% [Working]\u001b[0m\r            \rGet:1 https://cloud.r-project.org/bin/linux/ubuntu bionic-cran40/ InRelease [3,626 B]\n",
            "\u001b[33m\r0% [Connecting to archive.ubuntu.com] [Connecting to security.ubuntu.com (91.18\u001b[0m\u001b[33m\r0% [Connecting to archive.ubuntu.com] [Connecting to security.ubuntu.com (91.18\u001b[0m\u001b[33m\r0% [1 InRelease gpgv 3,626 B] [Connecting to archive.ubuntu.com (91.189.88.152)\u001b[0m\r                                                                               \rIgn:2 https://developer.download.nvidia.com/compute/cuda/repos/ubuntu1804/x86_64  InRelease\n",
            "\u001b[33m\r0% [1 InRelease gpgv 3,626 B] [Connecting to archive.ubuntu.com (91.189.88.152)\u001b[0m\r                                                                               \rIgn:3 https://developer.download.nvidia.com/compute/machine-learning/repos/ubuntu1804/x86_64  InRelease\n",
            "\u001b[33m\r0% [1 InRelease gpgv 3,626 B] [Connecting to archive.ubuntu.com (91.189.88.152)\u001b[0m\r                                                                               \rGet:4 https://developer.download.nvidia.com/compute/cuda/repos/ubuntu1804/x86_64  Release [697 B]\n",
            "\u001b[33m\r0% [1 InRelease gpgv 3,626 B] [Connecting to archive.ubuntu.com (91.189.88.152)\u001b[0m\u001b[33m\r0% [1 InRelease gpgv 3,626 B] [Connecting to archive.ubuntu.com (91.189.88.152)\u001b[0m\r                                                                               \rHit:5 https://developer.download.nvidia.com/compute/machine-learning/repos/ubuntu1804/x86_64  Release\n",
            "Get:6 https://developer.download.nvidia.com/compute/cuda/repos/ubuntu1804/x86_64  Release.gpg [836 B]\n",
            "Get:7 http://ppa.launchpad.net/c2d4u.team/c2d4u4.0+/ubuntu bionic InRelease [15.9 kB]\n",
            "Get:8 http://security.ubuntu.com/ubuntu bionic-security InRelease [88.7 kB]\n",
            "Hit:9 http://archive.ubuntu.com/ubuntu bionic InRelease\n",
            "Get:11 http://archive.ubuntu.com/ubuntu bionic-updates InRelease [88.7 kB]\n",
            "Ign:12 https://developer.download.nvidia.com/compute/cuda/repos/ubuntu1804/x86_64  Packages\n",
            "Get:12 https://developer.download.nvidia.com/compute/cuda/repos/ubuntu1804/x86_64  Packages [696 kB]\n",
            "Hit:13 http://ppa.launchpad.net/cran/libgit2/ubuntu bionic InRelease\n",
            "Get:14 http://archive.ubuntu.com/ubuntu bionic-backports InRelease [74.6 kB]\n",
            "Get:15 http://ppa.launchpad.net/deadsnakes/ppa/ubuntu bionic InRelease [15.9 kB]\n",
            "Get:16 http://security.ubuntu.com/ubuntu bionic-security/main amd64 Packages [2,112 kB]\n",
            "Hit:17 http://ppa.launchpad.net/graphics-drivers/ppa/ubuntu bionic InRelease\n",
            "Get:18 http://archive.ubuntu.com/ubuntu bionic-updates/universe amd64 Packages [2,179 kB]\n",
            "Get:19 http://ppa.launchpad.net/c2d4u.team/c2d4u4.0+/ubuntu bionic/main Sources [1,751 kB]\n",
            "Get:20 http://security.ubuntu.com/ubuntu bionic-security/restricted amd64 Packages [395 kB]\n",
            "Get:21 http://security.ubuntu.com/ubuntu bionic-security/multiverse amd64 Packages [24.5 kB]\n",
            "Get:22 http://security.ubuntu.com/ubuntu bionic-security/universe amd64 Packages [1,408 kB]\n",
            "Get:23 http://archive.ubuntu.com/ubuntu bionic-updates/main amd64 Packages [2,542 kB]\n",
            "Get:24 http://archive.ubuntu.com/ubuntu bionic-updates/multiverse amd64 Packages [31.4 kB]\n",
            "Get:25 http://archive.ubuntu.com/ubuntu bionic-updates/restricted amd64 Packages [425 kB]\n",
            "Get:26 http://ppa.launchpad.net/c2d4u.team/c2d4u4.0+/ubuntu bionic/main amd64 Packages [896 kB]\n",
            "Get:27 http://ppa.launchpad.net/deadsnakes/ppa/ubuntu bionic/main amd64 Packages [39.5 kB]\n",
            "Fetched 12.8 MB in 4s (2,858 kB/s)\n",
            "Reading package lists... Done\n",
            "Building dependency tree       \n",
            "Reading state information... Done\n",
            "50 packages can be upgraded. Run 'apt list --upgradable' to see them.\n",
            "Reading package lists... Done\n",
            "Building dependency tree       \n",
            "Reading state information... Done\n",
            "The following additional packages will be installed:\n",
            "  xserver-common\n",
            "Recommended packages:\n",
            "  xfonts-base\n",
            "The following NEW packages will be installed:\n",
            "  xvfb\n",
            "The following packages will be upgraded:\n",
            "  xserver-common\n",
            "1 upgraded, 1 newly installed, 0 to remove and 49 not upgraded.\n",
            "Need to get 811 kB of archives.\n",
            "After this operation, 2,270 kB of additional disk space will be used.\n",
            "Get:1 http://archive.ubuntu.com/ubuntu bionic-updates/main amd64 xserver-common all 2:1.19.6-1ubuntu4.9 [26.8 kB]\n",
            "Get:2 http://archive.ubuntu.com/ubuntu bionic-updates/universe amd64 xvfb amd64 2:1.19.6-1ubuntu4.9 [784 kB]\n",
            "Fetched 811 kB in 1s (640 kB/s)\n",
            "(Reading database ... 160983 files and directories currently installed.)\n",
            "Preparing to unpack .../xserver-common_2%3a1.19.6-1ubuntu4.9_all.deb ...\n",
            "Unpacking xserver-common (2:1.19.6-1ubuntu4.9) over (2:1.19.6-1ubuntu4.8) ...\n",
            "Selecting previously unselected package xvfb.\n",
            "Preparing to unpack .../xvfb_2%3a1.19.6-1ubuntu4.9_amd64.deb ...\n",
            "Unpacking xvfb (2:1.19.6-1ubuntu4.9) ...\n",
            "Setting up xserver-common (2:1.19.6-1ubuntu4.9) ...\n",
            "Setting up xvfb (2:1.19.6-1ubuntu4.9) ...\n",
            "Processing triggers for man-db (2.8.3-2ubuntu0.1) ...\n",
            "Collecting pyvirtualdisplay\n",
            "  Downloading https://files.pythonhosted.org/packages/19/88/7a198a5ee3baa3d547f5a49574cd8c3913b216f5276b690b028f89ffb325/PyVirtualDisplay-2.1-py3-none-any.whl\n",
            "Collecting EasyProcess\n",
            "  Downloading https://files.pythonhosted.org/packages/48/3c/75573613641c90c6d094059ac28adb748560d99bd27ee6f80cce398f404e/EasyProcess-0.3-py2.py3-none-any.whl\n",
            "Installing collected packages: EasyProcess, pyvirtualdisplay\n",
            "Successfully installed EasyProcess-0.3 pyvirtualdisplay-2.1\n"
          ],
          "name": "stdout"
        }
      ]
    },
    {
      "cell_type": "markdown",
      "metadata": {
        "id": "cF70T7rbdLXM"
      },
      "source": [
        "## Random move"
      ]
    },
    {
      "cell_type": "markdown",
      "metadata": {
        "id": "D9MoZlOvenEx"
      },
      "source": [
        "Import Gym"
      ]
    },
    {
      "cell_type": "code",
      "metadata": {
        "id": "rDrypO0FZ9IG"
      },
      "source": [
        "import gym"
      ],
      "execution_count": null,
      "outputs": []
    },
    {
      "cell_type": "markdown",
      "metadata": {
        "id": "t6r-cLs8ej61"
      },
      "source": [
        "Import the packages for visualizing Gym"
      ]
    },
    {
      "cell_type": "code",
      "metadata": {
        "id": "l8zm1ycgaE8K"
      },
      "source": [
        "import base64\n",
        "import io\n",
        "from gym.wrappers import Monitor\n",
        "from IPython import display\n",
        "from pyvirtualdisplay import Display"
      ],
      "execution_count": null,
      "outputs": []
    },
    {
      "cell_type": "markdown",
      "metadata": {
        "id": "BaDIbpNE5dEJ"
      },
      "source": [
        "Move the cart-pole randomly"
      ]
    },
    {
      "cell_type": "code",
      "metadata": {
        "colab": {
          "base_uri": "https://localhost:8080/",
          "height": 1000
        },
        "id": "0fqxHSzwRByB",
        "outputId": "02dabf19-f61d-4bc6-9e54-144db3c3b683"
      },
      "source": [
        "d = Display()\n",
        "d.start()\n",
        "\n",
        "env = Monitor(gym.make('CartPole-v0'),'./videos/random_move/', force=True)\n",
        "print(\"env.observation_space.shape = \", env.observation_space.shape)\n",
        "print(\"env.action_space.n = \", env.action_space.n)\n",
        "\n",
        "obs = env.reset()\n",
        "\n",
        "for t in range(100):\n",
        "    obs, reward, is_done, info = env.step(env.action_space.sample())\n",
        "    print(\"obs = \", obs)\n",
        "    print(\"reward = \", reward)\n",
        "    print(\"info = \", info)\n",
        "\n",
        "    if is_done:\n",
        "        print(\"Episode finished after {} timesteps\".format(t+1))\n",
        "        env.reset()\n",
        "        break\n",
        "\n",
        "for frame in env.videos:\n",
        "    print(\"frame = \", frame)\n",
        "    video = io.open(frame[0], 'r+b').read()\n",
        "    encoded = base64.b64encode(video)\n",
        "\n",
        "    display.display(display.HTML(data=\"\"\"\n",
        "        <video alt=\"test\" controls>\n",
        "        <source src=\"data:video/mp4;base64,{0}\" type=\"video/mp4\" />\n",
        "        </video>\n",
        "        \"\"\".format(encoded.decode('ascii'))))"
      ],
      "execution_count": null,
      "outputs": [
        {
          "output_type": "stream",
          "text": [
            "env.observation_space.shape =  (4,)\n",
            "env.action_space.n =  2\n",
            "obs =  [ 0.02001072  0.16709003 -0.010497   -0.30946681]\n",
            "reward =  1.0\n",
            "info =  {}\n",
            "obs =  [ 0.02335252  0.36235995 -0.01668633 -0.60544162]\n",
            "reward =  1.0\n",
            "info =  {}\n",
            "obs =  [ 0.03059972  0.16747527 -0.02879516 -0.31806084]\n",
            "reward =  1.0\n",
            "info =  {}\n",
            "obs =  [ 0.03394923 -0.02722498 -0.03515638 -0.03459615]\n",
            "reward =  1.0\n",
            "info =  {}\n",
            "obs =  [ 0.03340473  0.16838303 -0.0358483  -0.3381607 ]\n",
            "reward =  1.0\n",
            "info =  {}\n",
            "obs =  [ 0.03677239 -0.02621096 -0.04261152 -0.0569944 ]\n",
            "reward =  1.0\n",
            "info =  {}\n",
            "obs =  [ 0.03624817  0.16949525 -0.04375141 -0.36281123]\n",
            "reward =  1.0\n",
            "info =  {}\n",
            "obs =  [ 0.03963807  0.36521085 -0.05100763 -0.6689625 ]\n",
            "reward =  1.0\n",
            "info =  {}\n",
            "obs =  [ 0.04694229  0.56100355 -0.06438688 -0.97725933]\n",
            "reward =  1.0\n",
            "info =  {}\n",
            "obs =  [ 0.05816236  0.75692705 -0.08393207 -1.28945229]\n",
            "reward =  1.0\n",
            "info =  {}\n",
            "obs =  [ 0.0733009   0.56296692 -0.10972111 -1.02418333]\n",
            "reward =  1.0\n",
            "info =  {}\n",
            "obs =  [ 0.08456024  0.36946364 -0.13020478 -0.76786713]\n",
            "reward =  1.0\n",
            "info =  {}\n",
            "obs =  [ 0.09194951  0.56611463 -0.14556212 -1.09851887]\n",
            "reward =  1.0\n",
            "info =  {}\n",
            "obs =  [ 0.10327181  0.37317714 -0.1675325  -0.85481754]\n",
            "reward =  1.0\n",
            "info =  {}\n",
            "obs =  [ 0.11073535  0.57013745 -0.18462885 -1.19514607]\n",
            "reward =  1.0\n",
            "info =  {}\n",
            "obs =  [ 0.1221381   0.76710593 -0.20853177 -1.53955044]\n",
            "reward =  1.0\n",
            "info =  {}\n",
            "obs =  [ 0.13748022  0.96403628 -0.23932278 -1.88941147]\n",
            "reward =  1.0\n",
            "info =  {}\n",
            "Episode finished after 17 timesteps\n",
            "frame =  ('/content/videos/random_move/openaigym.video.0.59.video000000.mp4', '/content/videos/random_move/openaigym.video.0.59.video000000.meta.json')\n"
          ],
          "name": "stdout"
        },
        {
          "output_type": "display_data",
          "data": {
            "text/html": [
              "\n",
              "        <video alt=\"test\" controls>\n",
              "        <source src=\"data:video/mp4;base64,AAAAIGZ0eXBpc29tAAACAGlzb21pc28yYXZjMW1wNDEAAAAIZnJlZQAAC2ZtZGF0AAACrgYF//+q3EXpvebZSLeWLNgg2SPu73gyNjQgLSBjb3JlIDE1MiByMjg1NCBlOWE1OTAzIC0gSC4yNjQvTVBFRy00IEFWQyBjb2RlYyAtIENvcHlsZWZ0IDIwMDMtMjAxNyAtIGh0dHA6Ly93d3cudmlkZW9sYW4ub3JnL3gyNjQuaHRtbCAtIG9wdGlvbnM6IGNhYmFjPTEgcmVmPTMgZGVibG9jaz0xOjA6MCBhbmFseXNlPTB4MzoweDExMyBtZT1oZXggc3VibWU9NyBwc3k9MSBwc3lfcmQ9MS4wMDowLjAwIG1peGVkX3JlZj0xIG1lX3JhbmdlPTE2IGNocm9tYV9tZT0xIHRyZWxsaXM9MSA4eDhkY3Q9MSBjcW09MCBkZWFkem9uZT0yMSwxMSBmYXN0X3Bza2lwPTEgY2hyb21hX3FwX29mZnNldD0tMiB0aHJlYWRzPTMgbG9va2FoZWFkX3RocmVhZHM9MSBzbGljZWRfdGhyZWFkcz0wIG5yPTAgZGVjaW1hdGU9MSBpbnRlcmxhY2VkPTAgYmx1cmF5X2NvbXBhdD0wIGNvbnN0cmFpbmVkX2ludHJhPTAgYmZyYW1lcz0zIGJfcHlyYW1pZD0yIGJfYWRhcHQ9MSBiX2JpYXM9MCBkaXJlY3Q9MSB3ZWlnaHRiPTEgb3Blbl9nb3A9MCB3ZWlnaHRwPTIga2V5aW50PTI1MCBrZXlpbnRfbWluPTI1IHNjZW5lY3V0PTQwIGludHJhX3JlZnJlc2g9MCByY19sb29rYWhlYWQ9NDAgcmM9Y3JmIG1idHJlZT0xIGNyZj0yMy4wIHFjb21wPTAuNjAgcXBtaW49MCBxcG1heD02OSBxcHN0ZXA9NCBpcF9yYXRpbz0xLjQwIGFxPTE6MS4wMACAAAABoWWIhAAv//72rvzLK0cLlS4dWXuzUfLoSXL9iDB9aAAAAwAAAwAAJuKiZ0WFMeJsgAAALmAIWElDyDzETFWKgSvGXwQjAgAT4n+EDpWC/TK1r7jeQ8oIaEZg1ejDAOXs045tXJeCq9zCng/bK+7Xl+lCLMjONXrGda8lBli0fx8+TcmjDc3qDR3zbrpCIzxgw7fr2iHmwHJxZojA++ekNyZabTjZv8tlyzTmQgY70SQWNkgbSE+gLF+cfA2qhxuWuZ7I1OAXPjesrAZsYNf4abMDvNaRnvx44Fc83U3EXzBhulNh0tg4nTCdE9UN5sQDxnukaaxJMHTcfsKYDAAlAABViJc7QtSNYwF1rN/MONQB0OR0JBTU11mXGuWBMu0WGB67o/7dVFc08iw5SdgnClyyaAbJtr5zDchQi1/lMYTmmVF/kuXGemeS4n19Jx4Do5X9FcR7/QTttnd14lYOfn4i/1IuU5qsOUVUgBR+S+dO8BDfGUN1TMs/phGFIu76447daq3boFvVITzC9wjuo3RNrUXKvhwCrQAAAwAAAwAVUQAAAMZBmiRsQv/+jLAAAEY1XWiwBHUAXogSinlYrQ921NyxSCFPkqqoBctfOHyDYlswG+oV0EIxNLSEi0GP+SFREJxYG4iN5IpZ02XtxMlv5v0FgcIxLRLEpiVrXeXrw3p8ZgstnGoUA6JgR98Ha/7y2H0ozQGoQ/vJ5d0sOJwWhvEnmUdp6WYuhwZdfJk5uE+oRLmCcqW9OShbQlA8Pm2GObJFzx2Y83aHOlpS+e/kY42fvdFNMOkXAAAsz+nN0TTyHgpDw4XkMkAAAABCQZ5CeIR/AAAWpWlKtGP/fxcxCdCp6meaqgw51/AljYe4vgzI3g9sTJuRzjT+5qfdVKuD7J6tAAADAAALqhgeEDjhAAAARwGeYXRH/wAADX4A06t3On6FgoCgY3NZxOehFtgmoAB7Wh+6CK3mosXhwqo5aOUUJs0NLGFzYWgAAAMAAAMCQ+NUSDIywHzAAAAANAGeY2pH/wAAI7HL5BW3XGiKdOf8dCNJVICOqmnFufHy02+Y/gRHiToSgAAADCs+QmWAtoEAAAB/QZpoSahBaJlMCF///oywAABGQJRg7qB8bW63Q/Tdu4B3QDWjWyZuBqvnMMPfnLz5GW+MJ+8df3wG137xNb8Fp045PT4HJ1lfiaDwySygWKBqefoNu3mw0opMdHRXU9O5jlb76+bKB8muEhKATeLs944iXfzVPI43C67u4ZOCLwAAAEVBnoZFESwj/wAAFqfNBDAY4WWJ/p4D6rVcTzDRLsH2yT7k+RRjQTHOO6aXABM1Gm8PiW6Wu0rmZ0DDeD0oN1YcG6TCTU0AAAAuAZ6ldEf/AAAiw0cAmafDr+sssopZR7B3Kft1tkFBA74WCfFSdbFcECpNdAyVsQAAADgBnqdqR/8AACOxzA1QoNgPXcUNtRw4Nxo2XKFvsy2xaOp+L30AJX0LNb5281S+uDFpcj0bE0QF3AAAANhBmqxJqEFsmUwIV//+OEAAAQzzGtgkAN0rv/w/t3eUP3K1+qLYS5v3LZ/d7DVAwYWinq7g8ipo1QMDBUbSX/XrxAJyD7+u8iD3c/l23q1yzeIyFv9kh8aN0dzZXSw7+JhN7/k6yd43Pk2a3mz0IaHS/qYNnAnWkRVZUjEZEwf9lTg0pegOT+NmFrB9burcQ2uLJhb1BxM4JL7rupBa/dYsLELpWCo2qq0ES9kFChPWIXHHN8jRAxr9xQbuyZ1gPY8TFrz8f9ee5PUYk74YSopi38s/H7m4AawAAABiQZ7KRRUsI/8AABa7XCLwBExpEpUFJkYcmCNOr0eox7fa0GvvGPVBTmxAZ5RuK3TnmmObRGHnx9IB+hmHPe8TDqdgCToNeYylygcedeGJgr8pOm9IZf2IkN3dVY1rmlMkONEAAABLAZ7pdEf/AAAjqepnuIj1DgSHR1cmxP5LCQhDy0dLkXKqn6JnYO8FZ7fGI3QARButxxcepE7mPIF7/pCn1re01WXi8OPqulotgTFgAAAAXwGe62pH/wAAI5Iq0QeFABxlTjNhAKSiz6rFs3VQXVl0yQ1zTxl/uMCCtWFAjnTlCPuYa613Df4ciUCT7tSK/GKBJSdCvByDrNmUOM+5xqUPKBVCdEZJqEyrQ9jugmpgAAAAi0Ga7kmoQWyZTBRMK//+OEAAAQ1O5lo04AB+0eGrtH3zgDgAi5ywo/BmqGMBhWXVIPvKdVyvAQT/JMLnrmZjt9TVRahkXDupuVa/S+0PjyGKxRUgk8fEYMLUrqgCT8zf/+x1kk40lQByWpHrAQuLjb9Djx731t5FiHZjgj5S0MxooFnD537iu/O6rTUAAABQAZ8Nakf/AAAkvunBfXocJ86t2MwEGpliVn39A9szT8n8BK7oyGz4I1d7zCZU2j34Za8gA/L2MJhckcKBsWs0SocqkC07GDH/lly1FBVN5gUAAACgQZsRSeEKUmUwI//8hAAAD9hci1tPThogviyI4AN76lN/tHOsOc9y9MEXtpWg5QimAvqswUlUcLNb0jwyRRHPRpFkDfUEWUIKjIDcaWamJKVAIl0UjchT98/eRzCJzIS7F0yiseeQyx3nXpJlCxup+fTJMele8EKXRcZftH994n4aXJDQfVOm8hBFIPvOnNLMfAiweLBTGjkJpow37RNwgQAAAFhBny9FNEwj/wAAF0uKpvu9XmpZOyf6mF5ybbrc5vM2suQMQ/oCE5oLN+hguzleO+zrj8chN3+yu7sHby0bACyIk0Si2nFA+79sn2DXPDfHaKFn12Hb83SsAAAAXwGfUGpH/wAAJLGEM1zoALCr6RSQZwk4T8cdQqfwWb99evafHQ6B5oAj1ufjafN5wKM9m5I9ozyNHoK3Fq30TJIO3BlKssSbTOi57jbw9wxBpzyKcs0Er8zDLC9CoVQQAAAD421vb3YAAABsbXZoZAAAAAAAAAAAAAAAAAAAA+gAAAFoAAEAAAEAAAAAAAAAAAAAAAABAAAAAAAAAAAAAAAAAAAAAQAAAAAAAAAAAAAAAAAAQAAAAAAAAAAAAAAAAAAAAAAAAAAAAAAAAAAAAAAAAAIAAAMNdHJhawAAAFx0a2hkAAAAAwAAAAAAAAAAAAAAAQAAAAAAAAFoAAAAAAAAAAAAAAAAAAAAAAABAAAAAAAAAAAAAAAAAAAAAQAAAAAAAAAAAAAAAAAAQAAAAAJYAAABkAAAAAAAJGVkdHMAAAAcZWxzdAAAAAAAAAABAAABaAAAAgAAAQAAAAAChW1kaWEAAAAgbWRoZAAAAAAAAAAAAAAAAAAAMgAAABIAVcQAAAAAAC1oZGxyAAAAAAAAAAB2aWRlAAAAAAAAAAAAAAAAVmlkZW9IYW5kbGVyAAAAAjBtaW5mAAAAFHZtaGQAAAABAAAAAAAAAAAAAAAkZGluZgAAABxkcmVmAAAAAAAAAAEAAAAMdXJsIAAAAAEAAAHwc3RibAAAAJhzdHNkAAAAAAAAAAEAAACIYXZjMQAAAAAAAAABAAAAAAAAAAAAAAAAAAAAAAJYAZAASAAAAEgAAAAAAAAAAQAAAAAAAAAAAAAAAAAAAAAAAAAAAAAAAAAAAAAAAAAAABj//wAAADJhdmNDAWQAH//hABlnZAAfrNlAmDPl4QAAAwABAAADAGQPGDGWAQAGaOvjyyLAAAAAGHN0dHMAAAAAAAAAAQAAABIAAAEAAAAAFHN0c3MAAAAAAAAAAQAAAAEAAACYY3R0cwAAAAAAAAARAAAAAQAAAgAAAAABAAAFAAAAAAEAAAIAAAAAAQAAAAAAAAABAAABAAAAAAEAAAUAAAAAAQAAAgAAAAABAAAAAAAAAAEAAAEAAAAAAQAABQAAAAABAAACAAAAAAEAAAAAAAAAAQAAAQAAAAABAAADAAAAAAEAAAEAAAAAAQAABAAAAAACAAABAAAAABxzdHNjAAAAAAAAAAEAAAABAAAAEgAAAAEAAABcc3RzegAAAAAAAAAAAAAAEgAABFcAAADKAAAARgAAAEsAAAA4AAAAgwAAAEkAAAAyAAAAPAAAANwAAABmAAAATwAAAGMAAACPAAAAVAAAAKQAAABcAAAAYwAAABRzdGNvAAAAAAAAAAEAAAAwAAAAYnVkdGEAAABabWV0YQAAAAAAAAAhaGRscgAAAAAAAAAAbWRpcmFwcGwAAAAAAAAAAAAAAAAtaWxzdAAAACWpdG9vAAAAHWRhdGEAAAABAAAAAExhdmY1Ny44My4xMDA=\" type=\"video/mp4\" />\n",
              "        </video>\n",
              "        "
            ],
            "text/plain": [
              "<IPython.core.display.HTML object>"
            ]
          },
          "metadata": {
            "tags": []
          }
        }
      ]
    },
    {
      "cell_type": "markdown",
      "metadata": {
        "id": "RbBYRiI4Bgd-"
      },
      "source": [
        "## Q-learning"
      ]
    },
    {
      "cell_type": "markdown",
      "metadata": {
        "id": "KgvZ1f4MccCJ"
      },
      "source": [
        "Import required packages"
      ]
    },
    {
      "cell_type": "code",
      "metadata": {
        "id": "0a3R-TE_gaS1"
      },
      "source": [
        "import numpy as np"
      ],
      "execution_count": null,
      "outputs": []
    },
    {
      "cell_type": "markdown",
      "metadata": {
        "id": "Htu4VPF8cflL"
      },
      "source": [
        "Brain class"
      ]
    },
    {
      "cell_type": "code",
      "metadata": {
        "id": "PMFWoAE1RIRe"
      },
      "source": [
        "class Brain:\n",
        "    def __init__(self, num_states, list_state_range, list_state_reso, num_actions, gamma, r, lr):\n",
        "        self.num_states = num_states\n",
        "        self.list_state_range = list_state_range\n",
        "        self.list_state_reso = list_state_reso\n",
        "        self.num_actions = num_actions\n",
        "\n",
        "        self.eps = 1.0  # for epsilon greedy algorithm\n",
        "        self.gamma = gamma\n",
        "        self.r = r\n",
        "        self.lr = lr\n",
        "\n",
        "        self.q_table = np.random.rand(np.prod(list_state_reso), num_actions)\n",
        "\n",
        "    def bins(self, clip_min, clip_max, num):\n",
        "        return np.linspace(clip_min, clip_max, num + 1)[1:-1]\n",
        " \n",
        "    def getStateIndex(self, observation):\n",
        "        list_index = []\n",
        "        for i in range(len(self.list_state_reso)):\n",
        "            index = np.digitize(observation[i], bins=self.bins(self.list_state_range[i][0], self.list_state_range[i][1], self.list_state_reso[i]))\n",
        "            list_index.append(index)\n",
        "        return sum([index*int(np.prod(self.list_state_reso[:i])) for i, index in enumerate(list_index)])\n",
        "\n",
        "    def updateQtable(self, obs, action, reward, next_obs):\n",
        "        q = self.q_table[self.getStateIndex(obs), action]\n",
        "        next_q_max = np.max(self.q_table[self.getStateIndex(next_obs)])\n",
        "        self.q_table[self.getStateIndex(obs), action] = q + self.lr*(reward + self.gamma*next_q_max - q)\n",
        "\n",
        "    def getAction(self, obs, is_training):\n",
        "        if is_training and np.random.rand() < self.eps:\n",
        "            action = np.random.randint(self.num_actions)\n",
        "        else:\n",
        "            action = np.argmax(self.q_table[self.getStateIndex(obs)])\n",
        "        ## update eps\n",
        "        if is_training and self.eps > 0.1:\n",
        "            self.eps *= self.r\n",
        "        return action"
      ],
      "execution_count": null,
      "outputs": []
    },
    {
      "cell_type": "markdown",
      "metadata": {
        "id": "sSn2nGYqzoqh"
      },
      "source": [
        "Agent class"
      ]
    },
    {
      "cell_type": "code",
      "metadata": {
        "id": "GnTqsw2uzsXP"
      },
      "source": [
        "class Agent:\n",
        "    def __init__(self, num_states, list_state_range, list_state_reso, num_actions, gamma, r, lr):\n",
        "        self.brain = Brain(num_states, list_state_range, list_state_reso, num_actions, gamma, r, lr)\n",
        " \n",
        "    def updateQtable(self, obs, action, reward, next_obs):\n",
        "        self.brain.updateQtable(obs, action, reward, next_obs)\n",
        " \n",
        "    def getAction(self, obs, is_training):\n",
        "        action = self.brain.getAction(obs, is_training)\n",
        "        return action"
      ],
      "execution_count": null,
      "outputs": []
    },
    {
      "cell_type": "markdown",
      "metadata": {
        "id": "QzJjzN5VB-pQ"
      },
      "source": [
        "Environment class"
      ]
    },
    {
      "cell_type": "code",
      "metadata": {
        "id": "nuXmrqq7CBog"
      },
      "source": [
        "class Environment:\n",
        "    def __init__(self, num_episodes, max_step, gamma, r, lr):\n",
        "        ## parameters\n",
        "        self.num_episodes = num_episodes\n",
        "        self.max_step = max_step\n",
        "        ## environment\n",
        "        self.env = Monitor(gym.make('CartPole-v0'), './videos/q_learning/', force=True)\n",
        "        ## agent\n",
        "        num_states = self.env.observation_space.shape[0]    # position, velocity, angle, angular velocity\n",
        "        list_state_range = []\n",
        "        for i in range(num_states):\n",
        "            list_state_range.append([env.observation_space.low[i], env.observation_space.high[i]])\n",
        "        list_state_range[1] = [-3.0, 3.0]\n",
        "        list_state_range[3] = [-0.5, 0.5]\n",
        "        print(\"list_state_range = \", list_state_range)\n",
        "        list_state_reso = [4, 4, 6, 6]\n",
        "        num_actions = self.env.action_space.n\n",
        "\n",
        "        self.agent = Agent(num_states, list_state_range, list_state_reso, num_actions, gamma, r, lr)\n",
        " \n",
        "    def train(self):\n",
        "        num_completed_episodes = 0\n",
        "  \n",
        "        for episode in range(self.num_episodes):\n",
        "            obs = self.env.reset()\n",
        "            episode_reward = 0\n",
        " \n",
        "            for step in range(self.max_step):\n",
        "                ## get action\n",
        "                action = self.agent.getAction(obs, is_training=True)\n",
        "                ## observe next step\n",
        "                next_obs, _, is_done, _ = self.env.step(action)\n",
        "                ## get reward\n",
        "                if is_done:\n",
        "                    if step < max_step - 1:\n",
        "                        reward = -100\n",
        "                    else:\n",
        "                        reward = 1\n",
        "                        num_completed_episodes += 1\n",
        "                else:\n",
        "                    reward = 1\n",
        "                episode_reward += reward\n",
        "                ## update\n",
        "                self.agent.updateQtable(obs, action, reward, next_obs)\n",
        "                ## to next step\n",
        "                obs = next_obs\n",
        "\n",
        "                if is_done:\n",
        "                    print('{0} Episode: Finished after {1} time steps with reward {2}'.format(episode, step+1, episode_reward))\n",
        "                    break\n",
        "        print(\"num_completed_episodes = \", num_completed_episodes)\n",
        "\n",
        "    def evaluate(self):\n",
        "        obs = self.env.reset()\n",
        "        \n",
        "        for step in range(self.max_step):\n",
        "            ## get action\n",
        "            action = self.agent.getAction(obs, is_training=False)\n",
        "            ## observe next step\n",
        "            next_obs, _, is_done, _ = self.env.step(action)\n",
        "            ## to next step\n",
        "            obs = next_obs\n",
        "\n",
        "            if is_done:\n",
        "                print('Evaluation: Finished after {} time steps'.format(step+1))\n",
        "                break"
      ],
      "execution_count": null,
      "outputs": []
    },
    {
      "cell_type": "markdown",
      "metadata": {
        "id": "xDKojCejb2-A"
      },
      "source": [
        "Prepare showing videos of the restults"
      ]
    },
    {
      "cell_type": "code",
      "metadata": {
        "id": "kvmszieobbrX"
      },
      "source": [
        "def show_video(env):\n",
        "    for frame in env.videos:\n",
        "        print(\"frame = \", frame)\n",
        "        video = io.open(frame[0], 'r+b').read()\n",
        "        encoded = base64.b64encode(video)\n",
        "\n",
        "        display.display(display.HTML(data=\"\"\"\n",
        "            <video alt=\"test\" controls>\n",
        "            <source src=\"data:video/mp4;base64,{0}\" type=\"video/mp4\" />\n",
        "            </video>\n",
        "            \"\"\".format(encoded.decode('ascii')))\n",
        "        )"
      ],
      "execution_count": null,
      "outputs": []
    },
    {
      "cell_type": "markdown",
      "metadata": {
        "id": "2C7zmRMnW1i8"
      },
      "source": [
        "Run training"
      ]
    },
    {
      "cell_type": "code",
      "metadata": {
        "colab": {
          "base_uri": "https://localhost:8080/",
          "height": 1000
        },
        "id": "ZJqfOQ-tW0sA",
        "outputId": "baf92ab8-189c-4044-cd11-8edfac2a29d5"
      },
      "source": [
        "## parameters\n",
        "num_episodes = 500\n",
        "max_step = 200\n",
        "gamma = 0.9\n",
        "r = 0.99\n",
        "lr = 0.5\n",
        "\n",
        "## run\n",
        "cartpole_env = Environment(num_episodes, max_step, gamma, r, lr)\n",
        "cartpole_env.train()\n",
        "print(\"Evaluation\")\n",
        "cartpole_env.evaluate()\n",
        "show_video(cartpole_env.env)"
      ],
      "execution_count": null,
      "outputs": [
        {
          "output_type": "stream",
          "text": [
            "list_state_range =  [[-4.8, 4.8], [-3.0, 3.0], [-0.41887903, 0.41887903], [-0.5, 0.5]]\n",
            "0 Episode: Finished after 13 time steps with reward -88\n",
            "1 Episode: Finished after 72 time steps with reward -29\n",
            "2 Episode: Finished after 10 time steps with reward -91\n",
            "3 Episode: Finished after 28 time steps with reward -73\n",
            "4 Episode: Finished after 39 time steps with reward -62\n",
            "5 Episode: Finished after 32 time steps with reward -69\n",
            "6 Episode: Finished after 14 time steps with reward -87\n",
            "7 Episode: Finished after 31 time steps with reward -70\n",
            "8 Episode: Finished after 9 time steps with reward -92\n",
            "9 Episode: Finished after 47 time steps with reward -54\n",
            "10 Episode: Finished after 37 time steps with reward -64\n",
            "11 Episode: Finished after 58 time steps with reward -43\n",
            "12 Episode: Finished after 10 time steps with reward -91\n",
            "13 Episode: Finished after 11 time steps with reward -90\n",
            "14 Episode: Finished after 42 time steps with reward -59\n",
            "15 Episode: Finished after 48 time steps with reward -53\n",
            "16 Episode: Finished after 37 time steps with reward -64\n",
            "17 Episode: Finished after 10 time steps with reward -91\n",
            "18 Episode: Finished after 167 time steps with reward 66\n",
            "19 Episode: Finished after 84 time steps with reward -17\n",
            "20 Episode: Finished after 38 time steps with reward -63\n",
            "21 Episode: Finished after 128 time steps with reward 27\n",
            "22 Episode: Finished after 154 time steps with reward 53\n",
            "23 Episode: Finished after 200 time steps with reward 200\n",
            "24 Episode: Finished after 200 time steps with reward 200\n",
            "25 Episode: Finished after 75 time steps with reward -26\n",
            "26 Episode: Finished after 73 time steps with reward -28\n",
            "27 Episode: Finished after 23 time steps with reward -78\n",
            "28 Episode: Finished after 200 time steps with reward 200\n",
            "29 Episode: Finished after 194 time steps with reward 93\n",
            "30 Episode: Finished after 117 time steps with reward 16\n",
            "31 Episode: Finished after 118 time steps with reward 17\n",
            "32 Episode: Finished after 182 time steps with reward 81\n",
            "33 Episode: Finished after 154 time steps with reward 53\n",
            "34 Episode: Finished after 87 time steps with reward -14\n",
            "35 Episode: Finished after 107 time steps with reward 6\n",
            "36 Episode: Finished after 143 time steps with reward 42\n",
            "37 Episode: Finished after 104 time steps with reward 3\n",
            "38 Episode: Finished after 69 time steps with reward -32\n",
            "39 Episode: Finished after 110 time steps with reward 9\n",
            "40 Episode: Finished after 54 time steps with reward -47\n",
            "41 Episode: Finished after 10 time steps with reward -91\n",
            "42 Episode: Finished after 35 time steps with reward -66\n",
            "43 Episode: Finished after 59 time steps with reward -42\n",
            "44 Episode: Finished after 79 time steps with reward -22\n",
            "45 Episode: Finished after 27 time steps with reward -74\n",
            "46 Episode: Finished after 94 time steps with reward -7\n",
            "47 Episode: Finished after 105 time steps with reward 4\n",
            "48 Episode: Finished after 82 time steps with reward -19\n",
            "49 Episode: Finished after 12 time steps with reward -89\n",
            "50 Episode: Finished after 91 time steps with reward -10\n",
            "51 Episode: Finished after 44 time steps with reward -57\n",
            "52 Episode: Finished after 37 time steps with reward -64\n",
            "53 Episode: Finished after 45 time steps with reward -56\n",
            "54 Episode: Finished after 200 time steps with reward 200\n",
            "55 Episode: Finished after 172 time steps with reward 71\n",
            "56 Episode: Finished after 200 time steps with reward 200\n",
            "57 Episode: Finished after 165 time steps with reward 64\n",
            "58 Episode: Finished after 109 time steps with reward 8\n",
            "59 Episode: Finished after 37 time steps with reward -64\n",
            "60 Episode: Finished after 98 time steps with reward -3\n",
            "61 Episode: Finished after 121 time steps with reward 20\n",
            "62 Episode: Finished after 81 time steps with reward -20\n",
            "63 Episode: Finished after 184 time steps with reward 83\n",
            "64 Episode: Finished after 120 time steps with reward 19\n",
            "65 Episode: Finished after 200 time steps with reward 200\n",
            "66 Episode: Finished after 122 time steps with reward 21\n",
            "67 Episode: Finished after 67 time steps with reward -34\n",
            "68 Episode: Finished after 175 time steps with reward 74\n",
            "69 Episode: Finished after 91 time steps with reward -10\n",
            "70 Episode: Finished after 124 time steps with reward 23\n",
            "71 Episode: Finished after 14 time steps with reward -87\n",
            "72 Episode: Finished after 200 time steps with reward 200\n",
            "73 Episode: Finished after 200 time steps with reward 200\n",
            "74 Episode: Finished after 186 time steps with reward 85\n",
            "75 Episode: Finished after 200 time steps with reward 200\n",
            "76 Episode: Finished after 200 time steps with reward 200\n",
            "77 Episode: Finished after 200 time steps with reward 200\n",
            "78 Episode: Finished after 200 time steps with reward 200\n",
            "79 Episode: Finished after 69 time steps with reward -32\n",
            "80 Episode: Finished after 200 time steps with reward 200\n",
            "81 Episode: Finished after 125 time steps with reward 24\n",
            "82 Episode: Finished after 12 time steps with reward -89\n",
            "83 Episode: Finished after 101 time steps with reward 0\n",
            "84 Episode: Finished after 200 time steps with reward 200\n",
            "85 Episode: Finished after 200 time steps with reward 200\n",
            "86 Episode: Finished after 200 time steps with reward 200\n",
            "87 Episode: Finished after 200 time steps with reward 200\n",
            "88 Episode: Finished after 200 time steps with reward 200\n",
            "89 Episode: Finished after 21 time steps with reward -80\n",
            "90 Episode: Finished after 17 time steps with reward -84\n",
            "91 Episode: Finished after 38 time steps with reward -63\n",
            "92 Episode: Finished after 182 time steps with reward 81\n",
            "93 Episode: Finished after 200 time steps with reward 200\n",
            "94 Episode: Finished after 200 time steps with reward 200\n",
            "95 Episode: Finished after 200 time steps with reward 200\n",
            "96 Episode: Finished after 46 time steps with reward -55\n",
            "97 Episode: Finished after 84 time steps with reward -17\n",
            "98 Episode: Finished after 63 time steps with reward -38\n",
            "99 Episode: Finished after 35 time steps with reward -66\n",
            "100 Episode: Finished after 80 time steps with reward -21\n",
            "101 Episode: Finished after 145 time steps with reward 44\n",
            "102 Episode: Finished after 200 time steps with reward 200\n",
            "103 Episode: Finished after 102 time steps with reward 1\n",
            "104 Episode: Finished after 27 time steps with reward -74\n",
            "105 Episode: Finished after 174 time steps with reward 73\n",
            "106 Episode: Finished after 135 time steps with reward 34\n",
            "107 Episode: Finished after 24 time steps with reward -77\n",
            "108 Episode: Finished after 134 time steps with reward 33\n",
            "109 Episode: Finished after 155 time steps with reward 54\n",
            "110 Episode: Finished after 200 time steps with reward 200\n",
            "111 Episode: Finished after 22 time steps with reward -79\n",
            "112 Episode: Finished after 200 time steps with reward 200\n",
            "113 Episode: Finished after 200 time steps with reward 200\n",
            "114 Episode: Finished after 174 time steps with reward 73\n",
            "115 Episode: Finished after 200 time steps with reward 200\n",
            "116 Episode: Finished after 86 time steps with reward -15\n",
            "117 Episode: Finished after 97 time steps with reward -4\n",
            "118 Episode: Finished after 200 time steps with reward 200\n",
            "119 Episode: Finished after 143 time steps with reward 42\n",
            "120 Episode: Finished after 200 time steps with reward 200\n",
            "121 Episode: Finished after 200 time steps with reward 200\n",
            "122 Episode: Finished after 136 time steps with reward 35\n",
            "123 Episode: Finished after 168 time steps with reward 67\n",
            "124 Episode: Finished after 200 time steps with reward 200\n",
            "125 Episode: Finished after 200 time steps with reward 200\n",
            "126 Episode: Finished after 200 time steps with reward 200\n",
            "127 Episode: Finished after 200 time steps with reward 200\n",
            "128 Episode: Finished after 81 time steps with reward -20\n",
            "129 Episode: Finished after 200 time steps with reward 200\n",
            "130 Episode: Finished after 98 time steps with reward -3\n",
            "131 Episode: Finished after 200 time steps with reward 200\n",
            "132 Episode: Finished after 200 time steps with reward 200\n",
            "133 Episode: Finished after 200 time steps with reward 200\n",
            "134 Episode: Finished after 200 time steps with reward 200\n",
            "135 Episode: Finished after 200 time steps with reward 200\n",
            "136 Episode: Finished after 200 time steps with reward 200\n",
            "137 Episode: Finished after 200 time steps with reward 200\n",
            "138 Episode: Finished after 200 time steps with reward 200\n",
            "139 Episode: Finished after 200 time steps with reward 200\n",
            "140 Episode: Finished after 200 time steps with reward 200\n",
            "141 Episode: Finished after 200 time steps with reward 200\n",
            "142 Episode: Finished after 200 time steps with reward 200\n",
            "143 Episode: Finished after 19 time steps with reward -82\n",
            "144 Episode: Finished after 200 time steps with reward 200\n",
            "145 Episode: Finished after 159 time steps with reward 58\n",
            "146 Episode: Finished after 200 time steps with reward 200\n",
            "147 Episode: Finished after 186 time steps with reward 85\n",
            "148 Episode: Finished after 20 time steps with reward -81\n",
            "149 Episode: Finished after 130 time steps with reward 29\n",
            "150 Episode: Finished after 192 time steps with reward 91\n",
            "151 Episode: Finished after 85 time steps with reward -16\n",
            "152 Episode: Finished after 200 time steps with reward 200\n",
            "153 Episode: Finished after 145 time steps with reward 44\n",
            "154 Episode: Finished after 118 time steps with reward 17\n",
            "155 Episode: Finished after 200 time steps with reward 200\n",
            "156 Episode: Finished after 200 time steps with reward 200\n",
            "157 Episode: Finished after 162 time steps with reward 61\n",
            "158 Episode: Finished after 200 time steps with reward 200\n",
            "159 Episode: Finished after 92 time steps with reward -9\n",
            "160 Episode: Finished after 32 time steps with reward -69\n",
            "161 Episode: Finished after 200 time steps with reward 200\n",
            "162 Episode: Finished after 195 time steps with reward 94\n",
            "163 Episode: Finished after 130 time steps with reward 29\n",
            "164 Episode: Finished after 200 time steps with reward 200\n",
            "165 Episode: Finished after 200 time steps with reward 200\n",
            "166 Episode: Finished after 200 time steps with reward 200\n",
            "167 Episode: Finished after 200 time steps with reward 200\n",
            "168 Episode: Finished after 141 time steps with reward 40\n",
            "169 Episode: Finished after 200 time steps with reward 200\n",
            "170 Episode: Finished after 200 time steps with reward 200\n",
            "171 Episode: Finished after 200 time steps with reward 200\n",
            "172 Episode: Finished after 200 time steps with reward 200\n",
            "173 Episode: Finished after 24 time steps with reward -77\n",
            "174 Episode: Finished after 132 time steps with reward 31\n",
            "175 Episode: Finished after 127 time steps with reward 26\n",
            "176 Episode: Finished after 151 time steps with reward 50\n",
            "177 Episode: Finished after 160 time steps with reward 59\n",
            "178 Episode: Finished after 41 time steps with reward -60\n",
            "179 Episode: Finished after 200 time steps with reward 200\n",
            "180 Episode: Finished after 10 time steps with reward -91\n",
            "181 Episode: Finished after 114 time steps with reward 13\n",
            "182 Episode: Finished after 200 time steps with reward 200\n",
            "183 Episode: Finished after 148 time steps with reward 47\n",
            "184 Episode: Finished after 200 time steps with reward 200\n",
            "185 Episode: Finished after 156 time steps with reward 55\n",
            "186 Episode: Finished after 24 time steps with reward -77\n",
            "187 Episode: Finished after 14 time steps with reward -87\n",
            "188 Episode: Finished after 30 time steps with reward -71\n",
            "189 Episode: Finished after 9 time steps with reward -92\n",
            "190 Episode: Finished after 200 time steps with reward 200\n",
            "191 Episode: Finished after 200 time steps with reward 200\n",
            "192 Episode: Finished after 200 time steps with reward 200\n",
            "193 Episode: Finished after 159 time steps with reward 58\n",
            "194 Episode: Finished after 200 time steps with reward 200\n",
            "195 Episode: Finished after 95 time steps with reward -6\n",
            "196 Episode: Finished after 155 time steps with reward 54\n",
            "197 Episode: Finished after 121 time steps with reward 20\n",
            "198 Episode: Finished after 156 time steps with reward 55\n",
            "199 Episode: Finished after 36 time steps with reward -65\n",
            "200 Episode: Finished after 75 time steps with reward -26\n",
            "201 Episode: Finished after 50 time steps with reward -51\n",
            "202 Episode: Finished after 200 time steps with reward 200\n",
            "203 Episode: Finished after 68 time steps with reward -33\n",
            "204 Episode: Finished after 53 time steps with reward -48\n",
            "205 Episode: Finished after 200 time steps with reward 200\n",
            "206 Episode: Finished after 200 time steps with reward 200\n",
            "207 Episode: Finished after 200 time steps with reward 200\n",
            "208 Episode: Finished after 200 time steps with reward 200\n",
            "209 Episode: Finished after 155 time steps with reward 54\n",
            "210 Episode: Finished after 101 time steps with reward 0\n",
            "211 Episode: Finished after 187 time steps with reward 86\n",
            "212 Episode: Finished after 129 time steps with reward 28\n",
            "213 Episode: Finished after 200 time steps with reward 200\n",
            "214 Episode: Finished after 200 time steps with reward 200\n",
            "215 Episode: Finished after 200 time steps with reward 200\n",
            "216 Episode: Finished after 200 time steps with reward 200\n",
            "217 Episode: Finished after 200 time steps with reward 200\n",
            "218 Episode: Finished after 113 time steps with reward 12\n",
            "219 Episode: Finished after 137 time steps with reward 36\n",
            "220 Episode: Finished after 165 time steps with reward 64\n",
            "221 Episode: Finished after 187 time steps with reward 86\n",
            "222 Episode: Finished after 169 time steps with reward 68\n",
            "223 Episode: Finished after 200 time steps with reward 200\n",
            "224 Episode: Finished after 200 time steps with reward 200\n",
            "225 Episode: Finished after 200 time steps with reward 200\n",
            "226 Episode: Finished after 200 time steps with reward 200\n",
            "227 Episode: Finished after 200 time steps with reward 200\n",
            "228 Episode: Finished after 200 time steps with reward 200\n",
            "229 Episode: Finished after 200 time steps with reward 200\n",
            "230 Episode: Finished after 91 time steps with reward -10\n",
            "231 Episode: Finished after 60 time steps with reward -41\n",
            "232 Episode: Finished after 72 time steps with reward -29\n",
            "233 Episode: Finished after 95 time steps with reward -6\n",
            "234 Episode: Finished after 200 time steps with reward 200\n",
            "235 Episode: Finished after 139 time steps with reward 38\n",
            "236 Episode: Finished after 113 time steps with reward 12\n",
            "237 Episode: Finished after 170 time steps with reward 69\n",
            "238 Episode: Finished after 55 time steps with reward -46\n",
            "239 Episode: Finished after 21 time steps with reward -80\n",
            "240 Episode: Finished after 38 time steps with reward -63\n",
            "241 Episode: Finished after 37 time steps with reward -64\n",
            "242 Episode: Finished after 200 time steps with reward 200\n",
            "243 Episode: Finished after 200 time steps with reward 200\n",
            "244 Episode: Finished after 27 time steps with reward -74\n",
            "245 Episode: Finished after 46 time steps with reward -55\n",
            "246 Episode: Finished after 169 time steps with reward 68\n",
            "247 Episode: Finished after 19 time steps with reward -82\n",
            "248 Episode: Finished after 135 time steps with reward 34\n",
            "249 Episode: Finished after 159 time steps with reward 58\n",
            "250 Episode: Finished after 109 time steps with reward 8\n",
            "251 Episode: Finished after 103 time steps with reward 2\n",
            "252 Episode: Finished after 200 time steps with reward 200\n",
            "253 Episode: Finished after 153 time steps with reward 52\n",
            "254 Episode: Finished after 78 time steps with reward -23\n",
            "255 Episode: Finished after 35 time steps with reward -66\n",
            "256 Episode: Finished after 110 time steps with reward 9\n",
            "257 Episode: Finished after 60 time steps with reward -41\n",
            "258 Episode: Finished after 79 time steps with reward -22\n",
            "259 Episode: Finished after 200 time steps with reward 200\n",
            "260 Episode: Finished after 85 time steps with reward -16\n",
            "261 Episode: Finished after 92 time steps with reward -9\n",
            "262 Episode: Finished after 54 time steps with reward -47\n",
            "263 Episode: Finished after 22 time steps with reward -79\n",
            "264 Episode: Finished after 112 time steps with reward 11\n",
            "265 Episode: Finished after 200 time steps with reward 200\n",
            "266 Episode: Finished after 200 time steps with reward 200\n",
            "267 Episode: Finished after 200 time steps with reward 200\n",
            "268 Episode: Finished after 200 time steps with reward 200\n",
            "269 Episode: Finished after 200 time steps with reward 200\n",
            "270 Episode: Finished after 200 time steps with reward 200\n",
            "271 Episode: Finished after 195 time steps with reward 94\n",
            "272 Episode: Finished after 160 time steps with reward 59\n",
            "273 Episode: Finished after 200 time steps with reward 200\n",
            "274 Episode: Finished after 101 time steps with reward 0\n",
            "275 Episode: Finished after 131 time steps with reward 30\n",
            "276 Episode: Finished after 183 time steps with reward 82\n",
            "277 Episode: Finished after 109 time steps with reward 8\n",
            "278 Episode: Finished after 76 time steps with reward -25\n",
            "279 Episode: Finished after 200 time steps with reward 200\n",
            "280 Episode: Finished after 200 time steps with reward 200\n",
            "281 Episode: Finished after 90 time steps with reward -11\n",
            "282 Episode: Finished after 131 time steps with reward 30\n",
            "283 Episode: Finished after 200 time steps with reward 200\n",
            "284 Episode: Finished after 166 time steps with reward 65\n",
            "285 Episode: Finished after 200 time steps with reward 200\n",
            "286 Episode: Finished after 200 time steps with reward 200\n",
            "287 Episode: Finished after 200 time steps with reward 200\n",
            "288 Episode: Finished after 200 time steps with reward 200\n",
            "289 Episode: Finished after 166 time steps with reward 65\n",
            "290 Episode: Finished after 106 time steps with reward 5\n",
            "291 Episode: Finished after 173 time steps with reward 72\n",
            "292 Episode: Finished after 144 time steps with reward 43\n",
            "293 Episode: Finished after 200 time steps with reward 200\n",
            "294 Episode: Finished after 200 time steps with reward 200\n",
            "295 Episode: Finished after 200 time steps with reward 200\n",
            "296 Episode: Finished after 200 time steps with reward 200\n",
            "297 Episode: Finished after 200 time steps with reward 200\n",
            "298 Episode: Finished after 200 time steps with reward 200\n",
            "299 Episode: Finished after 200 time steps with reward 200\n",
            "300 Episode: Finished after 200 time steps with reward 200\n",
            "301 Episode: Finished after 200 time steps with reward 200\n",
            "302 Episode: Finished after 200 time steps with reward 200\n",
            "303 Episode: Finished after 200 time steps with reward 200\n",
            "304 Episode: Finished after 200 time steps with reward 200\n",
            "305 Episode: Finished after 200 time steps with reward 200\n",
            "306 Episode: Finished after 200 time steps with reward 200\n",
            "307 Episode: Finished after 200 time steps with reward 200\n",
            "308 Episode: Finished after 200 time steps with reward 200\n",
            "309 Episode: Finished after 200 time steps with reward 200\n",
            "310 Episode: Finished after 200 time steps with reward 200\n",
            "311 Episode: Finished after 200 time steps with reward 200\n",
            "312 Episode: Finished after 200 time steps with reward 200\n",
            "313 Episode: Finished after 200 time steps with reward 200\n",
            "314 Episode: Finished after 200 time steps with reward 200\n",
            "315 Episode: Finished after 200 time steps with reward 200\n",
            "316 Episode: Finished after 200 time steps with reward 200\n",
            "317 Episode: Finished after 94 time steps with reward -7\n",
            "318 Episode: Finished after 200 time steps with reward 200\n",
            "319 Episode: Finished after 152 time steps with reward 51\n",
            "320 Episode: Finished after 106 time steps with reward 5\n",
            "321 Episode: Finished after 122 time steps with reward 21\n",
            "322 Episode: Finished after 200 time steps with reward 200\n",
            "323 Episode: Finished after 86 time steps with reward -15\n",
            "324 Episode: Finished after 200 time steps with reward 200\n",
            "325 Episode: Finished after 200 time steps with reward 200\n",
            "326 Episode: Finished after 44 time steps with reward -57\n",
            "327 Episode: Finished after 61 time steps with reward -40\n",
            "328 Episode: Finished after 29 time steps with reward -72\n",
            "329 Episode: Finished after 32 time steps with reward -69\n",
            "330 Episode: Finished after 200 time steps with reward 200\n",
            "331 Episode: Finished after 54 time steps with reward -47\n",
            "332 Episode: Finished after 200 time steps with reward 200\n",
            "333 Episode: Finished after 200 time steps with reward 200\n",
            "334 Episode: Finished after 188 time steps with reward 87\n",
            "335 Episode: Finished after 114 time steps with reward 13\n",
            "336 Episode: Finished after 152 time steps with reward 51\n",
            "337 Episode: Finished after 117 time steps with reward 16\n",
            "338 Episode: Finished after 74 time steps with reward -27\n",
            "339 Episode: Finished after 128 time steps with reward 27\n",
            "340 Episode: Finished after 200 time steps with reward 200\n",
            "341 Episode: Finished after 200 time steps with reward 200\n",
            "342 Episode: Finished after 172 time steps with reward 71\n",
            "343 Episode: Finished after 23 time steps with reward -78\n",
            "344 Episode: Finished after 113 time steps with reward 12\n",
            "345 Episode: Finished after 200 time steps with reward 200\n",
            "346 Episode: Finished after 200 time steps with reward 200\n",
            "347 Episode: Finished after 200 time steps with reward 200\n",
            "348 Episode: Finished after 154 time steps with reward 53\n",
            "349 Episode: Finished after 200 time steps with reward 200\n",
            "350 Episode: Finished after 200 time steps with reward 200\n",
            "351 Episode: Finished after 200 time steps with reward 200\n",
            "352 Episode: Finished after 188 time steps with reward 87\n",
            "353 Episode: Finished after 64 time steps with reward -37\n",
            "354 Episode: Finished after 129 time steps with reward 28\n",
            "355 Episode: Finished after 141 time steps with reward 40\n",
            "356 Episode: Finished after 200 time steps with reward 200\n",
            "357 Episode: Finished after 20 time steps with reward -81\n",
            "358 Episode: Finished after 43 time steps with reward -58\n",
            "359 Episode: Finished after 38 time steps with reward -63\n",
            "360 Episode: Finished after 200 time steps with reward 200\n",
            "361 Episode: Finished after 100 time steps with reward -1\n",
            "362 Episode: Finished after 153 time steps with reward 52\n",
            "363 Episode: Finished after 148 time steps with reward 47\n",
            "364 Episode: Finished after 42 time steps with reward -59\n",
            "365 Episode: Finished after 200 time steps with reward 200\n",
            "366 Episode: Finished after 200 time steps with reward 200\n",
            "367 Episode: Finished after 192 time steps with reward 91\n",
            "368 Episode: Finished after 139 time steps with reward 38\n",
            "369 Episode: Finished after 36 time steps with reward -65\n",
            "370 Episode: Finished after 28 time steps with reward -73\n",
            "371 Episode: Finished after 68 time steps with reward -33\n",
            "372 Episode: Finished after 61 time steps with reward -40\n",
            "373 Episode: Finished after 19 time steps with reward -82\n",
            "374 Episode: Finished after 16 time steps with reward -85\n",
            "375 Episode: Finished after 119 time steps with reward 18\n",
            "376 Episode: Finished after 34 time steps with reward -67\n",
            "377 Episode: Finished after 159 time steps with reward 58\n",
            "378 Episode: Finished after 185 time steps with reward 84\n",
            "379 Episode: Finished after 169 time steps with reward 68\n",
            "380 Episode: Finished after 200 time steps with reward 200\n",
            "381 Episode: Finished after 192 time steps with reward 91\n",
            "382 Episode: Finished after 200 time steps with reward 200\n",
            "383 Episode: Finished after 169 time steps with reward 68\n",
            "384 Episode: Finished after 105 time steps with reward 4\n",
            "385 Episode: Finished after 58 time steps with reward -43\n",
            "386 Episode: Finished after 133 time steps with reward 32\n",
            "387 Episode: Finished after 200 time steps with reward 200\n",
            "388 Episode: Finished after 100 time steps with reward -1\n",
            "389 Episode: Finished after 200 time steps with reward 200\n",
            "390 Episode: Finished after 119 time steps with reward 18\n",
            "391 Episode: Finished after 192 time steps with reward 91\n",
            "392 Episode: Finished after 106 time steps with reward 5\n",
            "393 Episode: Finished after 192 time steps with reward 91\n",
            "394 Episode: Finished after 122 time steps with reward 21\n",
            "395 Episode: Finished after 175 time steps with reward 74\n",
            "396 Episode: Finished after 167 time steps with reward 66\n",
            "397 Episode: Finished after 200 time steps with reward 200\n",
            "398 Episode: Finished after 86 time steps with reward -15\n",
            "399 Episode: Finished after 200 time steps with reward 200\n",
            "400 Episode: Finished after 200 time steps with reward 200\n",
            "401 Episode: Finished after 200 time steps with reward 200\n",
            "402 Episode: Finished after 107 time steps with reward 6\n",
            "403 Episode: Finished after 194 time steps with reward 93\n",
            "404 Episode: Finished after 167 time steps with reward 66\n",
            "405 Episode: Finished after 103 time steps with reward 2\n",
            "406 Episode: Finished after 45 time steps with reward -56\n",
            "407 Episode: Finished after 104 time steps with reward 3\n",
            "408 Episode: Finished after 71 time steps with reward -30\n",
            "409 Episode: Finished after 106 time steps with reward 5\n",
            "410 Episode: Finished after 80 time steps with reward -21\n",
            "411 Episode: Finished after 96 time steps with reward -5\n",
            "412 Episode: Finished after 93 time steps with reward -8\n",
            "413 Episode: Finished after 58 time steps with reward -43\n",
            "414 Episode: Finished after 134 time steps with reward 33\n",
            "415 Episode: Finished after 131 time steps with reward 30\n",
            "416 Episode: Finished after 173 time steps with reward 72\n",
            "417 Episode: Finished after 70 time steps with reward -31\n",
            "418 Episode: Finished after 169 time steps with reward 68\n",
            "419 Episode: Finished after 200 time steps with reward 200\n",
            "420 Episode: Finished after 200 time steps with reward 200\n",
            "421 Episode: Finished after 200 time steps with reward 200\n",
            "422 Episode: Finished after 200 time steps with reward 200\n",
            "423 Episode: Finished after 200 time steps with reward 200\n",
            "424 Episode: Finished after 161 time steps with reward 60\n",
            "425 Episode: Finished after 143 time steps with reward 42\n",
            "426 Episode: Finished after 146 time steps with reward 45\n",
            "427 Episode: Finished after 200 time steps with reward 200\n",
            "428 Episode: Finished after 200 time steps with reward 200\n",
            "429 Episode: Finished after 147 time steps with reward 46\n",
            "430 Episode: Finished after 200 time steps with reward 200\n",
            "431 Episode: Finished after 200 time steps with reward 200\n",
            "432 Episode: Finished after 200 time steps with reward 200\n",
            "433 Episode: Finished after 200 time steps with reward 200\n",
            "434 Episode: Finished after 103 time steps with reward 2\n",
            "435 Episode: Finished after 186 time steps with reward 85\n",
            "436 Episode: Finished after 94 time steps with reward -7\n",
            "437 Episode: Finished after 116 time steps with reward 15\n",
            "438 Episode: Finished after 72 time steps with reward -29\n",
            "439 Episode: Finished after 32 time steps with reward -69\n",
            "440 Episode: Finished after 174 time steps with reward 73\n",
            "441 Episode: Finished after 96 time steps with reward -5\n",
            "442 Episode: Finished after 180 time steps with reward 79\n",
            "443 Episode: Finished after 93 time steps with reward -8\n",
            "444 Episode: Finished after 132 time steps with reward 31\n",
            "445 Episode: Finished after 28 time steps with reward -73\n",
            "446 Episode: Finished after 200 time steps with reward 200\n",
            "447 Episode: Finished after 165 time steps with reward 64\n",
            "448 Episode: Finished after 90 time steps with reward -11\n",
            "449 Episode: Finished after 131 time steps with reward 30\n",
            "450 Episode: Finished after 47 time steps with reward -54\n",
            "451 Episode: Finished after 200 time steps with reward 200\n",
            "452 Episode: Finished after 141 time steps with reward 40\n",
            "453 Episode: Finished after 200 time steps with reward 200\n",
            "454 Episode: Finished after 200 time steps with reward 200\n",
            "455 Episode: Finished after 111 time steps with reward 10\n",
            "456 Episode: Finished after 200 time steps with reward 200\n",
            "457 Episode: Finished after 200 time steps with reward 200\n",
            "458 Episode: Finished after 200 time steps with reward 200\n",
            "459 Episode: Finished after 200 time steps with reward 200\n",
            "460 Episode: Finished after 180 time steps with reward 79\n",
            "461 Episode: Finished after 200 time steps with reward 200\n",
            "462 Episode: Finished after 200 time steps with reward 200\n",
            "463 Episode: Finished after 172 time steps with reward 71\n",
            "464 Episode: Finished after 200 time steps with reward 200\n",
            "465 Episode: Finished after 200 time steps with reward 200\n",
            "466 Episode: Finished after 126 time steps with reward 25\n",
            "467 Episode: Finished after 148 time steps with reward 47\n",
            "468 Episode: Finished after 97 time steps with reward -4\n",
            "469 Episode: Finished after 72 time steps with reward -29\n",
            "470 Episode: Finished after 141 time steps with reward 40\n",
            "471 Episode: Finished after 123 time steps with reward 22\n",
            "472 Episode: Finished after 101 time steps with reward 0\n",
            "473 Episode: Finished after 136 time steps with reward 35\n",
            "474 Episode: Finished after 132 time steps with reward 31\n",
            "475 Episode: Finished after 150 time steps with reward 49\n",
            "476 Episode: Finished after 166 time steps with reward 65\n",
            "477 Episode: Finished after 156 time steps with reward 55\n",
            "478 Episode: Finished after 105 time steps with reward 4\n",
            "479 Episode: Finished after 12 time steps with reward -89\n",
            "480 Episode: Finished after 148 time steps with reward 47\n",
            "481 Episode: Finished after 75 time steps with reward -26\n",
            "482 Episode: Finished after 101 time steps with reward 0\n",
            "483 Episode: Finished after 103 time steps with reward 2\n",
            "484 Episode: Finished after 120 time steps with reward 19\n",
            "485 Episode: Finished after 195 time steps with reward 94\n",
            "486 Episode: Finished after 152 time steps with reward 51\n",
            "487 Episode: Finished after 13 time steps with reward -88\n",
            "488 Episode: Finished after 164 time steps with reward 63\n",
            "489 Episode: Finished after 200 time steps with reward 200\n",
            "490 Episode: Finished after 200 time steps with reward 200\n",
            "491 Episode: Finished after 153 time steps with reward 52\n",
            "492 Episode: Finished after 135 time steps with reward 34\n",
            "493 Episode: Finished after 159 time steps with reward 58\n",
            "494 Episode: Finished after 71 time steps with reward -30\n",
            "495 Episode: Finished after 17 time steps with reward -84\n",
            "496 Episode: Finished after 200 time steps with reward 200\n",
            "497 Episode: Finished after 11 time steps with reward -90\n",
            "498 Episode: Finished after 20 time steps with reward -81\n",
            "499 Episode: Finished after 21 time steps with reward -80\n",
            "num_completed_episodes =  181\n",
            "Evaluation\n",
            "Evaluation: Finished after 79 time steps\n",
            "frame =  ('/content/videos/q_learning/openaigym.video.1.59.video000000.mp4', '/content/videos/q_learning/openaigym.video.1.59.video000000.meta.json')\n"
          ],
          "name": "stdout"
        },
        {
          "output_type": "display_data",
          "data": {
            "text/html": [
              "\n",
              "            <video alt=\"test\" controls>\n",
              "            <source src=\"data:video/mp4;base64,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\" type=\"video/mp4\" />\n",
              "            </video>\n",
              "            "
            ],
            "text/plain": [
              "<IPython.core.display.HTML object>"
            ]
          },
          "metadata": {
            "tags": []
          }
        },
        {
          "output_type": "stream",
          "text": [
            "frame =  ('/content/videos/q_learning/openaigym.video.1.59.video000001.mp4', '/content/videos/q_learning/openaigym.video.1.59.video000001.meta.json')\n"
          ],
          "name": "stdout"
        },
        {
          "output_type": "display_data",
          "data": {
            "text/html": [
              "\n",
              "            <video alt=\"test\" controls>\n",
              "            <source src=\"data:video/mp4;base64,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\" type=\"video/mp4\" />\n",
              "            </video>\n",
              "            "
            ],
            "text/plain": [
              "<IPython.core.display.HTML object>"
            ]
          },
          "metadata": {
            "tags": []
          }
        },
        {
          "output_type": "stream",
          "text": [
            "frame =  ('/content/videos/q_learning/openaigym.video.1.59.video000008.mp4', '/content/videos/q_learning/openaigym.video.1.59.video000008.meta.json')\n"
          ],
          "name": "stdout"
        },
        {
          "output_type": "display_data",
          "data": {
            "text/html": [
              "\n",
              "            <video alt=\"test\" controls>\n",
              "            <source src=\"data:video/mp4;base64,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\" type=\"video/mp4\" />\n",
              "            </video>\n",
              "            "
            ],
            "text/plain": [
              "<IPython.core.display.HTML object>"
            ]
          },
          "metadata": {
            "tags": []
          }
        },
        {
          "output_type": "stream",
          "text": [
            "frame =  ('/content/videos/q_learning/openaigym.video.1.59.video000027.mp4', '/content/videos/q_learning/openaigym.video.1.59.video000027.meta.json')\n"
          ],
          "name": "stdout"
        },
        {
          "output_type": "display_data",
          "data": {
            "text/html": [
              "\n",
              "            <video alt=\"test\" controls>\n",
              "            <source src=\"data:video/mp4;base64,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\" type=\"video/mp4\" />\n",
              "            </video>\n",
              "            "
            ],
            "text/plain": [
              "<IPython.core.display.HTML object>"
            ]
          },
          "metadata": {
            "tags": []
          }
        },
        {
          "output_type": "stream",
          "text": [
            "frame =  ('/content/videos/q_learning/openaigym.video.1.59.video000064.mp4', '/content/videos/q_learning/openaigym.video.1.59.video000064.meta.json')\n"
          ],
          "name": "stdout"
        },
        {
          "output_type": "display_data",
          "data": {
            "text/html": [
              "\n",
              "            <video alt=\"test\" controls>\n",
              "            <source src=\"data:video/mp4;base64,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\" type=\"video/mp4\" />\n",
              "            </video>\n",
              "            "
            ],
            "text/plain": [
              "<IPython.core.display.HTML object>"
            ]
          },
          "metadata": {
            "tags": []
          }
        },
        {
          "output_type": "stream",
          "text": [
            "frame =  ('/content/videos/q_learning/openaigym.video.1.59.video000125.mp4', '/content/videos/q_learning/openaigym.video.1.59.video000125.meta.json')\n"
          ],
          "name": "stdout"
        },
        {
          "output_type": "display_data",
          "data": {
            "text/html": [
              "\n",
              "            <video alt=\"test\" controls>\n",
              "            <source src=\"data:video/mp4;base64,AAAAIGZ0eXBpc29tAAACAGlzb21pc28yYXZjMW1wNDEAAAAIZnJlZQAAMjNtZGF0AAACrgYF//+q3EXpvebZSLeWLNgg2SPu73gyNjQgLSBjb3JlIDE1MiByMjg1NCBlOWE1OTAzIC0gSC4yNjQvTVBFRy00IEFWQyBjb2RlYyAtIENvcHlsZWZ0IDIwMDMtMjAxNyAtIGh0dHA6Ly93d3cudmlkZW9sYW4ub3JnL3gyNjQuaHRtbCAtIG9wdGlvbnM6IGNhYmFjPTEgcmVmPTMgZGVibG9jaz0xOjA6MCBhbmFseXNlPTB4MzoweDExMyBtZT1oZXggc3VibWU9NyBwc3k9MSBwc3lfcmQ9MS4wMDowLjAwIG1peGVkX3JlZj0xIG1lX3JhbmdlPTE2IGNocm9tYV9tZT0xIHRyZWxsaXM9MSA4eDhkY3Q9MSBjcW09MCBkZWFkem9uZT0yMSwxMSBmYXN0X3Bza2lwPTEgY2hyb21hX3FwX29mZnNldD0tMiB0aHJlYWRzPTMgbG9va2FoZWFkX3RocmVhZHM9MSBzbGljZWRfdGhyZWFkcz0wIG5yPTAgZGVjaW1hdGU9MSBpbnRlcmxhY2VkPTAgYmx1cmF5X2NvbXBhdD0wIGNvbnN0cmFpbmVkX2ludHJhPTAgYmZyYW1lcz0zIGJfcHlyYW1pZD0yIGJfYWRhcHQ9MSBiX2JpYXM9MCBkaXJlY3Q9MSB3ZWlnaHRiPTEgb3Blbl9nb3A9MCB3ZWlnaHRwPTIga2V5aW50PTI1MCBrZXlpbnRfbWluPTI1IHNjZW5lY3V0PTQwIGludHJhX3JlZnJlc2g9MCByY19sb29rYWhlYWQ9NDAgcmM9Y3JmIG1idHJlZT0xIGNyZj0yMy4wIHFjb21wPTAuNjAgcXBtaW49MCBxcG1heD02OSBxcHN0ZXA9NCBpcF9yYXRpbz0xLjQwIGFxPTE6MS4wMACAAAACFWWIhAAv//72rvzLK0cLlS4dWXuzUfLoSXL9iDB9aAAAAwAAAwAAJuKiZ0WFMeJsgAAALmAIWElDyDzETFWKgS2k3gc8QAe9zYf+R/CyzZAPQO34IVnJJZ0qdmzMPMkAOlBjPA0//hKNNNiKqBx1crYaUuIuE3qUKDywba70nNOMIoTEYbqX4V/Tn6r+7zGquw677g6vWYanRJPES23LVlBAshh7oM4kDAWgEL4SZJ8p1copuVxdSR/LUCh8sUYvwnQk+5zJcIP8jNvsHJ5FGwB67QwTgeQYz7ihYvyTRSPa7hp7IwH8YeNkfXwvbbK2a+pTLDASYs67ZhrwOKOYsJPmTlPKpPICLa1CVGGqfmjb7AZ6SaKbn4MojtASt8EUtGO2Cu+K+YmP9WeuwbqCcTJWTXNqBfCZtE68Jy13NxrklRsgwFwaOVd5brGFG2UANjqhOfI70GuQV8LvPpGqo8yX4LjoFu8swM1dFvEsqWSJUNtPsjVbugi4xhvW1EWp3qCR3hUwkH/PB0bOMjKHUU3ULQ0jdRQrJBO1XR31crsJaeQ9cgwZeaYtWJqHQ+sSv2vTPiEr+UPtt3H0iCZf+vzFVNaDzsiail21KgPf3PP053FYDD2R2yXRSuw88GW8jMg2XDEY0d4haYHzvFFwS962Pvl/MJ/GSXPHhZ0sj0nv465wiYvjSedGFLwAAAMAAAMAAK6BAAAAp0GaJGxC//6MsAAARhRI0AckNFE+oq1vsPdroMkip/8b91dzBss67E6A/qyv9sqDbOk0dz/vBufS68g91h9huIwaOfbaDrSIjsUm97iyXpGrUX4AKC6Si+BiU82u/+VREWwNHpb/bXS3PCtzah8gSQ5BMd+axsnzYyc1d25hwFHJZDcwmOtFXeK+rB5/XPwBW3T/cvQxsRMKQZ6VsLUua+cVoAUGT/VwAAAASUGeQniEfwAACLAl1o10Zx9Bp2y5H1if0B4Kka8FyoaBrlRFCw/yRE5oltKrvJpNV7zbCEdmDULiNVxwAAADAAAa9gtBc/wgNWEAAAA6AZ5hdEf/AAAN0qq7n2mhM3eIC+59DCt/c4jlCzLbQga7HxvoXJrEg5q4AAADAAADAFLWtWV7Ls0KCAAAADcBnmNqR/8AAA3Puyt6WcSAMNKEYjXS7a9VvGAAJqPaa5FTrrPiPB2CPITwaewAAZtufbcqgFtBAAAAfkGaZkmoQWiZTBTwz/6eEAAART7jXAEe9dxCE6I9URZBaIqGj9e39GBiuGEEDd6GP17QMYBEt6C/UdKVOQqKiDpbeMQ88GBPrp9jk4AnX8P1CKpRyZoCNBSUxTwiAO2KOPi4AyDr5X0DTyittuHfpcDn3kMuW0JZP74WDFdhwQAAAC8BnoVqR/8AACO/H4lCa4drGyb+iaffXh10ut40iVAmgA90ZumcDzrTvsxgcO0oIQAAAIlBmopJ4QpSZTAhn/6eEAAAR0VPpADVRZTYf9Bg1Oq9mHoEulxTbHvaOQJeAqadi2rmIvGKKamvjQBByGyQJZ10Tz7YnF7UmoDiTOnz2rPF9SD33dsKyzVlHh+sIzKIB5tejaIXtP9scxJdrGkccTjG+0QQR7mc4FuuUuMu8K+YdTVK0VqLqCOtQQAAAEZBnqhFNEwj/wAAF0xOGEwcsKZIIeXyN7AD5G9jboRGx3FgtjvetCNCk9S60dAAnWEb51vX6Lf3VyuAszjnccCVI0EXdBswAAAALAGex3RH/wAAI8NGxn58ECkATxHK3+eK78YfSbYv/nym5cmnGlV02f1oCCFgAAAALAGeyWpH/wAAJL8LsCKs58E3GWWeWOOd5eUoifEX+SFTI1JAywRw/cMN2OCBAAAAYEGazkmoQWiZTAhn//6eEAAAR1E+oKCO0AHGMv4zvun1C3kFL9oFoUMNCvbS8cUUPsvFpoWI0ZuzJS8MqnD/k9Y1DH36TGNiD0rbPx4xWuVgKrzoqJLVLgM/AJuqQXlO5gAAAD5BnuxFESwj/wAAF0VWhjt+oY7UxwzkAUxeSYc6cXO9bKbpBjmNzGBi6rMxU68M1d4WCkhBxSPFgcsjk57epAAAADYBnwt0R/8AACTDF2WyWgjXND9xBP+bHP/6AAFWep+nl2pBJ012KFq9U1xt1u/QtVTg7vizpsEAAAA5AZ8Nakf/AAAjsjyvVHLUwALQrT76ecQ+9pQXEsMQXtxTE9CKPtqVP2ODqPNDyogqrssjIRrVYrTBAAAAc0GbEkmoQWyZTAhn//6eEAAAR1FHFm6yPMACgGcFjR6ECzS6x2ZuHB+OqAmOZlGVfpmtLrRBrHSCzBv3KH3bTGgl57Ch9tFqhU+T4BeIAHR5WGp0viSA4YvQQLCO1yMHD/6Ot6umSnTuwuPoulq3lV3g8mEAAAAvQZ8wRRUsI/8AABdMREMQALAJXXD7A3qdsYQkF4H3nW6GnerS5XEfuXlaW/e09SAAAAAdAZ9PdEf/AAAjrD0izHM9YTVJlDBWHtrqA8ta7KAAAAAyAZ9Rakf/AAAkrl4zh1xMMPABKhVEqEuKlKhDvyACixmTQA6RWN1Gn7DaOvGq1az0qbEAAABqQZtWSahBbJlMCGf//p4QAABHcyh7FoQIRugAoAF80J0Qzz0Bxpk6TIuMBwj5jqcVqOTFwjWtsz2YS+LH15oTKg3khhWTwDwxlYMsy6eA3EdLAN4RHEWgQnALHf30fvKxVglm3+HXHJle4AAAADJBn3RFFSwj/wAAF0NHtw3/ziVW4wAH7mKGoyxkE+rCcZVfbkjcqDMdFpxEnaeo1TDJNgAAAB4Bn5N0R/8AACTDF2ippVTguc7oySdfIieFvS9fNlUAAAAjAZ+Vakf/AAAkvwsoo8p1iF0Q8ZFlTTdOnTM/RC5emS4Mp1IAAABWQZuaSahBbJlMCGf//p4QAABHaPEz0GrVFV9sJPwAwgAt66hHkw0tzqbG8cmru0UhR9L7/nJkAZm4XEL7+zRJnxzfIqDKpquZ7y5x2wcLfmFdFW+4B2EAAABCQZ+4RRUsI/8AABa1X08f4ombfMyVaUAB74n+IEgFG86MKt9FDCk1B9pLlb2hihqozg1X9cJmM1kttOzAuxYgFG2hAAAALwGf13RH/wAAJMMXYzK0lOABc9Vvbjzu0OOcLEjrPwspYBQUMlgIKH+o8Dyxo18wAAAAOQGf2WpH/wAAJLIaGH2qACvWoCFFKSOKrXByUFdXL+88mCRG66rbquKz8LcEuvKIAAkbsqVxQR1NgQAAAIhBm95JqEFsmUwIZ//+nhAAAEe48+CTj2AF+W//w7r8d60Rr8hPMYNkG3DqG/Ov/o+MciZNWScMr+EFV9zhszO0GTSTodbrUBbbSNtrQzwUiQRmpAWFbzCJ1BT7mFSdBIDAvghCjdZxlglPM5HwysvbA6du0h5T5us28PBcmJdWCttuedv7atXAAAAANEGf/EUVLCP/AAAXTJ14Ard3rCO6QpVPt5h+F4bT1KLBCNY61ZKYKrV2Edtf08GW0PZRIsEAAAAzAZ4bdEf/AAAkrD5sfl/1hNVE24ABI4W99TbFo6ItdS7MoDSAlRFltNyKH/r6BIRT04ixAAAAJQGeHWpH/wAAJDthJwpqxC2C1/kk/6eRdVYbQZMBxbsX8RJFxFgAAABiQZoCSahBbJlMCGf//p4QAABHb2Xx2owqf+ojlA2gAAuqFKejVXNoA5TT6aXCB3GpdJgEnsbz8/DWJtI6DOJiifMnGugWz9E7HCY2Sa9HSkQcYsuHQZh04z2BDXdcaEnbVfgAAAA1QZ4gRRUsI/8AABc6d0hnaUMv0FvZoAPv3QHT1uElHmQi3zG5n9QYSZNELNtXe5TWwxWhJIsAAAAvAZ5fdEf/AAAkrEJiFkDn5KBNkqfJlwALqJWiGDpTGiqCmMQqZCPGRuvK9jNav5gAAAAcAZ5Bakf/AAAkxyvcz6ijTwfLECi6fT06AswP8QAAAHVBmkZJqEFsmUwIZ//+nhAAAEdFCdyAK1S3fKVxxlmgOHrn6KQzDvOfSYAFsi52cMh7i5Yh2Zfe7u0RgtsqjkPTtYF/W+C1j9dCe6koR2u28nMDXnnpOhoyCyfkE1bL/TpQKTqDtXVM/BMH1UQ1+XtvjcdyKBAAAAA7QZ5kRRUsI/8AABdDSJEyowLw/v7UIjfhsLxjhbePEZNv0CY142pYGmKh7AGOwBIcNieKUi0+xkQojYEAAAAiAZ6DdEf/AAAkrDj+9JE5hhYiH+AG0pNoOkCgPPfRIsO0vQAAAC0BnoVqR/8AACTHK/w5DnaABasAuYgXzNew+Gd6tLH5lOxDINAR66c+VtJV0XkAAABbQZqKSahBbJlMCGf//p4QAABHVI/t/EEv4l2EAAFvX+LrXd60giE8oE97QSrIvrAdKts0MYTpihOyLfAS+JXGQI/y3xfvPZBkrvs5JRr4MMBpxoplOqIa9sCwQQAAAFdBnqhFFSwj/wAAFzqYzdPoARgCyC4EImvGJbtk0+0MtU5JNrVd6+K2DlmT2sP2BI02jaStXdVtR/6WzPmQoGvhXhUNifVroTKWaa/UNdAlMjQp3lxfiTgAAAApAZ7HdEf/AAAkrDsJfAL6np1qzUx8c0vdx9c5GeAElyr0eiHGpGX8r0gAAAAjAZ7Jakf/AAAkxyv99HYgwiuMLyfE3eVwBWrnf6PKbk3mC2kAAABZQZrOSahBbJlMCGf//p4QAABHVI/t+s9TIA1IZ6Zc4P9CTK4YJhg3Hs3nhO84iTEibPu2WUO7V5epoTqKsrifz54bYXnpfQDHg4xqISYVy0Ogw5YgJVN+7XQAAAAtQZ7sRRUsI/8AABdLis5Aa6CHPWM/wZE/9SIbi1E2ofT/DPf152/fetW+t1BAAAAALwGfC3RH/wAAJMM8uxbcI2ayKl8kak6cALeB7ePTAETLlpPHrJI5TnFIw/IrwRQRAAAAHgGfDWpH/wAAJL8aFcBxyl29y4xQaMsk4Lk/VQqH+QAAAHdBmxJJqEFsmUwIZ//+nhAAAEdlUOxN4bABFYhlXDn9vt9GUtgVa/o4S+hYcdslLt5AMKhyv0/f8Aht+wTBwi2W1GZBclPaAmGUYOpoIWOBU7mgK9lPcgCtlv3UESAn93egIerD6F3glq8lMN8dIQfNzdiDx8EU9QAAADRBnzBFFSwj/wAAF0uK0IUNKZLp7/I8SRK0QAes2vo8HhPs5RIHMZ872Bbimoko+Fzqt2cCAAAAIQGfT3RH/wAAJMM+DnjYT10g5bBZOsdhhHTgq0KE3oAfMAAAACgBn1FqR/8AACSyNNvtvRlawGFyX52k24IjmZ4ZZHY/Rts7W3rrZqSBAAAAaUGbVkmoQWyZTAhn//6eEAAASURaHsoXdkoi3ou8t0qQUUfGAH8RVyiidYDXWmEwBf7GSsrglhlaP1aoVdbGlIgNIaoDdjaqJXsosBhDQPNVvN5pup45R0qv4Gkp4RwDdjM9mFccgZr2gAAAADhBn3RFFSwj/wAAF+mG39gWmLpEANiAKlC41Hcf2ZjnAP8/tgFuGScK/IlH4HMNOcebi8WZnG4u4AAAABkBn5N0R/8AACSsQlQlFHmP+nQ54KVOAMWBAAAAIgGflWpH/wAAJbHMCW+pb7IVSPv8NZ+UCHrQFB2ohmHnbPgAAAA8QZuaSahBbJlMCGf//p4QAABJVJevr5luo2O0JfFdKubr3C1+BlCgbJkajgDQkFmGC0RTKX7Pm2oBNXr5AAAALEGfuEUVLCP/AAAX7YTiBH0u4AAIcO2fjZYToyYmGAJYgBbhoKBQYhelqTVxAAAAIwGf13RH/wAAJav4W3gSnWgjiBGeuTwlDk+JKyn5M7CY7CBAAAAAMAGf2WpH/wAAJa5dR4xTsl6x8dMAG65dvcdkegWxa+F/Z+7v47V4s48LznF+KymVMQAAAFlBm95JqEFsmUwIZ//+nhAAAElFCDQAqtyB8sCwhG8FUIztVBPe1s0VFLmVzfhansm+WHuW5M9QGjk5zGUw/aYrp3IFRR98EDdFVmdnBglae8eS+Qg7cVjO4AAAADRBn/xFFSwj/wAAF+Z4v/Eq8ZdI2l76rV3wrFOJpVAPBFlQ35s4APdW/D1wYZEEVtCoOFlBAAAAJAGeG3RH/wAAJanpxxQmNiqqyTcMIrJqZGJ6zWIiNq7sbZYScQAAAC0Bnh1qR/8AACWx/aHP6qxf/mQc+E/A0o4AAIDBk6KLS5pRWmmONZNvWT0UKCAAAABsQZoCSahBbJlMCGf//p4QAABJUQodAAdI+4Wfwfi1eldapUMnBX2F4VOoI5op+LFs6i4KLQDINomEiYgNspSRQKgggxq9zhUN7IUPK+FYUI6lStkCEZ8bSXgZ1rRDjpdMXD8RlvVcNR/IekVwAAAAKEGeIEUVLCP/AAAX7ZlR+vbNDIVJJNpP6OWfXa+XewyFOWlA+7wPobMAAAAaAZ5fdEf/AAAlwJkyaybcOREArNYLtvAAz4AAAAAkAZ5Bakf/AAAlscwJb6lvshVJHEKayPaQaXHBPlYiEq8nhQH3AAAAPEGaRkmoQWyZTAhn//6eEAAASWjGh+pZy4lyvcu1/AHc36EWKAWJy6fWh4pINsZFfKvVR/+TfMorih5SkgAAAClBnmRFFSwj/wAAF+2E4gR9LfFSIku4sKZfkDSkuCQ71ByqUS93JnAHzQAAADABnoN0R/8AACWp6oM9PB21K4AFz1fNmdUTa0qWXaxdtNoP8sxKhoiIVeWVbkRUAfkAAAAeAZ6Fakf/AAAlrl4zhsE5+7FaaDcTJIM2xOIDID7hAAAATkGaikmoQWyZTAhn//6eEAAASUUKg4AWHOLdiQFc4Fv6VQAPEv7Z7XX8XZsp9Yv+RCVJx0lM/PNidDT//x0fbL425rKki0s/K4pfpzVeeQAAADlBnqhFFSwj/wAAF9eu5zu3gvK8NuAbACZYq78HWHuzmi5ubfcojRFeEBpDT0pAscYhpfAHrkA0EuIAAAAiAZ7HdEf/AAAlq/houhyQ8Bz3F+hIrWV9iQrb4w3w1vxqQAAAABkBnslqR/8AACWxzAlvqXf9F5vmJ2ZhQJuBAAAATEGazkmoQWyZTAhn//6eEAAASVDK9oACMDeC0lkP04yvF6B/h+3GnnFKiwbc7sCzdQxt89draog5Xx1E8KZRJnQOmkj5k7Nv+lrogPQAAAA6QZ7sRRUsI/8AABfgh86v/KAKHQABunQQHojSJyY7jxShyg6EaAOUo8gtAIn2qcQVKz40IxQ6gqwm4AAAADQBnwt0R/8AACWnXgQAcYrm6Q5HqiI3Chy1hHnz4uD5laNqbeUoX7pZ5iu90FbuQGFiehQRAAAAKQGfDWpH/wAAJb8azmaj4AFxMJgGBIU+YAa/4alac/W6o/uJw5RQYOmBAAAAZUGbEkmoQWyZTAhn//6eEAAASXLGHSAeW8nYrSQDGjBSzwoq2zGXLIuoT5XWt56W22JjZOZxpD9WKXs/TdcmSkOG+sIsngoN8bS0dzwuv6aVIB7lgZf/0Eh2n4jRtqix1+vI7ni5AAAAPEGfMEUVLCP/AAAX1MrfTOADiIrXPjRpLDEsKx4DP82cOY/57uxqHLJzvdTiU/f0iOSHva415IY1vyiWTgAAACIBn090R/8AACWp6vjXgWyBNJit7slmJRMBrBZb466AeCtgAAAAIgGfUWpH/wAAJccsAKst6vvzFr9URkO5icPFsHq0/hxcAuMAAABUQZtWSahBbJlMCGf//p4QAABJe4yHosr7ABYfW57baPersW9SxNsSzcdzhW75unleu8jxX/w05pJhH0qBpbNiyu2dZy/400h3atuSJRN5f9CRiQa0AAAAP0GfdEUVLCP/AAAX4IiPUXwAAftoOgxDylKRTAlKgyGy8iLFypy+271r2y2uNZlFzl1RcRosbOsspuo6MAAZUAAAACMBn5N0R/8AACU7igjw9A/Jhob7xyuazp0ZUaTsHX2hCKBiwQAAADIBn5VqR/8AACW/Gzxtpf6EoJkgAtP7fuM9/UKccUOwRIAnEqdwzTeTFkYyDTBEIWAbMAAAAEBBm5pJqEFsmUwIZ//+nhAAAElkjhdPaH6fvdK0AphxlUrtEUb0/r2EEny2D9eSjogr4SfufNc/V91yRsXsCnCBAAAAMUGfuEUVLCP/AAAX4IiL3yrwjLpOphyhIvH/zYVE4HieSDnXfg8+EyOQSnR8UcXCVJEAAAAtAZ/XdEf/AAAlwzuee1+YJmukAEsTlgvW1Ezgh4WE8blK+DlQ5FA5monzbANmAAAAIwGf2WpH/wAAJb8aznveCcBGC/RCEfnRvPbHWOqmNpHyCBWxAAAAUkGb3kmoQWyZTAhn//6eEAAAS0RaHsoecABsxtzG2kmStzO+TadM9bR7jDvye6dn6+hyi351GaYDDR865ijFf7DruRnJHOlBeo3XwKg1gk0wf9AAAABFQZ/8RRUsI/8AABiJVq49eSAEXxpckGFft3mqS3uChj18L+SHamOzebwfG5r+9UK0ppRDSDebsmjL93C/064nDf60kIKDAAAAJAGeG3RH/wAAJaw+fjiPpL73hOHL7IKDVAUedD5KnkIczTml4QAAACIBnh1qR/8AACauXzhVD/LpV/YdpESStjWJgiiwBAvSdYuAAAAAWEGaAkmoQWyZTAhn//6eEAAAS0RbbgBGnhIvuB0qFKDcg5rh6t0MGa5TquddnrtzjP9c7HLDnnDghynAUCfLBNU1EuIxGJUWmUKc4wwqZU3r/5nsstrJfoAAAAA0QZ4gRRUsI/8AABiAh7cN/84k7Bng3jiOKD0AACd1BHRMdb9rcm4B1WCxaU6MDBCZGzMBQQAAADQBnl90R/8AAA6FfG5B/THmvEiqSACKJ+rr4XUIg3F/Qc/3WFhBIYUpUqWdg/2E3nye0vQQAAAAQwGeQWpH/wAAJr8EJxLH/QzA2fQA2qVx/2i0O6/ALvonAtGX4PV0d3gCww/2sscclXCJ8YjCOq09s/NtRwlI6mm9wUEAAABDQZpGSahBbJlMCGf//p4QAABLRQT3UY0AVqlTuamM+HyCzW7h+9or5oAn8J0GlvUR/kXGKjYUXaF1AhslaeC7a9TMUAAAADdBnmRFFSwj/wAAGIl9Ll1LQTkSqpAqoDpyuXLIO2DghvAJ7EPM2dCvU+sHCJabyBUWknn2sa9BAAAANAGeg3RH/wAAJcNHCGrhE9kKGUAALWfT0gy2QVzEC9GzxL5GjZBS4hrOceaxRHLMswg0FTEAAAAjAZ6Fakf/AAAmscwJb6lyitD5SR6jcA/lS0Sz3I+xjzVL8bEAAABdQZqKSahBbJlMCGf//p4QAABLVJC8Z8gDijas77BUzO8BqIfpRMV9WCsn4nse71UewqLe+dMbmbBPKAgyOOWDa2wRfe1+drx38ZGGHve4Nb2QLAu6PXyggiHIwPLRAAAAOUGeqEUVLCP/AAAYgIgXNOV7Gz2cIP2OEBDfARNHJw0zq/N71Fl66RLElt1/vZAqg69DtERy9Nx8wAAAACIBnsd0R/8AACbIYTchz2eb+mbC167tsj3eFlPGW17GBC0gAAAALAGeyWpH/wAAJb8fjDe6m4rWx05gAtP7gBgVFzqcwSfs0xxKhea0mddloFDxAAAAfkGazkmoQWyZTAhn//6eEAAAS3Bqt7gEpdYs4ZvYBXHYssHx+WlW91NHL8rnquq+PqrPa6TacNB9gVfWldDEaKg5D7CXI/WP6te6BOzmAVpjyVganfrDCqHbdWCbhpqhBJdhChA36KxatHmQXGQhrk/oG+2J2JNNo25Bse1LgAAAAFpBnuxFFSwj/wAAGICIA5Zl0cAJapFkadu3N8ToadXs3ZSnZvCzb8Qv3TNkjy8G5pGanzF6ouUFcpS3OAnDFVxAvNZjf4Tj2/8msKQa+5im1QjRs8E0DR1q9BAAAAAlAZ8LdEf/AAAmrDsJfAL6Dv6PF5RLfY+b2U0b/3tBDhcNAwFAwQAAACwBnw1qR/8AACaxzAlv20xw0IgE2ACF5v5K/XCFbOjxVIoY3HV63PZcqk+JZQAAAExBmxJJqEFsmUwIZ//+nhAAAEtEWmxBZ0GF9PC+YnmkfFy9uP1W/9MqHY/Mn6Tb0v35L4zAFAEGQkyt7Glr0yhBVg7ncFA7n8nD+ZdhAAAAX0GfMEUVLCP/AAAYgIe3Di0B/4hGCAD8gyhYWIZI9iz5+1UtHJodPq4/Xqn2fwNYWdg6JiOmCgYOl81KaPcun7cox8Fq0oOcV3m9mCrbMFvfPfRI6zY1V0axYQz4ob0EAAAAPgGfT3RH/wAAJcNG+NjXgALqJWiH6b71NgweY3uRnGsEZLI1TYwkW5i1YBTfXiYmPiQ+o2xqNTDXE6NmI+lJAAAATQGfUWpH/wAAJr8EJDwYaAC3iC31hNqC54r+bEg8ToMsfbFm4avZLRsMG0gXrkss0OhilSG11B6ztjAjTGk5otj7dllbUctOLTvs9KSBAAAAQkGbVkmoQWyZTAhn//6eEAAAS0RcLkARIUu8eY7av4HcrUdC/b93Tp0jqP+kKzJXhIOolbIH+lmjIXeIUlIo008nhAAAACpBn3RFFSwj/wAAGICIklBhuXzXvpADYdOelcZu2xEBbNY9q/uDrr+uUfAAAAAlAZ+TdEf/AAAmwzmqTLAC1mEwDAkKfMAm0kpf8tIizi/x3DK9AwAAACABn5VqR/8AACbHK/6OZ+yLhkFAFDsCw/Day6wGCZ7ZgAAAADxBm5pJqEFsmUwIZ//+nhAAAEtlURVwVuJd/KfuRJOmO/KCMqKwCPv5QBDeSTaIOiJUTnKlWw7y/MLblDEAAAAhQZ+4RRUsI/8AABiIytCEuXGcGmAbQeyNcmI+n+pnEAFnAAAAKAGf13RH/wAAJsM+DnjYTyCh0AJVKDlWGqLu4JZA84ihvPUBZGgACkgAAAAZAZ/Zakf/AAAmmfsQDmzpwue1ZWMfNfNl4QAAAD9Bm95JqEFsmUwIZ//+nhAAAEtRCXpC3K9FPqX4REkXsTtOVs3lwcKYAqRQAz+j4f3cZYqaVHBFcZDWlTylSIAAAAAlQZ/8RRUsI/8AABiAiIvfKvCMukz6v8lOxUI/0XKgdUMNOyAl4QAAACMBnht0R/8AACasOQWuTx9RJjpiMxU5j3aAnIA8rdA89ZIJlQAAABcBnh1qR/8AACa/Gs5gV+EkYmP1et+BgAAAAENBmgJJqEFsmUwIZ//+nhAAAEtkjhdPIFmFeKxMUgdPjAByhAeHgG4jrQUXY8/BALgA0+sYiK8jBUHHXlAWkU6eDhiAAAAAM0GeIEUVLCP/AAAYi5vOaY4AODjITkCLez1fs2eQGp2oPDb2mH6vCx23yRVHKTAKXVSPgQAAADEBnl90R/8AACY/obbIoAON2Kbud0znuLm2SgitXmFlzdKTT58zJi4f6d5Nu/OuGMUnAAAAIQGeQWpH/wAAJscsALH0yAddxt7vUF+iTlRyd8CtzIoi8wAAAGlBmkZJqEFsmUwIZ//+nhAAAE2WXjkvHemSiMpkreYKEVABUdgeX1uUtA8Ry9oKLDQrTBP5O2e8gepHlx9WEgRsN5+xCWZXljJbqofGDwHJ4ewf5VUWRrv/AVevPma/CqMChwz93HLh12wAAAAmQZ5kRRUsI/8AABkgh7cNuRwxJAAIh98C5xjKUkGsM5G0eZywA2cAAAAYAZ6DdEf/AAAnwpNNhCnLyKQJaqCbkFenAAAAMgGehWpH/wAAJ913B0+gAcTe3CdP1fztY05uapow1lnwhvwZaM4tSIeaj37dvBERGLbVAAAAQUGaikmoQWyZTAhn//6eEAAATZZ9KIeX9O1awnaSCt74MfXQPACuZWWr7XmRriOesI85chagVQX0GGAGJPWKMe/pAAAAKkGeqEUVLCP/AAAZKYWOfkq0//PsTGksesk3bROWJH0UqfJ9l2UjigoORgAAACsBnsd0R/8AACbDQLIcI1sN16DOEAG1xC78CzHML/t8+oK5Lq68R0fvxSbgAAAAHgGeyWpH/wAAJ8mAcNyg1xieGau8+nLvR+rG51tvQQAAAFdBms5JqEFsmUwIZ//+nhAAAE2elBTza3Xr2gA4xmHRrH69HPRTVOPC/ppuzPLIE01rJeg/VPapcQN1ycZ9mXyZwvA1xN8X61CnHgsPJ7upijx56MzMNR8AAAAlQZ7sRRUsI/8AABkmc6osYSdBJeVa6pRQCaSqmN3H2yskAOB6QAAAACgBnwt0R/8AACfeX2ippVPU+8OfS4AJUKolQFUuwZOJ96cuGvk2GoelAAAAFgGfDWpH/wAAJ8mAngOSrtwzbtmA9IEAAAAxQZsSSahBbJlMCGf//p4QAABNUQlPBTZFzYzTGAwN61Ua9FFFrRFtUikCC4P1zqw6TQAAACRBnzBFFSwj/wAAGSCHtw25HC/l0Nexo8Eey0odspKAsS7Kk4AAAAAjAZ9PdEf/AAAnwpNNhCnLyKQIEa1+wlkZsbRnXIiPVpFa0j4AAAAqAZ9Rakf/AAAn8xwAOLT1yF4BlU/sNfOskcfrTgWx3+QDKMABJyq/wA9JAAAANUGbVkmoQWyZTAhn//6eEAAATVSP5jH+QLfTO3OW99ZUYkz8L9JaHElIPD+xac/eP/lpWLt8AAAAMUGfdEUVLCP/AAAZKYPNtxXMrJlJQFNgAA9uu+BUwgqWrvex5lRKPUbt50KWEeN5LbUAAAAcAZ+TdEf/AAADAE2GLtFTnkx9/LAZr26xnFReQQAAACEBn5VqR/8AACfJgHDcoNcXHpmtpBwABK8tRBBuFt3A+YAAAABCQZuaSahBbJlMCGf//p4QAABNcGqmOVyJW7fDx9gjOsO8AC1PJkmyE4OknAiPohO7qJVWigm4CghBafKkVWtRPdTBAAAANkGfuEUVLCP/AAAZIIe3DPFKC5AWMg/jwgjjDHf81f2UmYXEiGDa+WJrIR2ebK/8A0JJSjnUnQAAACwBn9d0R/8AACfCk1L6ZAR923CeAC1EZVCPSYVCHf2wJqavlYqydsKDrOqTgAAAAB8Bn9lqR/8AACayPK9U5w1oPyg3X7TRBnocEvUfC5oXAAAAekGb3kmoQWyZTAhn//6eEAAATWSXySCQ4A5Rra678QDgpySQiKkcbsF8B36unwFkNzFqRRZOHT3W2k5nY0QTonjYhBjMvOBubz8ziNgKcBVgSP77jh34o9pqZfv//v56+DJQFkUh+Byv+fbAZR86lwWyAnTXJuenl9irAAAAJUGf/EUVLCP/AAAZKMqUZI1jHuHc6akX4EQONFCF4Mo4MgCS9ScAAAAYAZ4bdEf/AAAmrEJUJP8LJQoQrwL6hyGfAAAANAGeHWpH/wAAJ8VfkwA3V8EY5RBPtumwuRntLUtDtO32gYhGlyj/w5Rcr5PpJ/AUxqt8u4AAAABBQZoCSahBbJlMCGf//p4QAABNUQpNKAL8ZvfB1BlxGy7ucNmTQJrq0SW1bl5vZcCeia255c7bp435wkoGuzqJzEAAAAAlQZ4gRRUsI/8AABkgh86xCDMd6nYFcM5436mlxBae2h2UmF7b0QAAACoBnl90R/8AACfCk19oi7MJodHAABNWL81yMzhb7cAuUI/hxzEO0OHHUnAAAAAXAZ5Bakf/AAAn2aatjVeLxJsqNnoXQMEAAABPQZpGSahBbJlMCGf//p4QAABNcsY77wAKGM3GqR9//rKKWZy+cpdK3WXGQpuxkefl8Kbn5vxPDhaznfwwOwpP94MIXJhgFLjXcm5+hQZIwAAAAC1BnmRFFSwj/wAAGSCIj/kcSucSYuAA/nUUoh56OiGZiafQZW0WFfkCPnEH1J0AAAAeAZ6DdEf/AAAn3ogQrr3qF9MeFIp5IjkcKoD8QPmBAAAAGQGehWpH/wAAJ+NmpmshH2sYcNKg3EfeDakAAABLQZqKSahBbJlMCGf//p4QAABNVKlOdYSfCmT35Tnh++wALpQ7r3AGa6FPHytcER+7EX6Ve1U4kZpO6/b9Am1BUv/zXBgboCg/2luBAAAAJUGeqEUVLCP/AAAZIphVis5AAU8oixJfB6kTwY0jwxEKz4AoCtgAAAA0AZ7HdEf/AAAntXqa04AFrmBWRUGG2h0xyzz2IrPydYk7v7lQy74FqoKy4hgMHroxYLgHHAAAACsBnslqR/8AAAMATX4ITjG6p1gh4AD2tC5gEYuZfjUZWtf5WaxDgXWyIRl3AAAAPEGazkmoQWyZTAhn//6eEAAATVSpTnWEnwpk9+U6FvP9jkfnmuI7snXGO/CmS5/7ABazAv2UTGOIkyePIQAAACVBnuxFFSwj/wAAGSCIhutmk0QFOMhGYDBIxYFx6R2put3FOUggAAAAIwGfC3RH/wAAJ96GDnf1X8sO3kEAFt3up2G8XECtqiDB1XphAAAAHgGfDWpH/wAAJ+Nmpmxpdq05JOp/bYz9WXJ7mBhDjwAAAERBmxJJqEFsmUwIZ//+nhAAAE1FBe9Xfevq+92UvMP8gALrorRAHUVBLgX5Xk64jvFXqM0txtN5wW0nfaUKphsAF9SpgQAAACNBnzBFFSwj/wAAGSup4Q/7LjOBa6l7Y8YIZu4Tacr/zCQkHAAAACUBn090R/8AACfAWaM0CqqgAsf7gBgTXPmCasqQe1M+xFVS0CkgAAAAHAGfUWpH/wAAJ9mobQZdyvVWiHRDELvP33egg4EAAAAiQZtWSahBbJlMCGf//p4QAABNUT70i0ibSWZRYFRwumgBSQAAABlBn3RFFSwj/wAAGSKYVYrOP9jxV/rnH+BgAAAAFgGfk3RH/wAAJ8LbzJY+P6vp+aT+vgcAAAAtAZ+Vakf/AAAnqbRC4ugIAOHabSVjrwETTseUkhFJMDezEtB9wbEjbyUXy6SAAAAAREGbmkmoQWyZTAhf//6MsAAAUELKNQKJqiwhTO0ub3tDMrMABtR6lqfGAoQJHBT29Kyx2ys09kVTGDIKJ7Ji30XSdQxVAAAAOUGfuEUVLCP/AAAZyX0uX/LgAWiZocFajeSq/THc17vwIemb4vjNxOxtCc0VuaKUoXACKCW6FIjBwQAAADUBn9d0R/8AACfC5xzS/VvdAAsPQp/ViwUsf/G67fkANRpvB52PHloDnV75T9a72Z5ACIeitgAAACcBn9lqR/8AACjpveyH7HYdSDERyNP4FggBKkkQcxr901cGMxLSQlcAAABMQZveSahBbJlMCF///oywAABQK+l7Hv9eXuagAA2YnLL7qizykD4XzRwtkx10y29pu5v/7HuFnJ86OR1WFBc6IKhB1RkRmfBjsSR1wAAAAB9Bn/xFFSwj/wAAGcJrN2tadPQRrqcuKM1QXkXNWcMbAAAAKQGeG3RH/wAAKP5faKmtr9AAtCFvaUnNXYV2y5pc+VXcf4CfoVEgCBExAAAAEgGeHWpH/wAAAwACC/OAFzdKgAAAAEZBmgJJqEFsmUwIX//+jLAAAFBCyjUO5EARHZNOBg8hINNrFSMQ6FDitjsu4THTeP+ujxTfyKcsDE4iT1IzWUc/TAgJto5YAAAAQUGeIEUVLCP/AAAZwIcxAsSTwgALispDlfG8oXzOXH8JdOKzhLecVDmo5Eyu+wJU6ZWK97XW35LqoR5LD/b2UCBhAAAAMQGeX3RH/wAAKOKTUvpXYIWADgvVABYZZFost5UwecwIJ2iFHKQxuQvoW5pDZ1d58HAAAAAvAZ5Bakf/AAAo6YBw3XwsM/cMZu7kQj2oNYAWs/aV2RP/+Vb6UxrR9BT4TUABDUkAAAAqQZpGSahBbJlMCE///fEAAAMC+mSkWD+FFmVbDnNGqQh/3U1uYKGLMZcEAAAANUGeZEUVLCP/AAAZwms3a1peuKKdBAT240ACcYrFa+VEb/mjAjp7wy8hs1BmZzeiH7x0nR6RAAAALQGeg3RH/wAAKP5faKmlU71SggAXUSs901NsmuZGbZ9oBjDMasTBBTSCDE4EvQAAABsBnoVqR/8AAAMAHayVNoxJPcBLM4o4vRhcpIMAAAA6QZqISahBbJlMFEx//IQAABJQuL9V7HNwIKWUAC6ADRHJDr82DB5XIchYAg0T96DL7BNNF3Uq7Gm8oQAAAC4BnqdqR/8AACjpV/5VQTZskGlK1mAC3ADRG6yc2DB5If1mOviYjKuK0EaPMxR8AAAMf21vb3YAAABsbXZoZAAAAAAAAAAAAAAAAAAAA+gAAA+0AAEAAAEAAAAAAAAAAAAAAAABAAAAAAAAAAAAAAAAAAAAAQAAAAAAAAAAAAAAAAAAQAAAAAAAAAAAAAAAAAAAAAAAAAAAAAAAAAAAAAAAAAIAAAupdHJhawAAAFx0a2hkAAAAAwAAAAAAAAAAAAAAAQAAAAAAAA+0AAAAAAAAAAAAAAAAAAAAAAABAAAAAAAAAAAAAAAAAAAAAQAAAAAAAAAAAAAAAAAAQAAAAAJYAAABkAAAAAAAJGVkdHMAAAAcZWxzdAAAAAAAAAABAAAPtAAAAgAAAQAAAAALIW1kaWEAAAAgbWRoZAAAAAAAAAAAAAAAAAAAMgAAAMkAVcQAAAAAAC1oZGxyAAAAAAAAAAB2aWRlAAAAAAAAAAAAAAAAVmlkZW9IYW5kbGVyAAAACsxtaW5mAAAAFHZtaGQAAAABAAAAAAAAAAAAAAAkZGluZgAAABxkcmVmAAAAAAAAAAEAAAAMdXJsIAAAAAEAAAqMc3RibAAAAJhzdHNkAAAAAAAAAAEAAACIYXZjMQAAAAAAAAABAAAAAAAAAAAAAAAAAAAAAAJYAZAASAAAAEgAAAAAAAAAAQAAAAAAAAAAAAAAAAAAAAAAAAAAAAAAAAAAAAAAAAAAABj//wAAADJhdmNDAWQAH//hABlnZAAfrNlAmDPl4QAAAwABAAADAGQPGDGWAQAGaOvjyyLAAAAAGHN0dHMAAAAAAAAAAQAAAMkAAAEAAAAAFHN0c3MAAAAAAAAAAQAAAAEAAAZYY3R0cwAAAAAAAADJAAAAAQAAAgAAAAABAAAFAAAAAAEAAAIAAAAAAQAAAAAAAAABAAABAAAAAAEAAAMAAAAAAQAAAQAAAAABAAAFAAAAAAEAAAIAAAAAAQAAAAAAAAABAAABAAAAAAEAAAUAAAAAAQAAAgAAAAABAAAAAAAAAAEAAAEAAAAAAQAABQAAAAABAAACAAAAAAEAAAAAAAAAAQAAAQAAAAABAAAFAAAAAAEAAAIAAAAAAQAAAAAAAAABAAABAAAAAAEAAAUAAAAAAQAAAgAAAAABAAAAAAAAAAEAAAEAAAAAAQAABQAAAAABAAACAAAAAAEAAAAAAAAAAQAAAQAAAAABAAAFAAAAAAEAAAIAAAAAAQAAAAAAAAABAAABAAAAAAEAAAUAAAAAAQAAAgAAAAABAAAAAAAAAAEAAAEAAAAAAQAABQAAAAABAAACAAAAAAEAAAAAAAAAAQAAAQAAAAABAAAFAAAAAAEAAAIAAAAAAQAAAAAAAAABAAABAAAAAAEAAAUAAAAAAQAAAgAAAAABAAAAAAAAAAEAAAEAAAAAAQAABQAAAAABAAACAAAAAAEAAAAAAAAAAQAAAQAAAAABAAAFAAAAAAEAAAIAAAAAAQAAAAAAAAABAAABAAAAAAEAAAUAAAAAAQAAAgAAAAABAAAAAAAAAAEAAAEAAAAAAQAABQAAAAABAAACAAAAAAEAAAAAAAAAAQAAAQAAAAABAAAFAAAAAAEAAAIAAAAAAQAAAAAAAAABAAABAAAAAAEAAAUAAAAAAQAAAgAAAAABAAAAAAAAAAEAAAEAAAAAAQAABQAAAAABAAACAAAAAAEAAAAAAAAAAQAAAQAAAAABAAAFAAAAAAEAAAIAAAAAAQAAAAAAAAABAAABAAAAAAEAAAUAAAAAAQAAAgAAAAABAAAAAAAAAAEAAAEAAAAAAQAABQAAAAABAAACAAAAAAEAAAAAAAAAAQAAAQAAAAABAAAFAAAAAAEAAAIAAAAAAQAAAAAAAAABAAABAAAAAAEAAAUAAAAAAQAAAgAAAAABAAAAAAAAAAEAAAEAAAAAAQAABQAAAAABAAACAAAAAAEAAAAAAAAAAQAAAQAAAAABAAAFAAAAAAEAAAIAAAAAAQAAAAAAAAABAAABAAAAAAEAAAUAAAAAAQAAAgAAAAABAAAAAAAAAAEAAAEAAAAAAQAABQAAAAABAAACAAAAAAEAAAAAAAAAAQAAAQAAAAABAAAFAAAAAAEAAAIAAAAAAQAAAAAAAAABAAABAAAAAAEAAAUAAAAAAQAAAgAAAAABAAAAAAAAAAEAAAEAAAAAAQAABQAAAAABAAACAAAAAAEAAAAAAAAAAQAAAQAAAAABAAAFAAAAAAEAAAIAAAAAAQAAAAAAAAABAAABAAAAAAEAAAUAAAAAAQAAAgAAAAABAAAAAAAAAAEAAAEAAAAAAQAABQAAAAABAAACAAAAAAEAAAAAAAAAAQAAAQAAAAABAAAFAAAAAAEAAAIAAAAAAQAAAAAAAAABAAABAAAAAAEAAAUAAAAAAQAAAgAAAAABAAAAAAAAAAEAAAEAAAAAAQAABQAAAAABAAACAAAAAAEAAAAAAAAAAQAAAQAAAAABAAAFAAAAAAEAAAIAAAAAAQAAAAAAAAABAAABAAAAAAEAAAUAAAAAAQAAAgAAAAABAAAAAAAAAAEAAAEAAAAAAQAABQAAAAABAAACAAAAAAEAAAAAAAAAAQAAAQAAAAABAAAFAAAAAAEAAAIAAAAAAQAAAAAAAAABAAABAAAAAAEAAAUAAAAAAQAAAgAAAAABAAAAAAAAAAEAAAEAAAAAAQAABQAAAAABAAACAAAAAAEAAAAAAAAAAQAAAQAAAAABAAAFAAAAAAEAAAIAAAAAAQAAAAAAAAABAAABAAAAAAEAAAUAAAAAAQAAAgAAAAABAAAAAAAAAAEAAAEAAAAAAQAABQAAAAABAAACAAAAAAEAAAAAAAAAAQAAAQAAAAABAAAFAAAAAAEAAAIAAAAAAQAAAAAAAAABAAABAAAAAAEAAAUAAAAAAQAAAgAAAAABAAAAAAAAAAEAAAEAAAAAAQAABQAAAAABAAACAAAAAAEAAAAAAAAAAQAAAQAAAAABAAADAAAAAAEAAAEAAAAAHHN0c2MAAAAAAAAAAQAAAAEAAADJAAAAAQAAAzhzdHN6AAAAAAAAAAAAAADJAAAEywAAAKsAAABNAAAAPgAAADsAAACCAAAAMwAAAI0AAABKAAAAMAAAADAAAABkAAAAQgAAADoAAAA9AAAAdwAAADMAAAAhAAAANgAAAG4AAAA2AAAAIgAAACcAAABaAAAARgAAADMAAAA9AAAAjAAAADgAAAA3AAAAKQAAAGYAAAA5AAAAMwAAACAAAAB5AAAAPwAAACYAAAAxAAAAXwAAAFsAAAAtAAAAJwAAAF0AAAAxAAAAMwAAACIAAAB7AAAAOAAAACUAAAAsAAAAbQAAADwAAAAdAAAAJgAAAEAAAAAwAAAAJwAAADQAAABdAAAAOAAAACgAAAAxAAAAcAAAACwAAAAeAAAAKAAAAEAAAAAtAAAANAAAACIAAABSAAAAPQAAACYAAAAdAAAAUAAAAD4AAAA4AAAALQAAAGkAAABAAAAAJgAAACYAAABYAAAAQwAAACcAAAA2AAAARAAAADUAAAAxAAAAJwAAAFYAAABJAAAAKAAAACYAAABcAAAAOAAAADgAAABHAAAARwAAADsAAAA4AAAAJwAAAGEAAAA9AAAAJgAAADAAAACCAAAAXgAAACkAAAAwAAAAUAAAAGMAAABCAAAAUQAAAEYAAAAuAAAAKQAAACQAAABAAAAAJQAAACwAAAAdAAAAQwAAACkAAAAnAAAAGwAAAEcAAAA3AAAANQAAACUAAABtAAAAKgAAABwAAAA2AAAARQAAAC4AAAAvAAAAIgAAAFsAAAApAAAALAAAABoAAAA1AAAAKAAAACcAAAAuAAAAOQAAADUAAAAgAAAAJQAAAEYAAAA6AAAAMAAAACMAAAB+AAAAKQAAABwAAAA4AAAARQAAACkAAAAuAAAAGwAAAFMAAAAxAAAAIgAAAB0AAABPAAAAKQAAADgAAAAvAAAAQAAAACkAAAAnAAAAIgAAAEgAAAAnAAAAKQAAACAAAAAmAAAAHQAAABoAAAAxAAAASAAAAD0AAAA5AAAAKwAAAFAAAAAjAAAALQAAABYAAABKAAAARQAAADUAAAAzAAAALgAAADkAAAAxAAAAHwAAAD4AAAAyAAAAFHN0Y28AAAAAAAAAAQAAADAAAABidWR0YQAAAFptZXRhAAAAAAAAACFoZGxyAAAAAAAAAABtZGlyYXBwbAAAAAAAAAAAAAAAAC1pbHN0AAAAJal0b28AAAAdZGF0YQAAAAEAAAAATGF2ZjU3LjgzLjEwMA==\" type=\"video/mp4\" />\n",
              "            </video>\n",
              "            "
            ],
            "text/plain": [
              "<IPython.core.display.HTML object>"
            ]
          },
          "metadata": {
            "tags": []
          }
        },
        {
          "output_type": "stream",
          "text": [
            "frame =  ('/content/videos/q_learning/openaigym.video.1.59.video000216.mp4', '/content/videos/q_learning/openaigym.video.1.59.video000216.meta.json')\n"
          ],
          "name": "stdout"
        },
        {
          "output_type": "display_data",
          "data": {
            "text/html": [
              "\n",
              "            <video alt=\"test\" controls>\n",
              "            <source src=\"data:video/mp4;base64,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\" type=\"video/mp4\" />\n",
              "            </video>\n",
              "            "
            ],
            "text/plain": [
              "<IPython.core.display.HTML object>"
            ]
          },
          "metadata": {
            "tags": []
          }
        },
        {
          "output_type": "stream",
          "text": [
            "frame =  ('/content/videos/q_learning/openaigym.video.1.59.video000343.mp4', '/content/videos/q_learning/openaigym.video.1.59.video000343.meta.json')\n"
          ],
          "name": "stdout"
        },
        {
          "output_type": "display_data",
          "data": {
            "text/html": [
              "\n",
              "            <video alt=\"test\" controls>\n",
              "            <source src=\"data:video/mp4;base64,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\" type=\"video/mp4\" />\n",
              "            </video>\n",
              "            "
            ],
            "text/plain": [
              "<IPython.core.display.HTML object>"
            ]
          },
          "metadata": {
            "tags": []
          }
        }
      ]
    },
    {
      "cell_type": "markdown",
      "metadata": {
        "id": "mESpPTF72xIr"
      },
      "source": [
        "## References\n",
        "- [Getting Started with Gym](https://gym.openai.com/docs/)\n",
        "- [【強化学習】OpenAI Gym を Google Colab上で描画する方法 (2020.6版)](https://qiita.com/ymd_h/items/c393797deb72e1779269)\n",
        "- [minnano_rl/section_2/01_simple_reinforcement_learning.ipynb](https://github.com/yukinaga/minnano_rl/blob/main/section_2/01_simple_reinforcement_learning.ipynb)\n",
        "- [第10回　CartPole課題をQ学習で制御する](https://book.mynavi.jp/manatee/detail/id=88997)"
      ]
    }
  ]
}